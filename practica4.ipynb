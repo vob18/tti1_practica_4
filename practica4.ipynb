{
 "cells": [
  {
   "cell_type": "code",
   "execution_count": 1,
   "id": "79e1eee6",
   "metadata": {},
   "outputs": [
    {
     "name": "stdout",
     "output_type": "stream",
     "text": [
      "time: 0 ns (started: 2022-09-24 05:06:10 -05:00)\n"
     ]
    }
   ],
   "source": [
    "%load_ext autotime"
   ]
  },
  {
   "cell_type": "markdown",
   "id": "4aeb8fa0",
   "metadata": {},
   "source": [
    "# MODULES"
   ]
  },
  {
   "cell_type": "code",
   "execution_count": 2,
   "id": "adec8a3c",
   "metadata": {},
   "outputs": [
    {
     "data": {
      "application/javascript": [
       "(function(root) {\n",
       "  function now() {\n",
       "    return new Date();\n",
       "  }\n",
       "\n",
       "  var force = true;\n",
       "\n",
       "  if (typeof root._bokeh_onload_callbacks === \"undefined\" || force === true) {\n",
       "    root._bokeh_onload_callbacks = [];\n",
       "    root._bokeh_is_loading = undefined;\n",
       "  }\n",
       "\n",
       "  if (typeof (root._bokeh_timeout) === \"undefined\" || force === true) {\n",
       "    root._bokeh_timeout = Date.now() + 5000;\n",
       "    root._bokeh_failed_load = false;\n",
       "  }\n",
       "\n",
       "  function run_callbacks() {\n",
       "    try {\n",
       "      root._bokeh_onload_callbacks.forEach(function(callback) {\n",
       "        if (callback != null)\n",
       "          callback();\n",
       "      });\n",
       "    } finally {\n",
       "      delete root._bokeh_onload_callbacks\n",
       "    }\n",
       "    console.debug(\"Bokeh: all callbacks have finished\");\n",
       "  }\n",
       "\n",
       "  function load_libs(css_urls, js_urls, js_modules, callback) {\n",
       "    if (css_urls == null) css_urls = [];\n",
       "    if (js_urls == null) js_urls = [];\n",
       "    if (js_modules == null) js_modules = [];\n",
       "\n",
       "    root._bokeh_onload_callbacks.push(callback);\n",
       "    if (root._bokeh_is_loading > 0) {\n",
       "      console.debug(\"Bokeh: BokehJS is being loaded, scheduling callback at\", now());\n",
       "      return null;\n",
       "    }\n",
       "    if (js_urls.length === 0 && js_modules.length === 0) {\n",
       "      run_callbacks();\n",
       "      return null;\n",
       "    }\n",
       "    console.debug(\"Bokeh: BokehJS not loaded, scheduling load and callback at\", now());\n",
       "\n",
       "    function on_load() {\n",
       "      root._bokeh_is_loading--;\n",
       "      if (root._bokeh_is_loading === 0) {\n",
       "        console.debug(\"Bokeh: all BokehJS libraries/stylesheets loaded\");\n",
       "        run_callbacks()\n",
       "      }\n",
       "    }\n",
       "\n",
       "    function on_error() {\n",
       "      console.error(\"failed to load \" + url);\n",
       "    }\n",
       "\n",
       "    for (var i = 0; i < css_urls.length; i++) {\n",
       "      var url = css_urls[i];\n",
       "      const element = document.createElement(\"link\");\n",
       "      element.onload = on_load;\n",
       "      element.onerror = on_error;\n",
       "      element.rel = \"stylesheet\";\n",
       "      element.type = \"text/css\";\n",
       "      element.href = url;\n",
       "      console.debug(\"Bokeh: injecting link tag for BokehJS stylesheet: \", url);\n",
       "      document.body.appendChild(element);\n",
       "    }\n",
       "\n",
       "    var skip = [];\n",
       "    if (window.requirejs) {\n",
       "      window.requirejs.config({'packages': {}, 'paths': {'plotly': 'https://cdn.plot.ly/plotly-2.10.1.min', 'gridstack': 'https://cdn.jsdelivr.net/npm/gridstack@4.2.5/dist/gridstack-h5', 'notyf': 'https://cdn.jsdelivr.net/npm/notyf@3/notyf.min'}, 'shim': {'gridstack': {'exports': 'GridStack'}}});\n",
       "      require([\"plotly\"], function(Plotly) {\n",
       "\twindow.Plotly = Plotly\n",
       "\ton_load()\n",
       "      })\n",
       "      require([\"gridstack\"], function(GridStack) {\n",
       "\twindow.GridStack = GridStack\n",
       "\ton_load()\n",
       "      })\n",
       "      require([\"notyf\"], function() {\n",
       "\ton_load()\n",
       "      })\n",
       "      root._bokeh_is_loading = css_urls.length + 3;\n",
       "    } else {\n",
       "      root._bokeh_is_loading = css_urls.length + js_urls.length + js_modules.length;\n",
       "    }    if (((window['Plotly'] !== undefined) && (!(window['Plotly'] instanceof HTMLElement))) || window.requirejs) {\n",
       "      var urls = ['https://cdn.plot.ly/plotly-2.10.1.min.js'];\n",
       "      for (var i = 0; i < urls.length; i++) {\n",
       "        skip.push(urls[i])\n",
       "      }\n",
       "    }    if (((window['GridStack'] !== undefined) && (!(window['GridStack'] instanceof HTMLElement))) || window.requirejs) {\n",
       "      var urls = ['https://cdn.jsdelivr.net/npm/gridstack@4.2.5/dist/gridstack-h5.js'];\n",
       "      for (var i = 0; i < urls.length; i++) {\n",
       "        skip.push(urls[i])\n",
       "      }\n",
       "    }    if (((window['Notyf'] !== undefined) && (!(window['Notyf'] instanceof HTMLElement))) || window.requirejs) {\n",
       "      var urls = ['https://cdn.jsdelivr.net/npm/notyf@3/notyf.min.js'];\n",
       "      for (var i = 0; i < urls.length; i++) {\n",
       "        skip.push(urls[i])\n",
       "      }\n",
       "    }    for (var i = 0; i < js_urls.length; i++) {\n",
       "      var url = js_urls[i];\n",
       "      if (skip.indexOf(url) >= 0) {\n",
       "\tif (!window.requirejs) {\n",
       "\t  on_load();\n",
       "\t}\n",
       "\tcontinue;\n",
       "      }\n",
       "      var element = document.createElement('script');\n",
       "      element.onload = on_load;\n",
       "      element.onerror = on_error;\n",
       "      element.async = false;\n",
       "      element.src = url;\n",
       "      console.debug(\"Bokeh: injecting script tag for BokehJS library: \", url);\n",
       "      document.head.appendChild(element);\n",
       "    }\n",
       "    for (var i = 0; i < js_modules.length; i++) {\n",
       "      var url = js_modules[i];\n",
       "      if (skip.indexOf(url) >= 0) {\n",
       "\tif (!window.requirejs) {\n",
       "\t  on_load();\n",
       "\t}\n",
       "\tcontinue;\n",
       "      }\n",
       "      var element = document.createElement('script');\n",
       "      element.onload = on_load;\n",
       "      element.onerror = on_error;\n",
       "      element.async = false;\n",
       "      element.src = url;\n",
       "      element.type = \"module\";\n",
       "      console.debug(\"Bokeh: injecting script tag for BokehJS library: \", url);\n",
       "      document.head.appendChild(element);\n",
       "    }\n",
       "    if (!js_urls.length && !js_modules.length) {\n",
       "      on_load()\n",
       "    }\n",
       "  };\n",
       "\n",
       "  function inject_raw_css(css) {\n",
       "    const element = document.createElement(\"style\");\n",
       "    element.appendChild(document.createTextNode(css));\n",
       "    document.body.appendChild(element);\n",
       "  }\n",
       "\n",
       "  var js_urls = [\"https://cdn.jsdelivr.net/npm/jquery@3.5.1/dist/jquery.slim.min.js\", \"https://cdn.plot.ly/plotly-2.10.1.min.js\", \"https://cdn.bokeh.org/bokeh/release/bokeh-2.4.3.min.js\", \"https://cdn.bokeh.org/bokeh/release/bokeh-gl-2.4.3.min.js\", \"https://cdn.bokeh.org/bokeh/release/bokeh-widgets-2.4.3.min.js\", \"https://cdn.bokeh.org/bokeh/release/bokeh-tables-2.4.3.min.js\", \"https://cdn.bokeh.org/bokeh/release/bokeh-mathjax-2.4.3.min.js\", \"https://cdn.jsdelivr.net/npm/notyf@3/notyf.min.js\", \"https://unpkg.com/@holoviz/panel@0.13.1/dist/panel.min.js\"];\n",
       "  var js_modules = [];\n",
       "  var css_urls = [\"https://cdn.jsdelivr.net/npm/notyf@3/notyf.min.css\", \"https://cdnjs.cloudflare.com/ajax/libs/font-awesome/5.15.1/css/all.min.css\", \"https://unpkg.com/@holoviz/panel@0.13.1/dist/css/alerts.css\", \"https://unpkg.com/@holoviz/panel@0.13.1/dist/css/card.css\", \"https://unpkg.com/@holoviz/panel@0.13.1/dist/css/dataframe.css\", \"https://unpkg.com/@holoviz/panel@0.13.1/dist/css/debugger.css\", \"https://unpkg.com/@holoviz/panel@0.13.1/dist/css/json.css\", \"https://unpkg.com/@holoviz/panel@0.13.1/dist/css/loading.css\", \"https://unpkg.com/@holoviz/panel@0.13.1/dist/css/markdown.css\", \"https://unpkg.com/@holoviz/panel@0.13.1/dist/css/widgets.css\"];\n",
       "  var inline_js = [    function(Bokeh) {\n",
       "      inject_raw_css(\"\\n    .bk.pn-loading.arcs:before {\\n      background-image: url(\\\"data:image/svg+xml;base64,PHN2ZyB4bWxucz0iaHR0cDovL3d3dy53My5vcmcvMjAwMC9zdmciIHhtbG5zOnhsaW5rPSJodHRwOi8vd3d3LnczLm9yZy8xOTk5L3hsaW5rIiBzdHlsZT0ibWFyZ2luOiBhdXRvOyBiYWNrZ3JvdW5kOiBub25lOyBkaXNwbGF5OiBibG9jazsgc2hhcGUtcmVuZGVyaW5nOiBhdXRvOyIgdmlld0JveD0iMCAwIDEwMCAxMDAiIHByZXNlcnZlQXNwZWN0UmF0aW89InhNaWRZTWlkIj4gIDxjaXJjbGUgY3g9IjUwIiBjeT0iNTAiIHI9IjMyIiBzdHJva2Utd2lkdGg9IjgiIHN0cm9rZT0iI2MzYzNjMyIgc3Ryb2tlLWRhc2hhcnJheT0iNTAuMjY1NDgyNDU3NDM2NjkgNTAuMjY1NDgyNDU3NDM2NjkiIGZpbGw9Im5vbmUiIHN0cm9rZS1saW5lY2FwPSJyb3VuZCI+ICAgIDxhbmltYXRlVHJhbnNmb3JtIGF0dHJpYnV0ZU5hbWU9InRyYW5zZm9ybSIgdHlwZT0icm90YXRlIiByZXBlYXRDb3VudD0iaW5kZWZpbml0ZSIgZHVyPSIxcyIga2V5VGltZXM9IjA7MSIgdmFsdWVzPSIwIDUwIDUwOzM2MCA1MCA1MCI+PC9hbmltYXRlVHJhbnNmb3JtPiAgPC9jaXJjbGU+PC9zdmc+\\\");\\n      background-size: auto calc(min(50%, 400px));\\n    }\\n    \");\n",
       "    },    function(Bokeh) {\n",
       "      Bokeh.set_log_level(\"info\");\n",
       "    },\n",
       "function(Bokeh) {} // ensure no trailing comma for IE\n",
       "  ];\n",
       "\n",
       "  function run_inline_js() {\n",
       "    if ((root.Bokeh !== undefined) || (force === true)) {\n",
       "      for (var i = 0; i < inline_js.length; i++) {\n",
       "        inline_js[i].call(root, root.Bokeh);\n",
       "      }} else if (Date.now() < root._bokeh_timeout) {\n",
       "      setTimeout(run_inline_js, 100);\n",
       "    } else if (!root._bokeh_failed_load) {\n",
       "      console.log(\"Bokeh: BokehJS failed to load within specified timeout.\");\n",
       "      root._bokeh_failed_load = true;\n",
       "    }\n",
       "  }\n",
       "\n",
       "  if (root._bokeh_is_loading === 0) {\n",
       "    console.debug(\"Bokeh: BokehJS loaded, going straight to plotting\");\n",
       "    run_inline_js();\n",
       "  } else {\n",
       "    load_libs(css_urls, js_urls, js_modules, function() {\n",
       "      console.debug(\"Bokeh: BokehJS plotting callback run at\", now());\n",
       "      run_inline_js();\n",
       "    });\n",
       "  }\n",
       "}(window));"
      ],
      "application/vnd.holoviews_load.v0+json": "(function(root) {\n  function now() {\n    return new Date();\n  }\n\n  var force = true;\n\n  if (typeof root._bokeh_onload_callbacks === \"undefined\" || force === true) {\n    root._bokeh_onload_callbacks = [];\n    root._bokeh_is_loading = undefined;\n  }\n\n  if (typeof (root._bokeh_timeout) === \"undefined\" || force === true) {\n    root._bokeh_timeout = Date.now() + 5000;\n    root._bokeh_failed_load = false;\n  }\n\n  function run_callbacks() {\n    try {\n      root._bokeh_onload_callbacks.forEach(function(callback) {\n        if (callback != null)\n          callback();\n      });\n    } finally {\n      delete root._bokeh_onload_callbacks\n    }\n    console.debug(\"Bokeh: all callbacks have finished\");\n  }\n\n  function load_libs(css_urls, js_urls, js_modules, callback) {\n    if (css_urls == null) css_urls = [];\n    if (js_urls == null) js_urls = [];\n    if (js_modules == null) js_modules = [];\n\n    root._bokeh_onload_callbacks.push(callback);\n    if (root._bokeh_is_loading > 0) {\n      console.debug(\"Bokeh: BokehJS is being loaded, scheduling callback at\", now());\n      return null;\n    }\n    if (js_urls.length === 0 && js_modules.length === 0) {\n      run_callbacks();\n      return null;\n    }\n    console.debug(\"Bokeh: BokehJS not loaded, scheduling load and callback at\", now());\n\n    function on_load() {\n      root._bokeh_is_loading--;\n      if (root._bokeh_is_loading === 0) {\n        console.debug(\"Bokeh: all BokehJS libraries/stylesheets loaded\");\n        run_callbacks()\n      }\n    }\n\n    function on_error() {\n      console.error(\"failed to load \" + url);\n    }\n\n    for (var i = 0; i < css_urls.length; i++) {\n      var url = css_urls[i];\n      const element = document.createElement(\"link\");\n      element.onload = on_load;\n      element.onerror = on_error;\n      element.rel = \"stylesheet\";\n      element.type = \"text/css\";\n      element.href = url;\n      console.debug(\"Bokeh: injecting link tag for BokehJS stylesheet: \", url);\n      document.body.appendChild(element);\n    }\n\n    var skip = [];\n    if (window.requirejs) {\n      window.requirejs.config({'packages': {}, 'paths': {'plotly': 'https://cdn.plot.ly/plotly-2.10.1.min', 'gridstack': 'https://cdn.jsdelivr.net/npm/gridstack@4.2.5/dist/gridstack-h5', 'notyf': 'https://cdn.jsdelivr.net/npm/notyf@3/notyf.min'}, 'shim': {'gridstack': {'exports': 'GridStack'}}});\n      require([\"plotly\"], function(Plotly) {\n\twindow.Plotly = Plotly\n\ton_load()\n      })\n      require([\"gridstack\"], function(GridStack) {\n\twindow.GridStack = GridStack\n\ton_load()\n      })\n      require([\"notyf\"], function() {\n\ton_load()\n      })\n      root._bokeh_is_loading = css_urls.length + 3;\n    } else {\n      root._bokeh_is_loading = css_urls.length + js_urls.length + js_modules.length;\n    }    if (((window['Plotly'] !== undefined) && (!(window['Plotly'] instanceof HTMLElement))) || window.requirejs) {\n      var urls = ['https://cdn.plot.ly/plotly-2.10.1.min.js'];\n      for (var i = 0; i < urls.length; i++) {\n        skip.push(urls[i])\n      }\n    }    if (((window['GridStack'] !== undefined) && (!(window['GridStack'] instanceof HTMLElement))) || window.requirejs) {\n      var urls = ['https://cdn.jsdelivr.net/npm/gridstack@4.2.5/dist/gridstack-h5.js'];\n      for (var i = 0; i < urls.length; i++) {\n        skip.push(urls[i])\n      }\n    }    if (((window['Notyf'] !== undefined) && (!(window['Notyf'] instanceof HTMLElement))) || window.requirejs) {\n      var urls = ['https://cdn.jsdelivr.net/npm/notyf@3/notyf.min.js'];\n      for (var i = 0; i < urls.length; i++) {\n        skip.push(urls[i])\n      }\n    }    for (var i = 0; i < js_urls.length; i++) {\n      var url = js_urls[i];\n      if (skip.indexOf(url) >= 0) {\n\tif (!window.requirejs) {\n\t  on_load();\n\t}\n\tcontinue;\n      }\n      var element = document.createElement('script');\n      element.onload = on_load;\n      element.onerror = on_error;\n      element.async = false;\n      element.src = url;\n      console.debug(\"Bokeh: injecting script tag for BokehJS library: \", url);\n      document.head.appendChild(element);\n    }\n    for (var i = 0; i < js_modules.length; i++) {\n      var url = js_modules[i];\n      if (skip.indexOf(url) >= 0) {\n\tif (!window.requirejs) {\n\t  on_load();\n\t}\n\tcontinue;\n      }\n      var element = document.createElement('script');\n      element.onload = on_load;\n      element.onerror = on_error;\n      element.async = false;\n      element.src = url;\n      element.type = \"module\";\n      console.debug(\"Bokeh: injecting script tag for BokehJS library: \", url);\n      document.head.appendChild(element);\n    }\n    if (!js_urls.length && !js_modules.length) {\n      on_load()\n    }\n  };\n\n  function inject_raw_css(css) {\n    const element = document.createElement(\"style\");\n    element.appendChild(document.createTextNode(css));\n    document.body.appendChild(element);\n  }\n\n  var js_urls = [\"https://cdn.jsdelivr.net/npm/jquery@3.5.1/dist/jquery.slim.min.js\", \"https://cdn.plot.ly/plotly-2.10.1.min.js\", \"https://cdn.bokeh.org/bokeh/release/bokeh-2.4.3.min.js\", \"https://cdn.bokeh.org/bokeh/release/bokeh-gl-2.4.3.min.js\", \"https://cdn.bokeh.org/bokeh/release/bokeh-widgets-2.4.3.min.js\", \"https://cdn.bokeh.org/bokeh/release/bokeh-tables-2.4.3.min.js\", \"https://cdn.bokeh.org/bokeh/release/bokeh-mathjax-2.4.3.min.js\", \"https://cdn.jsdelivr.net/npm/notyf@3/notyf.min.js\", \"https://unpkg.com/@holoviz/panel@0.13.1/dist/panel.min.js\"];\n  var js_modules = [];\n  var css_urls = [\"https://cdn.jsdelivr.net/npm/notyf@3/notyf.min.css\", \"https://cdnjs.cloudflare.com/ajax/libs/font-awesome/5.15.1/css/all.min.css\", \"https://unpkg.com/@holoviz/panel@0.13.1/dist/css/alerts.css\", \"https://unpkg.com/@holoviz/panel@0.13.1/dist/css/card.css\", \"https://unpkg.com/@holoviz/panel@0.13.1/dist/css/dataframe.css\", \"https://unpkg.com/@holoviz/panel@0.13.1/dist/css/debugger.css\", \"https://unpkg.com/@holoviz/panel@0.13.1/dist/css/json.css\", \"https://unpkg.com/@holoviz/panel@0.13.1/dist/css/loading.css\", \"https://unpkg.com/@holoviz/panel@0.13.1/dist/css/markdown.css\", \"https://unpkg.com/@holoviz/panel@0.13.1/dist/css/widgets.css\"];\n  var inline_js = [    function(Bokeh) {\n      inject_raw_css(\"\\n    .bk.pn-loading.arcs:before {\\n      background-image: url(\\\"data:image/svg+xml;base64,PHN2ZyB4bWxucz0iaHR0cDovL3d3dy53My5vcmcvMjAwMC9zdmciIHhtbG5zOnhsaW5rPSJodHRwOi8vd3d3LnczLm9yZy8xOTk5L3hsaW5rIiBzdHlsZT0ibWFyZ2luOiBhdXRvOyBiYWNrZ3JvdW5kOiBub25lOyBkaXNwbGF5OiBibG9jazsgc2hhcGUtcmVuZGVyaW5nOiBhdXRvOyIgdmlld0JveD0iMCAwIDEwMCAxMDAiIHByZXNlcnZlQXNwZWN0UmF0aW89InhNaWRZTWlkIj4gIDxjaXJjbGUgY3g9IjUwIiBjeT0iNTAiIHI9IjMyIiBzdHJva2Utd2lkdGg9IjgiIHN0cm9rZT0iI2MzYzNjMyIgc3Ryb2tlLWRhc2hhcnJheT0iNTAuMjY1NDgyNDU3NDM2NjkgNTAuMjY1NDgyNDU3NDM2NjkiIGZpbGw9Im5vbmUiIHN0cm9rZS1saW5lY2FwPSJyb3VuZCI+ICAgIDxhbmltYXRlVHJhbnNmb3JtIGF0dHJpYnV0ZU5hbWU9InRyYW5zZm9ybSIgdHlwZT0icm90YXRlIiByZXBlYXRDb3VudD0iaW5kZWZpbml0ZSIgZHVyPSIxcyIga2V5VGltZXM9IjA7MSIgdmFsdWVzPSIwIDUwIDUwOzM2MCA1MCA1MCI+PC9hbmltYXRlVHJhbnNmb3JtPiAgPC9jaXJjbGU+PC9zdmc+\\\");\\n      background-size: auto calc(min(50%, 400px));\\n    }\\n    \");\n    },    function(Bokeh) {\n      Bokeh.set_log_level(\"info\");\n    },\nfunction(Bokeh) {} // ensure no trailing comma for IE\n  ];\n\n  function run_inline_js() {\n    if ((root.Bokeh !== undefined) || (force === true)) {\n      for (var i = 0; i < inline_js.length; i++) {\n        inline_js[i].call(root, root.Bokeh);\n      }} else if (Date.now() < root._bokeh_timeout) {\n      setTimeout(run_inline_js, 100);\n    } else if (!root._bokeh_failed_load) {\n      console.log(\"Bokeh: BokehJS failed to load within specified timeout.\");\n      root._bokeh_failed_load = true;\n    }\n  }\n\n  if (root._bokeh_is_loading === 0) {\n    console.debug(\"Bokeh: BokehJS loaded, going straight to plotting\");\n    run_inline_js();\n  } else {\n    load_libs(css_urls, js_urls, js_modules, function() {\n      console.debug(\"Bokeh: BokehJS plotting callback run at\", now());\n      run_inline_js();\n    });\n  }\n}(window));"
     },
     "metadata": {},
     "output_type": "display_data"
    },
    {
     "data": {
      "application/javascript": [
       "\n",
       "if ((window.PyViz === undefined) || (window.PyViz instanceof HTMLElement)) {\n",
       "  window.PyViz = {comms: {}, comm_status:{}, kernels:{}, receivers: {}, plot_index: []}\n",
       "}\n",
       "\n",
       "\n",
       "    function JupyterCommManager() {\n",
       "    }\n",
       "\n",
       "    JupyterCommManager.prototype.register_target = function(plot_id, comm_id, msg_handler) {\n",
       "      if (window.comm_manager || ((window.Jupyter !== undefined) && (Jupyter.notebook.kernel != null))) {\n",
       "        var comm_manager = window.comm_manager || Jupyter.notebook.kernel.comm_manager;\n",
       "        comm_manager.register_target(comm_id, function(comm) {\n",
       "          comm.on_msg(msg_handler);\n",
       "        });\n",
       "      } else if ((plot_id in window.PyViz.kernels) && (window.PyViz.kernels[plot_id])) {\n",
       "        window.PyViz.kernels[plot_id].registerCommTarget(comm_id, function(comm) {\n",
       "          comm.onMsg = msg_handler;\n",
       "        });\n",
       "      } else if (typeof google != 'undefined' && google.colab.kernel != null) {\n",
       "        google.colab.kernel.comms.registerTarget(comm_id, (comm) => {\n",
       "          var messages = comm.messages[Symbol.asyncIterator]();\n",
       "          function processIteratorResult(result) {\n",
       "            var message = result.value;\n",
       "            console.log(message)\n",
       "            var content = {data: message.data, comm_id};\n",
       "            var buffers = []\n",
       "            for (var buffer of message.buffers || []) {\n",
       "              buffers.push(new DataView(buffer))\n",
       "            }\n",
       "            var metadata = message.metadata || {};\n",
       "            var msg = {content, buffers, metadata}\n",
       "            msg_handler(msg);\n",
       "            return messages.next().then(processIteratorResult);\n",
       "          }\n",
       "          return messages.next().then(processIteratorResult);\n",
       "        })\n",
       "      }\n",
       "    }\n",
       "\n",
       "    JupyterCommManager.prototype.get_client_comm = function(plot_id, comm_id, msg_handler) {\n",
       "      if (comm_id in window.PyViz.comms) {\n",
       "        return window.PyViz.comms[comm_id];\n",
       "      } else if (window.comm_manager || ((window.Jupyter !== undefined) && (Jupyter.notebook.kernel != null))) {\n",
       "        var comm_manager = window.comm_manager || Jupyter.notebook.kernel.comm_manager;\n",
       "        var comm = comm_manager.new_comm(comm_id, {}, {}, {}, comm_id);\n",
       "        if (msg_handler) {\n",
       "          comm.on_msg(msg_handler);\n",
       "        }\n",
       "      } else if ((plot_id in window.PyViz.kernels) && (window.PyViz.kernels[plot_id])) {\n",
       "        var comm = window.PyViz.kernels[plot_id].connectToComm(comm_id);\n",
       "        comm.open();\n",
       "        if (msg_handler) {\n",
       "          comm.onMsg = msg_handler;\n",
       "        }\n",
       "      } else if (typeof google != 'undefined' && google.colab.kernel != null) {\n",
       "        var comm_promise = google.colab.kernel.comms.open(comm_id)\n",
       "        comm_promise.then((comm) => {\n",
       "          window.PyViz.comms[comm_id] = comm;\n",
       "          if (msg_handler) {\n",
       "            var messages = comm.messages[Symbol.asyncIterator]();\n",
       "            function processIteratorResult(result) {\n",
       "              var message = result.value;\n",
       "              var content = {data: message.data};\n",
       "              var metadata = message.metadata || {comm_id};\n",
       "              var msg = {content, metadata}\n",
       "              msg_handler(msg);\n",
       "              return messages.next().then(processIteratorResult);\n",
       "            }\n",
       "            return messages.next().then(processIteratorResult);\n",
       "          }\n",
       "        }) \n",
       "        var sendClosure = (data, metadata, buffers, disposeOnDone) => {\n",
       "          return comm_promise.then((comm) => {\n",
       "            comm.send(data, metadata, buffers, disposeOnDone);\n",
       "          });\n",
       "        };\n",
       "        var comm = {\n",
       "          send: sendClosure\n",
       "        };\n",
       "      }\n",
       "      window.PyViz.comms[comm_id] = comm;\n",
       "      return comm;\n",
       "    }\n",
       "    window.PyViz.comm_manager = new JupyterCommManager();\n",
       "    \n",
       "\n",
       "\n",
       "var JS_MIME_TYPE = 'application/javascript';\n",
       "var HTML_MIME_TYPE = 'text/html';\n",
       "var EXEC_MIME_TYPE = 'application/vnd.holoviews_exec.v0+json';\n",
       "var CLASS_NAME = 'output';\n",
       "\n",
       "/**\n",
       " * Render data to the DOM node\n",
       " */\n",
       "function render(props, node) {\n",
       "  var div = document.createElement(\"div\");\n",
       "  var script = document.createElement(\"script\");\n",
       "  node.appendChild(div);\n",
       "  node.appendChild(script);\n",
       "}\n",
       "\n",
       "/**\n",
       " * Handle when a new output is added\n",
       " */\n",
       "function handle_add_output(event, handle) {\n",
       "  var output_area = handle.output_area;\n",
       "  var output = handle.output;\n",
       "  if ((output.data == undefined) || (!output.data.hasOwnProperty(EXEC_MIME_TYPE))) {\n",
       "    return\n",
       "  }\n",
       "  var id = output.metadata[EXEC_MIME_TYPE][\"id\"];\n",
       "  var toinsert = output_area.element.find(\".\" + CLASS_NAME.split(' ')[0]);\n",
       "  if (id !== undefined) {\n",
       "    var nchildren = toinsert.length;\n",
       "    var html_node = toinsert[nchildren-1].children[0];\n",
       "    html_node.innerHTML = output.data[HTML_MIME_TYPE];\n",
       "    var scripts = [];\n",
       "    var nodelist = html_node.querySelectorAll(\"script\");\n",
       "    for (var i in nodelist) {\n",
       "      if (nodelist.hasOwnProperty(i)) {\n",
       "        scripts.push(nodelist[i])\n",
       "      }\n",
       "    }\n",
       "\n",
       "    scripts.forEach( function (oldScript) {\n",
       "      var newScript = document.createElement(\"script\");\n",
       "      var attrs = [];\n",
       "      var nodemap = oldScript.attributes;\n",
       "      for (var j in nodemap) {\n",
       "        if (nodemap.hasOwnProperty(j)) {\n",
       "          attrs.push(nodemap[j])\n",
       "        }\n",
       "      }\n",
       "      attrs.forEach(function(attr) { newScript.setAttribute(attr.name, attr.value) });\n",
       "      newScript.appendChild(document.createTextNode(oldScript.innerHTML));\n",
       "      oldScript.parentNode.replaceChild(newScript, oldScript);\n",
       "    });\n",
       "    if (JS_MIME_TYPE in output.data) {\n",
       "      toinsert[nchildren-1].children[1].textContent = output.data[JS_MIME_TYPE];\n",
       "    }\n",
       "    output_area._hv_plot_id = id;\n",
       "    if ((window.Bokeh !== undefined) && (id in Bokeh.index)) {\n",
       "      window.PyViz.plot_index[id] = Bokeh.index[id];\n",
       "    } else {\n",
       "      window.PyViz.plot_index[id] = null;\n",
       "    }\n",
       "  } else if (output.metadata[EXEC_MIME_TYPE][\"server_id\"] !== undefined) {\n",
       "    var bk_div = document.createElement(\"div\");\n",
       "    bk_div.innerHTML = output.data[HTML_MIME_TYPE];\n",
       "    var script_attrs = bk_div.children[0].attributes;\n",
       "    for (var i = 0; i < script_attrs.length; i++) {\n",
       "      toinsert[toinsert.length - 1].childNodes[1].setAttribute(script_attrs[i].name, script_attrs[i].value);\n",
       "    }\n",
       "    // store reference to server id on output_area\n",
       "    output_area._bokeh_server_id = output.metadata[EXEC_MIME_TYPE][\"server_id\"];\n",
       "  }\n",
       "}\n",
       "\n",
       "/**\n",
       " * Handle when an output is cleared or removed\n",
       " */\n",
       "function handle_clear_output(event, handle) {\n",
       "  var id = handle.cell.output_area._hv_plot_id;\n",
       "  var server_id = handle.cell.output_area._bokeh_server_id;\n",
       "  if (((id === undefined) || !(id in PyViz.plot_index)) && (server_id !== undefined)) { return; }\n",
       "  var comm = window.PyViz.comm_manager.get_client_comm(\"hv-extension-comm\", \"hv-extension-comm\", function () {});\n",
       "  if (server_id !== null) {\n",
       "    comm.send({event_type: 'server_delete', 'id': server_id});\n",
       "    return;\n",
       "  } else if (comm !== null) {\n",
       "    comm.send({event_type: 'delete', 'id': id});\n",
       "  }\n",
       "  delete PyViz.plot_index[id];\n",
       "  if ((window.Bokeh !== undefined) & (id in window.Bokeh.index)) {\n",
       "    var doc = window.Bokeh.index[id].model.document\n",
       "    doc.clear();\n",
       "    const i = window.Bokeh.documents.indexOf(doc);\n",
       "    if (i > -1) {\n",
       "      window.Bokeh.documents.splice(i, 1);\n",
       "    }\n",
       "  }\n",
       "}\n",
       "\n",
       "/**\n",
       " * Handle kernel restart event\n",
       " */\n",
       "function handle_kernel_cleanup(event, handle) {\n",
       "  delete PyViz.comms[\"hv-extension-comm\"];\n",
       "  window.PyViz.plot_index = {}\n",
       "}\n",
       "\n",
       "/**\n",
       " * Handle update_display_data messages\n",
       " */\n",
       "function handle_update_output(event, handle) {\n",
       "  handle_clear_output(event, {cell: {output_area: handle.output_area}})\n",
       "  handle_add_output(event, handle)\n",
       "}\n",
       "\n",
       "function register_renderer(events, OutputArea) {\n",
       "  function append_mime(data, metadata, element) {\n",
       "    // create a DOM node to render to\n",
       "    var toinsert = this.create_output_subarea(\n",
       "    metadata,\n",
       "    CLASS_NAME,\n",
       "    EXEC_MIME_TYPE\n",
       "    );\n",
       "    this.keyboard_manager.register_events(toinsert);\n",
       "    // Render to node\n",
       "    var props = {data: data, metadata: metadata[EXEC_MIME_TYPE]};\n",
       "    render(props, toinsert[0]);\n",
       "    element.append(toinsert);\n",
       "    return toinsert\n",
       "  }\n",
       "\n",
       "  events.on('output_added.OutputArea', handle_add_output);\n",
       "  events.on('output_updated.OutputArea', handle_update_output);\n",
       "  events.on('clear_output.CodeCell', handle_clear_output);\n",
       "  events.on('delete.Cell', handle_clear_output);\n",
       "  events.on('kernel_ready.Kernel', handle_kernel_cleanup);\n",
       "\n",
       "  OutputArea.prototype.register_mime_type(EXEC_MIME_TYPE, append_mime, {\n",
       "    safe: true,\n",
       "    index: 0\n",
       "  });\n",
       "}\n",
       "\n",
       "if (window.Jupyter !== undefined) {\n",
       "  try {\n",
       "    var events = require('base/js/events');\n",
       "    var OutputArea = require('notebook/js/outputarea').OutputArea;\n",
       "    if (OutputArea.prototype.mime_types().indexOf(EXEC_MIME_TYPE) == -1) {\n",
       "      register_renderer(events, OutputArea);\n",
       "    }\n",
       "  } catch(err) {\n",
       "  }\n",
       "}\n"
      ],
      "application/vnd.holoviews_load.v0+json": "\nif ((window.PyViz === undefined) || (window.PyViz instanceof HTMLElement)) {\n  window.PyViz = {comms: {}, comm_status:{}, kernels:{}, receivers: {}, plot_index: []}\n}\n\n\n    function JupyterCommManager() {\n    }\n\n    JupyterCommManager.prototype.register_target = function(plot_id, comm_id, msg_handler) {\n      if (window.comm_manager || ((window.Jupyter !== undefined) && (Jupyter.notebook.kernel != null))) {\n        var comm_manager = window.comm_manager || Jupyter.notebook.kernel.comm_manager;\n        comm_manager.register_target(comm_id, function(comm) {\n          comm.on_msg(msg_handler);\n        });\n      } else if ((plot_id in window.PyViz.kernels) && (window.PyViz.kernels[plot_id])) {\n        window.PyViz.kernels[plot_id].registerCommTarget(comm_id, function(comm) {\n          comm.onMsg = msg_handler;\n        });\n      } else if (typeof google != 'undefined' && google.colab.kernel != null) {\n        google.colab.kernel.comms.registerTarget(comm_id, (comm) => {\n          var messages = comm.messages[Symbol.asyncIterator]();\n          function processIteratorResult(result) {\n            var message = result.value;\n            console.log(message)\n            var content = {data: message.data, comm_id};\n            var buffers = []\n            for (var buffer of message.buffers || []) {\n              buffers.push(new DataView(buffer))\n            }\n            var metadata = message.metadata || {};\n            var msg = {content, buffers, metadata}\n            msg_handler(msg);\n            return messages.next().then(processIteratorResult);\n          }\n          return messages.next().then(processIteratorResult);\n        })\n      }\n    }\n\n    JupyterCommManager.prototype.get_client_comm = function(plot_id, comm_id, msg_handler) {\n      if (comm_id in window.PyViz.comms) {\n        return window.PyViz.comms[comm_id];\n      } else if (window.comm_manager || ((window.Jupyter !== undefined) && (Jupyter.notebook.kernel != null))) {\n        var comm_manager = window.comm_manager || Jupyter.notebook.kernel.comm_manager;\n        var comm = comm_manager.new_comm(comm_id, {}, {}, {}, comm_id);\n        if (msg_handler) {\n          comm.on_msg(msg_handler);\n        }\n      } else if ((plot_id in window.PyViz.kernels) && (window.PyViz.kernels[plot_id])) {\n        var comm = window.PyViz.kernels[plot_id].connectToComm(comm_id);\n        comm.open();\n        if (msg_handler) {\n          comm.onMsg = msg_handler;\n        }\n      } else if (typeof google != 'undefined' && google.colab.kernel != null) {\n        var comm_promise = google.colab.kernel.comms.open(comm_id)\n        comm_promise.then((comm) => {\n          window.PyViz.comms[comm_id] = comm;\n          if (msg_handler) {\n            var messages = comm.messages[Symbol.asyncIterator]();\n            function processIteratorResult(result) {\n              var message = result.value;\n              var content = {data: message.data};\n              var metadata = message.metadata || {comm_id};\n              var msg = {content, metadata}\n              msg_handler(msg);\n              return messages.next().then(processIteratorResult);\n            }\n            return messages.next().then(processIteratorResult);\n          }\n        }) \n        var sendClosure = (data, metadata, buffers, disposeOnDone) => {\n          return comm_promise.then((comm) => {\n            comm.send(data, metadata, buffers, disposeOnDone);\n          });\n        };\n        var comm = {\n          send: sendClosure\n        };\n      }\n      window.PyViz.comms[comm_id] = comm;\n      return comm;\n    }\n    window.PyViz.comm_manager = new JupyterCommManager();\n    \n\n\nvar JS_MIME_TYPE = 'application/javascript';\nvar HTML_MIME_TYPE = 'text/html';\nvar EXEC_MIME_TYPE = 'application/vnd.holoviews_exec.v0+json';\nvar CLASS_NAME = 'output';\n\n/**\n * Render data to the DOM node\n */\nfunction render(props, node) {\n  var div = document.createElement(\"div\");\n  var script = document.createElement(\"script\");\n  node.appendChild(div);\n  node.appendChild(script);\n}\n\n/**\n * Handle when a new output is added\n */\nfunction handle_add_output(event, handle) {\n  var output_area = handle.output_area;\n  var output = handle.output;\n  if ((output.data == undefined) || (!output.data.hasOwnProperty(EXEC_MIME_TYPE))) {\n    return\n  }\n  var id = output.metadata[EXEC_MIME_TYPE][\"id\"];\n  var toinsert = output_area.element.find(\".\" + CLASS_NAME.split(' ')[0]);\n  if (id !== undefined) {\n    var nchildren = toinsert.length;\n    var html_node = toinsert[nchildren-1].children[0];\n    html_node.innerHTML = output.data[HTML_MIME_TYPE];\n    var scripts = [];\n    var nodelist = html_node.querySelectorAll(\"script\");\n    for (var i in nodelist) {\n      if (nodelist.hasOwnProperty(i)) {\n        scripts.push(nodelist[i])\n      }\n    }\n\n    scripts.forEach( function (oldScript) {\n      var newScript = document.createElement(\"script\");\n      var attrs = [];\n      var nodemap = oldScript.attributes;\n      for (var j in nodemap) {\n        if (nodemap.hasOwnProperty(j)) {\n          attrs.push(nodemap[j])\n        }\n      }\n      attrs.forEach(function(attr) { newScript.setAttribute(attr.name, attr.value) });\n      newScript.appendChild(document.createTextNode(oldScript.innerHTML));\n      oldScript.parentNode.replaceChild(newScript, oldScript);\n    });\n    if (JS_MIME_TYPE in output.data) {\n      toinsert[nchildren-1].children[1].textContent = output.data[JS_MIME_TYPE];\n    }\n    output_area._hv_plot_id = id;\n    if ((window.Bokeh !== undefined) && (id in Bokeh.index)) {\n      window.PyViz.plot_index[id] = Bokeh.index[id];\n    } else {\n      window.PyViz.plot_index[id] = null;\n    }\n  } else if (output.metadata[EXEC_MIME_TYPE][\"server_id\"] !== undefined) {\n    var bk_div = document.createElement(\"div\");\n    bk_div.innerHTML = output.data[HTML_MIME_TYPE];\n    var script_attrs = bk_div.children[0].attributes;\n    for (var i = 0; i < script_attrs.length; i++) {\n      toinsert[toinsert.length - 1].childNodes[1].setAttribute(script_attrs[i].name, script_attrs[i].value);\n    }\n    // store reference to server id on output_area\n    output_area._bokeh_server_id = output.metadata[EXEC_MIME_TYPE][\"server_id\"];\n  }\n}\n\n/**\n * Handle when an output is cleared or removed\n */\nfunction handle_clear_output(event, handle) {\n  var id = handle.cell.output_area._hv_plot_id;\n  var server_id = handle.cell.output_area._bokeh_server_id;\n  if (((id === undefined) || !(id in PyViz.plot_index)) && (server_id !== undefined)) { return; }\n  var comm = window.PyViz.comm_manager.get_client_comm(\"hv-extension-comm\", \"hv-extension-comm\", function () {});\n  if (server_id !== null) {\n    comm.send({event_type: 'server_delete', 'id': server_id});\n    return;\n  } else if (comm !== null) {\n    comm.send({event_type: 'delete', 'id': id});\n  }\n  delete PyViz.plot_index[id];\n  if ((window.Bokeh !== undefined) & (id in window.Bokeh.index)) {\n    var doc = window.Bokeh.index[id].model.document\n    doc.clear();\n    const i = window.Bokeh.documents.indexOf(doc);\n    if (i > -1) {\n      window.Bokeh.documents.splice(i, 1);\n    }\n  }\n}\n\n/**\n * Handle kernel restart event\n */\nfunction handle_kernel_cleanup(event, handle) {\n  delete PyViz.comms[\"hv-extension-comm\"];\n  window.PyViz.plot_index = {}\n}\n\n/**\n * Handle update_display_data messages\n */\nfunction handle_update_output(event, handle) {\n  handle_clear_output(event, {cell: {output_area: handle.output_area}})\n  handle_add_output(event, handle)\n}\n\nfunction register_renderer(events, OutputArea) {\n  function append_mime(data, metadata, element) {\n    // create a DOM node to render to\n    var toinsert = this.create_output_subarea(\n    metadata,\n    CLASS_NAME,\n    EXEC_MIME_TYPE\n    );\n    this.keyboard_manager.register_events(toinsert);\n    // Render to node\n    var props = {data: data, metadata: metadata[EXEC_MIME_TYPE]};\n    render(props, toinsert[0]);\n    element.append(toinsert);\n    return toinsert\n  }\n\n  events.on('output_added.OutputArea', handle_add_output);\n  events.on('output_updated.OutputArea', handle_update_output);\n  events.on('clear_output.CodeCell', handle_clear_output);\n  events.on('delete.Cell', handle_clear_output);\n  events.on('kernel_ready.Kernel', handle_kernel_cleanup);\n\n  OutputArea.prototype.register_mime_type(EXEC_MIME_TYPE, append_mime, {\n    safe: true,\n    index: 0\n  });\n}\n\nif (window.Jupyter !== undefined) {\n  try {\n    var events = require('base/js/events');\n    var OutputArea = require('notebook/js/outputarea').OutputArea;\n    if (OutputArea.prototype.mime_types().indexOf(EXEC_MIME_TYPE) == -1) {\n      register_renderer(events, OutputArea);\n    }\n  } catch(err) {\n  }\n}\n"
     },
     "metadata": {},
     "output_type": "display_data"
    },
    {
     "data": {
      "text/html": [
       "<style>.bk-root, .bk-root .bk:before, .bk-root .bk:after {\n",
       "  font-family: var(--jp-ui-font-size1);\n",
       "  font-size: var(--jp-ui-font-size1);\n",
       "  color: var(--jp-ui-font-color1);\n",
       "}\n",
       "</style>"
      ]
     },
     "metadata": {},
     "output_type": "display_data"
    },
    {
     "name": "stdout",
     "output_type": "stream",
     "text": [
      "time: 1.86 s (started: 2022-09-24 05:06:10 -05:00)\n"
     ]
    }
   ],
   "source": [
    "import panel as pn\n",
    "import panel.widgets as pnw\n",
    "pn.extension('plotly')\n",
    "\n",
    "import plotly.graph_objects as go\n",
    "from plotly.subplots import make_subplots\n",
    "import plotly.express as px\n",
    "\n",
    "import numpy as np\n",
    "import math\n",
    "\n",
    "import pandas as pd\n",
    "\n",
    "from scipy.stats import wrapcauchy\n",
    "from scipy.stats import levy_stable\n",
    "from scipy.spatial import distance"
   ]
  },
  {
   "cell_type": "code",
   "execution_count": null,
   "id": "0ed4e763",
   "metadata": {},
   "outputs": [],
   "source": []
  },
  {
   "cell_type": "code",
   "execution_count": 3,
   "id": "722176e0",
   "metadata": {},
   "outputs": [
    {
     "name": "stdout",
     "output_type": "stream",
     "text": [
      "time: 0 ns (started: 2022-09-24 05:06:12 -05:00)\n"
     ]
    }
   ],
   "source": [
    "g_dash_data = pd.DataFrame(columns = ['x','y','traj'])\n",
    "g_a = 5"
   ]
  },
  {
   "cell_type": "markdown",
   "id": "02535f4e",
   "metadata": {},
   "source": [
    "# CLASESS"
   ]
  },
  {
   "cell_type": "markdown",
   "id": "5b3df9cf",
   "metadata": {},
   "source": [
    "## Vec2d"
   ]
  },
  {
   "cell_type": "code",
   "execution_count": 4,
   "id": "708dafbb",
   "metadata": {},
   "outputs": [
    {
     "name": "stdout",
     "output_type": "stream",
     "text": [
      "time: 0 ns (started: 2022-09-24 05:06:12 -05:00)\n"
     ]
    }
   ],
   "source": [
    "################# http://www.pygame.org/wiki/2DVectorClass ##################\n",
    "class Vec2d(object):\n",
    "    \"\"\"2d vector class, supports vector and scalar operators,\n",
    "       and also provides a bunch of high level functions\n",
    "       \"\"\"\n",
    "    __slots__ = ['x', 'y']\n",
    "\n",
    "    def __init__(self, x_or_pair, y = None):\n",
    "        if y == None:            \n",
    "            self.x = x_or_pair[0]\n",
    "            self.y = x_or_pair[1]\n",
    "        else:\n",
    "            self.x = x_or_pair\n",
    "            self.y = y\n",
    "            \n",
    "    # Addition\n",
    "    def __add__(self, other):\n",
    "        if isinstance(other, Vec2d):\n",
    "            return Vec2d(self.x + other.x, self.y + other.y)\n",
    "        elif hasattr(other, \"__getitem__\"):\n",
    "            return Vec2d(self.x + other[0], self.y + other[1])\n",
    "        else:\n",
    "            return Vec2d(self.x + other, self.y + other)\n",
    "\n",
    "    # Subtraction\n",
    "    def __sub__(self, other):\n",
    "        if isinstance(other, Vec2d):\n",
    "            return Vec2d(self.x - other.x, self.y - other.y)\n",
    "        elif (hasattr(other, \"__getitem__\")):\n",
    "            return Vec2d(self.x - other[0], self.y - other[1])\n",
    "        else:\n",
    "            return Vec2d(self.x - other, self.y - other)\n",
    "    \n",
    "    # Vector length\n",
    "    def get_length(self):\n",
    "        return math.sqrt(self.x**2 + self.y**2)\n",
    "    \n",
    "    # rotate vector\n",
    "    def rotated(self, angle):        \n",
    "        cos = math.cos(angle)\n",
    "        sin = math.sin(angle)\n",
    "        x = self.x*cos - self.y*sin\n",
    "        y = self.x*sin + self.y*cos\n",
    "        return Vec2d(x, y)"
   ]
  },
  {
   "cell_type": "markdown",
   "id": "a4057b5e",
   "metadata": {},
   "source": [
    "## Explorers"
   ]
  },
  {
   "cell_type": "code",
   "execution_count": 5,
   "id": "48eabd5b",
   "metadata": {},
   "outputs": [
    {
     "name": "stdout",
     "output_type": "stream",
     "text": [
      "time: 0 ns (started: 2022-09-24 05:06:12 -05:00)\n"
     ]
    }
   ],
   "source": [
    "class Explorers(object):\n",
    "    \n",
    "    # This class substitutes BM trajectory and CREW Trajectory\n",
    "    def __init__(self, x = 0, y = 0):\n",
    "        self.x = x\n",
    "        self.y = y\n",
    "        \n",
    "    def trace_trajectories(self, n_traj = 1, traj_type= \"BM_2d\", n_steps =1000, speed = 6, crw_exponents = [0.6]):\n",
    "        \"\"\"\n",
    "            Generates the trajectories of the explorers according to their type\n",
    "            Arguments: \n",
    "                traj_type:\n",
    "                n_steps:\n",
    "                speed:\n",
    "                n_traj:\n",
    "                crw_exponents:\n",
    "          \"\"\"\n",
    "        \n",
    "        trajectories_df = pd.DataFrame(columns=['x','y','traj'])\n",
    "        \n",
    "\n",
    "        for j in range(n_traj):\n",
    "            \n",
    "            velocity = Vec2d(speed, 0)\n",
    "            \n",
    "            \n",
    "            traj_aux_array = np.ones((n_steps,3))*[self.x,self.y,0]\n",
    "            traj_aux_array[0,2] = j\n",
    "            \n",
    "            crw_ex = lambda : crw_exponents[j] if len(crw_exponents) > 1 else crw_exponents[0]\n",
    "            exponent = crw_ex()\n",
    "\n",
    "            for i in range(1,n_steps):\n",
    "                turn_angle = self.generate_angle(traj_type, exponent)\n",
    "                \n",
    "                velocity = velocity.rotated(turn_angle)\n",
    "\n",
    "                traj_aux_array[i] = traj_aux_array[i-1,:]+[velocity.x,velocity.y,0]\n",
    "                traj_aux_array[i,2] = j\n",
    "\n",
    "                \n",
    "            temp_df = pd.DataFrame(data = traj_aux_array, columns=['x','y','traj'])\n",
    "            \n",
    "            trajectories_df = pd.concat([trajectories_df,temp_df], ignore_index=True)\n",
    "          \n",
    "        return trajectories_df\n",
    "    \n",
    "    \n",
    "    \n",
    "    \n",
    "    # angle choice \n",
    "    def generate_angle(self,traj_type, exponent = 0.6):\n",
    "        angle = 0\n",
    "        if traj_type == \"BM_2d\":\n",
    "            angle = np.random.uniform(low=-np.pi, high=np.pi)\n",
    "        \n",
    "        if traj_type == \"BM_nsew\":\n",
    "            angle = np.random.choice([0,np.pi/2, np.pi, 3*np.pi])\n",
    "        \n",
    "        if traj_type == \"CRW\":\n",
    "            angle = wrapcauchy.rvs(exponent)\n",
    "            \n",
    "            \n",
    "        return angle"
   ]
  },
  {
   "cell_type": "markdown",
   "id": "25cc3cfb",
   "metadata": {},
   "source": [
    "## Levy Flight"
   ]
  },
  {
   "cell_type": "code",
   "execution_count": 6,
   "id": "a4b2d10f",
   "metadata": {},
   "outputs": [
    {
     "name": "stdout",
     "output_type": "stream",
     "text": [
      "time: 0 ns (started: 2022-09-24 05:06:12 -05:00)\n"
     ]
    }
   ],
   "source": [
    "class LFlyTrajectory(object):\n",
    "    \n",
    "    def __init__(self, x = 0 , y = 0):\n",
    "        self.x = 0\n",
    "        self.y = 0\n",
    "        \n",
    "        \n",
    "    def levy_walk(self, alpha = 1, beta = 1, loc = 6 , speed = 3, samples = 100000):\n",
    "        # Init velocity vector\n",
    "\n",
    "        velocity = Vec2d(speed,0)\n",
    "\n",
    "        # Init df\n",
    "        LW_df = pd.DataFrame(columns=['x','y','traj'])\n",
    "        lw_3d = np.array([[0,0,0]])\n",
    "        aux = np.array([[0,0,0]])\n",
    "\n",
    "        for i in range(1,samples):\n",
    "            # get random n_steps form levy distribution\n",
    "            step_size = levy_stable.rvs(alpha, beta, loc)\n",
    "            step_size = int(np.ceil(abs(step_size)))\n",
    "\n",
    "            theta = wrapcauchy.rvs(c=0.7, loc=loc)\n",
    "\n",
    "            # update velocity\n",
    "            velocity = velocity.rotated(theta)\n",
    "\n",
    "            for j in range(step_size):\n",
    "                row = len(lw_3d)\n",
    "                aux = np.array([lw_3d[row-1,:]+[velocity.x,velocity.y,0]])\n",
    "\n",
    "                lw_3d = np.vstack([lw_3d,aux])\n",
    "\n",
    "            if(len(lw_3d) >= samples):\n",
    "                break\n",
    "\n",
    "        LW_df = pd.DataFrame(data = lw_3d, columns=['x','y','traj'])\n",
    "\n",
    "        return LW_df;"
   ]
  },
  {
   "cell_type": "code",
   "execution_count": 7,
   "id": "2e11fec6",
   "metadata": {},
   "outputs": [
    {
     "name": "stdout",
     "output_type": "stream",
     "text": [
      "time: 0 ns (started: 2022-09-24 05:06:12 -05:00)\n"
     ]
    }
   ],
   "source": [
    "class BCLFigures(object):\n",
    "    \n",
    "    def __init__(self, traj_data = pd.DataFrame(columns=['x','y','traj']), n_traj = 1):\n",
    "        self.traj_data = traj_data\n",
    "        self.n_traj = n_traj\n",
    "        \n",
    "        \n",
    "    def show_trajectories(self):\n",
    "        plot_trajectories(self.traj_data, n_traj)\n",
    "        return fig"
   ]
  },
  {
   "cell_type": "markdown",
   "id": "dd087de0",
   "metadata": {},
   "source": [
    "## Metrics"
   ]
  },
  {
   "cell_type": "code",
   "execution_count": 8,
   "id": "1f31af0c",
   "metadata": {},
   "outputs": [
    {
     "name": "stdout",
     "output_type": "stream",
     "text": [
      "time: 0 ns (started: 2022-09-24 05:06:12 -05:00)\n"
     ]
    }
   ],
   "source": [
    "def get_path_lengt(traj_df, n_traj):\n",
    "        \n",
    "    path_lenghts = pd.DataFrame(columns=['metric','traj'])\n",
    "\n",
    "    for i in range(n_traj):\n",
    "        aux_df= traj_df.loc[traj_df.traj == i, ['x','y']]\n",
    "\n",
    "        #Calculate lenghts for given trajectory\n",
    "        euc_dis = np.array([get_euclidean_distance(aux_df.iloc[i-1], aux_df.iloc[i]) for i in range(1,aux_df.shape[0])])\n",
    "\n",
    "\n",
    "        temp_df = pd.DataFrame(data = np.cumsum(euc_dis), columns = ['metric'])\n",
    "\n",
    "        trajectory_id = np.array([i for j in range(1,aux_df.shape[0])])\n",
    "        temp_df['traj'] = trajectory_id\n",
    "\n",
    "        path_lenghts = pd.concat([path_lenghts,temp_df], ignore_index=True)\n",
    "\n",
    "    return path_lenghts\n",
    "    \n",
    "    \n",
    "    \n",
    "def get_trajectories_msd(traj_df, n_traj):\n",
    "\n",
    "    msd_df = pd.DataFrame(columns=['metric','traj'])\n",
    "\n",
    "    for i in range(n_traj):\n",
    "        aux_df= traj_df.loc[traj_df.traj == i, ['x','y']]\n",
    "        msd = np.empty(shape=(0))\n",
    "\n",
    "        for tau in range(1,aux_df.shape[0]):\n",
    "            BM_msd = get_msd(tau,aux_df)\n",
    "\n",
    "            msd = np.append(msd,BM_msd)\n",
    "\n",
    "        temp_df = pd.DataFrame(data = msd, columns = ['metric'])\n",
    "\n",
    "        trajectory_id = np.array([i for j in range(1,aux_df.shape[0])])\n",
    "        temp_df['traj'] = trajectory_id\n",
    "\n",
    "        msd_df = pd.concat([msd_df,temp_df], ignore_index=True)\n",
    "\n",
    "\n",
    "    return msd_df\n",
    "\n",
    "\n",
    "\n",
    "def get_ta_distribution(traj_df):\n",
    "\n",
    "    ta_dist = np.empty(shape=(0))\n",
    "\n",
    "\n",
    "    for index, row in traj_df[1:-1].iterrows():\n",
    "\n",
    "        turning_angle = get_turning_angle(traj_df.iloc[index-1],traj_df.iloc[index],traj_df.iloc[index+1])\n",
    "        ta_dist = np.append(ta_dist,turning_angle)\n",
    "\n",
    "    return ta_dist\n",
    "\n",
    "\n",
    "\n",
    "def get_sl_distribution(traj_df):\n",
    "\n",
    "        ta = self.get_ta_distribution(traj_df)\n",
    "\n",
    "        ta_df= pd.DataFrame(data = ta, columns=['metric'])\n",
    "\n",
    "\n",
    "        sl_array = np.empty(shape=(0))\n",
    "\n",
    "        for group, elements in ta_df.groupby((ta_df['metric'].shift()!= ta_df['metric']).cumsum()):\n",
    "            if elements.shape[0]>1:\n",
    "                sl_array = np.append(sl_array,elements.shape[0]+1)\n",
    "\n",
    "        return sl_array"
   ]
  },
  {
   "cell_type": "markdown",
   "id": "56381080",
   "metadata": {},
   "source": [
    "## Auxiliar functions"
   ]
  },
  {
   "cell_type": "markdown",
   "id": "5e7e50f4",
   "metadata": {},
   "source": [
    "### Euclidean distance\n",
    "\n",
    "$d_E(p,q)=\\sqrt{(p_x-q_x)^2+(p_y-q_y)^2}$"
   ]
  },
  {
   "cell_type": "code",
   "execution_count": 9,
   "id": "ab684f54",
   "metadata": {},
   "outputs": [
    {
     "name": "stdout",
     "output_type": "stream",
     "text": [
      "time: 0 ns (started: 2022-09-24 05:06:12 -05:00)\n"
     ]
    }
   ],
   "source": [
    "def get_euclidean_distance(p,q):\n",
    "    \"\"\"\n",
    "        Arguments:\n",
    "            p: [x,y] values for the starting point\n",
    "            q: [x,y] values for the ending point\n",
    "    \"\"\"\n",
    "  \n",
    "    distance = np.sqrt(np.square(p[0]-q[0]) + np.square(p[1]-q[1]))\n",
    "\n",
    "    return distance"
   ]
  },
  {
   "cell_type": "markdown",
   "id": "379186b4",
   "metadata": {},
   "source": [
    "### Mean Square Displacement\n",
    "\n",
    "\n",
    "$MSD = \\frac{1}{N-n} \\sum \\limits_{i=1}^{N-n}(\\vec{r}_{i+n}-\\vec{r}_i)^2 \\quad\\quad n=1,...,N-1$\n",
    "<br><br>\n",
    "\n",
    "$MSD = \\frac{1}{N-n}\\sum \\limits_{i=1}^{N-n}{d_E(p,q)}^2 \\quad\\quad n=1,...,N-1$"
   ]
  },
  {
   "cell_type": "code",
   "execution_count": 10,
   "id": "e0076ee0",
   "metadata": {},
   "outputs": [
    {
     "name": "stdout",
     "output_type": "stream",
     "text": [
      "time: 0 ns (started: 2022-09-24 05:06:12 -05:00)\n"
     ]
    }
   ],
   "source": [
    "def get_msd(tau,path):\n",
    "    \"\"\"\n",
    "      Arguments:\n",
    "        tau:\n",
    "        path:\n",
    "    \"\"\"\n",
    "\n",
    "    square_displacement = 0 \n",
    "\n",
    "    for i in range(tau,path.shape[0],1):\n",
    "        square_displacement += np.square(get_euclidean_distance(path.iloc[i-tau], path.iloc[i]))\n",
    "\n",
    "    msd= (1/(path.shape[0]-tau))*square_displacement\n",
    "\n",
    "    return msd"
   ]
  },
  {
   "cell_type": "markdown",
   "id": "f74be810",
   "metadata": {},
   "source": [
    "### Turning Angle\n",
    "\n",
    "$\n",
    "tan(\\phi)=\\frac{|\\vec{p}\\times\\vec{q}|}{\\vec{p}\\cdot\\vec{q}}\n",
    "$"
   ]
  },
  {
   "cell_type": "code",
   "execution_count": 11,
   "id": "978a5240",
   "metadata": {},
   "outputs": [
    {
     "name": "stdout",
     "output_type": "stream",
     "text": [
      "time: 0 ns (started: 2022-09-24 05:06:12 -05:00)\n"
     ]
    }
   ],
   "source": [
    "def get_turning_angle(a,b,c,round_to_zero = False):\n",
    "    \"\"\"\n",
    "      Arguments:\n",
    "        a: coordinates for p vector's tail\n",
    "        b: coordinates p vector's head / q vector's tail\n",
    "        c: coordinates q vector's head\n",
    "        round_to_zero: if true checks if value is close enough to zero to be take as it\n",
    "     \"\"\"\n",
    "\n",
    "    p = np.subtract(b,a)\n",
    "    q = np.subtract(c,b)\n",
    "\n",
    "  \n",
    "    pq_cross = np.cross(p,q)\n",
    "    pq_scalar = np.dot(p,q)\n",
    "\n",
    "    phi_angle = np.arctan2(pq_cross,pq_scalar)\n",
    "\n",
    "    if round_to_zero:\n",
    "        if  count_like_zero(phi_angle):\n",
    "            phi_angle = 0\n",
    "      \n",
    "    return phi_angle"
   ]
  },
  {
   "cell_type": "markdown",
   "id": "6d991b76",
   "metadata": {},
   "source": [
    "### Custom round"
   ]
  },
  {
   "cell_type": "code",
   "execution_count": 12,
   "id": "a43d1193",
   "metadata": {},
   "outputs": [
    {
     "name": "stdout",
     "output_type": "stream",
     "text": [
      "time: 0 ns (started: 2022-09-24 05:06:12 -05:00)\n"
     ]
    }
   ],
   "source": [
    "def count_like_zero(number):\n",
    "    \"\"\"\n",
    "        Arguments:\n",
    "            number: \n",
    "        Return: True if -0.009 <= number <= 0.009 False otherwise\n",
    "    \"\"\"\n",
    "    is_zero = False\n",
    "\n",
    "    if  ((number >= -0.009) & (number <= 0)) | ((number >= 0) & (number <= 0.009)):\n",
    "        is_zero = True\n",
    "\n",
    "    return is_zero"
   ]
  },
  {
   "cell_type": "markdown",
   "id": "6a16dd5c",
   "metadata": {},
   "source": [
    "### Is Negligible turn"
   ]
  },
  {
   "cell_type": "code",
   "execution_count": 13,
   "id": "13de4993",
   "metadata": {},
   "outputs": [
    {
     "name": "stdout",
     "output_type": "stream",
     "text": [
      "time: 0 ns (started: 2022-09-24 05:06:12 -05:00)\n"
     ]
    }
   ],
   "source": [
    "def drop_turn(angle_i, angle_j):\n",
    "    \"\"\"\n",
    "      Arguments:\n",
    "        angle_i:\n",
    "        angle_j: \n",
    "      Return: True if difference between angles is less than 0.001 False otherwise\n",
    "      \"\"\"\n",
    "    is_dropable = False\n",
    "    \n",
    "    if (angle_i > 0) & (angle_j > 0): \n",
    "        rest = abs(angle_i - angle_j)\n",
    "        if abs(angle_i - angle_j) < 0.001:\n",
    "            is_dropable = True\n",
    "\n",
    "    return is_dropable"
   ]
  },
  {
   "cell_type": "markdown",
   "id": "60b7f623",
   "metadata": {},
   "source": [
    "# PLOT FUNCTIONS"
   ]
  },
  {
   "cell_type": "markdown",
   "id": "2b8496c3",
   "metadata": {},
   "source": [
    "## Plot Trajectories"
   ]
  },
  {
   "cell_type": "code",
   "execution_count": 14,
   "id": "5dcfe03b",
   "metadata": {},
   "outputs": [
    {
     "name": "stdout",
     "output_type": "stream",
     "text": [
      "time: 0 ns (started: 2022-09-24 05:06:12 -05:00)\n"
     ]
    }
   ],
   "source": [
    "def plot_trajectories(trajectories_df, n_trajectories = 1, title = \"\", line_name_prefix=\"\", line_name_subfix = [\"\"]):\n",
    "    \n",
    "    fig_3d = go.Figure()\n",
    "\n",
    "    for i in range(n_trajectories):\n",
    "        \n",
    "        subfix = lambda : line_name_subfix[i] if len(line_name_subfix) > 1 else i\n",
    "        trajectory_name = line_name_prefix +\": \" + str(subfix())\n",
    "\n",
    "        fig_3d.add_scatter3d(\n",
    "                x = trajectories_df.loc[trajectories_df['traj']==i,'x'], \n",
    "                y = trajectories_df.loc[trajectories_df['traj']==i,'y'], \n",
    "                z = trajectories_df.index,\n",
    "                marker = dict(size=2),\n",
    "                line = dict(width=2),\n",
    "                mode = 'lines',\n",
    "                name = trajectory_name,\n",
    "                showlegend = True)\n",
    "\n",
    "    \n",
    "    fig_3d.update_layout(\n",
    "            title_text = title,\n",
    "            width = 800,\n",
    "            height = 800,\n",
    "            scene_camera = dict(eye = dict(x=0, y=0, z=2.5)),\n",
    "            scene = dict(\n",
    "                xaxis = dict(title = 'x'),\n",
    "                yaxis = dict(title = 'y'),\n",
    "                zaxis = dict(title = 'time', nticks = 20)\n",
    "            ))\n",
    "\n",
    "    return fig_3d"
   ]
  },
  {
   "cell_type": "markdown",
   "id": "3ffb9038",
   "metadata": {},
   "source": [
    "## Plot Metrics"
   ]
  },
  {
   "cell_type": "code",
   "execution_count": 15,
   "id": "8d1e4ad3",
   "metadata": {},
   "outputs": [
    {
     "name": "stdout",
     "output_type": "stream",
     "text": [
      "time: 0 ns (started: 2022-09-24 05:06:12 -05:00)\n"
     ]
    }
   ],
   "source": [
    "def plot_metrics(metrics_df, n_trajectories = 1, title = \"\", line_name_prefix=\"\", line_name_subfix = [\"\"]):\n",
    "    \n",
    "    fig_2d = go.Figure()\n",
    "    \n",
    "    for i in range(n_trajectories):\n",
    "        \n",
    "        subfix = lambda : line_name_subfix[i] if len(line_name_subfix) > 1 else i\n",
    "        trajectory_name = line_name_prefix +\": \" + str(subfix())\n",
    "\n",
    "        fig_2d.add_scatter( \n",
    "                    x = metrics_df.index,\n",
    "                    y = metrics_df.loc[metrics_df['traj']==i,'metric'], \n",
    "                    marker = dict(size=0.5),\n",
    "                    line = dict(width=3),\n",
    "                    mode = 'lines',\n",
    "                    name = trajectory_name,\n",
    "                    showlegend = True)\n",
    "        \n",
    "    fig_2d.update_layout(\n",
    "            title_text = title,\n",
    "            autosize = False)\n",
    "    \n",
    "    return fig_2d"
   ]
  },
  {
   "cell_type": "markdown",
   "id": "2e932098",
   "metadata": {},
   "source": [
    "# PRUEBAS"
   ]
  },
  {
   "cell_type": "markdown",
   "id": "89d45cfa",
   "metadata": {},
   "source": [
    "## Trajectory controls"
   ]
  },
  {
   "cell_type": "code",
   "execution_count": 16,
   "id": "192090ac",
   "metadata": {},
   "outputs": [
    {
     "data": {
      "application/javascript": [
       "(function(root) {\n",
       "  function now() {\n",
       "    return new Date();\n",
       "  }\n",
       "\n",
       "  var force = true;\n",
       "\n",
       "  if (typeof root._bokeh_onload_callbacks === \"undefined\" || force === true) {\n",
       "    root._bokeh_onload_callbacks = [];\n",
       "    root._bokeh_is_loading = undefined;\n",
       "  }\n",
       "\n",
       "  if (typeof (root._bokeh_timeout) === \"undefined\" || force === true) {\n",
       "    root._bokeh_timeout = Date.now() + 5000;\n",
       "    root._bokeh_failed_load = false;\n",
       "  }\n",
       "\n",
       "  function run_callbacks() {\n",
       "    try {\n",
       "      root._bokeh_onload_callbacks.forEach(function(callback) {\n",
       "        if (callback != null)\n",
       "          callback();\n",
       "      });\n",
       "    } finally {\n",
       "      delete root._bokeh_onload_callbacks\n",
       "    }\n",
       "    console.debug(\"Bokeh: all callbacks have finished\");\n",
       "  }\n",
       "\n",
       "  function load_libs(css_urls, js_urls, js_modules, callback) {\n",
       "    if (css_urls == null) css_urls = [];\n",
       "    if (js_urls == null) js_urls = [];\n",
       "    if (js_modules == null) js_modules = [];\n",
       "\n",
       "    root._bokeh_onload_callbacks.push(callback);\n",
       "    if (root._bokeh_is_loading > 0) {\n",
       "      console.debug(\"Bokeh: BokehJS is being loaded, scheduling callback at\", now());\n",
       "      return null;\n",
       "    }\n",
       "    if (js_urls.length === 0 && js_modules.length === 0) {\n",
       "      run_callbacks();\n",
       "      return null;\n",
       "    }\n",
       "    console.debug(\"Bokeh: BokehJS not loaded, scheduling load and callback at\", now());\n",
       "\n",
       "    function on_load() {\n",
       "      root._bokeh_is_loading--;\n",
       "      if (root._bokeh_is_loading === 0) {\n",
       "        console.debug(\"Bokeh: all BokehJS libraries/stylesheets loaded\");\n",
       "        run_callbacks()\n",
       "      }\n",
       "    }\n",
       "\n",
       "    function on_error() {\n",
       "      console.error(\"failed to load \" + url);\n",
       "    }\n",
       "\n",
       "    for (var i = 0; i < css_urls.length; i++) {\n",
       "      var url = css_urls[i];\n",
       "      const element = document.createElement(\"link\");\n",
       "      element.onload = on_load;\n",
       "      element.onerror = on_error;\n",
       "      element.rel = \"stylesheet\";\n",
       "      element.type = \"text/css\";\n",
       "      element.href = url;\n",
       "      console.debug(\"Bokeh: injecting link tag for BokehJS stylesheet: \", url);\n",
       "      document.body.appendChild(element);\n",
       "    }\n",
       "\n",
       "    var skip = [];\n",
       "    if (window.requirejs) {\n",
       "      window.requirejs.config({'packages': {}, 'paths': {'plotly': 'https://cdn.plot.ly/plotly-2.10.1.min', 'gridstack': 'https://cdn.jsdelivr.net/npm/gridstack@4.2.5/dist/gridstack-h5', 'notyf': 'https://cdn.jsdelivr.net/npm/notyf@3/notyf.min'}, 'shim': {'gridstack': {'exports': 'GridStack'}}});\n",
       "      require([\"plotly\"], function(Plotly) {\n",
       "\twindow.Plotly = Plotly\n",
       "\ton_load()\n",
       "      })\n",
       "      require([\"gridstack\"], function(GridStack) {\n",
       "\twindow.GridStack = GridStack\n",
       "\ton_load()\n",
       "      })\n",
       "      require([\"notyf\"], function() {\n",
       "\ton_load()\n",
       "      })\n",
       "      root._bokeh_is_loading = css_urls.length + 3;\n",
       "    } else {\n",
       "      root._bokeh_is_loading = css_urls.length + js_urls.length + js_modules.length;\n",
       "    }    if (((window['Plotly'] !== undefined) && (!(window['Plotly'] instanceof HTMLElement))) || window.requirejs) {\n",
       "      var urls = ['https://cdn.plot.ly/plotly-2.10.1.min.js'];\n",
       "      for (var i = 0; i < urls.length; i++) {\n",
       "        skip.push(urls[i])\n",
       "      }\n",
       "    }    if (((window['GridStack'] !== undefined) && (!(window['GridStack'] instanceof HTMLElement))) || window.requirejs) {\n",
       "      var urls = ['https://cdn.jsdelivr.net/npm/gridstack@4.2.5/dist/gridstack-h5.js'];\n",
       "      for (var i = 0; i < urls.length; i++) {\n",
       "        skip.push(urls[i])\n",
       "      }\n",
       "    }    if (((window['Notyf'] !== undefined) && (!(window['Notyf'] instanceof HTMLElement))) || window.requirejs) {\n",
       "      var urls = ['https://cdn.jsdelivr.net/npm/notyf@3/notyf.min.js'];\n",
       "      for (var i = 0; i < urls.length; i++) {\n",
       "        skip.push(urls[i])\n",
       "      }\n",
       "    }    for (var i = 0; i < js_urls.length; i++) {\n",
       "      var url = js_urls[i];\n",
       "      if (skip.indexOf(url) >= 0) {\n",
       "\tif (!window.requirejs) {\n",
       "\t  on_load();\n",
       "\t}\n",
       "\tcontinue;\n",
       "      }\n",
       "      var element = document.createElement('script');\n",
       "      element.onload = on_load;\n",
       "      element.onerror = on_error;\n",
       "      element.async = false;\n",
       "      element.src = url;\n",
       "      console.debug(\"Bokeh: injecting script tag for BokehJS library: \", url);\n",
       "      document.head.appendChild(element);\n",
       "    }\n",
       "    for (var i = 0; i < js_modules.length; i++) {\n",
       "      var url = js_modules[i];\n",
       "      if (skip.indexOf(url) >= 0) {\n",
       "\tif (!window.requirejs) {\n",
       "\t  on_load();\n",
       "\t}\n",
       "\tcontinue;\n",
       "      }\n",
       "      var element = document.createElement('script');\n",
       "      element.onload = on_load;\n",
       "      element.onerror = on_error;\n",
       "      element.async = false;\n",
       "      element.src = url;\n",
       "      element.type = \"module\";\n",
       "      console.debug(\"Bokeh: injecting script tag for BokehJS library: \", url);\n",
       "      document.head.appendChild(element);\n",
       "    }\n",
       "    if (!js_urls.length && !js_modules.length) {\n",
       "      on_load()\n",
       "    }\n",
       "  };\n",
       "\n",
       "  function inject_raw_css(css) {\n",
       "    const element = document.createElement(\"style\");\n",
       "    element.appendChild(document.createTextNode(css));\n",
       "    document.body.appendChild(element);\n",
       "  }\n",
       "\n",
       "  var js_urls = [\"https://cdn.jsdelivr.net/npm/jquery@3.5.1/dist/jquery.slim.min.js\", \"https://cdn.plot.ly/plotly-2.10.1.min.js\", \"https://cdn.bokeh.org/bokeh/release/bokeh-2.4.3.min.js\", \"https://cdn.bokeh.org/bokeh/release/bokeh-gl-2.4.3.min.js\", \"https://cdn.bokeh.org/bokeh/release/bokeh-widgets-2.4.3.min.js\", \"https://cdn.bokeh.org/bokeh/release/bokeh-tables-2.4.3.min.js\", \"https://cdn.bokeh.org/bokeh/release/bokeh-mathjax-2.4.3.min.js\", \"https://cdn.jsdelivr.net/npm/notyf@3/notyf.min.js\", \"https://unpkg.com/@holoviz/panel@0.13.1/dist/panel.min.js\"];\n",
       "  var js_modules = [];\n",
       "  var css_urls = [\"https://cdn.jsdelivr.net/npm/notyf@3/notyf.min.css\", \"https://cdnjs.cloudflare.com/ajax/libs/font-awesome/5.15.1/css/all.min.css\", \"https://unpkg.com/@holoviz/panel@0.13.1/dist/css/alerts.css\", \"https://unpkg.com/@holoviz/panel@0.13.1/dist/css/card.css\", \"https://unpkg.com/@holoviz/panel@0.13.1/dist/css/dataframe.css\", \"https://unpkg.com/@holoviz/panel@0.13.1/dist/css/debugger.css\", \"https://unpkg.com/@holoviz/panel@0.13.1/dist/css/json.css\", \"https://unpkg.com/@holoviz/panel@0.13.1/dist/css/loading.css\", \"https://unpkg.com/@holoviz/panel@0.13.1/dist/css/markdown.css\", \"https://unpkg.com/@holoviz/panel@0.13.1/dist/css/widgets.css\"];\n",
       "  var inline_js = [    function(Bokeh) {\n",
       "      inject_raw_css(\"\\n    .bk.pn-loading.arcs:before {\\n      background-image: url(\\\"data:image/svg+xml;base64,PHN2ZyB4bWxucz0iaHR0cDovL3d3dy53My5vcmcvMjAwMC9zdmciIHhtbG5zOnhsaW5rPSJodHRwOi8vd3d3LnczLm9yZy8xOTk5L3hsaW5rIiBzdHlsZT0ibWFyZ2luOiBhdXRvOyBiYWNrZ3JvdW5kOiBub25lOyBkaXNwbGF5OiBibG9jazsgc2hhcGUtcmVuZGVyaW5nOiBhdXRvOyIgdmlld0JveD0iMCAwIDEwMCAxMDAiIHByZXNlcnZlQXNwZWN0UmF0aW89InhNaWRZTWlkIj4gIDxjaXJjbGUgY3g9IjUwIiBjeT0iNTAiIHI9IjMyIiBzdHJva2Utd2lkdGg9IjgiIHN0cm9rZT0iI2MzYzNjMyIgc3Ryb2tlLWRhc2hhcnJheT0iNTAuMjY1NDgyNDU3NDM2NjkgNTAuMjY1NDgyNDU3NDM2NjkiIGZpbGw9Im5vbmUiIHN0cm9rZS1saW5lY2FwPSJyb3VuZCI+ICAgIDxhbmltYXRlVHJhbnNmb3JtIGF0dHJpYnV0ZU5hbWU9InRyYW5zZm9ybSIgdHlwZT0icm90YXRlIiByZXBlYXRDb3VudD0iaW5kZWZpbml0ZSIgZHVyPSIxcyIga2V5VGltZXM9IjA7MSIgdmFsdWVzPSIwIDUwIDUwOzM2MCA1MCA1MCI+PC9hbmltYXRlVHJhbnNmb3JtPiAgPC9jaXJjbGU+PC9zdmc+\\\");\\n      background-size: auto calc(min(50%, 400px));\\n    }\\n    \");\n",
       "    },    function(Bokeh) {\n",
       "      inject_raw_css(\"\\n.bk.controls_main {\\n    max-width: 40vw !important;\\n    height: 880px !important;\\n    border-radius: 15px;\\n}\\n\\n\");\n",
       "    },    function(Bokeh) {\n",
       "      Bokeh.set_log_level(\"info\");\n",
       "    },\n",
       "function(Bokeh) {} // ensure no trailing comma for IE\n",
       "  ];\n",
       "\n",
       "  function run_inline_js() {\n",
       "    if ((root.Bokeh !== undefined) || (force === true)) {\n",
       "      for (var i = 0; i < inline_js.length; i++) {\n",
       "        inline_js[i].call(root, root.Bokeh);\n",
       "      }} else if (Date.now() < root._bokeh_timeout) {\n",
       "      setTimeout(run_inline_js, 100);\n",
       "    } else if (!root._bokeh_failed_load) {\n",
       "      console.log(\"Bokeh: BokehJS failed to load within specified timeout.\");\n",
       "      root._bokeh_failed_load = true;\n",
       "    }\n",
       "  }\n",
       "\n",
       "  if (root._bokeh_is_loading === 0) {\n",
       "    console.debug(\"Bokeh: BokehJS loaded, going straight to plotting\");\n",
       "    run_inline_js();\n",
       "  } else {\n",
       "    load_libs(css_urls, js_urls, js_modules, function() {\n",
       "      console.debug(\"Bokeh: BokehJS plotting callback run at\", now());\n",
       "      run_inline_js();\n",
       "    });\n",
       "  }\n",
       "}(window));"
      ],
      "application/vnd.holoviews_load.v0+json": "(function(root) {\n  function now() {\n    return new Date();\n  }\n\n  var force = true;\n\n  if (typeof root._bokeh_onload_callbacks === \"undefined\" || force === true) {\n    root._bokeh_onload_callbacks = [];\n    root._bokeh_is_loading = undefined;\n  }\n\n  if (typeof (root._bokeh_timeout) === \"undefined\" || force === true) {\n    root._bokeh_timeout = Date.now() + 5000;\n    root._bokeh_failed_load = false;\n  }\n\n  function run_callbacks() {\n    try {\n      root._bokeh_onload_callbacks.forEach(function(callback) {\n        if (callback != null)\n          callback();\n      });\n    } finally {\n      delete root._bokeh_onload_callbacks\n    }\n    console.debug(\"Bokeh: all callbacks have finished\");\n  }\n\n  function load_libs(css_urls, js_urls, js_modules, callback) {\n    if (css_urls == null) css_urls = [];\n    if (js_urls == null) js_urls = [];\n    if (js_modules == null) js_modules = [];\n\n    root._bokeh_onload_callbacks.push(callback);\n    if (root._bokeh_is_loading > 0) {\n      console.debug(\"Bokeh: BokehJS is being loaded, scheduling callback at\", now());\n      return null;\n    }\n    if (js_urls.length === 0 && js_modules.length === 0) {\n      run_callbacks();\n      return null;\n    }\n    console.debug(\"Bokeh: BokehJS not loaded, scheduling load and callback at\", now());\n\n    function on_load() {\n      root._bokeh_is_loading--;\n      if (root._bokeh_is_loading === 0) {\n        console.debug(\"Bokeh: all BokehJS libraries/stylesheets loaded\");\n        run_callbacks()\n      }\n    }\n\n    function on_error() {\n      console.error(\"failed to load \" + url);\n    }\n\n    for (var i = 0; i < css_urls.length; i++) {\n      var url = css_urls[i];\n      const element = document.createElement(\"link\");\n      element.onload = on_load;\n      element.onerror = on_error;\n      element.rel = \"stylesheet\";\n      element.type = \"text/css\";\n      element.href = url;\n      console.debug(\"Bokeh: injecting link tag for BokehJS stylesheet: \", url);\n      document.body.appendChild(element);\n    }\n\n    var skip = [];\n    if (window.requirejs) {\n      window.requirejs.config({'packages': {}, 'paths': {'plotly': 'https://cdn.plot.ly/plotly-2.10.1.min', 'gridstack': 'https://cdn.jsdelivr.net/npm/gridstack@4.2.5/dist/gridstack-h5', 'notyf': 'https://cdn.jsdelivr.net/npm/notyf@3/notyf.min'}, 'shim': {'gridstack': {'exports': 'GridStack'}}});\n      require([\"plotly\"], function(Plotly) {\n\twindow.Plotly = Plotly\n\ton_load()\n      })\n      require([\"gridstack\"], function(GridStack) {\n\twindow.GridStack = GridStack\n\ton_load()\n      })\n      require([\"notyf\"], function() {\n\ton_load()\n      })\n      root._bokeh_is_loading = css_urls.length + 3;\n    } else {\n      root._bokeh_is_loading = css_urls.length + js_urls.length + js_modules.length;\n    }    if (((window['Plotly'] !== undefined) && (!(window['Plotly'] instanceof HTMLElement))) || window.requirejs) {\n      var urls = ['https://cdn.plot.ly/plotly-2.10.1.min.js'];\n      for (var i = 0; i < urls.length; i++) {\n        skip.push(urls[i])\n      }\n    }    if (((window['GridStack'] !== undefined) && (!(window['GridStack'] instanceof HTMLElement))) || window.requirejs) {\n      var urls = ['https://cdn.jsdelivr.net/npm/gridstack@4.2.5/dist/gridstack-h5.js'];\n      for (var i = 0; i < urls.length; i++) {\n        skip.push(urls[i])\n      }\n    }    if (((window['Notyf'] !== undefined) && (!(window['Notyf'] instanceof HTMLElement))) || window.requirejs) {\n      var urls = ['https://cdn.jsdelivr.net/npm/notyf@3/notyf.min.js'];\n      for (var i = 0; i < urls.length; i++) {\n        skip.push(urls[i])\n      }\n    }    for (var i = 0; i < js_urls.length; i++) {\n      var url = js_urls[i];\n      if (skip.indexOf(url) >= 0) {\n\tif (!window.requirejs) {\n\t  on_load();\n\t}\n\tcontinue;\n      }\n      var element = document.createElement('script');\n      element.onload = on_load;\n      element.onerror = on_error;\n      element.async = false;\n      element.src = url;\n      console.debug(\"Bokeh: injecting script tag for BokehJS library: \", url);\n      document.head.appendChild(element);\n    }\n    for (var i = 0; i < js_modules.length; i++) {\n      var url = js_modules[i];\n      if (skip.indexOf(url) >= 0) {\n\tif (!window.requirejs) {\n\t  on_load();\n\t}\n\tcontinue;\n      }\n      var element = document.createElement('script');\n      element.onload = on_load;\n      element.onerror = on_error;\n      element.async = false;\n      element.src = url;\n      element.type = \"module\";\n      console.debug(\"Bokeh: injecting script tag for BokehJS library: \", url);\n      document.head.appendChild(element);\n    }\n    if (!js_urls.length && !js_modules.length) {\n      on_load()\n    }\n  };\n\n  function inject_raw_css(css) {\n    const element = document.createElement(\"style\");\n    element.appendChild(document.createTextNode(css));\n    document.body.appendChild(element);\n  }\n\n  var js_urls = [\"https://cdn.jsdelivr.net/npm/jquery@3.5.1/dist/jquery.slim.min.js\", \"https://cdn.plot.ly/plotly-2.10.1.min.js\", \"https://cdn.bokeh.org/bokeh/release/bokeh-2.4.3.min.js\", \"https://cdn.bokeh.org/bokeh/release/bokeh-gl-2.4.3.min.js\", \"https://cdn.bokeh.org/bokeh/release/bokeh-widgets-2.4.3.min.js\", \"https://cdn.bokeh.org/bokeh/release/bokeh-tables-2.4.3.min.js\", \"https://cdn.bokeh.org/bokeh/release/bokeh-mathjax-2.4.3.min.js\", \"https://cdn.jsdelivr.net/npm/notyf@3/notyf.min.js\", \"https://unpkg.com/@holoviz/panel@0.13.1/dist/panel.min.js\"];\n  var js_modules = [];\n  var css_urls = [\"https://cdn.jsdelivr.net/npm/notyf@3/notyf.min.css\", \"https://cdnjs.cloudflare.com/ajax/libs/font-awesome/5.15.1/css/all.min.css\", \"https://unpkg.com/@holoviz/panel@0.13.1/dist/css/alerts.css\", \"https://unpkg.com/@holoviz/panel@0.13.1/dist/css/card.css\", \"https://unpkg.com/@holoviz/panel@0.13.1/dist/css/dataframe.css\", \"https://unpkg.com/@holoviz/panel@0.13.1/dist/css/debugger.css\", \"https://unpkg.com/@holoviz/panel@0.13.1/dist/css/json.css\", \"https://unpkg.com/@holoviz/panel@0.13.1/dist/css/loading.css\", \"https://unpkg.com/@holoviz/panel@0.13.1/dist/css/markdown.css\", \"https://unpkg.com/@holoviz/panel@0.13.1/dist/css/widgets.css\"];\n  var inline_js = [    function(Bokeh) {\n      inject_raw_css(\"\\n    .bk.pn-loading.arcs:before {\\n      background-image: url(\\\"data:image/svg+xml;base64,PHN2ZyB4bWxucz0iaHR0cDovL3d3dy53My5vcmcvMjAwMC9zdmciIHhtbG5zOnhsaW5rPSJodHRwOi8vd3d3LnczLm9yZy8xOTk5L3hsaW5rIiBzdHlsZT0ibWFyZ2luOiBhdXRvOyBiYWNrZ3JvdW5kOiBub25lOyBkaXNwbGF5OiBibG9jazsgc2hhcGUtcmVuZGVyaW5nOiBhdXRvOyIgdmlld0JveD0iMCAwIDEwMCAxMDAiIHByZXNlcnZlQXNwZWN0UmF0aW89InhNaWRZTWlkIj4gIDxjaXJjbGUgY3g9IjUwIiBjeT0iNTAiIHI9IjMyIiBzdHJva2Utd2lkdGg9IjgiIHN0cm9rZT0iI2MzYzNjMyIgc3Ryb2tlLWRhc2hhcnJheT0iNTAuMjY1NDgyNDU3NDM2NjkgNTAuMjY1NDgyNDU3NDM2NjkiIGZpbGw9Im5vbmUiIHN0cm9rZS1saW5lY2FwPSJyb3VuZCI+ICAgIDxhbmltYXRlVHJhbnNmb3JtIGF0dHJpYnV0ZU5hbWU9InRyYW5zZm9ybSIgdHlwZT0icm90YXRlIiByZXBlYXRDb3VudD0iaW5kZWZpbml0ZSIgZHVyPSIxcyIga2V5VGltZXM9IjA7MSIgdmFsdWVzPSIwIDUwIDUwOzM2MCA1MCA1MCI+PC9hbmltYXRlVHJhbnNmb3JtPiAgPC9jaXJjbGU+PC9zdmc+\\\");\\n      background-size: auto calc(min(50%, 400px));\\n    }\\n    \");\n    },    function(Bokeh) {\n      inject_raw_css(\"\\n.bk.controls_main {\\n    max-width: 40vw !important;\\n    height: 880px !important;\\n    border-radius: 15px;\\n}\\n\\n\");\n    },    function(Bokeh) {\n      Bokeh.set_log_level(\"info\");\n    },\nfunction(Bokeh) {} // ensure no trailing comma for IE\n  ];\n\n  function run_inline_js() {\n    if ((root.Bokeh !== undefined) || (force === true)) {\n      for (var i = 0; i < inline_js.length; i++) {\n        inline_js[i].call(root, root.Bokeh);\n      }} else if (Date.now() < root._bokeh_timeout) {\n      setTimeout(run_inline_js, 100);\n    } else if (!root._bokeh_failed_load) {\n      console.log(\"Bokeh: BokehJS failed to load within specified timeout.\");\n      root._bokeh_failed_load = true;\n    }\n  }\n\n  if (root._bokeh_is_loading === 0) {\n    console.debug(\"Bokeh: BokehJS loaded, going straight to plotting\");\n    run_inline_js();\n  } else {\n    load_libs(css_urls, js_urls, js_modules, function() {\n      console.debug(\"Bokeh: BokehJS plotting callback run at\", now());\n      run_inline_js();\n    });\n  }\n}(window));"
     },
     "metadata": {},
     "output_type": "display_data"
    },
    {
     "data": {
      "application/javascript": [
       "\n",
       "if ((window.PyViz === undefined) || (window.PyViz instanceof HTMLElement)) {\n",
       "  window.PyViz = {comms: {}, comm_status:{}, kernels:{}, receivers: {}, plot_index: []}\n",
       "}\n",
       "\n",
       "\n",
       "    function JupyterCommManager() {\n",
       "    }\n",
       "\n",
       "    JupyterCommManager.prototype.register_target = function(plot_id, comm_id, msg_handler) {\n",
       "      if (window.comm_manager || ((window.Jupyter !== undefined) && (Jupyter.notebook.kernel != null))) {\n",
       "        var comm_manager = window.comm_manager || Jupyter.notebook.kernel.comm_manager;\n",
       "        comm_manager.register_target(comm_id, function(comm) {\n",
       "          comm.on_msg(msg_handler);\n",
       "        });\n",
       "      } else if ((plot_id in window.PyViz.kernels) && (window.PyViz.kernels[plot_id])) {\n",
       "        window.PyViz.kernels[plot_id].registerCommTarget(comm_id, function(comm) {\n",
       "          comm.onMsg = msg_handler;\n",
       "        });\n",
       "      } else if (typeof google != 'undefined' && google.colab.kernel != null) {\n",
       "        google.colab.kernel.comms.registerTarget(comm_id, (comm) => {\n",
       "          var messages = comm.messages[Symbol.asyncIterator]();\n",
       "          function processIteratorResult(result) {\n",
       "            var message = result.value;\n",
       "            console.log(message)\n",
       "            var content = {data: message.data, comm_id};\n",
       "            var buffers = []\n",
       "            for (var buffer of message.buffers || []) {\n",
       "              buffers.push(new DataView(buffer))\n",
       "            }\n",
       "            var metadata = message.metadata || {};\n",
       "            var msg = {content, buffers, metadata}\n",
       "            msg_handler(msg);\n",
       "            return messages.next().then(processIteratorResult);\n",
       "          }\n",
       "          return messages.next().then(processIteratorResult);\n",
       "        })\n",
       "      }\n",
       "    }\n",
       "\n",
       "    JupyterCommManager.prototype.get_client_comm = function(plot_id, comm_id, msg_handler) {\n",
       "      if (comm_id in window.PyViz.comms) {\n",
       "        return window.PyViz.comms[comm_id];\n",
       "      } else if (window.comm_manager || ((window.Jupyter !== undefined) && (Jupyter.notebook.kernel != null))) {\n",
       "        var comm_manager = window.comm_manager || Jupyter.notebook.kernel.comm_manager;\n",
       "        var comm = comm_manager.new_comm(comm_id, {}, {}, {}, comm_id);\n",
       "        if (msg_handler) {\n",
       "          comm.on_msg(msg_handler);\n",
       "        }\n",
       "      } else if ((plot_id in window.PyViz.kernels) && (window.PyViz.kernels[plot_id])) {\n",
       "        var comm = window.PyViz.kernels[plot_id].connectToComm(comm_id);\n",
       "        comm.open();\n",
       "        if (msg_handler) {\n",
       "          comm.onMsg = msg_handler;\n",
       "        }\n",
       "      } else if (typeof google != 'undefined' && google.colab.kernel != null) {\n",
       "        var comm_promise = google.colab.kernel.comms.open(comm_id)\n",
       "        comm_promise.then((comm) => {\n",
       "          window.PyViz.comms[comm_id] = comm;\n",
       "          if (msg_handler) {\n",
       "            var messages = comm.messages[Symbol.asyncIterator]();\n",
       "            function processIteratorResult(result) {\n",
       "              var message = result.value;\n",
       "              var content = {data: message.data};\n",
       "              var metadata = message.metadata || {comm_id};\n",
       "              var msg = {content, metadata}\n",
       "              msg_handler(msg);\n",
       "              return messages.next().then(processIteratorResult);\n",
       "            }\n",
       "            return messages.next().then(processIteratorResult);\n",
       "          }\n",
       "        }) \n",
       "        var sendClosure = (data, metadata, buffers, disposeOnDone) => {\n",
       "          return comm_promise.then((comm) => {\n",
       "            comm.send(data, metadata, buffers, disposeOnDone);\n",
       "          });\n",
       "        };\n",
       "        var comm = {\n",
       "          send: sendClosure\n",
       "        };\n",
       "      }\n",
       "      window.PyViz.comms[comm_id] = comm;\n",
       "      return comm;\n",
       "    }\n",
       "    window.PyViz.comm_manager = new JupyterCommManager();\n",
       "    \n",
       "\n",
       "\n",
       "var JS_MIME_TYPE = 'application/javascript';\n",
       "var HTML_MIME_TYPE = 'text/html';\n",
       "var EXEC_MIME_TYPE = 'application/vnd.holoviews_exec.v0+json';\n",
       "var CLASS_NAME = 'output';\n",
       "\n",
       "/**\n",
       " * Render data to the DOM node\n",
       " */\n",
       "function render(props, node) {\n",
       "  var div = document.createElement(\"div\");\n",
       "  var script = document.createElement(\"script\");\n",
       "  node.appendChild(div);\n",
       "  node.appendChild(script);\n",
       "}\n",
       "\n",
       "/**\n",
       " * Handle when a new output is added\n",
       " */\n",
       "function handle_add_output(event, handle) {\n",
       "  var output_area = handle.output_area;\n",
       "  var output = handle.output;\n",
       "  if ((output.data == undefined) || (!output.data.hasOwnProperty(EXEC_MIME_TYPE))) {\n",
       "    return\n",
       "  }\n",
       "  var id = output.metadata[EXEC_MIME_TYPE][\"id\"];\n",
       "  var toinsert = output_area.element.find(\".\" + CLASS_NAME.split(' ')[0]);\n",
       "  if (id !== undefined) {\n",
       "    var nchildren = toinsert.length;\n",
       "    var html_node = toinsert[nchildren-1].children[0];\n",
       "    html_node.innerHTML = output.data[HTML_MIME_TYPE];\n",
       "    var scripts = [];\n",
       "    var nodelist = html_node.querySelectorAll(\"script\");\n",
       "    for (var i in nodelist) {\n",
       "      if (nodelist.hasOwnProperty(i)) {\n",
       "        scripts.push(nodelist[i])\n",
       "      }\n",
       "    }\n",
       "\n",
       "    scripts.forEach( function (oldScript) {\n",
       "      var newScript = document.createElement(\"script\");\n",
       "      var attrs = [];\n",
       "      var nodemap = oldScript.attributes;\n",
       "      for (var j in nodemap) {\n",
       "        if (nodemap.hasOwnProperty(j)) {\n",
       "          attrs.push(nodemap[j])\n",
       "        }\n",
       "      }\n",
       "      attrs.forEach(function(attr) { newScript.setAttribute(attr.name, attr.value) });\n",
       "      newScript.appendChild(document.createTextNode(oldScript.innerHTML));\n",
       "      oldScript.parentNode.replaceChild(newScript, oldScript);\n",
       "    });\n",
       "    if (JS_MIME_TYPE in output.data) {\n",
       "      toinsert[nchildren-1].children[1].textContent = output.data[JS_MIME_TYPE];\n",
       "    }\n",
       "    output_area._hv_plot_id = id;\n",
       "    if ((window.Bokeh !== undefined) && (id in Bokeh.index)) {\n",
       "      window.PyViz.plot_index[id] = Bokeh.index[id];\n",
       "    } else {\n",
       "      window.PyViz.plot_index[id] = null;\n",
       "    }\n",
       "  } else if (output.metadata[EXEC_MIME_TYPE][\"server_id\"] !== undefined) {\n",
       "    var bk_div = document.createElement(\"div\");\n",
       "    bk_div.innerHTML = output.data[HTML_MIME_TYPE];\n",
       "    var script_attrs = bk_div.children[0].attributes;\n",
       "    for (var i = 0; i < script_attrs.length; i++) {\n",
       "      toinsert[toinsert.length - 1].childNodes[1].setAttribute(script_attrs[i].name, script_attrs[i].value);\n",
       "    }\n",
       "    // store reference to server id on output_area\n",
       "    output_area._bokeh_server_id = output.metadata[EXEC_MIME_TYPE][\"server_id\"];\n",
       "  }\n",
       "}\n",
       "\n",
       "/**\n",
       " * Handle when an output is cleared or removed\n",
       " */\n",
       "function handle_clear_output(event, handle) {\n",
       "  var id = handle.cell.output_area._hv_plot_id;\n",
       "  var server_id = handle.cell.output_area._bokeh_server_id;\n",
       "  if (((id === undefined) || !(id in PyViz.plot_index)) && (server_id !== undefined)) { return; }\n",
       "  var comm = window.PyViz.comm_manager.get_client_comm(\"hv-extension-comm\", \"hv-extension-comm\", function () {});\n",
       "  if (server_id !== null) {\n",
       "    comm.send({event_type: 'server_delete', 'id': server_id});\n",
       "    return;\n",
       "  } else if (comm !== null) {\n",
       "    comm.send({event_type: 'delete', 'id': id});\n",
       "  }\n",
       "  delete PyViz.plot_index[id];\n",
       "  if ((window.Bokeh !== undefined) & (id in window.Bokeh.index)) {\n",
       "    var doc = window.Bokeh.index[id].model.document\n",
       "    doc.clear();\n",
       "    const i = window.Bokeh.documents.indexOf(doc);\n",
       "    if (i > -1) {\n",
       "      window.Bokeh.documents.splice(i, 1);\n",
       "    }\n",
       "  }\n",
       "}\n",
       "\n",
       "/**\n",
       " * Handle kernel restart event\n",
       " */\n",
       "function handle_kernel_cleanup(event, handle) {\n",
       "  delete PyViz.comms[\"hv-extension-comm\"];\n",
       "  window.PyViz.plot_index = {}\n",
       "}\n",
       "\n",
       "/**\n",
       " * Handle update_display_data messages\n",
       " */\n",
       "function handle_update_output(event, handle) {\n",
       "  handle_clear_output(event, {cell: {output_area: handle.output_area}})\n",
       "  handle_add_output(event, handle)\n",
       "}\n",
       "\n",
       "function register_renderer(events, OutputArea) {\n",
       "  function append_mime(data, metadata, element) {\n",
       "    // create a DOM node to render to\n",
       "    var toinsert = this.create_output_subarea(\n",
       "    metadata,\n",
       "    CLASS_NAME,\n",
       "    EXEC_MIME_TYPE\n",
       "    );\n",
       "    this.keyboard_manager.register_events(toinsert);\n",
       "    // Render to node\n",
       "    var props = {data: data, metadata: metadata[EXEC_MIME_TYPE]};\n",
       "    render(props, toinsert[0]);\n",
       "    element.append(toinsert);\n",
       "    return toinsert\n",
       "  }\n",
       "\n",
       "  events.on('output_added.OutputArea', handle_add_output);\n",
       "  events.on('output_updated.OutputArea', handle_update_output);\n",
       "  events.on('clear_output.CodeCell', handle_clear_output);\n",
       "  events.on('delete.Cell', handle_clear_output);\n",
       "  events.on('kernel_ready.Kernel', handle_kernel_cleanup);\n",
       "\n",
       "  OutputArea.prototype.register_mime_type(EXEC_MIME_TYPE, append_mime, {\n",
       "    safe: true,\n",
       "    index: 0\n",
       "  });\n",
       "}\n",
       "\n",
       "if (window.Jupyter !== undefined) {\n",
       "  try {\n",
       "    var events = require('base/js/events');\n",
       "    var OutputArea = require('notebook/js/outputarea').OutputArea;\n",
       "    if (OutputArea.prototype.mime_types().indexOf(EXEC_MIME_TYPE) == -1) {\n",
       "      register_renderer(events, OutputArea);\n",
       "    }\n",
       "  } catch(err) {\n",
       "  }\n",
       "}\n"
      ],
      "application/vnd.holoviews_load.v0+json": "\nif ((window.PyViz === undefined) || (window.PyViz instanceof HTMLElement)) {\n  window.PyViz = {comms: {}, comm_status:{}, kernels:{}, receivers: {}, plot_index: []}\n}\n\n\n    function JupyterCommManager() {\n    }\n\n    JupyterCommManager.prototype.register_target = function(plot_id, comm_id, msg_handler) {\n      if (window.comm_manager || ((window.Jupyter !== undefined) && (Jupyter.notebook.kernel != null))) {\n        var comm_manager = window.comm_manager || Jupyter.notebook.kernel.comm_manager;\n        comm_manager.register_target(comm_id, function(comm) {\n          comm.on_msg(msg_handler);\n        });\n      } else if ((plot_id in window.PyViz.kernels) && (window.PyViz.kernels[plot_id])) {\n        window.PyViz.kernels[plot_id].registerCommTarget(comm_id, function(comm) {\n          comm.onMsg = msg_handler;\n        });\n      } else if (typeof google != 'undefined' && google.colab.kernel != null) {\n        google.colab.kernel.comms.registerTarget(comm_id, (comm) => {\n          var messages = comm.messages[Symbol.asyncIterator]();\n          function processIteratorResult(result) {\n            var message = result.value;\n            console.log(message)\n            var content = {data: message.data, comm_id};\n            var buffers = []\n            for (var buffer of message.buffers || []) {\n              buffers.push(new DataView(buffer))\n            }\n            var metadata = message.metadata || {};\n            var msg = {content, buffers, metadata}\n            msg_handler(msg);\n            return messages.next().then(processIteratorResult);\n          }\n          return messages.next().then(processIteratorResult);\n        })\n      }\n    }\n\n    JupyterCommManager.prototype.get_client_comm = function(plot_id, comm_id, msg_handler) {\n      if (comm_id in window.PyViz.comms) {\n        return window.PyViz.comms[comm_id];\n      } else if (window.comm_manager || ((window.Jupyter !== undefined) && (Jupyter.notebook.kernel != null))) {\n        var comm_manager = window.comm_manager || Jupyter.notebook.kernel.comm_manager;\n        var comm = comm_manager.new_comm(comm_id, {}, {}, {}, comm_id);\n        if (msg_handler) {\n          comm.on_msg(msg_handler);\n        }\n      } else if ((plot_id in window.PyViz.kernels) && (window.PyViz.kernels[plot_id])) {\n        var comm = window.PyViz.kernels[plot_id].connectToComm(comm_id);\n        comm.open();\n        if (msg_handler) {\n          comm.onMsg = msg_handler;\n        }\n      } else if (typeof google != 'undefined' && google.colab.kernel != null) {\n        var comm_promise = google.colab.kernel.comms.open(comm_id)\n        comm_promise.then((comm) => {\n          window.PyViz.comms[comm_id] = comm;\n          if (msg_handler) {\n            var messages = comm.messages[Symbol.asyncIterator]();\n            function processIteratorResult(result) {\n              var message = result.value;\n              var content = {data: message.data};\n              var metadata = message.metadata || {comm_id};\n              var msg = {content, metadata}\n              msg_handler(msg);\n              return messages.next().then(processIteratorResult);\n            }\n            return messages.next().then(processIteratorResult);\n          }\n        }) \n        var sendClosure = (data, metadata, buffers, disposeOnDone) => {\n          return comm_promise.then((comm) => {\n            comm.send(data, metadata, buffers, disposeOnDone);\n          });\n        };\n        var comm = {\n          send: sendClosure\n        };\n      }\n      window.PyViz.comms[comm_id] = comm;\n      return comm;\n    }\n    window.PyViz.comm_manager = new JupyterCommManager();\n    \n\n\nvar JS_MIME_TYPE = 'application/javascript';\nvar HTML_MIME_TYPE = 'text/html';\nvar EXEC_MIME_TYPE = 'application/vnd.holoviews_exec.v0+json';\nvar CLASS_NAME = 'output';\n\n/**\n * Render data to the DOM node\n */\nfunction render(props, node) {\n  var div = document.createElement(\"div\");\n  var script = document.createElement(\"script\");\n  node.appendChild(div);\n  node.appendChild(script);\n}\n\n/**\n * Handle when a new output is added\n */\nfunction handle_add_output(event, handle) {\n  var output_area = handle.output_area;\n  var output = handle.output;\n  if ((output.data == undefined) || (!output.data.hasOwnProperty(EXEC_MIME_TYPE))) {\n    return\n  }\n  var id = output.metadata[EXEC_MIME_TYPE][\"id\"];\n  var toinsert = output_area.element.find(\".\" + CLASS_NAME.split(' ')[0]);\n  if (id !== undefined) {\n    var nchildren = toinsert.length;\n    var html_node = toinsert[nchildren-1].children[0];\n    html_node.innerHTML = output.data[HTML_MIME_TYPE];\n    var scripts = [];\n    var nodelist = html_node.querySelectorAll(\"script\");\n    for (var i in nodelist) {\n      if (nodelist.hasOwnProperty(i)) {\n        scripts.push(nodelist[i])\n      }\n    }\n\n    scripts.forEach( function (oldScript) {\n      var newScript = document.createElement(\"script\");\n      var attrs = [];\n      var nodemap = oldScript.attributes;\n      for (var j in nodemap) {\n        if (nodemap.hasOwnProperty(j)) {\n          attrs.push(nodemap[j])\n        }\n      }\n      attrs.forEach(function(attr) { newScript.setAttribute(attr.name, attr.value) });\n      newScript.appendChild(document.createTextNode(oldScript.innerHTML));\n      oldScript.parentNode.replaceChild(newScript, oldScript);\n    });\n    if (JS_MIME_TYPE in output.data) {\n      toinsert[nchildren-1].children[1].textContent = output.data[JS_MIME_TYPE];\n    }\n    output_area._hv_plot_id = id;\n    if ((window.Bokeh !== undefined) && (id in Bokeh.index)) {\n      window.PyViz.plot_index[id] = Bokeh.index[id];\n    } else {\n      window.PyViz.plot_index[id] = null;\n    }\n  } else if (output.metadata[EXEC_MIME_TYPE][\"server_id\"] !== undefined) {\n    var bk_div = document.createElement(\"div\");\n    bk_div.innerHTML = output.data[HTML_MIME_TYPE];\n    var script_attrs = bk_div.children[0].attributes;\n    for (var i = 0; i < script_attrs.length; i++) {\n      toinsert[toinsert.length - 1].childNodes[1].setAttribute(script_attrs[i].name, script_attrs[i].value);\n    }\n    // store reference to server id on output_area\n    output_area._bokeh_server_id = output.metadata[EXEC_MIME_TYPE][\"server_id\"];\n  }\n}\n\n/**\n * Handle when an output is cleared or removed\n */\nfunction handle_clear_output(event, handle) {\n  var id = handle.cell.output_area._hv_plot_id;\n  var server_id = handle.cell.output_area._bokeh_server_id;\n  if (((id === undefined) || !(id in PyViz.plot_index)) && (server_id !== undefined)) { return; }\n  var comm = window.PyViz.comm_manager.get_client_comm(\"hv-extension-comm\", \"hv-extension-comm\", function () {});\n  if (server_id !== null) {\n    comm.send({event_type: 'server_delete', 'id': server_id});\n    return;\n  } else if (comm !== null) {\n    comm.send({event_type: 'delete', 'id': id});\n  }\n  delete PyViz.plot_index[id];\n  if ((window.Bokeh !== undefined) & (id in window.Bokeh.index)) {\n    var doc = window.Bokeh.index[id].model.document\n    doc.clear();\n    const i = window.Bokeh.documents.indexOf(doc);\n    if (i > -1) {\n      window.Bokeh.documents.splice(i, 1);\n    }\n  }\n}\n\n/**\n * Handle kernel restart event\n */\nfunction handle_kernel_cleanup(event, handle) {\n  delete PyViz.comms[\"hv-extension-comm\"];\n  window.PyViz.plot_index = {}\n}\n\n/**\n * Handle update_display_data messages\n */\nfunction handle_update_output(event, handle) {\n  handle_clear_output(event, {cell: {output_area: handle.output_area}})\n  handle_add_output(event, handle)\n}\n\nfunction register_renderer(events, OutputArea) {\n  function append_mime(data, metadata, element) {\n    // create a DOM node to render to\n    var toinsert = this.create_output_subarea(\n    metadata,\n    CLASS_NAME,\n    EXEC_MIME_TYPE\n    );\n    this.keyboard_manager.register_events(toinsert);\n    // Render to node\n    var props = {data: data, metadata: metadata[EXEC_MIME_TYPE]};\n    render(props, toinsert[0]);\n    element.append(toinsert);\n    return toinsert\n  }\n\n  events.on('output_added.OutputArea', handle_add_output);\n  events.on('output_updated.OutputArea', handle_update_output);\n  events.on('clear_output.CodeCell', handle_clear_output);\n  events.on('delete.Cell', handle_clear_output);\n  events.on('kernel_ready.Kernel', handle_kernel_cleanup);\n\n  OutputArea.prototype.register_mime_type(EXEC_MIME_TYPE, append_mime, {\n    safe: true,\n    index: 0\n  });\n}\n\nif (window.Jupyter !== undefined) {\n  try {\n    var events = require('base/js/events');\n    var OutputArea = require('notebook/js/outputarea').OutputArea;\n    if (OutputArea.prototype.mime_types().indexOf(EXEC_MIME_TYPE) == -1) {\n      register_renderer(events, OutputArea);\n    }\n  } catch(err) {\n  }\n}\n"
     },
     "metadata": {},
     "output_type": "display_data"
    },
    {
     "data": {
      "text/html": [
       "<style>.bk-root, .bk-root .bk:before, .bk-root .bk:after {\n",
       "  font-family: var(--jp-ui-font-size1);\n",
       "  font-size: var(--jp-ui-font-size1);\n",
       "  color: var(--jp-ui-font-color1);\n",
       "}\n",
       "</style>"
      ]
     },
     "metadata": {},
     "output_type": "display_data"
    },
    {
     "name": "stdout",
     "output_type": "stream",
     "text": [
      "time: 16 ms (started: 2022-09-24 05:06:12 -05:00)\n"
     ]
    }
   ],
   "source": [
    "css = '''\n",
    ".bk.controls_main {\n",
    "    max-width: 40vw !important;\n",
    "    height: 880px !important;\n",
    "    border-radius: 15px;\n",
    "}\n",
    "\n",
    "'''\n",
    "pn.extension(raw_css=[css])"
   ]
  },
  {
   "cell_type": "code",
   "execution_count": 17,
   "id": "29df5fa3",
   "metadata": {},
   "outputs": [
    {
     "name": "stdout",
     "output_type": "stream",
     "text": [
      "time: 0 ns (started: 2022-09-24 05:06:12 -05:00)\n"
     ]
    }
   ],
   "source": [
    "traj_type = pnw.RadioButtonGroup(\n",
    "    name='Trajectory type', \n",
    "    options=['Brownian motion','Correlated Random Walk', 'Levy Flight'], \n",
    "    button_type = 'primary', margin=(15,0,0,5))"
   ]
  },
  {
   "cell_type": "markdown",
   "id": "f680f45a",
   "metadata": {},
   "source": [
    "## Basic Controls"
   ]
  },
  {
   "cell_type": "code",
   "execution_count": 18,
   "id": "cf5b5b81",
   "metadata": {},
   "outputs": [
    {
     "name": "stdout",
     "output_type": "stream",
     "text": [
      "time: 0 ns (started: 2022-09-24 05:06:12 -05:00)\n"
     ]
    }
   ],
   "source": [
    "n_traj = pnw.IntSlider(name='Numer of trajectories', value=1, step=1, start=1, end=3,css_classes = ['max_38_vwh'])\n",
    "\n",
    "s_x = pnw.IntInput(name='X Starting position',value=0, step=1, start=-100, end=100, width = 100)\n",
    "s_y = pnw.IntInput(name='Y Starting position',value=0, step=1, start=-100, end=100, width = 100)\n",
    "\n",
    "speed = pnw.IntInput(name='Speed',value=6, step=1, start=1, end=10, width=100)\n",
    "\n",
    "n_steps = pnw.IntSlider(name='Numer of steps', value=1000, step=1000, start=1000, end=100000)"
   ]
  },
  {
   "cell_type": "code",
   "execution_count": 19,
   "id": "2ebab42f",
   "metadata": {},
   "outputs": [
    {
     "name": "stdout",
     "output_type": "stream",
     "text": [
      "time: 15 ms (started: 2022-09-24 05:06:12 -05:00)\n"
     ]
    }
   ],
   "source": [
    "basic_controls = pn.Column(\n",
    "    '#### General parameters',\n",
    "    '###### all trajectories will be set with same general satrting parameters',\n",
    "    pn.Row(s_x,s_y),\n",
    "    pn.Row(speed,n_steps))"
   ]
  },
  {
   "cell_type": "code",
   "execution_count": 20,
   "id": "97a8342d",
   "metadata": {},
   "outputs": [
    {
     "name": "stdout",
     "output_type": "stream",
     "text": [
      "time: 0 ns (started: 2022-09-24 05:06:12 -05:00)\n"
     ]
    }
   ],
   "source": [
    "traj_controls = pn.Column(n_traj, '###### Max 3 trayectories')"
   ]
  },
  {
   "cell_type": "markdown",
   "id": "5e2bcbb5",
   "metadata": {},
   "source": [
    "## BM Controls"
   ]
  },
  {
   "cell_type": "code",
   "execution_count": 21,
   "id": "29363461",
   "metadata": {},
   "outputs": [
    {
     "name": "stdout",
     "output_type": "stream",
     "text": [
      "time: 0 ns (started: 2022-09-24 05:06:12 -05:00)\n"
     ]
    }
   ],
   "source": [
    "bm_type = pnw.RadioButtonGroup(name='BM Type', options=['BM 2D', 'North-South-East-Weast Restriction'], button_type = 'default')"
   ]
  },
  {
   "cell_type": "markdown",
   "id": "a4baba86",
   "metadata": {},
   "source": [
    "## CRW Controls"
   ]
  },
  {
   "cell_type": "code",
   "execution_count": 22,
   "id": "c61065cd",
   "metadata": {},
   "outputs": [
    {
     "name": "stdout",
     "output_type": "stream",
     "text": [
      "time: 0 ns (started: 2022-09-24 05:06:12 -05:00)\n"
     ]
    }
   ],
   "source": [
    "crw_e_1 = pnw.FloatInput(name='c',value=0.6, step=0.1, start=0.1, end=0.9, width=80)\n",
    "crw_e_2 = pnw.FloatInput(name='c for t2',value=0.6, step=0.1, start=0.1, end=0.9, width=80)\n",
    "crw_e_3 = pnw.FloatInput(name='c for t3',value=0.6, step=0.1, start=0.1, end=0.9, width=80)\n",
    "crw_e_4 = pnw.FloatInput(name='c for t4',value=0.6, step=0.1, start=0.1, end=0.9, width=80)"
   ]
  },
  {
   "cell_type": "code",
   "execution_count": 23,
   "id": "c66b1248",
   "metadata": {},
   "outputs": [
    {
     "name": "stdout",
     "output_type": "stream",
     "text": [
      "time: 16 ms (started: 2022-09-24 05:06:12 -05:00)\n"
     ]
    }
   ],
   "source": [
    "apply_crwe_to_all = pnw.RadioButtonGroup(name='crwe_apply', options=['YES', 'NO'], button_type = 'default')"
   ]
  },
  {
   "cell_type": "code",
   "execution_count": 24,
   "id": "7a275cc0",
   "metadata": {},
   "outputs": [
    {
     "name": "stdout",
     "output_type": "stream",
     "text": [
      "time: 0 ns (started: 2022-09-24 05:06:12 -05:00)\n"
     ]
    }
   ],
   "source": [
    "CRW_controls = pn.Column(\n",
    "    '#### CRW Parameters',\n",
    "    pn.Column('##### Apply same exponent to all trajectories?',apply_crwe_to_all),\n",
    "    crw_e_1)"
   ]
  },
  {
   "cell_type": "markdown",
   "id": "859ad5f0",
   "metadata": {},
   "source": [
    "## Levy controls"
   ]
  },
  {
   "cell_type": "code",
   "execution_count": 25,
   "id": "1596812c",
   "metadata": {},
   "outputs": [
    {
     "name": "stdout",
     "output_type": "stream",
     "text": [
      "time: 0 ns (started: 2022-09-24 05:06:12 -05:00)\n"
     ]
    }
   ],
   "source": [
    "levy_alpha = pnw.FloatInput(name='alpha',value=1, step=0.1, start=0, end=2, width= 80)\n",
    "levy_beta = pnw.FloatInput(name='beta',value=1, step=0.1, start=0, end=1, width= 80)\n",
    "levy_loc = pnw.IntSlider(name='loc', value=3, step=1, start=0, end=10, width= 80)"
   ]
  },
  {
   "cell_type": "code",
   "execution_count": 26,
   "id": "c0f700e2",
   "metadata": {},
   "outputs": [
    {
     "name": "stdout",
     "output_type": "stream",
     "text": [
      "time: 0 ns (started: 2022-09-24 05:06:12 -05:00)\n"
     ]
    }
   ],
   "source": [
    "Levy_controls = pn.Column(\n",
    "    '#### Levy values',\n",
    "    pn.Row(levy_alpha,levy_beta, levy_loc))"
   ]
  },
  {
   "cell_type": "markdown",
   "id": "6b2cc921",
   "metadata": {},
   "source": [
    "## Metrcis controls"
   ]
  },
  {
   "cell_type": "code",
   "execution_count": 35,
   "id": "1aeebfc0",
   "metadata": {},
   "outputs": [
    {
     "name": "stdout",
     "output_type": "stream",
     "text": [
      "time: 0 ns (started: 2022-09-24 05:07:07 -05:00)\n"
     ]
    }
   ],
   "source": [
    "metrics_menu = pnw.RadioBoxGroup(\n",
    "    name = 'mt_control', \n",
    "    options = ['Path Lenght', 'Mean Square Displacement', 'Turing Angle Distibution', 'Path Lenght Distribution'])"
   ]
  },
  {
   "cell_type": "code",
   "execution_count": 36,
   "id": "d88300d4",
   "metadata": {},
   "outputs": [
    {
     "name": "stdout",
     "output_type": "stream",
     "text": [
      "time: 16 ms (started: 2022-09-24 05:07:08 -05:00)\n"
     ]
    }
   ],
   "source": [
    "metrics_controls = pn.Column('### Calculate Metric:', metrics_menu)"
   ]
  },
  {
   "cell_type": "markdown",
   "id": "c764332f",
   "metadata": {},
   "source": [
    "## ALL"
   ]
  },
  {
   "cell_type": "code",
   "execution_count": 37,
   "id": "5e35991c",
   "metadata": {},
   "outputs": [
    {
     "name": "stdout",
     "output_type": "stream",
     "text": [
      "time: 16 ms (started: 2022-09-24 05:07:08 -05:00)\n"
     ]
    }
   ],
   "source": [
    "@pn.depends(traj_type, n_traj, apply_crwe_to_all)\n",
    "def display_controls(traj_type, n_traj, apply_crwe_to_all):\n",
    "    \n",
    "    controls_layout = pn.Column('####')\n",
    "    \n",
    "    if traj_type == \"Brownian motion\":\n",
    "        controls_layout = pn.Column(traj_controls, basic_controls, '#### Brownian Motion Type', bm_type, metrics_controls)\n",
    "        \n",
    "        \n",
    "    if traj_type == 'Correlated Random Walk' and  n_traj == 2 and apply_crwe_to_all == 'NO':\n",
    "        controls_layout = pn.Column(traj_controls, basic_controls, CRW_controls, crw_e_2, metrics_controls)\n",
    "    \n",
    "    if traj_type == 'Correlated Random Walk' and  n_traj == 3 and apply_crwe_to_all == 'NO':\n",
    "        controls_layout = pn.Column(traj_controls, basic_controls, CRW_controls, pn.Row(crw_e_2,crw_e_3), metrics_controls)\n",
    "    \n",
    "    if traj_type == 'Correlated Random Walk' and  (n_traj == 1 or apply_crwe_to_all == 'YES'):\n",
    "        controls_layout = pn.Column(traj_controls, basic_controls, CRW_controls, metrics_controls)\n",
    "        \n",
    "        \n",
    "    if traj_type == \"Levy Flight\":\n",
    "        controls_layout = pn.Column(basic_controls,Levy_controls, metrics_controls)\n",
    "        \n",
    "    return controls_layout"
   ]
  },
  {
   "cell_type": "code",
   "execution_count": 38,
   "id": "e08797db",
   "metadata": {},
   "outputs": [
    {
     "name": "stdout",
     "output_type": "stream",
     "text": [
      "time: 15 ms (started: 2022-09-24 05:07:09 -05:00)\n"
     ]
    }
   ],
   "source": [
    "@pn.depends(traj_type, n_traj, s_x, s_y, speed, n_steps, bm_type, apply_crwe_to_all, crw_e_1, crw_e_2, crw_e_3, levy_alpha, levy_beta, levy_loc)\n",
    "def set_traj_data(traj_type, n_traj, s_x, s_y, speed, n_steps,  bm_type, apply_crwe_to_all, crw_e_1, crw_e_2, crw_e_3, levy_alpha, levy_beta, levy_loc):\n",
    "    \n",
    "    \n",
    "    # define trajectory type\n",
    "    tt = \"\"\n",
    "    prefix = \"trayectory_\"\n",
    "    if traj_type == \"Brownian motion\" and bm_type == 'BM 2D' :\n",
    "        tt = \"BM_2d\"\n",
    "        \n",
    "    if traj_type == \"Brownian motion\" and bm_type == 'North-South-East-Weast Restriction' :\n",
    "        tt = \"BM_nsew\"\n",
    "        \n",
    "    if traj_type == \"Correlated Random Walk\":\n",
    "        tt = \"CRW\"\n",
    "        prefix = \"cuachy_\"\n",
    "        \n",
    "        \n",
    "    exponents = [0.1]      \n",
    "    if traj_type =='Correlated Random Walk' and (n_traj == 1 or apply_crwe_to_all == 'YES'):\n",
    "        exponents = [crw_e_1]\n",
    "        \n",
    "    if traj_type =='Correlated Random Walk' and n_traj == 2 and apply_crwe_to_all == 'NO':\n",
    "        exponents = [crw_e_1, crw_e_2]\n",
    "    \n",
    "    if traj_type =='Correlated Random Walk' and n_traj == 3 and apply_crwe_to_all == 'NO':\n",
    "         exponents = [crw_e_1, crw_e_2, crw_e_3]\n",
    "    \n",
    "    \n",
    "        \n",
    "        \n",
    "            \n",
    "    if not traj_type == \"Levy Flight\":\n",
    "        explorers = Explorers(s_x,s_y)\n",
    "        traj = explorers.trace_trajectories(n_traj = n_traj, traj_type= tt, n_steps = n_steps, speed = speed, crw_exponents = exponents)\n",
    "    \n",
    "    if traj_type == \"Levy Flight\":\n",
    "        tt = \"LF\"\n",
    "        prefix = \"Levy_alpha_\"\n",
    "        levy_flight = LFlyTrajectory (s_x,s_y)\n",
    "        traj = levy_flight.levy_walk(alpha = levy_alpha, beta = levy_beta, loc = levy_loc , speed = speed, samples = n_steps)\n",
    "    \n",
    "        \n",
    "    global g_dash_data\n",
    "    g_dash_data = traj\n",
    "    \n",
    "    fig =  plot_trajectories(traj, n_traj, traj_type, prefix)\n",
    "    \n",
    "    #return fig"
   ]
  },
  {
   "cell_type": "code",
   "execution_count": 39,
   "id": "780babfc",
   "metadata": {},
   "outputs": [
    {
     "name": "stdout",
     "output_type": "stream",
     "text": [
      "time: 15 ms (started: 2022-09-24 05:07:09 -05:00)\n"
     ]
    }
   ],
   "source": [
    "@pn.depends(traj_type, n_traj, s_x, s_y, speed, n_steps, bm_type, apply_crwe_to_all, crw_e_1, crw_e_2, crw_e_3, levy_alpha, levy_beta, levy_loc)\n",
    "def show_traj_plot(traj_type, n_traj, s_x, s_y, speed, n_steps,  bm_type, apply_crwe_to_all, crw_e_1, crw_e_2, crw_e_3, levy_alpha, levy_beta, levy_loc):\n",
    "    \n",
    "    # line name prefix\n",
    "    prefix = \"trayectory_\"\n",
    "                \n",
    "    if traj_type == \"Correlated Random Walk\":\n",
    "        prefix = \"cuachy_\"\n",
    "    \n",
    "    if traj_type == \"Levy Flight\":\n",
    "        prefix = \"Levy_alpha_\"\n",
    "    \n",
    "    aux_data = g_dash_data\n",
    "    \n",
    "    fig =  plot_trajectories(aux_data, n_traj, traj_type, prefix)\n",
    "    \n",
    "    return fig"
   ]
  },
  {
   "cell_type": "code",
   "execution_count": 40,
   "id": "90062378",
   "metadata": {},
   "outputs": [
    {
     "name": "stdout",
     "output_type": "stream",
     "text": [
      "time: 0 ns (started: 2022-09-24 05:07:09 -05:00)\n"
     ]
    }
   ],
   "source": [
    "@pn.depends(traj_type, n_traj, s_x, s_y, speed, n_steps, bm_type, apply_crwe_to_all, crw_e_1, crw_e_2, crw_e_3, levy_alpha, levy_beta, levy_loc,metrics_menu)\n",
    "def show_met_plot(traj_type, n_traj, s_x, s_y, speed, n_steps,  bm_type, apply_crwe_to_all, crw_e_1, crw_e_2, crw_e_3, levy_alpha, levy_beta, levy_loc,metrics_menu):\n",
    "    \n",
    "    fig = \"\"\n",
    "    \n",
    "    prefix = \"trayectory_\"\n",
    "    \n",
    "    if metrics_menu == \"Path Lenght\":\n",
    "        path_data = get_path_lengt(g_dash_data, n_traj, )\n",
    "        fig =  plot_metrics(path_data, n_traj, metrics_menu, prefix)\n",
    "    \n",
    "    if metrics_menu == \"Mean Square Displacement\":\n",
    "        path_data = get_trajectories_msd(g_dash_data, n_traj)\n",
    "        fig =  plot_metrics(path_data, n_traj, metrics_menu, prefix)\n",
    "        \n",
    "        \n",
    "    if metrics_menu == \"Turing Angle Distibution\":\n",
    "        prefix = \"cuachy_\"\n",
    "        \n",
    "    \n",
    "    if metrics_menu == \"Path Lenght Distribution\":\n",
    "        prefix = \"Levy_alpha_\"\n",
    "        \n",
    "    \n",
    "    return fig"
   ]
  },
  {
   "cell_type": "code",
   "execution_count": 41,
   "id": "5ff4626f",
   "metadata": {
    "scrolled": false
   },
   "outputs": [
    {
     "data": {},
     "metadata": {},
     "output_type": "display_data"
    },
    {
     "data": {
      "application/vnd.holoviews_exec.v0+json": "",
      "text/html": [
       "<div id='1087'>\n",
       "  <div class=\"bk-root\" id=\"817a04ff-2240-47b2-bd6f-e5e60bb6047d\" data-root-id=\"1087\"></div>\n",
       "</div>\n",
       "<script type=\"application/javascript\">(function(root) {\n",
       "  function embed_document(root) {\n",
       "    var docs_json = {\"a256bed2-438e-425b-aa13-228387312f70\":{\"defs\":[{\"extends\":null,\"module\":null,\"name\":\"ReactiveHTML1\",\"overrides\":[],\"properties\":[]},{\"extends\":null,\"module\":null,\"name\":\"FlexBox1\",\"overrides\":[],\"properties\":[{\"default\":\"flex-start\",\"kind\":null,\"name\":\"align_content\"},{\"default\":\"flex-start\",\"kind\":null,\"name\":\"align_items\"},{\"default\":\"row\",\"kind\":null,\"name\":\"flex_direction\"},{\"default\":\"wrap\",\"kind\":null,\"name\":\"flex_wrap\"},{\"default\":\"flex-start\",\"kind\":null,\"name\":\"justify_content\"}]},{\"extends\":null,\"module\":null,\"name\":\"GridStack1\",\"overrides\":[],\"properties\":[{\"default\":\"warn\",\"kind\":null,\"name\":\"mode\"},{\"default\":null,\"kind\":null,\"name\":\"ncols\"},{\"default\":null,\"kind\":null,\"name\":\"nrows\"},{\"default\":true,\"kind\":null,\"name\":\"allow_resize\"},{\"default\":true,\"kind\":null,\"name\":\"allow_drag\"},{\"default\":[],\"kind\":null,\"name\":\"state\"}]},{\"extends\":null,\"module\":null,\"name\":\"click1\",\"overrides\":[],\"properties\":[{\"default\":\"\",\"kind\":null,\"name\":\"terminal_output\"},{\"default\":\"\",\"kind\":null,\"name\":\"debug_name\"},{\"default\":0,\"kind\":null,\"name\":\"clears\"}]},{\"extends\":null,\"module\":null,\"name\":\"NotificationAreaBase1\",\"overrides\":[],\"properties\":[{\"default\":\"bottom-right\",\"kind\":null,\"name\":\"position\"},{\"default\":0,\"kind\":null,\"name\":\"_clear\"}]},{\"extends\":null,\"module\":null,\"name\":\"NotificationArea1\",\"overrides\":[],\"properties\":[{\"default\":[],\"kind\":null,\"name\":\"notifications\"},{\"default\":\"bottom-right\",\"kind\":null,\"name\":\"position\"},{\"default\":0,\"kind\":null,\"name\":\"_clear\"},{\"default\":[{\"background\":\"#ffc107\",\"icon\":{\"className\":\"fas fa-exclamation-triangle\",\"color\":\"white\",\"tagName\":\"i\"},\"type\":\"warning\"},{\"background\":\"#007bff\",\"icon\":{\"className\":\"fas fa-info-circle\",\"color\":\"white\",\"tagName\":\"i\"},\"type\":\"info\"}],\"kind\":null,\"name\":\"types\"}]},{\"extends\":null,\"module\":null,\"name\":\"Notification\",\"overrides\":[],\"properties\":[{\"default\":null,\"kind\":null,\"name\":\"background\"},{\"default\":3000,\"kind\":null,\"name\":\"duration\"},{\"default\":null,\"kind\":null,\"name\":\"icon\"},{\"default\":\"\",\"kind\":null,\"name\":\"message\"},{\"default\":null,\"kind\":null,\"name\":\"notification_type\"},{\"default\":false,\"kind\":null,\"name\":\"_destroyed\"}]},{\"extends\":null,\"module\":null,\"name\":\"TemplateActions1\",\"overrides\":[],\"properties\":[{\"default\":0,\"kind\":null,\"name\":\"open_modal\"},{\"default\":0,\"kind\":null,\"name\":\"close_modal\"}]},{\"extends\":null,\"module\":null,\"name\":\"MaterialTemplateActions1\",\"overrides\":[],\"properties\":[{\"default\":0,\"kind\":null,\"name\":\"open_modal\"},{\"default\":0,\"kind\":null,\"name\":\"close_modal\"}]}],\"roots\":{\"references\":[{\"attributes\":{\"data\":[{\"line\":{\"width\":3},\"marker\":{\"size\":0.5},\"mode\":\"lines\",\"name\":\"trayectory_: 0\",\"showlegend\":true,\"type\":\"scatter\"}],\"data_sources\":[{\"id\":\"1120\"}],\"layout\":{\"autosize\":false,\"template\":{\"data\":{\"bar\":[{\"error_x\":{\"color\":\"#2a3f5f\"},\"error_y\":{\"color\":\"#2a3f5f\"},\"marker\":{\"line\":{\"color\":\"#E5ECF6\",\"width\":0.5},\"pattern\":{\"fillmode\":\"overlay\",\"size\":10,\"solidity\":0.2}},\"type\":\"bar\"}],\"barpolar\":[{\"marker\":{\"line\":{\"color\":\"#E5ECF6\",\"width\":0.5},\"pattern\":{\"fillmode\":\"overlay\",\"size\":10,\"solidity\":0.2}},\"type\":\"barpolar\"}],\"carpet\":[{\"aaxis\":{\"endlinecolor\":\"#2a3f5f\",\"gridcolor\":\"white\",\"linecolor\":\"white\",\"minorgridcolor\":\"white\",\"startlinecolor\":\"#2a3f5f\"},\"baxis\":{\"endlinecolor\":\"#2a3f5f\",\"gridcolor\":\"white\",\"linecolor\":\"white\",\"minorgridcolor\":\"white\",\"startlinecolor\":\"#2a3f5f\"},\"type\":\"carpet\"}],\"choropleth\":[{\"colorbar\":{\"outlinewidth\":0,\"ticks\":\"\"},\"type\":\"choropleth\"}],\"contour\":[{\"colorbar\":{\"outlinewidth\":0,\"ticks\":\"\"},\"colorscale\":[[0.0,\"#0d0887\"],[0.1111111111111111,\"#46039f\"],[0.2222222222222222,\"#7201a8\"],[0.3333333333333333,\"#9c179e\"],[0.4444444444444444,\"#bd3786\"],[0.5555555555555556,\"#d8576b\"],[0.6666666666666666,\"#ed7953\"],[0.7777777777777778,\"#fb9f3a\"],[0.8888888888888888,\"#fdca26\"],[1.0,\"#f0f921\"]],\"type\":\"contour\"}],\"contourcarpet\":[{\"colorbar\":{\"outlinewidth\":0,\"ticks\":\"\"},\"type\":\"contourcarpet\"}],\"heatmap\":[{\"colorbar\":{\"outlinewidth\":0,\"ticks\":\"\"},\"colorscale\":[[0.0,\"#0d0887\"],[0.1111111111111111,\"#46039f\"],[0.2222222222222222,\"#7201a8\"],[0.3333333333333333,\"#9c179e\"],[0.4444444444444444,\"#bd3786\"],[0.5555555555555556,\"#d8576b\"],[0.6666666666666666,\"#ed7953\"],[0.7777777777777778,\"#fb9f3a\"],[0.8888888888888888,\"#fdca26\"],[1.0,\"#f0f921\"]],\"type\":\"heatmap\"}],\"heatmapgl\":[{\"colorbar\":{\"outlinewidth\":0,\"ticks\":\"\"},\"colorscale\":[[0.0,\"#0d0887\"],[0.1111111111111111,\"#46039f\"],[0.2222222222222222,\"#7201a8\"],[0.3333333333333333,\"#9c179e\"],[0.4444444444444444,\"#bd3786\"],[0.5555555555555556,\"#d8576b\"],[0.6666666666666666,\"#ed7953\"],[0.7777777777777778,\"#fb9f3a\"],[0.8888888888888888,\"#fdca26\"],[1.0,\"#f0f921\"]],\"type\":\"heatmapgl\"}],\"histogram\":[{\"marker\":{\"pattern\":{\"fillmode\":\"overlay\",\"size\":10,\"solidity\":0.2}},\"type\":\"histogram\"}],\"histogram2d\":[{\"colorbar\":{\"outlinewidth\":0,\"ticks\":\"\"},\"colorscale\":[[0.0,\"#0d0887\"],[0.1111111111111111,\"#46039f\"],[0.2222222222222222,\"#7201a8\"],[0.3333333333333333,\"#9c179e\"],[0.4444444444444444,\"#bd3786\"],[0.5555555555555556,\"#d8576b\"],[0.6666666666666666,\"#ed7953\"],[0.7777777777777778,\"#fb9f3a\"],[0.8888888888888888,\"#fdca26\"],[1.0,\"#f0f921\"]],\"type\":\"histogram2d\"}],\"histogram2dcontour\":[{\"colorbar\":{\"outlinewidth\":0,\"ticks\":\"\"},\"colorscale\":[[0.0,\"#0d0887\"],[0.1111111111111111,\"#46039f\"],[0.2222222222222222,\"#7201a8\"],[0.3333333333333333,\"#9c179e\"],[0.4444444444444444,\"#bd3786\"],[0.5555555555555556,\"#d8576b\"],[0.6666666666666666,\"#ed7953\"],[0.7777777777777778,\"#fb9f3a\"],[0.8888888888888888,\"#fdca26\"],[1.0,\"#f0f921\"]],\"type\":\"histogram2dcontour\"}],\"mesh3d\":[{\"colorbar\":{\"outlinewidth\":0,\"ticks\":\"\"},\"type\":\"mesh3d\"}],\"parcoords\":[{\"line\":{\"colorbar\":{\"outlinewidth\":0,\"ticks\":\"\"}},\"type\":\"parcoords\"}],\"pie\":[{\"automargin\":true,\"type\":\"pie\"}],\"scatter\":[{\"fillpattern\":{\"fillmode\":\"overlay\",\"size\":10,\"solidity\":0.2},\"type\":\"scatter\"}],\"scatter3d\":[{\"line\":{\"colorbar\":{\"outlinewidth\":0,\"ticks\":\"\"}},\"marker\":{\"colorbar\":{\"outlinewidth\":0,\"ticks\":\"\"}},\"type\":\"scatter3d\"}],\"scattercarpet\":[{\"marker\":{\"colorbar\":{\"outlinewidth\":0,\"ticks\":\"\"}},\"type\":\"scattercarpet\"}],\"scattergeo\":[{\"marker\":{\"colorbar\":{\"outlinewidth\":0,\"ticks\":\"\"}},\"type\":\"scattergeo\"}],\"scattergl\":[{\"marker\":{\"colorbar\":{\"outlinewidth\":0,\"ticks\":\"\"}},\"type\":\"scattergl\"}],\"scattermapbox\":[{\"marker\":{\"colorbar\":{\"outlinewidth\":0,\"ticks\":\"\"}},\"type\":\"scattermapbox\"}],\"scatterpolar\":[{\"marker\":{\"colorbar\":{\"outlinewidth\":0,\"ticks\":\"\"}},\"type\":\"scatterpolar\"}],\"scatterpolargl\":[{\"marker\":{\"colorbar\":{\"outlinewidth\":0,\"ticks\":\"\"}},\"type\":\"scatterpolargl\"}],\"scatterternary\":[{\"marker\":{\"colorbar\":{\"outlinewidth\":0,\"ticks\":\"\"}},\"type\":\"scatterternary\"}],\"surface\":[{\"colorbar\":{\"outlinewidth\":0,\"ticks\":\"\"},\"colorscale\":[[0.0,\"#0d0887\"],[0.1111111111111111,\"#46039f\"],[0.2222222222222222,\"#7201a8\"],[0.3333333333333333,\"#9c179e\"],[0.4444444444444444,\"#bd3786\"],[0.5555555555555556,\"#d8576b\"],[0.6666666666666666,\"#ed7953\"],[0.7777777777777778,\"#fb9f3a\"],[0.8888888888888888,\"#fdca26\"],[1.0,\"#f0f921\"]],\"type\":\"surface\"}],\"table\":[{\"cells\":{\"fill\":{\"color\":\"#EBF0F8\"},\"line\":{\"color\":\"white\"}},\"header\":{\"fill\":{\"color\":\"#C8D4E3\"},\"line\":{\"color\":\"white\"}},\"type\":\"table\"}]},\"layout\":{\"annotationdefaults\":{\"arrowcolor\":\"#2a3f5f\",\"arrowhead\":0,\"arrowwidth\":1},\"autotypenumbers\":\"strict\",\"coloraxis\":{\"colorbar\":{\"outlinewidth\":0,\"ticks\":\"\"}},\"colorscale\":{\"diverging\":[[0,\"#8e0152\"],[0.1,\"#c51b7d\"],[0.2,\"#de77ae\"],[0.3,\"#f1b6da\"],[0.4,\"#fde0ef\"],[0.5,\"#f7f7f7\"],[0.6,\"#e6f5d0\"],[0.7,\"#b8e186\"],[0.8,\"#7fbc41\"],[0.9,\"#4d9221\"],[1,\"#276419\"]],\"sequential\":[[0.0,\"#0d0887\"],[0.1111111111111111,\"#46039f\"],[0.2222222222222222,\"#7201a8\"],[0.3333333333333333,\"#9c179e\"],[0.4444444444444444,\"#bd3786\"],[0.5555555555555556,\"#d8576b\"],[0.6666666666666666,\"#ed7953\"],[0.7777777777777778,\"#fb9f3a\"],[0.8888888888888888,\"#fdca26\"],[1.0,\"#f0f921\"]],\"sequentialminus\":[[0.0,\"#0d0887\"],[0.1111111111111111,\"#46039f\"],[0.2222222222222222,\"#7201a8\"],[0.3333333333333333,\"#9c179e\"],[0.4444444444444444,\"#bd3786\"],[0.5555555555555556,\"#d8576b\"],[0.6666666666666666,\"#ed7953\"],[0.7777777777777778,\"#fb9f3a\"],[0.8888888888888888,\"#fdca26\"],[1.0,\"#f0f921\"]]},\"colorway\":[\"#636efa\",\"#EF553B\",\"#00cc96\",\"#ab63fa\",\"#FFA15A\",\"#19d3f3\",\"#FF6692\",\"#B6E880\",\"#FF97FF\",\"#FECB52\"],\"font\":{\"color\":\"#2a3f5f\"},\"geo\":{\"bgcolor\":\"white\",\"lakecolor\":\"white\",\"landcolor\":\"#E5ECF6\",\"showlakes\":true,\"showland\":true,\"subunitcolor\":\"white\"},\"hoverlabel\":{\"align\":\"left\"},\"hovermode\":\"closest\",\"mapbox\":{\"style\":\"light\"},\"paper_bgcolor\":\"white\",\"plot_bgcolor\":\"#E5ECF6\",\"polar\":{\"angularaxis\":{\"gridcolor\":\"white\",\"linecolor\":\"white\",\"ticks\":\"\"},\"bgcolor\":\"#E5ECF6\",\"radialaxis\":{\"gridcolor\":\"white\",\"linecolor\":\"white\",\"ticks\":\"\"}},\"scene\":{\"xaxis\":{\"backgroundcolor\":\"#E5ECF6\",\"gridcolor\":\"white\",\"gridwidth\":2,\"linecolor\":\"white\",\"showbackground\":true,\"ticks\":\"\",\"zerolinecolor\":\"white\"},\"yaxis\":{\"backgroundcolor\":\"#E5ECF6\",\"gridcolor\":\"white\",\"gridwidth\":2,\"linecolor\":\"white\",\"showbackground\":true,\"ticks\":\"\",\"zerolinecolor\":\"white\"},\"zaxis\":{\"backgroundcolor\":\"#E5ECF6\",\"gridcolor\":\"white\",\"gridwidth\":2,\"linecolor\":\"white\",\"showbackground\":true,\"ticks\":\"\",\"zerolinecolor\":\"white\"}},\"shapedefaults\":{\"line\":{\"color\":\"#2a3f5f\"}},\"ternary\":{\"aaxis\":{\"gridcolor\":\"white\",\"linecolor\":\"white\",\"ticks\":\"\"},\"baxis\":{\"gridcolor\":\"white\",\"linecolor\":\"white\",\"ticks\":\"\"},\"bgcolor\":\"#E5ECF6\",\"caxis\":{\"gridcolor\":\"white\",\"linecolor\":\"white\",\"ticks\":\"\"}},\"title\":{\"x\":0.05},\"xaxis\":{\"automargin\":true,\"gridcolor\":\"white\",\"linecolor\":\"white\",\"ticks\":\"\",\"title\":{\"standoff\":15},\"zerolinecolor\":\"white\",\"zerolinewidth\":2},\"yaxis\":{\"automargin\":true,\"gridcolor\":\"white\",\"linecolor\":\"white\",\"ticks\":\"\",\"title\":{\"standoff\":15},\"zerolinecolor\":\"white\",\"zerolinewidth\":2}}},\"title\":{\"text\":\"Path Lenght\"}},\"margin\":[5,5,5,5],\"name\":\"ParamFunction00219\",\"viewport_update_throttle\":200},\"id\":\"1121\",\"type\":\"panel.models.plotly.PlotlyPlot\"},{\"attributes\":{\"active\":0,\"labels\":[\"BM 2D\",\"North-South-East-Weast Restriction\"],\"margin\":[5,10,5,10]},\"id\":\"1108\",\"type\":\"RadioButtonGroup\"},{\"attributes\":{\"children\":[{\"id\":\"1090\"}],\"margin\":[0,0,0,0],\"name\":\"Row00192\"},\"id\":\"1089\",\"type\":\"Row\"},{\"attributes\":{\"children\":[{\"id\":\"1105\"},{\"id\":\"1106\"}],\"margin\":[0,0,0,0],\"name\":\"Row00109\"},\"id\":\"1104\",\"type\":\"Row\"},{\"attributes\":{\"children\":[{\"id\":\"1095\"},{\"id\":\"1098\"},{\"id\":\"1107\"},{\"id\":\"1108\"},{\"id\":\"1109\"}],\"margin\":[0,0,0,0],\"name\":\"Column00204\"},\"id\":\"1094\",\"type\":\"Column\"},{\"attributes\":{\"active\":0,\"labels\":[\"Path Lenght\",\"Mean Square Displacement\",\"Turing Angle Distibution\",\"Path Lenght Distribution\"],\"margin\":[5,10,5,10]},\"id\":\"1111\",\"type\":\"RadioGroup\"},{\"attributes\":{\"children\":[{\"id\":\"1094\"}],\"margin\":[0,0,0,0],\"name\":\"Row00198\"},\"id\":\"1093\",\"type\":\"Row\"},{\"attributes\":{\"end\":100000,\"margin\":[5,10,5,10],\"start\":1000,\"step\":1000,\"title\":\"Numer of steps\",\"value\":1000},\"id\":\"1106\",\"type\":\"Slider\"},{\"attributes\":{\"css_classes\":[\"markdown\"],\"margin\":[5,5,5,5],\"name\":\"Markdown00110\",\"text\":\"&lt;h4&gt;General parameters&lt;/h4&gt;\"},\"id\":\"1099\",\"type\":\"panel.models.markup.HTML\"},{\"attributes\":{\"children\":[{\"id\":\"1088\"},{\"id\":\"1091\"},{\"id\":\"1112\"},{\"id\":\"1117\"}],\"margin\":[0,0,0,0],\"name\":\"Row00227\"},\"id\":\"1087\",\"type\":\"Row\"},{\"attributes\":{},\"id\":\"1125\",\"type\":\"Selection\"},{\"attributes\":{\"data\":[{\"line\":{\"width\":2},\"marker\":{\"size\":2},\"mode\":\"lines\",\"name\":\"trayectory_: 0\",\"showlegend\":true,\"type\":\"scatter3d\"}],\"data_sources\":[{\"id\":\"1115\"}],\"layout\":{\"height\":800,\"scene\":{\"camera\":{\"eye\":{\"x\":0,\"y\":0,\"z\":2.5}},\"xaxis\":{\"title\":{\"text\":\"x\"}},\"yaxis\":{\"title\":{\"text\":\"y\"}},\"zaxis\":{\"nticks\":20,\"title\":{\"text\":\"time\"}}},\"template\":{\"data\":{\"bar\":[{\"error_x\":{\"color\":\"#2a3f5f\"},\"error_y\":{\"color\":\"#2a3f5f\"},\"marker\":{\"line\":{\"color\":\"#E5ECF6\",\"width\":0.5},\"pattern\":{\"fillmode\":\"overlay\",\"size\":10,\"solidity\":0.2}},\"type\":\"bar\"}],\"barpolar\":[{\"marker\":{\"line\":{\"color\":\"#E5ECF6\",\"width\":0.5},\"pattern\":{\"fillmode\":\"overlay\",\"size\":10,\"solidity\":0.2}},\"type\":\"barpolar\"}],\"carpet\":[{\"aaxis\":{\"endlinecolor\":\"#2a3f5f\",\"gridcolor\":\"white\",\"linecolor\":\"white\",\"minorgridcolor\":\"white\",\"startlinecolor\":\"#2a3f5f\"},\"baxis\":{\"endlinecolor\":\"#2a3f5f\",\"gridcolor\":\"white\",\"linecolor\":\"white\",\"minorgridcolor\":\"white\",\"startlinecolor\":\"#2a3f5f\"},\"type\":\"carpet\"}],\"choropleth\":[{\"colorbar\":{\"outlinewidth\":0,\"ticks\":\"\"},\"type\":\"choropleth\"}],\"contour\":[{\"colorbar\":{\"outlinewidth\":0,\"ticks\":\"\"},\"colorscale\":[[0.0,\"#0d0887\"],[0.1111111111111111,\"#46039f\"],[0.2222222222222222,\"#7201a8\"],[0.3333333333333333,\"#9c179e\"],[0.4444444444444444,\"#bd3786\"],[0.5555555555555556,\"#d8576b\"],[0.6666666666666666,\"#ed7953\"],[0.7777777777777778,\"#fb9f3a\"],[0.8888888888888888,\"#fdca26\"],[1.0,\"#f0f921\"]],\"type\":\"contour\"}],\"contourcarpet\":[{\"colorbar\":{\"outlinewidth\":0,\"ticks\":\"\"},\"type\":\"contourcarpet\"}],\"heatmap\":[{\"colorbar\":{\"outlinewidth\":0,\"ticks\":\"\"},\"colorscale\":[[0.0,\"#0d0887\"],[0.1111111111111111,\"#46039f\"],[0.2222222222222222,\"#7201a8\"],[0.3333333333333333,\"#9c179e\"],[0.4444444444444444,\"#bd3786\"],[0.5555555555555556,\"#d8576b\"],[0.6666666666666666,\"#ed7953\"],[0.7777777777777778,\"#fb9f3a\"],[0.8888888888888888,\"#fdca26\"],[1.0,\"#f0f921\"]],\"type\":\"heatmap\"}],\"heatmapgl\":[{\"colorbar\":{\"outlinewidth\":0,\"ticks\":\"\"},\"colorscale\":[[0.0,\"#0d0887\"],[0.1111111111111111,\"#46039f\"],[0.2222222222222222,\"#7201a8\"],[0.3333333333333333,\"#9c179e\"],[0.4444444444444444,\"#bd3786\"],[0.5555555555555556,\"#d8576b\"],[0.6666666666666666,\"#ed7953\"],[0.7777777777777778,\"#fb9f3a\"],[0.8888888888888888,\"#fdca26\"],[1.0,\"#f0f921\"]],\"type\":\"heatmapgl\"}],\"histogram\":[{\"marker\":{\"pattern\":{\"fillmode\":\"overlay\",\"size\":10,\"solidity\":0.2}},\"type\":\"histogram\"}],\"histogram2d\":[{\"colorbar\":{\"outlinewidth\":0,\"ticks\":\"\"},\"colorscale\":[[0.0,\"#0d0887\"],[0.1111111111111111,\"#46039f\"],[0.2222222222222222,\"#7201a8\"],[0.3333333333333333,\"#9c179e\"],[0.4444444444444444,\"#bd3786\"],[0.5555555555555556,\"#d8576b\"],[0.6666666666666666,\"#ed7953\"],[0.7777777777777778,\"#fb9f3a\"],[0.8888888888888888,\"#fdca26\"],[1.0,\"#f0f921\"]],\"type\":\"histogram2d\"}],\"histogram2dcontour\":[{\"colorbar\":{\"outlinewidth\":0,\"ticks\":\"\"},\"colorscale\":[[0.0,\"#0d0887\"],[0.1111111111111111,\"#46039f\"],[0.2222222222222222,\"#7201a8\"],[0.3333333333333333,\"#9c179e\"],[0.4444444444444444,\"#bd3786\"],[0.5555555555555556,\"#d8576b\"],[0.6666666666666666,\"#ed7953\"],[0.7777777777777778,\"#fb9f3a\"],[0.8888888888888888,\"#fdca26\"],[1.0,\"#f0f921\"]],\"type\":\"histogram2dcontour\"}],\"mesh3d\":[{\"colorbar\":{\"outlinewidth\":0,\"ticks\":\"\"},\"type\":\"mesh3d\"}],\"parcoords\":[{\"line\":{\"colorbar\":{\"outlinewidth\":0,\"ticks\":\"\"}},\"type\":\"parcoords\"}],\"pie\":[{\"automargin\":true,\"type\":\"pie\"}],\"scatter\":[{\"fillpattern\":{\"fillmode\":\"overlay\",\"size\":10,\"solidity\":0.2},\"type\":\"scatter\"}],\"scatter3d\":[{\"line\":{\"colorbar\":{\"outlinewidth\":0,\"ticks\":\"\"}},\"marker\":{\"colorbar\":{\"outlinewidth\":0,\"ticks\":\"\"}},\"type\":\"scatter3d\"}],\"scattercarpet\":[{\"marker\":{\"colorbar\":{\"outlinewidth\":0,\"ticks\":\"\"}},\"type\":\"scattercarpet\"}],\"scattergeo\":[{\"marker\":{\"colorbar\":{\"outlinewidth\":0,\"ticks\":\"\"}},\"type\":\"scattergeo\"}],\"scattergl\":[{\"marker\":{\"colorbar\":{\"outlinewidth\":0,\"ticks\":\"\"}},\"type\":\"scattergl\"}],\"scattermapbox\":[{\"marker\":{\"colorbar\":{\"outlinewidth\":0,\"ticks\":\"\"}},\"type\":\"scattermapbox\"}],\"scatterpolar\":[{\"marker\":{\"colorbar\":{\"outlinewidth\":0,\"ticks\":\"\"}},\"type\":\"scatterpolar\"}],\"scatterpolargl\":[{\"marker\":{\"colorbar\":{\"outlinewidth\":0,\"ticks\":\"\"}},\"type\":\"scatterpolargl\"}],\"scatterternary\":[{\"marker\":{\"colorbar\":{\"outlinewidth\":0,\"ticks\":\"\"}},\"type\":\"scatterternary\"}],\"surface\":[{\"colorbar\":{\"outlinewidth\":0,\"ticks\":\"\"},\"colorscale\":[[0.0,\"#0d0887\"],[0.1111111111111111,\"#46039f\"],[0.2222222222222222,\"#7201a8\"],[0.3333333333333333,\"#9c179e\"],[0.4444444444444444,\"#bd3786\"],[0.5555555555555556,\"#d8576b\"],[0.6666666666666666,\"#ed7953\"],[0.7777777777777778,\"#fb9f3a\"],[0.8888888888888888,\"#fdca26\"],[1.0,\"#f0f921\"]],\"type\":\"surface\"}],\"table\":[{\"cells\":{\"fill\":{\"color\":\"#EBF0F8\"},\"line\":{\"color\":\"white\"}},\"header\":{\"fill\":{\"color\":\"#C8D4E3\"},\"line\":{\"color\":\"white\"}},\"type\":\"table\"}]},\"layout\":{\"annotationdefaults\":{\"arrowcolor\":\"#2a3f5f\",\"arrowhead\":0,\"arrowwidth\":1},\"autotypenumbers\":\"strict\",\"coloraxis\":{\"colorbar\":{\"outlinewidth\":0,\"ticks\":\"\"}},\"colorscale\":{\"diverging\":[[0,\"#8e0152\"],[0.1,\"#c51b7d\"],[0.2,\"#de77ae\"],[0.3,\"#f1b6da\"],[0.4,\"#fde0ef\"],[0.5,\"#f7f7f7\"],[0.6,\"#e6f5d0\"],[0.7,\"#b8e186\"],[0.8,\"#7fbc41\"],[0.9,\"#4d9221\"],[1,\"#276419\"]],\"sequential\":[[0.0,\"#0d0887\"],[0.1111111111111111,\"#46039f\"],[0.2222222222222222,\"#7201a8\"],[0.3333333333333333,\"#9c179e\"],[0.4444444444444444,\"#bd3786\"],[0.5555555555555556,\"#d8576b\"],[0.6666666666666666,\"#ed7953\"],[0.7777777777777778,\"#fb9f3a\"],[0.8888888888888888,\"#fdca26\"],[1.0,\"#f0f921\"]],\"sequentialminus\":[[0.0,\"#0d0887\"],[0.1111111111111111,\"#46039f\"],[0.2222222222222222,\"#7201a8\"],[0.3333333333333333,\"#9c179e\"],[0.4444444444444444,\"#bd3786\"],[0.5555555555555556,\"#d8576b\"],[0.6666666666666666,\"#ed7953\"],[0.7777777777777778,\"#fb9f3a\"],[0.8888888888888888,\"#fdca26\"],[1.0,\"#f0f921\"]]},\"colorway\":[\"#636efa\",\"#EF553B\",\"#00cc96\",\"#ab63fa\",\"#FFA15A\",\"#19d3f3\",\"#FF6692\",\"#B6E880\",\"#FF97FF\",\"#FECB52\"],\"font\":{\"color\":\"#2a3f5f\"},\"geo\":{\"bgcolor\":\"white\",\"lakecolor\":\"white\",\"landcolor\":\"#E5ECF6\",\"showlakes\":true,\"showland\":true,\"subunitcolor\":\"white\"},\"hoverlabel\":{\"align\":\"left\"},\"hovermode\":\"closest\",\"mapbox\":{\"style\":\"light\"},\"paper_bgcolor\":\"white\",\"plot_bgcolor\":\"#E5ECF6\",\"polar\":{\"angularaxis\":{\"gridcolor\":\"white\",\"linecolor\":\"white\",\"ticks\":\"\"},\"bgcolor\":\"#E5ECF6\",\"radialaxis\":{\"gridcolor\":\"white\",\"linecolor\":\"white\",\"ticks\":\"\"}},\"scene\":{\"xaxis\":{\"backgroundcolor\":\"#E5ECF6\",\"gridcolor\":\"white\",\"gridwidth\":2,\"linecolor\":\"white\",\"showbackground\":true,\"ticks\":\"\",\"zerolinecolor\":\"white\"},\"yaxis\":{\"backgroundcolor\":\"#E5ECF6\",\"gridcolor\":\"white\",\"gridwidth\":2,\"linecolor\":\"white\",\"showbackground\":true,\"ticks\":\"\",\"zerolinecolor\":\"white\"},\"zaxis\":{\"backgroundcolor\":\"#E5ECF6\",\"gridcolor\":\"white\",\"gridwidth\":2,\"linecolor\":\"white\",\"showbackground\":true,\"ticks\":\"\",\"zerolinecolor\":\"white\"}},\"shapedefaults\":{\"line\":{\"color\":\"#2a3f5f\"}},\"ternary\":{\"aaxis\":{\"gridcolor\":\"white\",\"linecolor\":\"white\",\"ticks\":\"\"},\"baxis\":{\"gridcolor\":\"white\",\"linecolor\":\"white\",\"ticks\":\"\"},\"bgcolor\":\"#E5ECF6\",\"caxis\":{\"gridcolor\":\"white\",\"linecolor\":\"white\",\"ticks\":\"\"}},\"title\":{\"x\":0.05},\"xaxis\":{\"automargin\":true,\"gridcolor\":\"white\",\"linecolor\":\"white\",\"ticks\":\"\",\"title\":{\"standoff\":15},\"zerolinecolor\":\"white\",\"zerolinewidth\":2},\"yaxis\":{\"automargin\":true,\"gridcolor\":\"white\",\"linecolor\":\"white\",\"ticks\":\"\",\"title\":{\"standoff\":15},\"zerolinecolor\":\"white\",\"zerolinewidth\":2}}},\"title\":{\"text\":\"Brownian motion\"},\"width\":800},\"margin\":[5,5,5,5],\"name\":\"ParamFunction00209\",\"viewport_update_throttle\":200},\"id\":\"1116\",\"type\":\"panel.models.plotly.PlotlyPlot\"},{\"attributes\":{\"css_classes\":[\"max_38_vwh\"],\"end\":3,\"margin\":[5,10,5,10],\"start\":1,\"title\":\"Numer of trajectories\",\"value\":1},\"id\":\"1096\",\"type\":\"Slider\"},{\"attributes\":{\"css_classes\":[\"markdown\"],\"margin\":[5,5,5,5],\"name\":\"Markdown00185\",\"text\":\"&lt;h3&gt;Calculate Metric:&lt;/h3&gt;\"},\"id\":\"1110\",\"type\":\"panel.models.markup.HTML\"},{\"attributes\":{\"background\":\"WhiteSmoke\",\"children\":[{\"id\":\"1092\"},{\"id\":\"1093\"}],\"margin\":[0,0,0,0],\"name\":\"Column00206\"},\"id\":\"1091\",\"type\":\"Column\"},{\"attributes\":{\"children\":[{\"id\":\"1089\"}],\"margin\":[0,0,0,0],\"name\":\"Column00193\"},\"id\":\"1088\",\"type\":\"Column\"},{\"attributes\":{\"css_classes\":[\"markdown\"],\"margin\":[5,5,5,5],\"name\":\"Markdown00207\",\"text\":\"&lt;h2&gt;Trajectories&lt;/h2&gt;\"},\"id\":\"1113\",\"type\":\"panel.models.markup.HTML\"},{\"attributes\":{\"children\":[{\"id\":\"1096\"},{\"id\":\"1097\"}],\"margin\":[0,0,0,0],\"name\":\"Column00117\"},\"id\":\"1095\",\"type\":\"Column\"},{\"attributes\":{\"children\":[{\"id\":\"1110\"},{\"id\":\"1111\"}],\"margin\":[0,0,0,0],\"name\":\"Column00187\"},\"id\":\"1109\",\"type\":\"Column\"},{\"attributes\":{\"margin\":[5,5,5,5],\"name\":\"Str00190\",\"text\":\"&lt;pre&gt; &lt;/pre&gt;\"},\"id\":\"1090\",\"type\":\"panel.models.markup.HTML\"},{\"attributes\":{\"children\":[{\"id\":\"1102\"},{\"id\":\"1103\"}],\"margin\":[0,0,0,0],\"name\":\"Row00108\"},\"id\":\"1101\",\"type\":\"Row\"},{\"attributes\":{\"data\":{\"x\":[[0,1,2,3,4,5,6,7,8,9,10,11,12,13,14,15,16,17,18,19,20,21,22,23,24,25,26,27,28,29,30,31,32,33,34,35,36,37,38,39,40,41,42,43,44,45,46,47,48,49,50,51,52,53,54,55,56,57,58,59,60,61,62,63,64,65,66,67,68,69,70,71,72,73,74,75,76,77,78,79,80,81,82,83,84,85,86,87,88,89,90,91,92,93,94,95,96,97,98,99,100,101,102,103,104,105,106,107,108,109,110,111,112,113,114,115,116,117,118,119,120,121,122,123,124,125,126,127,128,129,130,131,132,133,134,135,136,137,138,139,140,141,142,143,144,145,146,147,148,149,150,151,152,153,154,155,156,157,158,159,160,161,162,163,164,165,166,167,168,169,170,171,172,173,174,175,176,177,178,179,180,181,182,183,184,185,186,187,188,189,190,191,192,193,194,195,196,197,198,199,200,201,202,203,204,205,206,207,208,209,210,211,212,213,214,215,216,217,218,219,220,221,222,223,224,225,226,227,228,229,230,231,232,233,234,235,236,237,238,239,240,241,242,243,244,245,246,247,248,249,250,251,252,253,254,255,256,257,258,259,260,261,262,263,264,265,266,267,268,269,270,271,272,273,274,275,276,277,278,279,280,281,282,283,284,285,286,287,288,289,290,291,292,293,294,295,296,297,298,299,300,301,302,303,304,305,306,307,308,309,310,311,312,313,314,315,316,317,318,319,320,321,322,323,324,325,326,327,328,329,330,331,332,333,334,335,336,337,338,339,340,341,342,343,344,345,346,347,348,349,350,351,352,353,354,355,356,357,358,359,360,361,362,363,364,365,366,367,368,369,370,371,372,373,374,375,376,377,378,379,380,381,382,383,384,385,386,387,388,389,390,391,392,393,394,395,396,397,398,399,400,401,402,403,404,405,406,407,408,409,410,411,412,413,414,415,416,417,418,419,420,421,422,423,424,425,426,427,428,429,430,431,432,433,434,435,436,437,438,439,440,441,442,443,444,445,446,447,448,449,450,451,452,453,454,455,456,457,458,459,460,461,462,463,464,465,466,467,468,469,470,471,472,473,474,475,476,477,478,479,480,481,482,483,484,485,486,487,488,489,490,491,492,493,494,495,496,497,498,499,500,501,502,503,504,505,506,507,508,509,510,511,512,513,514,515,516,517,518,519,520,521,522,523,524,525,526,527,528,529,530,531,532,533,534,535,536,537,538,539,540,541,542,543,544,545,546,547,548,549,550,551,552,553,554,555,556,557,558,559,560,561,562,563,564,565,566,567,568,569,570,571,572,573,574,575,576,577,578,579,580,581,582,583,584,585,586,587,588,589,590,591,592,593,594,595,596,597,598,599,600,601,602,603,604,605,606,607,608,609,610,611,612,613,614,615,616,617,618,619,620,621,622,623,624,625,626,627,628,629,630,631,632,633,634,635,636,637,638,639,640,641,642,643,644,645,646,647,648,649,650,651,652,653,654,655,656,657,658,659,660,661,662,663,664,665,666,667,668,669,670,671,672,673,674,675,676,677,678,679,680,681,682,683,684,685,686,687,688,689,690,691,692,693,694,695,696,697,698,699,700,701,702,703,704,705,706,707,708,709,710,711,712,713,714,715,716,717,718,719,720,721,722,723,724,725,726,727,728,729,730,731,732,733,734,735,736,737,738,739,740,741,742,743,744,745,746,747,748,749,750,751,752,753,754,755,756,757,758,759,760,761,762,763,764,765,766,767,768,769,770,771,772,773,774,775,776,777,778,779,780,781,782,783,784,785,786,787,788,789,790,791,792,793,794,795,796,797,798,799,800,801,802,803,804,805,806,807,808,809,810,811,812,813,814,815,816,817,818,819,820,821,822,823,824,825,826,827,828,829,830,831,832,833,834,835,836,837,838,839,840,841,842,843,844,845,846,847,848,849,850,851,852,853,854,855,856,857,858,859,860,861,862,863,864,865,866,867,868,869,870,871,872,873,874,875,876,877,878,879,880,881,882,883,884,885,886,887,888,889,890,891,892,893,894,895,896,897,898,899,900,901,902,903,904,905,906,907,908,909,910,911,912,913,914,915,916,917,918,919,920,921,922,923,924,925,926,927,928,929,930,931,932,933,934,935,936,937,938,939,940,941,942,943,944,945,946,947,948,949,950,951,952,953,954,955,956,957,958,959,960,961,962,963,964,965,966,967,968,969,970,971,972,973,974,975,976,977,978,979,980,981,982,983,984,985,986,987,988,989,990,991,992,993,994,995,996,997,998]],\"y\":[{\"__ndarray__\":\"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\",\"dtype\":\"float64\",\"order\":\"little\",\"shape\":[999]}]},\"selected\":{\"id\":\"1125\"},\"selection_policy\":{\"id\":\"1124\"}},\"id\":\"1120\",\"type\":\"ColumnDataSource\"},{\"attributes\":{\"css_classes\":[\"markdown\"],\"margin\":[5,5,5,5],\"name\":\"Markdown00202\",\"text\":\"&lt;h4&gt;Brownian Motion Type&lt;/h4&gt;\"},\"id\":\"1107\",\"type\":\"panel.models.markup.HTML\"},{\"attributes\":{\"active\":0,\"button_type\":\"primary\",\"labels\":[\"Brownian motion\",\"Correlated Random Walk\",\"Levy Flight\"],\"margin\":[15,0,0,5]},\"id\":\"1092\",\"type\":\"RadioButtonGroup\"},{\"attributes\":{\"children\":[{\"id\":\"1121\"}],\"margin\":[0,0,0,0],\"name\":\"Row00223\"},\"id\":\"1119\",\"type\":\"Row\"},{\"attributes\":{\"high\":10,\"low\":1,\"margin\":[5,10,5,10],\"min_width\":100,\"mode\":\"int\",\"placeholder\":\"0\",\"title\":\"Speed\",\"value\":6,\"value_throttled\":6,\"width\":100},\"id\":\"1105\",\"type\":\"Spinner\"},{\"attributes\":{},\"id\":\"1122\",\"type\":\"UnionRenderers\"},{\"attributes\":{},\"id\":\"1124\",\"type\":\"UnionRenderers\"},{\"attributes\":{\"css_classes\":[\"markdown\"],\"margin\":[5,5,5,5],\"name\":\"Markdown00112\",\"text\":\"&lt;h6&gt;all trajectories will be set with same general satrting parameters&lt;/h6&gt;\"},\"id\":\"1100\",\"type\":\"panel.models.markup.HTML\"},{\"attributes\":{\"high\":100,\"low\":-100,\"margin\":[5,10,5,10],\"min_width\":100,\"mode\":\"int\",\"placeholder\":\"0\",\"title\":\"X Starting position\",\"value\":0,\"value_throttled\":0,\"width\":100},\"id\":\"1102\",\"type\":\"Spinner\"},{\"attributes\":{\"children\":[{\"id\":\"1113\"},{\"id\":\"1114\"}],\"margin\":[0,0,0,0],\"name\":\"Column00216\"},\"id\":\"1112\",\"type\":\"Column\"},{\"attributes\":{},\"id\":\"1123\",\"type\":\"Selection\"},{\"attributes\":{\"children\":[{\"id\":\"1116\"}],\"margin\":[0,0,0,0],\"name\":\"Row00213\"},\"id\":\"1114\",\"type\":\"Row\"},{\"attributes\":{\"high\":100,\"low\":-100,\"margin\":[5,10,5,10],\"min_width\":100,\"mode\":\"int\",\"placeholder\":\"0\",\"title\":\"Y Starting position\",\"value\":0,\"value_throttled\":0,\"width\":100},\"id\":\"1103\",\"type\":\"Spinner\"},{\"attributes\":{\"data\":{\"x\":[{\"__ndarray__\":\"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\",\"dtype\":\"float64\",\"order\":\"little\",\"shape\":[1000]}],\"y\":[{\"__ndarray__\":\"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\",\"dtype\":\"float64\",\"order\":\"little\",\"shape\":[1000]}],\"z\":[[0,1,2,3,4,5,6,7,8,9,10,11,12,13,14,15,16,17,18,19,20,21,22,23,24,25,26,27,28,29,30,31,32,33,34,35,36,37,38,39,40,41,42,43,44,45,46,47,48,49,50,51,52,53,54,55,56,57,58,59,60,61,62,63,64,65,66,67,68,69,70,71,72,73,74,75,76,77,78,79,80,81,82,83,84,85,86,87,88,89,90,91,92,93,94,95,96,97,98,99,100,101,102,103,104,105,106,107,108,109,110,111,112,113,114,115,116,117,118,119,120,121,122,123,124,125,126,127,128,129,130,131,132,133,134,135,136,137,138,139,140,141,142,143,144,145,146,147,148,149,150,151,152,153,154,155,156,157,158,159,160,161,162,163,164,165,166,167,168,169,170,171,172,173,174,175,176,177,178,179,180,181,182,183,184,185,186,187,188,189,190,191,192,193,194,195,196,197,198,199,200,201,202,203,204,205,206,207,208,209,210,211,212,213,214,215,216,217,218,219,220,221,222,223,224,225,226,227,228,229,230,231,232,233,234,235,236,237,238,239,240,241,242,243,244,245,246,247,248,249,250,251,252,253,254,255,256,257,258,259,260,261,262,263,264,265,266,267,268,269,270,271,272,273,274,275,276,277,278,279,280,281,282,283,284,285,286,287,288,289,290,291,292,293,294,295,296,297,298,299,300,301,302,303,304,305,306,307,308,309,310,311,312,313,314,315,316,317,318,319,320,321,322,323,324,325,326,327,328,329,330,331,332,333,334,335,336,337,338,339,340,341,342,343,344,345,346,347,348,349,350,351,352,353,354,355,356,357,358,359,360,361,362,363,364,365,366,367,368,369,370,371,372,373,374,375,376,377,378,379,380,381,382,383,384,385,386,387,388,389,390,391,392,393,394,395,396,397,398,399,400,401,402,403,404,405,406,407,408,409,410,411,412,413,414,415,416,417,418,419,420,421,422,423,424,425,426,427,428,429,430,431,432,433,434,435,436,437,438,439,440,441,442,443,444,445,446,447,448,449,450,451,452,453,454,455,456,457,458,459,460,461,462,463,464,465,466,467,468,469,470,471,472,473,474,475,476,477,478,479,480,481,482,483,484,485,486,487,488,489,490,491,492,493,494,495,496,497,498,499,500,501,502,503,504,505,506,507,508,509,510,511,512,513,514,515,516,517,518,519,520,521,522,523,524,525,526,527,528,529,530,531,532,533,534,535,536,537,538,539,540,541,542,543,544,545,546,547,548,549,550,551,552,553,554,555,556,557,558,559,560,561,562,563,564,565,566,567,568,569,570,571,572,573,574,575,576,577,578,579,580,581,582,583,584,585,586,587,588,589,590,591,592,593,594,595,596,597,598,599,600,601,602,603,604,605,606,607,608,609,610,611,612,613,614,615,616,617,618,619,620,621,622,623,624,625,626,627,628,629,630,631,632,633,634,635,636,637,638,639,640,641,642,643,644,645,646,647,648,649,650,651,652,653,654,655,656,657,658,659,660,661,662,663,664,665,666,667,668,669,670,671,672,673,674,675,676,677,678,679,680,681,682,683,684,685,686,687,688,689,690,691,692,693,694,695,696,697,698,699,700,701,702,703,704,705,706,707,708,709,710,711,712,713,714,715,716,717,718,719,720,721,722,723,724,725,726,727,728,729,730,731,732,733,734,735,736,737,738,739,740,741,742,743,744,745,746,747,748,749,750,751,752,753,754,755,756,757,758,759,760,761,762,763,764,765,766,767,768,769,770,771,772,773,774,775,776,777,778,779,780,781,782,783,784,785,786,787,788,789,790,791,792,793,794,795,796,797,798,799,800,801,802,803,804,805,806,807,808,809,810,811,812,813,814,815,816,817,818,819,820,821,822,823,824,825,826,827,828,829,830,831,832,833,834,835,836,837,838,839,840,841,842,843,844,845,846,847,848,849,850,851,852,853,854,855,856,857,858,859,860,861,862,863,864,865,866,867,868,869,870,871,872,873,874,875,876,877,878,879,880,881,882,883,884,885,886,887,888,889,890,891,892,893,894,895,896,897,898,899,900,901,902,903,904,905,906,907,908,909,910,911,912,913,914,915,916,917,918,919,920,921,922,923,924,925,926,927,928,929,930,931,932,933,934,935,936,937,938,939,940,941,942,943,944,945,946,947,948,949,950,951,952,953,954,955,956,957,958,959,960,961,962,963,964,965,966,967,968,969,970,971,972,973,974,975,976,977,978,979,980,981,982,983,984,985,986,987,988,989,990,991,992,993,994,995,996,997,998,999]]},\"selected\":{\"id\":\"1123\"},\"selection_policy\":{\"id\":\"1122\"}},\"id\":\"1115\",\"type\":\"ColumnDataSource\"},{\"attributes\":{\"css_classes\":[\"markdown\"],\"margin\":[5,5,5,5],\"name\":\"Markdown00217\",\"text\":\"&lt;h2&gt;Metrics&lt;/h2&gt;\"},\"id\":\"1118\",\"type\":\"panel.models.markup.HTML\"},{\"attributes\":{\"client_comm_id\":\"cbdebe4bbb2d4931a20b64bfa10c3f72\",\"comm_id\":\"5b13fdef464c41db855bf862c3730242\",\"plot_id\":\"1087\"},\"id\":\"1134\",\"type\":\"panel.models.comm_manager.CommManager\"},{\"attributes\":{\"css_classes\":[\"markdown\"],\"margin\":[5,5,5,5],\"name\":\"Markdown00115\",\"text\":\"&lt;h6&gt;Max 3 trayectories&lt;/h6&gt;\"},\"id\":\"1097\",\"type\":\"panel.models.markup.HTML\"},{\"attributes\":{\"children\":[{\"id\":\"1099\"},{\"id\":\"1100\"},{\"id\":\"1101\"},{\"id\":\"1104\"}],\"margin\":[0,0,0,0],\"name\":\"Column00114\"},\"id\":\"1098\",\"type\":\"Column\"},{\"attributes\":{\"children\":[{\"id\":\"1118\"},{\"id\":\"1119\"}],\"margin\":[0,0,0,0],\"name\":\"Column00226\"},\"id\":\"1117\",\"type\":\"Column\"}],\"root_ids\":[\"1087\",\"1134\"]},\"title\":\"Bokeh Application\",\"version\":\"2.4.3\"}};\n",
       "    var render_items = [{\"docid\":\"a256bed2-438e-425b-aa13-228387312f70\",\"root_ids\":[\"1087\"],\"roots\":{\"1087\":\"817a04ff-2240-47b2-bd6f-e5e60bb6047d\"}}];\n",
       "    root.Bokeh.embed.embed_items_notebook(docs_json, render_items);\n",
       "  }\n",
       "  if (root.Bokeh !== undefined && root.Bokeh.Panel !== undefined && ( root['Plotly'] !== undefined)) {\n",
       "    embed_document(root);\n",
       "  } else {\n",
       "    var attempts = 0;\n",
       "    var timer = setInterval(function(root) {\n",
       "      if (root.Bokeh !== undefined && root.Bokeh.Panel !== undefined && (root['Plotly'] !== undefined)) {\n",
       "        clearInterval(timer);\n",
       "        embed_document(root);\n",
       "      } else if (document.readyState == \"complete\") {\n",
       "        attempts++;\n",
       "        if (attempts > 200) {\n",
       "          clearInterval(timer);\n",
       "          console.log(\"Bokeh: ERROR: Unable to run BokehJS code because BokehJS library is missing\");\n",
       "        }\n",
       "      }\n",
       "    }, 25, root)\n",
       "  }\n",
       "})(window);</script>"
      ],
      "text/plain": [
       "Row\n",
       "    [0] Column\n",
       "        [0] ParamFunction(function)\n",
       "    [1] Column(background='WhiteSmoke')\n",
       "        [0] RadioButtonGroup(button_type='primary', margin=(15, 0, 0, 5), name='Trajectory type', options=['Brownian motion', ...], value='Brownian motion')\n",
       "        [1] ParamFunction(function)\n",
       "    [2] Column\n",
       "        [0] Markdown(str)\n",
       "        [1] ParamFunction(function)\n",
       "    [3] Column\n",
       "        [0] Markdown(str)\n",
       "        [1] ParamFunction(function)"
      ]
     },
     "execution_count": 41,
     "metadata": {
      "application/vnd.holoviews_exec.v0+json": {
       "id": "1087"
      }
     },
     "output_type": "execute_result"
    },
    {
     "name": "stdout",
     "output_type": "stream",
     "text": [
      "time: 172 ms (started: 2022-09-24 05:07:11 -05:00)\n"
     ]
    }
   ],
   "source": [
    "pn.Row(\n",
    "    pn.Column(set_traj_data),\n",
    "    pn.Column(traj_type, display_controls, background = \"WhiteSmoke\"),  \n",
    "    pn.Column('## Trajectories',show_traj_plot),\n",
    "    pn.Column('## Metrics', show_met_plot))"
   ]
  },
  {
   "cell_type": "code",
   "execution_count": 34,
   "id": "af7ea58c",
   "metadata": {},
   "outputs": [
    {
     "data": {
      "text/html": [
       "<div>\n",
       "<style scoped>\n",
       "    .dataframe tbody tr th:only-of-type {\n",
       "        vertical-align: middle;\n",
       "    }\n",
       "\n",
       "    .dataframe tbody tr th {\n",
       "        vertical-align: top;\n",
       "    }\n",
       "\n",
       "    .dataframe thead th {\n",
       "        text-align: right;\n",
       "    }\n",
       "</style>\n",
       "<table border=\"1\" class=\"dataframe\">\n",
       "  <thead>\n",
       "    <tr style=\"text-align: right;\">\n",
       "      <th></th>\n",
       "      <th>x</th>\n",
       "      <th>y</th>\n",
       "      <th>traj</th>\n",
       "    </tr>\n",
       "  </thead>\n",
       "  <tbody>\n",
       "    <tr>\n",
       "      <th>0</th>\n",
       "      <td>0.000000</td>\n",
       "      <td>0.000000</td>\n",
       "      <td>0.0</td>\n",
       "    </tr>\n",
       "    <tr>\n",
       "      <th>1</th>\n",
       "      <td>-4.408336</td>\n",
       "      <td>-4.070206</td>\n",
       "      <td>0.0</td>\n",
       "    </tr>\n",
       "    <tr>\n",
       "      <th>2</th>\n",
       "      <td>-3.700807</td>\n",
       "      <td>1.887932</td>\n",
       "      <td>0.0</td>\n",
       "    </tr>\n",
       "    <tr>\n",
       "      <th>3</th>\n",
       "      <td>-0.889992</td>\n",
       "      <td>-3.412948</td>\n",
       "      <td>0.0</td>\n",
       "    </tr>\n",
       "    <tr>\n",
       "      <th>4</th>\n",
       "      <td>-6.614419</td>\n",
       "      <td>-5.210430</td>\n",
       "      <td>0.0</td>\n",
       "    </tr>\n",
       "    <tr>\n",
       "      <th>...</th>\n",
       "      <td>...</td>\n",
       "      <td>...</td>\n",
       "      <td>...</td>\n",
       "    </tr>\n",
       "    <tr>\n",
       "      <th>995</th>\n",
       "      <td>2.752852</td>\n",
       "      <td>-43.209361</td>\n",
       "      <td>0.0</td>\n",
       "    </tr>\n",
       "    <tr>\n",
       "      <th>996</th>\n",
       "      <td>3.928273</td>\n",
       "      <td>-49.093100</td>\n",
       "      <td>0.0</td>\n",
       "    </tr>\n",
       "    <tr>\n",
       "      <th>997</th>\n",
       "      <td>7.148694</td>\n",
       "      <td>-54.155598</td>\n",
       "      <td>0.0</td>\n",
       "    </tr>\n",
       "    <tr>\n",
       "      <th>998</th>\n",
       "      <td>1.578225</td>\n",
       "      <td>-56.384920</td>\n",
       "      <td>0.0</td>\n",
       "    </tr>\n",
       "    <tr>\n",
       "      <th>999</th>\n",
       "      <td>3.575544</td>\n",
       "      <td>-62.042722</td>\n",
       "      <td>0.0</td>\n",
       "    </tr>\n",
       "  </tbody>\n",
       "</table>\n",
       "<p>1000 rows × 3 columns</p>\n",
       "</div>"
      ],
      "text/plain": [
       "            x          y  traj\n",
       "0    0.000000   0.000000   0.0\n",
       "1   -4.408336  -4.070206   0.0\n",
       "2   -3.700807   1.887932   0.0\n",
       "3   -0.889992  -3.412948   0.0\n",
       "4   -6.614419  -5.210430   0.0\n",
       "..        ...        ...   ...\n",
       "995  2.752852 -43.209361   0.0\n",
       "996  3.928273 -49.093100   0.0\n",
       "997  7.148694 -54.155598   0.0\n",
       "998  1.578225 -56.384920   0.0\n",
       "999  3.575544 -62.042722   0.0\n",
       "\n",
       "[1000 rows x 3 columns]"
      ]
     },
     "execution_count": 34,
     "metadata": {},
     "output_type": "execute_result"
    },
    {
     "name": "stdout",
     "output_type": "stream",
     "text": [
      "time: 16 ms (started: 2022-09-24 05:06:13 -05:00)\n"
     ]
    }
   ],
   "source": [
    "g_dash_data"
   ]
  },
  {
   "cell_type": "code",
   "execution_count": null,
   "id": "542b0e9e",
   "metadata": {},
   "outputs": [],
   "source": []
  }
 ],
 "metadata": {
  "kernelspec": {
   "display_name": "tti_venv",
   "language": "python",
   "name": "tti_venv"
  },
  "language_info": {
   "codemirror_mode": {
    "name": "ipython",
    "version": 3
   },
   "file_extension": ".py",
   "mimetype": "text/x-python",
   "name": "python",
   "nbconvert_exporter": "python",
   "pygments_lexer": "ipython3",
   "version": "3.10.6"
  }
 },
 "nbformat": 4,
 "nbformat_minor": 5
}
