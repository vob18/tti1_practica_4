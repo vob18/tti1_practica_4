{
 "cells": [
  {
   "cell_type": "code",
   "execution_count": 1,
   "id": "79e1eee6",
   "metadata": {},
   "outputs": [
    {
     "name": "stdout",
     "output_type": "stream",
     "text": [
      "time: 0 ns (started: 2022-09-24 18:35:33 -05:00)\n"
     ]
    }
   ],
   "source": [
    "%load_ext autotime"
   ]
  },
  {
   "cell_type": "markdown",
   "id": "4aeb8fa0",
   "metadata": {},
   "source": [
    "# MODULES"
   ]
  },
  {
   "cell_type": "code",
   "execution_count": 2,
   "id": "adec8a3c",
   "metadata": {},
   "outputs": [
    {
     "data": {
      "application/javascript": [
       "(function(root) {\n",
       "  function now() {\n",
       "    return new Date();\n",
       "  }\n",
       "\n",
       "  var force = true;\n",
       "\n",
       "  if (typeof root._bokeh_onload_callbacks === \"undefined\" || force === true) {\n",
       "    root._bokeh_onload_callbacks = [];\n",
       "    root._bokeh_is_loading = undefined;\n",
       "  }\n",
       "\n",
       "  if (typeof (root._bokeh_timeout) === \"undefined\" || force === true) {\n",
       "    root._bokeh_timeout = Date.now() + 5000;\n",
       "    root._bokeh_failed_load = false;\n",
       "  }\n",
       "\n",
       "  function run_callbacks() {\n",
       "    try {\n",
       "      root._bokeh_onload_callbacks.forEach(function(callback) {\n",
       "        if (callback != null)\n",
       "          callback();\n",
       "      });\n",
       "    } finally {\n",
       "      delete root._bokeh_onload_callbacks\n",
       "    }\n",
       "    console.debug(\"Bokeh: all callbacks have finished\");\n",
       "  }\n",
       "\n",
       "  function load_libs(css_urls, js_urls, js_modules, callback) {\n",
       "    if (css_urls == null) css_urls = [];\n",
       "    if (js_urls == null) js_urls = [];\n",
       "    if (js_modules == null) js_modules = [];\n",
       "\n",
       "    root._bokeh_onload_callbacks.push(callback);\n",
       "    if (root._bokeh_is_loading > 0) {\n",
       "      console.debug(\"Bokeh: BokehJS is being loaded, scheduling callback at\", now());\n",
       "      return null;\n",
       "    }\n",
       "    if (js_urls.length === 0 && js_modules.length === 0) {\n",
       "      run_callbacks();\n",
       "      return null;\n",
       "    }\n",
       "    console.debug(\"Bokeh: BokehJS not loaded, scheduling load and callback at\", now());\n",
       "\n",
       "    function on_load() {\n",
       "      root._bokeh_is_loading--;\n",
       "      if (root._bokeh_is_loading === 0) {\n",
       "        console.debug(\"Bokeh: all BokehJS libraries/stylesheets loaded\");\n",
       "        run_callbacks()\n",
       "      }\n",
       "    }\n",
       "\n",
       "    function on_error() {\n",
       "      console.error(\"failed to load \" + url);\n",
       "    }\n",
       "\n",
       "    for (var i = 0; i < css_urls.length; i++) {\n",
       "      var url = css_urls[i];\n",
       "      const element = document.createElement(\"link\");\n",
       "      element.onload = on_load;\n",
       "      element.onerror = on_error;\n",
       "      element.rel = \"stylesheet\";\n",
       "      element.type = \"text/css\";\n",
       "      element.href = url;\n",
       "      console.debug(\"Bokeh: injecting link tag for BokehJS stylesheet: \", url);\n",
       "      document.body.appendChild(element);\n",
       "    }\n",
       "\n",
       "    var skip = [];\n",
       "    if (window.requirejs) {\n",
       "      window.requirejs.config({'packages': {}, 'paths': {'plotly': 'https://cdn.plot.ly/plotly-2.10.1.min', 'gridstack': 'https://cdn.jsdelivr.net/npm/gridstack@4.2.5/dist/gridstack-h5', 'notyf': 'https://cdn.jsdelivr.net/npm/notyf@3/notyf.min'}, 'shim': {'gridstack': {'exports': 'GridStack'}}});\n",
       "      require([\"plotly\"], function(Plotly) {\n",
       "\twindow.Plotly = Plotly\n",
       "\ton_load()\n",
       "      })\n",
       "      require([\"gridstack\"], function(GridStack) {\n",
       "\twindow.GridStack = GridStack\n",
       "\ton_load()\n",
       "      })\n",
       "      require([\"notyf\"], function() {\n",
       "\ton_load()\n",
       "      })\n",
       "      root._bokeh_is_loading = css_urls.length + 3;\n",
       "    } else {\n",
       "      root._bokeh_is_loading = css_urls.length + js_urls.length + js_modules.length;\n",
       "    }    if (((window['Plotly'] !== undefined) && (!(window['Plotly'] instanceof HTMLElement))) || window.requirejs) {\n",
       "      var urls = ['https://cdn.plot.ly/plotly-2.10.1.min.js'];\n",
       "      for (var i = 0; i < urls.length; i++) {\n",
       "        skip.push(urls[i])\n",
       "      }\n",
       "    }    if (((window['GridStack'] !== undefined) && (!(window['GridStack'] instanceof HTMLElement))) || window.requirejs) {\n",
       "      var urls = ['https://cdn.jsdelivr.net/npm/gridstack@4.2.5/dist/gridstack-h5.js'];\n",
       "      for (var i = 0; i < urls.length; i++) {\n",
       "        skip.push(urls[i])\n",
       "      }\n",
       "    }    if (((window['Notyf'] !== undefined) && (!(window['Notyf'] instanceof HTMLElement))) || window.requirejs) {\n",
       "      var urls = ['https://cdn.jsdelivr.net/npm/notyf@3/notyf.min.js'];\n",
       "      for (var i = 0; i < urls.length; i++) {\n",
       "        skip.push(urls[i])\n",
       "      }\n",
       "    }    for (var i = 0; i < js_urls.length; i++) {\n",
       "      var url = js_urls[i];\n",
       "      if (skip.indexOf(url) >= 0) {\n",
       "\tif (!window.requirejs) {\n",
       "\t  on_load();\n",
       "\t}\n",
       "\tcontinue;\n",
       "      }\n",
       "      var element = document.createElement('script');\n",
       "      element.onload = on_load;\n",
       "      element.onerror = on_error;\n",
       "      element.async = false;\n",
       "      element.src = url;\n",
       "      console.debug(\"Bokeh: injecting script tag for BokehJS library: \", url);\n",
       "      document.head.appendChild(element);\n",
       "    }\n",
       "    for (var i = 0; i < js_modules.length; i++) {\n",
       "      var url = js_modules[i];\n",
       "      if (skip.indexOf(url) >= 0) {\n",
       "\tif (!window.requirejs) {\n",
       "\t  on_load();\n",
       "\t}\n",
       "\tcontinue;\n",
       "      }\n",
       "      var element = document.createElement('script');\n",
       "      element.onload = on_load;\n",
       "      element.onerror = on_error;\n",
       "      element.async = false;\n",
       "      element.src = url;\n",
       "      element.type = \"module\";\n",
       "      console.debug(\"Bokeh: injecting script tag for BokehJS library: \", url);\n",
       "      document.head.appendChild(element);\n",
       "    }\n",
       "    if (!js_urls.length && !js_modules.length) {\n",
       "      on_load()\n",
       "    }\n",
       "  };\n",
       "\n",
       "  function inject_raw_css(css) {\n",
       "    const element = document.createElement(\"style\");\n",
       "    element.appendChild(document.createTextNode(css));\n",
       "    document.body.appendChild(element);\n",
       "  }\n",
       "\n",
       "  var js_urls = [\"https://cdn.jsdelivr.net/npm/jquery@3.5.1/dist/jquery.slim.min.js\", \"https://cdn.plot.ly/plotly-2.10.1.min.js\", \"https://cdn.bokeh.org/bokeh/release/bokeh-2.4.3.min.js\", \"https://cdn.bokeh.org/bokeh/release/bokeh-gl-2.4.3.min.js\", \"https://cdn.bokeh.org/bokeh/release/bokeh-widgets-2.4.3.min.js\", \"https://cdn.bokeh.org/bokeh/release/bokeh-tables-2.4.3.min.js\", \"https://cdn.bokeh.org/bokeh/release/bokeh-mathjax-2.4.3.min.js\", \"https://cdn.jsdelivr.net/npm/notyf@3/notyf.min.js\", \"https://unpkg.com/@holoviz/panel@0.13.1/dist/panel.min.js\"];\n",
       "  var js_modules = [];\n",
       "  var css_urls = [\"https://cdn.jsdelivr.net/npm/notyf@3/notyf.min.css\", \"https://cdnjs.cloudflare.com/ajax/libs/font-awesome/5.15.1/css/all.min.css\", \"https://unpkg.com/@holoviz/panel@0.13.1/dist/css/alerts.css\", \"https://unpkg.com/@holoviz/panel@0.13.1/dist/css/card.css\", \"https://unpkg.com/@holoviz/panel@0.13.1/dist/css/dataframe.css\", \"https://unpkg.com/@holoviz/panel@0.13.1/dist/css/debugger.css\", \"https://unpkg.com/@holoviz/panel@0.13.1/dist/css/json.css\", \"https://unpkg.com/@holoviz/panel@0.13.1/dist/css/loading.css\", \"https://unpkg.com/@holoviz/panel@0.13.1/dist/css/markdown.css\", \"https://unpkg.com/@holoviz/panel@0.13.1/dist/css/widgets.css\"];\n",
       "  var inline_js = [    function(Bokeh) {\n",
       "      inject_raw_css(\"\\n    .bk.pn-loading.arcs:before {\\n      background-image: url(\\\"data:image/svg+xml;base64,PHN2ZyB4bWxucz0iaHR0cDovL3d3dy53My5vcmcvMjAwMC9zdmciIHhtbG5zOnhsaW5rPSJodHRwOi8vd3d3LnczLm9yZy8xOTk5L3hsaW5rIiBzdHlsZT0ibWFyZ2luOiBhdXRvOyBiYWNrZ3JvdW5kOiBub25lOyBkaXNwbGF5OiBibG9jazsgc2hhcGUtcmVuZGVyaW5nOiBhdXRvOyIgdmlld0JveD0iMCAwIDEwMCAxMDAiIHByZXNlcnZlQXNwZWN0UmF0aW89InhNaWRZTWlkIj4gIDxjaXJjbGUgY3g9IjUwIiBjeT0iNTAiIHI9IjMyIiBzdHJva2Utd2lkdGg9IjgiIHN0cm9rZT0iI2MzYzNjMyIgc3Ryb2tlLWRhc2hhcnJheT0iNTAuMjY1NDgyNDU3NDM2NjkgNTAuMjY1NDgyNDU3NDM2NjkiIGZpbGw9Im5vbmUiIHN0cm9rZS1saW5lY2FwPSJyb3VuZCI+ICAgIDxhbmltYXRlVHJhbnNmb3JtIGF0dHJpYnV0ZU5hbWU9InRyYW5zZm9ybSIgdHlwZT0icm90YXRlIiByZXBlYXRDb3VudD0iaW5kZWZpbml0ZSIgZHVyPSIxcyIga2V5VGltZXM9IjA7MSIgdmFsdWVzPSIwIDUwIDUwOzM2MCA1MCA1MCI+PC9hbmltYXRlVHJhbnNmb3JtPiAgPC9jaXJjbGU+PC9zdmc+\\\");\\n      background-size: auto calc(min(50%, 400px));\\n    }\\n    \");\n",
       "    },    function(Bokeh) {\n",
       "      Bokeh.set_log_level(\"info\");\n",
       "    },\n",
       "function(Bokeh) {} // ensure no trailing comma for IE\n",
       "  ];\n",
       "\n",
       "  function run_inline_js() {\n",
       "    if ((root.Bokeh !== undefined) || (force === true)) {\n",
       "      for (var i = 0; i < inline_js.length; i++) {\n",
       "        inline_js[i].call(root, root.Bokeh);\n",
       "      }} else if (Date.now() < root._bokeh_timeout) {\n",
       "      setTimeout(run_inline_js, 100);\n",
       "    } else if (!root._bokeh_failed_load) {\n",
       "      console.log(\"Bokeh: BokehJS failed to load within specified timeout.\");\n",
       "      root._bokeh_failed_load = true;\n",
       "    }\n",
       "  }\n",
       "\n",
       "  if (root._bokeh_is_loading === 0) {\n",
       "    console.debug(\"Bokeh: BokehJS loaded, going straight to plotting\");\n",
       "    run_inline_js();\n",
       "  } else {\n",
       "    load_libs(css_urls, js_urls, js_modules, function() {\n",
       "      console.debug(\"Bokeh: BokehJS plotting callback run at\", now());\n",
       "      run_inline_js();\n",
       "    });\n",
       "  }\n",
       "}(window));"
      ],
      "application/vnd.holoviews_load.v0+json": "(function(root) {\n  function now() {\n    return new Date();\n  }\n\n  var force = true;\n\n  if (typeof root._bokeh_onload_callbacks === \"undefined\" || force === true) {\n    root._bokeh_onload_callbacks = [];\n    root._bokeh_is_loading = undefined;\n  }\n\n  if (typeof (root._bokeh_timeout) === \"undefined\" || force === true) {\n    root._bokeh_timeout = Date.now() + 5000;\n    root._bokeh_failed_load = false;\n  }\n\n  function run_callbacks() {\n    try {\n      root._bokeh_onload_callbacks.forEach(function(callback) {\n        if (callback != null)\n          callback();\n      });\n    } finally {\n      delete root._bokeh_onload_callbacks\n    }\n    console.debug(\"Bokeh: all callbacks have finished\");\n  }\n\n  function load_libs(css_urls, js_urls, js_modules, callback) {\n    if (css_urls == null) css_urls = [];\n    if (js_urls == null) js_urls = [];\n    if (js_modules == null) js_modules = [];\n\n    root._bokeh_onload_callbacks.push(callback);\n    if (root._bokeh_is_loading > 0) {\n      console.debug(\"Bokeh: BokehJS is being loaded, scheduling callback at\", now());\n      return null;\n    }\n    if (js_urls.length === 0 && js_modules.length === 0) {\n      run_callbacks();\n      return null;\n    }\n    console.debug(\"Bokeh: BokehJS not loaded, scheduling load and callback at\", now());\n\n    function on_load() {\n      root._bokeh_is_loading--;\n      if (root._bokeh_is_loading === 0) {\n        console.debug(\"Bokeh: all BokehJS libraries/stylesheets loaded\");\n        run_callbacks()\n      }\n    }\n\n    function on_error() {\n      console.error(\"failed to load \" + url);\n    }\n\n    for (var i = 0; i < css_urls.length; i++) {\n      var url = css_urls[i];\n      const element = document.createElement(\"link\");\n      element.onload = on_load;\n      element.onerror = on_error;\n      element.rel = \"stylesheet\";\n      element.type = \"text/css\";\n      element.href = url;\n      console.debug(\"Bokeh: injecting link tag for BokehJS stylesheet: \", url);\n      document.body.appendChild(element);\n    }\n\n    var skip = [];\n    if (window.requirejs) {\n      window.requirejs.config({'packages': {}, 'paths': {'plotly': 'https://cdn.plot.ly/plotly-2.10.1.min', 'gridstack': 'https://cdn.jsdelivr.net/npm/gridstack@4.2.5/dist/gridstack-h5', 'notyf': 'https://cdn.jsdelivr.net/npm/notyf@3/notyf.min'}, 'shim': {'gridstack': {'exports': 'GridStack'}}});\n      require([\"plotly\"], function(Plotly) {\n\twindow.Plotly = Plotly\n\ton_load()\n      })\n      require([\"gridstack\"], function(GridStack) {\n\twindow.GridStack = GridStack\n\ton_load()\n      })\n      require([\"notyf\"], function() {\n\ton_load()\n      })\n      root._bokeh_is_loading = css_urls.length + 3;\n    } else {\n      root._bokeh_is_loading = css_urls.length + js_urls.length + js_modules.length;\n    }    if (((window['Plotly'] !== undefined) && (!(window['Plotly'] instanceof HTMLElement))) || window.requirejs) {\n      var urls = ['https://cdn.plot.ly/plotly-2.10.1.min.js'];\n      for (var i = 0; i < urls.length; i++) {\n        skip.push(urls[i])\n      }\n    }    if (((window['GridStack'] !== undefined) && (!(window['GridStack'] instanceof HTMLElement))) || window.requirejs) {\n      var urls = ['https://cdn.jsdelivr.net/npm/gridstack@4.2.5/dist/gridstack-h5.js'];\n      for (var i = 0; i < urls.length; i++) {\n        skip.push(urls[i])\n      }\n    }    if (((window['Notyf'] !== undefined) && (!(window['Notyf'] instanceof HTMLElement))) || window.requirejs) {\n      var urls = ['https://cdn.jsdelivr.net/npm/notyf@3/notyf.min.js'];\n      for (var i = 0; i < urls.length; i++) {\n        skip.push(urls[i])\n      }\n    }    for (var i = 0; i < js_urls.length; i++) {\n      var url = js_urls[i];\n      if (skip.indexOf(url) >= 0) {\n\tif (!window.requirejs) {\n\t  on_load();\n\t}\n\tcontinue;\n      }\n      var element = document.createElement('script');\n      element.onload = on_load;\n      element.onerror = on_error;\n      element.async = false;\n      element.src = url;\n      console.debug(\"Bokeh: injecting script tag for BokehJS library: \", url);\n      document.head.appendChild(element);\n    }\n    for (var i = 0; i < js_modules.length; i++) {\n      var url = js_modules[i];\n      if (skip.indexOf(url) >= 0) {\n\tif (!window.requirejs) {\n\t  on_load();\n\t}\n\tcontinue;\n      }\n      var element = document.createElement('script');\n      element.onload = on_load;\n      element.onerror = on_error;\n      element.async = false;\n      element.src = url;\n      element.type = \"module\";\n      console.debug(\"Bokeh: injecting script tag for BokehJS library: \", url);\n      document.head.appendChild(element);\n    }\n    if (!js_urls.length && !js_modules.length) {\n      on_load()\n    }\n  };\n\n  function inject_raw_css(css) {\n    const element = document.createElement(\"style\");\n    element.appendChild(document.createTextNode(css));\n    document.body.appendChild(element);\n  }\n\n  var js_urls = [\"https://cdn.jsdelivr.net/npm/jquery@3.5.1/dist/jquery.slim.min.js\", \"https://cdn.plot.ly/plotly-2.10.1.min.js\", \"https://cdn.bokeh.org/bokeh/release/bokeh-2.4.3.min.js\", \"https://cdn.bokeh.org/bokeh/release/bokeh-gl-2.4.3.min.js\", \"https://cdn.bokeh.org/bokeh/release/bokeh-widgets-2.4.3.min.js\", \"https://cdn.bokeh.org/bokeh/release/bokeh-tables-2.4.3.min.js\", \"https://cdn.bokeh.org/bokeh/release/bokeh-mathjax-2.4.3.min.js\", \"https://cdn.jsdelivr.net/npm/notyf@3/notyf.min.js\", \"https://unpkg.com/@holoviz/panel@0.13.1/dist/panel.min.js\"];\n  var js_modules = [];\n  var css_urls = [\"https://cdn.jsdelivr.net/npm/notyf@3/notyf.min.css\", \"https://cdnjs.cloudflare.com/ajax/libs/font-awesome/5.15.1/css/all.min.css\", \"https://unpkg.com/@holoviz/panel@0.13.1/dist/css/alerts.css\", \"https://unpkg.com/@holoviz/panel@0.13.1/dist/css/card.css\", \"https://unpkg.com/@holoviz/panel@0.13.1/dist/css/dataframe.css\", \"https://unpkg.com/@holoviz/panel@0.13.1/dist/css/debugger.css\", \"https://unpkg.com/@holoviz/panel@0.13.1/dist/css/json.css\", \"https://unpkg.com/@holoviz/panel@0.13.1/dist/css/loading.css\", \"https://unpkg.com/@holoviz/panel@0.13.1/dist/css/markdown.css\", \"https://unpkg.com/@holoviz/panel@0.13.1/dist/css/widgets.css\"];\n  var inline_js = [    function(Bokeh) {\n      inject_raw_css(\"\\n    .bk.pn-loading.arcs:before {\\n      background-image: url(\\\"data:image/svg+xml;base64,PHN2ZyB4bWxucz0iaHR0cDovL3d3dy53My5vcmcvMjAwMC9zdmciIHhtbG5zOnhsaW5rPSJodHRwOi8vd3d3LnczLm9yZy8xOTk5L3hsaW5rIiBzdHlsZT0ibWFyZ2luOiBhdXRvOyBiYWNrZ3JvdW5kOiBub25lOyBkaXNwbGF5OiBibG9jazsgc2hhcGUtcmVuZGVyaW5nOiBhdXRvOyIgdmlld0JveD0iMCAwIDEwMCAxMDAiIHByZXNlcnZlQXNwZWN0UmF0aW89InhNaWRZTWlkIj4gIDxjaXJjbGUgY3g9IjUwIiBjeT0iNTAiIHI9IjMyIiBzdHJva2Utd2lkdGg9IjgiIHN0cm9rZT0iI2MzYzNjMyIgc3Ryb2tlLWRhc2hhcnJheT0iNTAuMjY1NDgyNDU3NDM2NjkgNTAuMjY1NDgyNDU3NDM2NjkiIGZpbGw9Im5vbmUiIHN0cm9rZS1saW5lY2FwPSJyb3VuZCI+ICAgIDxhbmltYXRlVHJhbnNmb3JtIGF0dHJpYnV0ZU5hbWU9InRyYW5zZm9ybSIgdHlwZT0icm90YXRlIiByZXBlYXRDb3VudD0iaW5kZWZpbml0ZSIgZHVyPSIxcyIga2V5VGltZXM9IjA7MSIgdmFsdWVzPSIwIDUwIDUwOzM2MCA1MCA1MCI+PC9hbmltYXRlVHJhbnNmb3JtPiAgPC9jaXJjbGU+PC9zdmc+\\\");\\n      background-size: auto calc(min(50%, 400px));\\n    }\\n    \");\n    },    function(Bokeh) {\n      Bokeh.set_log_level(\"info\");\n    },\nfunction(Bokeh) {} // ensure no trailing comma for IE\n  ];\n\n  function run_inline_js() {\n    if ((root.Bokeh !== undefined) || (force === true)) {\n      for (var i = 0; i < inline_js.length; i++) {\n        inline_js[i].call(root, root.Bokeh);\n      }} else if (Date.now() < root._bokeh_timeout) {\n      setTimeout(run_inline_js, 100);\n    } else if (!root._bokeh_failed_load) {\n      console.log(\"Bokeh: BokehJS failed to load within specified timeout.\");\n      root._bokeh_failed_load = true;\n    }\n  }\n\n  if (root._bokeh_is_loading === 0) {\n    console.debug(\"Bokeh: BokehJS loaded, going straight to plotting\");\n    run_inline_js();\n  } else {\n    load_libs(css_urls, js_urls, js_modules, function() {\n      console.debug(\"Bokeh: BokehJS plotting callback run at\", now());\n      run_inline_js();\n    });\n  }\n}(window));"
     },
     "metadata": {},
     "output_type": "display_data"
    },
    {
     "data": {
      "application/javascript": [
       "\n",
       "if ((window.PyViz === undefined) || (window.PyViz instanceof HTMLElement)) {\n",
       "  window.PyViz = {comms: {}, comm_status:{}, kernels:{}, receivers: {}, plot_index: []}\n",
       "}\n",
       "\n",
       "\n",
       "    function JupyterCommManager() {\n",
       "    }\n",
       "\n",
       "    JupyterCommManager.prototype.register_target = function(plot_id, comm_id, msg_handler) {\n",
       "      if (window.comm_manager || ((window.Jupyter !== undefined) && (Jupyter.notebook.kernel != null))) {\n",
       "        var comm_manager = window.comm_manager || Jupyter.notebook.kernel.comm_manager;\n",
       "        comm_manager.register_target(comm_id, function(comm) {\n",
       "          comm.on_msg(msg_handler);\n",
       "        });\n",
       "      } else if ((plot_id in window.PyViz.kernels) && (window.PyViz.kernels[plot_id])) {\n",
       "        window.PyViz.kernels[plot_id].registerCommTarget(comm_id, function(comm) {\n",
       "          comm.onMsg = msg_handler;\n",
       "        });\n",
       "      } else if (typeof google != 'undefined' && google.colab.kernel != null) {\n",
       "        google.colab.kernel.comms.registerTarget(comm_id, (comm) => {\n",
       "          var messages = comm.messages[Symbol.asyncIterator]();\n",
       "          function processIteratorResult(result) {\n",
       "            var message = result.value;\n",
       "            console.log(message)\n",
       "            var content = {data: message.data, comm_id};\n",
       "            var buffers = []\n",
       "            for (var buffer of message.buffers || []) {\n",
       "              buffers.push(new DataView(buffer))\n",
       "            }\n",
       "            var metadata = message.metadata || {};\n",
       "            var msg = {content, buffers, metadata}\n",
       "            msg_handler(msg);\n",
       "            return messages.next().then(processIteratorResult);\n",
       "          }\n",
       "          return messages.next().then(processIteratorResult);\n",
       "        })\n",
       "      }\n",
       "    }\n",
       "\n",
       "    JupyterCommManager.prototype.get_client_comm = function(plot_id, comm_id, msg_handler) {\n",
       "      if (comm_id in window.PyViz.comms) {\n",
       "        return window.PyViz.comms[comm_id];\n",
       "      } else if (window.comm_manager || ((window.Jupyter !== undefined) && (Jupyter.notebook.kernel != null))) {\n",
       "        var comm_manager = window.comm_manager || Jupyter.notebook.kernel.comm_manager;\n",
       "        var comm = comm_manager.new_comm(comm_id, {}, {}, {}, comm_id);\n",
       "        if (msg_handler) {\n",
       "          comm.on_msg(msg_handler);\n",
       "        }\n",
       "      } else if ((plot_id in window.PyViz.kernels) && (window.PyViz.kernels[plot_id])) {\n",
       "        var comm = window.PyViz.kernels[plot_id].connectToComm(comm_id);\n",
       "        comm.open();\n",
       "        if (msg_handler) {\n",
       "          comm.onMsg = msg_handler;\n",
       "        }\n",
       "      } else if (typeof google != 'undefined' && google.colab.kernel != null) {\n",
       "        var comm_promise = google.colab.kernel.comms.open(comm_id)\n",
       "        comm_promise.then((comm) => {\n",
       "          window.PyViz.comms[comm_id] = comm;\n",
       "          if (msg_handler) {\n",
       "            var messages = comm.messages[Symbol.asyncIterator]();\n",
       "            function processIteratorResult(result) {\n",
       "              var message = result.value;\n",
       "              var content = {data: message.data};\n",
       "              var metadata = message.metadata || {comm_id};\n",
       "              var msg = {content, metadata}\n",
       "              msg_handler(msg);\n",
       "              return messages.next().then(processIteratorResult);\n",
       "            }\n",
       "            return messages.next().then(processIteratorResult);\n",
       "          }\n",
       "        }) \n",
       "        var sendClosure = (data, metadata, buffers, disposeOnDone) => {\n",
       "          return comm_promise.then((comm) => {\n",
       "            comm.send(data, metadata, buffers, disposeOnDone);\n",
       "          });\n",
       "        };\n",
       "        var comm = {\n",
       "          send: sendClosure\n",
       "        };\n",
       "      }\n",
       "      window.PyViz.comms[comm_id] = comm;\n",
       "      return comm;\n",
       "    }\n",
       "    window.PyViz.comm_manager = new JupyterCommManager();\n",
       "    \n",
       "\n",
       "\n",
       "var JS_MIME_TYPE = 'application/javascript';\n",
       "var HTML_MIME_TYPE = 'text/html';\n",
       "var EXEC_MIME_TYPE = 'application/vnd.holoviews_exec.v0+json';\n",
       "var CLASS_NAME = 'output';\n",
       "\n",
       "/**\n",
       " * Render data to the DOM node\n",
       " */\n",
       "function render(props, node) {\n",
       "  var div = document.createElement(\"div\");\n",
       "  var script = document.createElement(\"script\");\n",
       "  node.appendChild(div);\n",
       "  node.appendChild(script);\n",
       "}\n",
       "\n",
       "/**\n",
       " * Handle when a new output is added\n",
       " */\n",
       "function handle_add_output(event, handle) {\n",
       "  var output_area = handle.output_area;\n",
       "  var output = handle.output;\n",
       "  if ((output.data == undefined) || (!output.data.hasOwnProperty(EXEC_MIME_TYPE))) {\n",
       "    return\n",
       "  }\n",
       "  var id = output.metadata[EXEC_MIME_TYPE][\"id\"];\n",
       "  var toinsert = output_area.element.find(\".\" + CLASS_NAME.split(' ')[0]);\n",
       "  if (id !== undefined) {\n",
       "    var nchildren = toinsert.length;\n",
       "    var html_node = toinsert[nchildren-1].children[0];\n",
       "    html_node.innerHTML = output.data[HTML_MIME_TYPE];\n",
       "    var scripts = [];\n",
       "    var nodelist = html_node.querySelectorAll(\"script\");\n",
       "    for (var i in nodelist) {\n",
       "      if (nodelist.hasOwnProperty(i)) {\n",
       "        scripts.push(nodelist[i])\n",
       "      }\n",
       "    }\n",
       "\n",
       "    scripts.forEach( function (oldScript) {\n",
       "      var newScript = document.createElement(\"script\");\n",
       "      var attrs = [];\n",
       "      var nodemap = oldScript.attributes;\n",
       "      for (var j in nodemap) {\n",
       "        if (nodemap.hasOwnProperty(j)) {\n",
       "          attrs.push(nodemap[j])\n",
       "        }\n",
       "      }\n",
       "      attrs.forEach(function(attr) { newScript.setAttribute(attr.name, attr.value) });\n",
       "      newScript.appendChild(document.createTextNode(oldScript.innerHTML));\n",
       "      oldScript.parentNode.replaceChild(newScript, oldScript);\n",
       "    });\n",
       "    if (JS_MIME_TYPE in output.data) {\n",
       "      toinsert[nchildren-1].children[1].textContent = output.data[JS_MIME_TYPE];\n",
       "    }\n",
       "    output_area._hv_plot_id = id;\n",
       "    if ((window.Bokeh !== undefined) && (id in Bokeh.index)) {\n",
       "      window.PyViz.plot_index[id] = Bokeh.index[id];\n",
       "    } else {\n",
       "      window.PyViz.plot_index[id] = null;\n",
       "    }\n",
       "  } else if (output.metadata[EXEC_MIME_TYPE][\"server_id\"] !== undefined) {\n",
       "    var bk_div = document.createElement(\"div\");\n",
       "    bk_div.innerHTML = output.data[HTML_MIME_TYPE];\n",
       "    var script_attrs = bk_div.children[0].attributes;\n",
       "    for (var i = 0; i < script_attrs.length; i++) {\n",
       "      toinsert[toinsert.length - 1].childNodes[1].setAttribute(script_attrs[i].name, script_attrs[i].value);\n",
       "    }\n",
       "    // store reference to server id on output_area\n",
       "    output_area._bokeh_server_id = output.metadata[EXEC_MIME_TYPE][\"server_id\"];\n",
       "  }\n",
       "}\n",
       "\n",
       "/**\n",
       " * Handle when an output is cleared or removed\n",
       " */\n",
       "function handle_clear_output(event, handle) {\n",
       "  var id = handle.cell.output_area._hv_plot_id;\n",
       "  var server_id = handle.cell.output_area._bokeh_server_id;\n",
       "  if (((id === undefined) || !(id in PyViz.plot_index)) && (server_id !== undefined)) { return; }\n",
       "  var comm = window.PyViz.comm_manager.get_client_comm(\"hv-extension-comm\", \"hv-extension-comm\", function () {});\n",
       "  if (server_id !== null) {\n",
       "    comm.send({event_type: 'server_delete', 'id': server_id});\n",
       "    return;\n",
       "  } else if (comm !== null) {\n",
       "    comm.send({event_type: 'delete', 'id': id});\n",
       "  }\n",
       "  delete PyViz.plot_index[id];\n",
       "  if ((window.Bokeh !== undefined) & (id in window.Bokeh.index)) {\n",
       "    var doc = window.Bokeh.index[id].model.document\n",
       "    doc.clear();\n",
       "    const i = window.Bokeh.documents.indexOf(doc);\n",
       "    if (i > -1) {\n",
       "      window.Bokeh.documents.splice(i, 1);\n",
       "    }\n",
       "  }\n",
       "}\n",
       "\n",
       "/**\n",
       " * Handle kernel restart event\n",
       " */\n",
       "function handle_kernel_cleanup(event, handle) {\n",
       "  delete PyViz.comms[\"hv-extension-comm\"];\n",
       "  window.PyViz.plot_index = {}\n",
       "}\n",
       "\n",
       "/**\n",
       " * Handle update_display_data messages\n",
       " */\n",
       "function handle_update_output(event, handle) {\n",
       "  handle_clear_output(event, {cell: {output_area: handle.output_area}})\n",
       "  handle_add_output(event, handle)\n",
       "}\n",
       "\n",
       "function register_renderer(events, OutputArea) {\n",
       "  function append_mime(data, metadata, element) {\n",
       "    // create a DOM node to render to\n",
       "    var toinsert = this.create_output_subarea(\n",
       "    metadata,\n",
       "    CLASS_NAME,\n",
       "    EXEC_MIME_TYPE\n",
       "    );\n",
       "    this.keyboard_manager.register_events(toinsert);\n",
       "    // Render to node\n",
       "    var props = {data: data, metadata: metadata[EXEC_MIME_TYPE]};\n",
       "    render(props, toinsert[0]);\n",
       "    element.append(toinsert);\n",
       "    return toinsert\n",
       "  }\n",
       "\n",
       "  events.on('output_added.OutputArea', handle_add_output);\n",
       "  events.on('output_updated.OutputArea', handle_update_output);\n",
       "  events.on('clear_output.CodeCell', handle_clear_output);\n",
       "  events.on('delete.Cell', handle_clear_output);\n",
       "  events.on('kernel_ready.Kernel', handle_kernel_cleanup);\n",
       "\n",
       "  OutputArea.prototype.register_mime_type(EXEC_MIME_TYPE, append_mime, {\n",
       "    safe: true,\n",
       "    index: 0\n",
       "  });\n",
       "}\n",
       "\n",
       "if (window.Jupyter !== undefined) {\n",
       "  try {\n",
       "    var events = require('base/js/events');\n",
       "    var OutputArea = require('notebook/js/outputarea').OutputArea;\n",
       "    if (OutputArea.prototype.mime_types().indexOf(EXEC_MIME_TYPE) == -1) {\n",
       "      register_renderer(events, OutputArea);\n",
       "    }\n",
       "  } catch(err) {\n",
       "  }\n",
       "}\n"
      ],
      "application/vnd.holoviews_load.v0+json": "\nif ((window.PyViz === undefined) || (window.PyViz instanceof HTMLElement)) {\n  window.PyViz = {comms: {}, comm_status:{}, kernels:{}, receivers: {}, plot_index: []}\n}\n\n\n    function JupyterCommManager() {\n    }\n\n    JupyterCommManager.prototype.register_target = function(plot_id, comm_id, msg_handler) {\n      if (window.comm_manager || ((window.Jupyter !== undefined) && (Jupyter.notebook.kernel != null))) {\n        var comm_manager = window.comm_manager || Jupyter.notebook.kernel.comm_manager;\n        comm_manager.register_target(comm_id, function(comm) {\n          comm.on_msg(msg_handler);\n        });\n      } else if ((plot_id in window.PyViz.kernels) && (window.PyViz.kernels[plot_id])) {\n        window.PyViz.kernels[plot_id].registerCommTarget(comm_id, function(comm) {\n          comm.onMsg = msg_handler;\n        });\n      } else if (typeof google != 'undefined' && google.colab.kernel != null) {\n        google.colab.kernel.comms.registerTarget(comm_id, (comm) => {\n          var messages = comm.messages[Symbol.asyncIterator]();\n          function processIteratorResult(result) {\n            var message = result.value;\n            console.log(message)\n            var content = {data: message.data, comm_id};\n            var buffers = []\n            for (var buffer of message.buffers || []) {\n              buffers.push(new DataView(buffer))\n            }\n            var metadata = message.metadata || {};\n            var msg = {content, buffers, metadata}\n            msg_handler(msg);\n            return messages.next().then(processIteratorResult);\n          }\n          return messages.next().then(processIteratorResult);\n        })\n      }\n    }\n\n    JupyterCommManager.prototype.get_client_comm = function(plot_id, comm_id, msg_handler) {\n      if (comm_id in window.PyViz.comms) {\n        return window.PyViz.comms[comm_id];\n      } else if (window.comm_manager || ((window.Jupyter !== undefined) && (Jupyter.notebook.kernel != null))) {\n        var comm_manager = window.comm_manager || Jupyter.notebook.kernel.comm_manager;\n        var comm = comm_manager.new_comm(comm_id, {}, {}, {}, comm_id);\n        if (msg_handler) {\n          comm.on_msg(msg_handler);\n        }\n      } else if ((plot_id in window.PyViz.kernels) && (window.PyViz.kernels[plot_id])) {\n        var comm = window.PyViz.kernels[plot_id].connectToComm(comm_id);\n        comm.open();\n        if (msg_handler) {\n          comm.onMsg = msg_handler;\n        }\n      } else if (typeof google != 'undefined' && google.colab.kernel != null) {\n        var comm_promise = google.colab.kernel.comms.open(comm_id)\n        comm_promise.then((comm) => {\n          window.PyViz.comms[comm_id] = comm;\n          if (msg_handler) {\n            var messages = comm.messages[Symbol.asyncIterator]();\n            function processIteratorResult(result) {\n              var message = result.value;\n              var content = {data: message.data};\n              var metadata = message.metadata || {comm_id};\n              var msg = {content, metadata}\n              msg_handler(msg);\n              return messages.next().then(processIteratorResult);\n            }\n            return messages.next().then(processIteratorResult);\n          }\n        }) \n        var sendClosure = (data, metadata, buffers, disposeOnDone) => {\n          return comm_promise.then((comm) => {\n            comm.send(data, metadata, buffers, disposeOnDone);\n          });\n        };\n        var comm = {\n          send: sendClosure\n        };\n      }\n      window.PyViz.comms[comm_id] = comm;\n      return comm;\n    }\n    window.PyViz.comm_manager = new JupyterCommManager();\n    \n\n\nvar JS_MIME_TYPE = 'application/javascript';\nvar HTML_MIME_TYPE = 'text/html';\nvar EXEC_MIME_TYPE = 'application/vnd.holoviews_exec.v0+json';\nvar CLASS_NAME = 'output';\n\n/**\n * Render data to the DOM node\n */\nfunction render(props, node) {\n  var div = document.createElement(\"div\");\n  var script = document.createElement(\"script\");\n  node.appendChild(div);\n  node.appendChild(script);\n}\n\n/**\n * Handle when a new output is added\n */\nfunction handle_add_output(event, handle) {\n  var output_area = handle.output_area;\n  var output = handle.output;\n  if ((output.data == undefined) || (!output.data.hasOwnProperty(EXEC_MIME_TYPE))) {\n    return\n  }\n  var id = output.metadata[EXEC_MIME_TYPE][\"id\"];\n  var toinsert = output_area.element.find(\".\" + CLASS_NAME.split(' ')[0]);\n  if (id !== undefined) {\n    var nchildren = toinsert.length;\n    var html_node = toinsert[nchildren-1].children[0];\n    html_node.innerHTML = output.data[HTML_MIME_TYPE];\n    var scripts = [];\n    var nodelist = html_node.querySelectorAll(\"script\");\n    for (var i in nodelist) {\n      if (nodelist.hasOwnProperty(i)) {\n        scripts.push(nodelist[i])\n      }\n    }\n\n    scripts.forEach( function (oldScript) {\n      var newScript = document.createElement(\"script\");\n      var attrs = [];\n      var nodemap = oldScript.attributes;\n      for (var j in nodemap) {\n        if (nodemap.hasOwnProperty(j)) {\n          attrs.push(nodemap[j])\n        }\n      }\n      attrs.forEach(function(attr) { newScript.setAttribute(attr.name, attr.value) });\n      newScript.appendChild(document.createTextNode(oldScript.innerHTML));\n      oldScript.parentNode.replaceChild(newScript, oldScript);\n    });\n    if (JS_MIME_TYPE in output.data) {\n      toinsert[nchildren-1].children[1].textContent = output.data[JS_MIME_TYPE];\n    }\n    output_area._hv_plot_id = id;\n    if ((window.Bokeh !== undefined) && (id in Bokeh.index)) {\n      window.PyViz.plot_index[id] = Bokeh.index[id];\n    } else {\n      window.PyViz.plot_index[id] = null;\n    }\n  } else if (output.metadata[EXEC_MIME_TYPE][\"server_id\"] !== undefined) {\n    var bk_div = document.createElement(\"div\");\n    bk_div.innerHTML = output.data[HTML_MIME_TYPE];\n    var script_attrs = bk_div.children[0].attributes;\n    for (var i = 0; i < script_attrs.length; i++) {\n      toinsert[toinsert.length - 1].childNodes[1].setAttribute(script_attrs[i].name, script_attrs[i].value);\n    }\n    // store reference to server id on output_area\n    output_area._bokeh_server_id = output.metadata[EXEC_MIME_TYPE][\"server_id\"];\n  }\n}\n\n/**\n * Handle when an output is cleared or removed\n */\nfunction handle_clear_output(event, handle) {\n  var id = handle.cell.output_area._hv_plot_id;\n  var server_id = handle.cell.output_area._bokeh_server_id;\n  if (((id === undefined) || !(id in PyViz.plot_index)) && (server_id !== undefined)) { return; }\n  var comm = window.PyViz.comm_manager.get_client_comm(\"hv-extension-comm\", \"hv-extension-comm\", function () {});\n  if (server_id !== null) {\n    comm.send({event_type: 'server_delete', 'id': server_id});\n    return;\n  } else if (comm !== null) {\n    comm.send({event_type: 'delete', 'id': id});\n  }\n  delete PyViz.plot_index[id];\n  if ((window.Bokeh !== undefined) & (id in window.Bokeh.index)) {\n    var doc = window.Bokeh.index[id].model.document\n    doc.clear();\n    const i = window.Bokeh.documents.indexOf(doc);\n    if (i > -1) {\n      window.Bokeh.documents.splice(i, 1);\n    }\n  }\n}\n\n/**\n * Handle kernel restart event\n */\nfunction handle_kernel_cleanup(event, handle) {\n  delete PyViz.comms[\"hv-extension-comm\"];\n  window.PyViz.plot_index = {}\n}\n\n/**\n * Handle update_display_data messages\n */\nfunction handle_update_output(event, handle) {\n  handle_clear_output(event, {cell: {output_area: handle.output_area}})\n  handle_add_output(event, handle)\n}\n\nfunction register_renderer(events, OutputArea) {\n  function append_mime(data, metadata, element) {\n    // create a DOM node to render to\n    var toinsert = this.create_output_subarea(\n    metadata,\n    CLASS_NAME,\n    EXEC_MIME_TYPE\n    );\n    this.keyboard_manager.register_events(toinsert);\n    // Render to node\n    var props = {data: data, metadata: metadata[EXEC_MIME_TYPE]};\n    render(props, toinsert[0]);\n    element.append(toinsert);\n    return toinsert\n  }\n\n  events.on('output_added.OutputArea', handle_add_output);\n  events.on('output_updated.OutputArea', handle_update_output);\n  events.on('clear_output.CodeCell', handle_clear_output);\n  events.on('delete.Cell', handle_clear_output);\n  events.on('kernel_ready.Kernel', handle_kernel_cleanup);\n\n  OutputArea.prototype.register_mime_type(EXEC_MIME_TYPE, append_mime, {\n    safe: true,\n    index: 0\n  });\n}\n\nif (window.Jupyter !== undefined) {\n  try {\n    var events = require('base/js/events');\n    var OutputArea = require('notebook/js/outputarea').OutputArea;\n    if (OutputArea.prototype.mime_types().indexOf(EXEC_MIME_TYPE) == -1) {\n      register_renderer(events, OutputArea);\n    }\n  } catch(err) {\n  }\n}\n"
     },
     "metadata": {},
     "output_type": "display_data"
    },
    {
     "data": {
      "text/html": [
       "<style>.bk-root, .bk-root .bk:before, .bk-root .bk:after {\n",
       "  font-family: var(--jp-ui-font-size1);\n",
       "  font-size: var(--jp-ui-font-size1);\n",
       "  color: var(--jp-ui-font-color1);\n",
       "}\n",
       "</style>"
      ]
     },
     "metadata": {},
     "output_type": "display_data"
    },
    {
     "name": "stdout",
     "output_type": "stream",
     "text": [
      "time: 1.83 s (started: 2022-09-24 18:35:33 -05:00)\n"
     ]
    }
   ],
   "source": [
    "import panel as pn\n",
    "import panel.widgets as pnw\n",
    "pn.extension('plotly')\n",
    "\n",
    "import plotly.graph_objects as go\n",
    "from plotly.subplots import make_subplots\n",
    "import plotly.express as px\n",
    "\n",
    "import numpy as np\n",
    "import math\n",
    "\n",
    "import pandas as pd\n",
    "\n",
    "from scipy.stats import wrapcauchy\n",
    "from scipy.stats import levy_stable\n",
    "from scipy.spatial import distance"
   ]
  },
  {
   "cell_type": "code",
   "execution_count": 3,
   "id": "722176e0",
   "metadata": {},
   "outputs": [
    {
     "name": "stdout",
     "output_type": "stream",
     "text": [
      "time: 0 ns (started: 2022-09-24 18:35:35 -05:00)\n"
     ]
    }
   ],
   "source": [
    "g_dash_data = pd.DataFrame(columns = ['x','y','traj'])"
   ]
  },
  {
   "cell_type": "markdown",
   "id": "02535f4e",
   "metadata": {},
   "source": [
    "# CLASESS"
   ]
  },
  {
   "cell_type": "markdown",
   "id": "5b3df9cf",
   "metadata": {},
   "source": [
    "## Vec2d"
   ]
  },
  {
   "cell_type": "code",
   "execution_count": 4,
   "id": "708dafbb",
   "metadata": {},
   "outputs": [
    {
     "name": "stdout",
     "output_type": "stream",
     "text": [
      "time: 0 ns (started: 2022-09-24 18:35:35 -05:00)\n"
     ]
    }
   ],
   "source": [
    "################# http://www.pygame.org/wiki/2DVectorClass ##################\n",
    "class Vec2d(object):\n",
    "    \"\"\"2d vector class, supports vector and scalar operators,\n",
    "       and also provides a bunch of high level functions\n",
    "       \"\"\"\n",
    "    __slots__ = ['x', 'y']\n",
    "\n",
    "    def __init__(self, x_or_pair, y = None):\n",
    "        if y == None:            \n",
    "            self.x = x_or_pair[0]\n",
    "            self.y = x_or_pair[1]\n",
    "        else:\n",
    "            self.x = x_or_pair\n",
    "            self.y = y\n",
    "            \n",
    "    # Addition\n",
    "    def __add__(self, other):\n",
    "        if isinstance(other, Vec2d):\n",
    "            return Vec2d(self.x + other.x, self.y + other.y)\n",
    "        elif hasattr(other, \"__getitem__\"):\n",
    "            return Vec2d(self.x + other[0], self.y + other[1])\n",
    "        else:\n",
    "            return Vec2d(self.x + other, self.y + other)\n",
    "\n",
    "    # Subtraction\n",
    "    def __sub__(self, other):\n",
    "        if isinstance(other, Vec2d):\n",
    "            return Vec2d(self.x - other.x, self.y - other.y)\n",
    "        elif (hasattr(other, \"__getitem__\")):\n",
    "            return Vec2d(self.x - other[0], self.y - other[1])\n",
    "        else:\n",
    "            return Vec2d(self.x - other, self.y - other)\n",
    "    \n",
    "    # Vector length\n",
    "    def get_length(self):\n",
    "        return math.sqrt(self.x**2 + self.y**2)\n",
    "    \n",
    "    # rotate vector\n",
    "    def rotated(self, angle):        \n",
    "        cos = math.cos(angle)\n",
    "        sin = math.sin(angle)\n",
    "        x = self.x*cos - self.y*sin\n",
    "        y = self.x*sin + self.y*cos\n",
    "        return Vec2d(x, y)"
   ]
  },
  {
   "cell_type": "markdown",
   "id": "a4057b5e",
   "metadata": {},
   "source": [
    "## Explorers"
   ]
  },
  {
   "cell_type": "code",
   "execution_count": 5,
   "id": "48eabd5b",
   "metadata": {},
   "outputs": [
    {
     "name": "stdout",
     "output_type": "stream",
     "text": [
      "time: 0 ns (started: 2022-09-24 18:35:35 -05:00)\n"
     ]
    }
   ],
   "source": [
    "class Explorers(object):\n",
    "    \n",
    "    # This class substitutes BM trajectory and CREW Trajectory\n",
    "    def __init__(self, x = 0, y = 0):\n",
    "        self.x = x\n",
    "        self.y = y\n",
    "        \n",
    "    def trace_trajectories(self, n_traj = 1, traj_type= \"BM_2d\", n_steps =1000, speed = 6, crw_exponents = [0.6]):\n",
    "        \"\"\"\n",
    "            Generates the trajectories of the explorers according to their type\n",
    "            Arguments: \n",
    "                traj_type:\n",
    "                n_steps:\n",
    "                speed:\n",
    "                n_traj:\n",
    "                crw_exponents:\n",
    "          \"\"\"\n",
    "        \n",
    "        traj_data = np.empty(shape=[0,3])\n",
    "\n",
    "        for j in range(n_traj):\n",
    "\n",
    "            velocity = Vec2d(speed, 0)\n",
    "\n",
    "\n",
    "            traj_aux_array = np.ones((n_steps,3))*[self.x,self.y,0]\n",
    "            traj_aux_array[0,2] = j\n",
    "\n",
    "            crw_ex = lambda : crw_exponents[j] if len(crw_exponents) > 1 else crw_exponents[0]\n",
    "            exponent = crw_ex()\n",
    "\n",
    "            for i in range(1,n_steps):\n",
    "                \n",
    "                turn_angle = self.generate_angle(traj_type, exponent)\n",
    "                velocity = velocity.rotated(turn_angle)\n",
    "\n",
    "                traj_aux_array[i] = traj_aux_array[i-1,:]+[velocity.x,velocity.y,0]\n",
    "                traj_aux_array[i,2] = j\n",
    "\n",
    "            traj_data = np.append(traj_data,traj_aux_array, axis=0)\n",
    "          \n",
    "        return traj_data\n",
    "    \n",
    "    \n",
    "    \n",
    "    \n",
    "    # angle choice \n",
    "    def generate_angle(self,traj_type, exponent = 0.6):\n",
    "        angle = 0\n",
    "        if traj_type == \"BM_2d\":\n",
    "            angle = np.random.uniform(low=-np.pi, high=np.pi)\n",
    "        \n",
    "        if traj_type == \"BM_nsew\":\n",
    "            angle = np.random.choice([0,np.pi/2, np.pi, 3*np.pi])\n",
    "        \n",
    "        if traj_type == \"CRW\":\n",
    "            angle = wrapcauchy.rvs(exponent)\n",
    "            \n",
    "            \n",
    "        return angle"
   ]
  },
  {
   "cell_type": "markdown",
   "id": "25cc3cfb",
   "metadata": {},
   "source": [
    "## Levy Flight"
   ]
  },
  {
   "cell_type": "code",
   "execution_count": 6,
   "id": "a4b2d10f",
   "metadata": {},
   "outputs": [
    {
     "name": "stdout",
     "output_type": "stream",
     "text": [
      "time: 0 ns (started: 2022-09-24 18:35:35 -05:00)\n"
     ]
    }
   ],
   "source": [
    "class LFlyTrajectory(object):\n",
    "    \n",
    "    def __init__(self, x = 0 , y = 0):\n",
    "        self.x = 0\n",
    "        self.y = 0\n",
    "        \n",
    "        \n",
    "    def levy_walk(self, alpha = 1.5, beta = 1, loc = 6 , speed = 3, samples = 100000):\n",
    "        # Init velocity vector\n",
    "\n",
    "        velocity = Vec2d(speed,0)\n",
    "\n",
    "        # Init df\n",
    "        lw_3d = np.array([[0,0,0]])\n",
    "        aux = np.array([[0,0,0]])\n",
    "\n",
    "        for i in range(1,samples):\n",
    "            # get random n_steps form levy distribution\n",
    "            step_size = levy_stable.rvs(alpha, beta, loc)\n",
    "            step_size = int(np.ceil(abs(step_size)))\n",
    "\n",
    "            theta = wrapcauchy.rvs(c=0.7, loc=loc)\n",
    "\n",
    "            # update velocity\n",
    "            velocity = velocity.rotated(theta)\n",
    "\n",
    "            for j in range(step_size):\n",
    "                row = len(lw_3d)\n",
    "                aux = np.array([lw_3d[row-1,:]+[velocity.x,velocity.y,0]])\n",
    "\n",
    "                lw_3d = np.vstack([lw_3d,aux])\n",
    "\n",
    "            if(len(lw_3d) >= samples):\n",
    "                break\n",
    "\n",
    "        return lw_3d;"
   ]
  },
  {
   "cell_type": "code",
   "execution_count": 7,
   "id": "2e11fec6",
   "metadata": {},
   "outputs": [
    {
     "name": "stdout",
     "output_type": "stream",
     "text": [
      "time: 0 ns (started: 2022-09-24 18:35:35 -05:00)\n"
     ]
    }
   ],
   "source": [
    "class BCLFigures(object):\n",
    "    \n",
    "    def __init__(self, traj_data = pd.DataFrame(columns=['x','y','traj']), n_traj = 1):\n",
    "        self.traj_data = traj_data\n",
    "        self.n_traj = n_traj\n",
    "        \n",
    "        \n",
    "    def show_trajectories(self):\n",
    "        plot_trajectories(self.traj_data, n_traj)\n",
    "        return fig"
   ]
  },
  {
   "cell_type": "markdown",
   "id": "dd087de0",
   "metadata": {},
   "source": [
    "## Metrics"
   ]
  },
  {
   "cell_type": "code",
   "execution_count": 8,
   "id": "1f31af0c",
   "metadata": {},
   "outputs": [
    {
     "name": "stdout",
     "output_type": "stream",
     "text": [
      "time: 15 ms (started: 2022-09-24 18:35:35 -05:00)\n"
     ]
    }
   ],
   "source": [
    "def get_path_lengt(traj_data, n_traj):\n",
    "        \n",
    "    path_lenghts = pd.DataFrame(columns=['metric','traj'])\n",
    "    \n",
    "    traj_df = pd.DataFrame(data = traj_data, columns=['x','y','traj'])\n",
    "\n",
    "    for i in range(n_traj):\n",
    "        aux_df= traj_df.loc[traj_df.traj == i, ['x','y']]\n",
    "\n",
    "        #Calculate lenghts for given trajectory\n",
    "        euc_dis = np.array([get_euclidean_distance(aux_df.iloc[i-1], aux_df.iloc[i]) for i in range(1,aux_df.shape[0])])\n",
    "\n",
    "\n",
    "        temp_df = pd.DataFrame(data = np.cumsum(euc_dis), columns = ['metric'])\n",
    "\n",
    "        trajectory_id = np.array([i for j in range(1,aux_df.shape[0])])\n",
    "        temp_df['traj'] = trajectory_id\n",
    "\n",
    "        path_lenghts = pd.concat([path_lenghts,temp_df], ignore_index=True)\n",
    "\n",
    "    return path_lenghts\n",
    "    \n",
    "    \n",
    "    \n",
    "def get_trajectories_msd(traj_data, n_traj):\n",
    "\n",
    "    msd_df = pd.DataFrame(columns=['metric','traj'])\n",
    "    \n",
    "    traj_df = pd.DataFrame(data = traj_data, columns=['x','y','traj'])\n",
    "\n",
    "    for i in range(n_traj):\n",
    "        aux_df= traj_df.loc[traj_df.traj == i, ['x','y']]\n",
    "        msd = np.empty(shape=(0))\n",
    "\n",
    "        for tau in range(1,aux_df.shape[0]):\n",
    "            BM_msd = get_msd(tau,aux_df)\n",
    "\n",
    "            msd = np.append(msd,BM_msd)\n",
    "\n",
    "        temp_df = pd.DataFrame(data = msd, columns = ['metric'])\n",
    "\n",
    "        trajectory_id = np.array([i for j in range(1,aux_df.shape[0])])\n",
    "        temp_df['traj'] = trajectory_id\n",
    "\n",
    "        msd_df = pd.concat([msd_df,temp_df], ignore_index=True)\n",
    "\n",
    "\n",
    "    return msd_df\n",
    "\n",
    "\n",
    "\n",
    "def get_ta_distribution(traj_df):\n",
    "\n",
    "    ta_dist = np.empty(shape=(0))\n",
    "\n",
    "\n",
    "    for index, row in traj_df[1:-1].iterrows():\n",
    "\n",
    "        turning_angle = get_turning_angle(traj_df.iloc[index-1],traj_df.iloc[index],traj_df.iloc[index+1])\n",
    "        ta_dist = np.append(ta_dist,turning_angle)\n",
    "\n",
    "    return ta_dist\n",
    "\n",
    "\n",
    "\n",
    "def get_sl_distribution(traj_df):\n",
    "\n",
    "        ta = self.get_ta_distribution(traj_df)\n",
    "\n",
    "        ta_df= pd.DataFrame(data = ta, columns=['metric'])\n",
    "\n",
    "\n",
    "        sl_array = np.empty(shape=(0))\n",
    "\n",
    "        for group, elements in ta_df.groupby((ta_df['metric'].shift()!= ta_df['metric']).cumsum()):\n",
    "            if elements.shape[0]>1:\n",
    "                sl_array = np.append(sl_array,elements.shape[0]+1)\n",
    "\n",
    "        return sl_array"
   ]
  },
  {
   "cell_type": "markdown",
   "id": "56381080",
   "metadata": {},
   "source": [
    "## Auxiliar functions"
   ]
  },
  {
   "cell_type": "markdown",
   "id": "5e7e50f4",
   "metadata": {},
   "source": [
    "### Euclidean distance\n",
    "\n",
    "$d_E(p,q)=\\sqrt{(p_x-q_x)^2+(p_y-q_y)^2}$"
   ]
  },
  {
   "cell_type": "code",
   "execution_count": 9,
   "id": "ab684f54",
   "metadata": {},
   "outputs": [
    {
     "name": "stdout",
     "output_type": "stream",
     "text": [
      "time: 0 ns (started: 2022-09-24 18:35:35 -05:00)\n"
     ]
    }
   ],
   "source": [
    "def get_euclidean_distance(p,q):\n",
    "    \"\"\"\n",
    "        Arguments:\n",
    "            p: [x,y] values for the starting point\n",
    "            q: [x,y] values for the ending point\n",
    "    \"\"\"\n",
    "  \n",
    "    distance = np.sqrt(np.square(p[0]-q[0]) + np.square(p[1]-q[1]))\n",
    "\n",
    "    return distance"
   ]
  },
  {
   "cell_type": "markdown",
   "id": "379186b4",
   "metadata": {},
   "source": [
    "### Mean Square Displacement\n",
    "\n",
    "\n",
    "$MSD = \\frac{1}{N-n} \\sum \\limits_{i=1}^{N-n}(\\vec{r}_{i+n}-\\vec{r}_i)^2 \\quad\\quad n=1,...,N-1$\n",
    "<br><br>\n",
    "\n",
    "$MSD = \\frac{1}{N-n}\\sum \\limits_{i=1}^{N-n}{d_E(p,q)}^2 \\quad\\quad n=1,...,N-1$"
   ]
  },
  {
   "cell_type": "code",
   "execution_count": 10,
   "id": "e0076ee0",
   "metadata": {},
   "outputs": [
    {
     "name": "stdout",
     "output_type": "stream",
     "text": [
      "time: 0 ns (started: 2022-09-24 18:35:35 -05:00)\n"
     ]
    }
   ],
   "source": [
    "def get_msd(tau,path):\n",
    "    \"\"\"\n",
    "      Arguments:\n",
    "        tau:\n",
    "        path:\n",
    "    \"\"\"\n",
    "\n",
    "    square_displacement = 0 \n",
    "\n",
    "    for i in range(tau,path.shape[0],1):\n",
    "        square_displacement += np.square(get_euclidean_distance(path.iloc[i-tau], path.iloc[i]))\n",
    "\n",
    "    msd= (1/(path.shape[0]-tau))*square_displacement\n",
    "\n",
    "    return msd"
   ]
  },
  {
   "cell_type": "markdown",
   "id": "f74be810",
   "metadata": {},
   "source": [
    "### Turning Angle\n",
    "\n",
    "$\n",
    "tan(\\phi)=\\frac{|\\vec{p}\\times\\vec{q}|}{\\vec{p}\\cdot\\vec{q}}\n",
    "$"
   ]
  },
  {
   "cell_type": "code",
   "execution_count": 11,
   "id": "978a5240",
   "metadata": {},
   "outputs": [
    {
     "name": "stdout",
     "output_type": "stream",
     "text": [
      "time: 0 ns (started: 2022-09-24 18:35:35 -05:00)\n"
     ]
    }
   ],
   "source": [
    "def get_turning_angle(a,b,c,round_to_zero = False):\n",
    "    \"\"\"\n",
    "      Arguments:\n",
    "        a: coordinates for p vector's tail\n",
    "        b: coordinates p vector's head / q vector's tail\n",
    "        c: coordinates q vector's head\n",
    "        round_to_zero: if true checks if value is close enough to zero to be take as it\n",
    "     \"\"\"\n",
    "\n",
    "    p = np.subtract(b,a)\n",
    "    q = np.subtract(c,b)\n",
    "\n",
    "  \n",
    "    pq_cross = np.cross(p,q)\n",
    "    pq_scalar = np.dot(p,q)\n",
    "\n",
    "    phi_angle = np.arctan2(pq_cross,pq_scalar)\n",
    "\n",
    "    if round_to_zero:\n",
    "        if  count_like_zero(phi_angle):\n",
    "            phi_angle = 0\n",
    "      \n",
    "    return phi_angle"
   ]
  },
  {
   "cell_type": "markdown",
   "id": "6d991b76",
   "metadata": {},
   "source": [
    "### Custom round"
   ]
  },
  {
   "cell_type": "code",
   "execution_count": 12,
   "id": "a43d1193",
   "metadata": {},
   "outputs": [
    {
     "name": "stdout",
     "output_type": "stream",
     "text": [
      "time: 0 ns (started: 2022-09-24 18:35:35 -05:00)\n"
     ]
    }
   ],
   "source": [
    "def count_like_zero(number):\n",
    "    \"\"\"\n",
    "        Arguments:\n",
    "            number: \n",
    "        Return: True if -0.009 <= number <= 0.009 False otherwise\n",
    "    \"\"\"\n",
    "    is_zero = False\n",
    "\n",
    "    if  ((number >= -0.009) & (number <= 0)) | ((number >= 0) & (number <= 0.009)):\n",
    "        is_zero = True\n",
    "\n",
    "    return is_zero"
   ]
  },
  {
   "cell_type": "markdown",
   "id": "6a16dd5c",
   "metadata": {},
   "source": [
    "### Is Negligible turn"
   ]
  },
  {
   "cell_type": "code",
   "execution_count": 13,
   "id": "13de4993",
   "metadata": {},
   "outputs": [
    {
     "name": "stdout",
     "output_type": "stream",
     "text": [
      "time: 0 ns (started: 2022-09-24 18:35:35 -05:00)\n"
     ]
    }
   ],
   "source": [
    "def drop_turn(angle_i, angle_j):\n",
    "    \"\"\"\n",
    "      Arguments:\n",
    "        angle_i:\n",
    "        angle_j: \n",
    "      Return: True if difference between angles is less than 0.001 False otherwise\n",
    "      \"\"\"\n",
    "    is_dropable = False\n",
    "    \n",
    "    if (angle_i > 0) & (angle_j > 0): \n",
    "        rest = abs(angle_i - angle_j)\n",
    "        if abs(angle_i - angle_j) < 0.001:\n",
    "            is_dropable = True\n",
    "\n",
    "    return is_dropable"
   ]
  },
  {
   "cell_type": "markdown",
   "id": "60b7f623",
   "metadata": {},
   "source": [
    "# PLOT FUNCTIONS"
   ]
  },
  {
   "cell_type": "markdown",
   "id": "2b8496c3",
   "metadata": {},
   "source": [
    "## Plot Trajectories"
   ]
  },
  {
   "cell_type": "code",
   "execution_count": 14,
   "id": "5dcfe03b",
   "metadata": {},
   "outputs": [
    {
     "name": "stdout",
     "output_type": "stream",
     "text": [
      "time: 0 ns (started: 2022-09-24 18:35:35 -05:00)\n"
     ]
    }
   ],
   "source": [
    "def plot_trajectories(traj, n_trajectories = 1, title = \"\", line_name_prefix=\"\", line_name_subfix = [\"\"]):\n",
    "    \n",
    "    fig_3d = go.Figure()\n",
    "    traj_data = np.array([[0,0,0]])\n",
    "    \n",
    "    for i in range(n_trajectories):\n",
    "        traj_data = traj[np.where(traj[:,2]==i)]\n",
    "            \n",
    "        subfix = lambda : line_name_subfix[i] if len(line_name_subfix) > 1 else i\n",
    "        trajectory_name = line_name_prefix +\": \" + str(subfix())\n",
    "\n",
    "        fig_3d.add_scatter3d(\n",
    "                x = traj_data[:,0], \n",
    "                y = traj_data[:,1], \n",
    "                z = np.arange(len(traj_data)),\n",
    "                marker = dict(size=2),\n",
    "                line = dict(width=2),\n",
    "                mode = 'lines',\n",
    "                name = trajectory_name,\n",
    "                showlegend = True)\n",
    "\n",
    "    \n",
    "    fig_3d.update_layout(\n",
    "            title_text = title,\n",
    "            width = 800,\n",
    "            height = 800,\n",
    "            scene_camera = dict(eye = dict(x=0, y=0, z=2.5)),\n",
    "            scene = dict(\n",
    "                xaxis = dict(title = 'x'),\n",
    "                yaxis = dict(title = 'y'),\n",
    "                zaxis = dict(title = 'time', nticks = 20)\n",
    "            ))\n",
    "\n",
    "    return fig_3d"
   ]
  },
  {
   "cell_type": "markdown",
   "id": "3ffb9038",
   "metadata": {},
   "source": [
    "## Plot Metrics"
   ]
  },
  {
   "cell_type": "code",
   "execution_count": 15,
   "id": "8d1e4ad3",
   "metadata": {},
   "outputs": [
    {
     "name": "stdout",
     "output_type": "stream",
     "text": [
      "time: 0 ns (started: 2022-09-24 18:35:35 -05:00)\n"
     ]
    }
   ],
   "source": [
    "def plot_metrics(metrics_df, n_trajectories = 1, title = \"\", line_name_prefix=\"\", line_name_subfix = [\"\"]):\n",
    "    \n",
    "    fig_2d = go.Figure()\n",
    "    \n",
    "    for i in range(n_trajectories):\n",
    "        \n",
    "        subfix = lambda : line_name_subfix[i] if len(line_name_subfix) > 1 else i\n",
    "        trajectory_name = line_name_prefix +\": \" + str(subfix())\n",
    "\n",
    "        fig_2d.add_scatter( \n",
    "                    x = metrics_df.index,\n",
    "                    y = metrics_df.loc[metrics_df['traj']==i,'metric'], \n",
    "                    marker = dict(size=0.5),\n",
    "                    line = dict(width=3),\n",
    "                    mode = 'lines',\n",
    "                    name = trajectory_name,\n",
    "                    showlegend = True)\n",
    "        \n",
    "    fig_2d.update_layout(\n",
    "            title_text = title,\n",
    "            autosize = False)\n",
    "    \n",
    "    return fig_2d"
   ]
  },
  {
   "cell_type": "markdown",
   "id": "2e932098",
   "metadata": {},
   "source": [
    "# PRUEBAS"
   ]
  },
  {
   "cell_type": "markdown",
   "id": "89d45cfa",
   "metadata": {},
   "source": [
    "## Trajectory controls"
   ]
  },
  {
   "cell_type": "code",
   "execution_count": 16,
   "id": "192090ac",
   "metadata": {},
   "outputs": [
    {
     "data": {
      "application/javascript": [
       "(function(root) {\n",
       "  function now() {\n",
       "    return new Date();\n",
       "  }\n",
       "\n",
       "  var force = true;\n",
       "\n",
       "  if (typeof root._bokeh_onload_callbacks === \"undefined\" || force === true) {\n",
       "    root._bokeh_onload_callbacks = [];\n",
       "    root._bokeh_is_loading = undefined;\n",
       "  }\n",
       "\n",
       "  if (typeof (root._bokeh_timeout) === \"undefined\" || force === true) {\n",
       "    root._bokeh_timeout = Date.now() + 5000;\n",
       "    root._bokeh_failed_load = false;\n",
       "  }\n",
       "\n",
       "  function run_callbacks() {\n",
       "    try {\n",
       "      root._bokeh_onload_callbacks.forEach(function(callback) {\n",
       "        if (callback != null)\n",
       "          callback();\n",
       "      });\n",
       "    } finally {\n",
       "      delete root._bokeh_onload_callbacks\n",
       "    }\n",
       "    console.debug(\"Bokeh: all callbacks have finished\");\n",
       "  }\n",
       "\n",
       "  function load_libs(css_urls, js_urls, js_modules, callback) {\n",
       "    if (css_urls == null) css_urls = [];\n",
       "    if (js_urls == null) js_urls = [];\n",
       "    if (js_modules == null) js_modules = [];\n",
       "\n",
       "    root._bokeh_onload_callbacks.push(callback);\n",
       "    if (root._bokeh_is_loading > 0) {\n",
       "      console.debug(\"Bokeh: BokehJS is being loaded, scheduling callback at\", now());\n",
       "      return null;\n",
       "    }\n",
       "    if (js_urls.length === 0 && js_modules.length === 0) {\n",
       "      run_callbacks();\n",
       "      return null;\n",
       "    }\n",
       "    console.debug(\"Bokeh: BokehJS not loaded, scheduling load and callback at\", now());\n",
       "\n",
       "    function on_load() {\n",
       "      root._bokeh_is_loading--;\n",
       "      if (root._bokeh_is_loading === 0) {\n",
       "        console.debug(\"Bokeh: all BokehJS libraries/stylesheets loaded\");\n",
       "        run_callbacks()\n",
       "      }\n",
       "    }\n",
       "\n",
       "    function on_error() {\n",
       "      console.error(\"failed to load \" + url);\n",
       "    }\n",
       "\n",
       "    for (var i = 0; i < css_urls.length; i++) {\n",
       "      var url = css_urls[i];\n",
       "      const element = document.createElement(\"link\");\n",
       "      element.onload = on_load;\n",
       "      element.onerror = on_error;\n",
       "      element.rel = \"stylesheet\";\n",
       "      element.type = \"text/css\";\n",
       "      element.href = url;\n",
       "      console.debug(\"Bokeh: injecting link tag for BokehJS stylesheet: \", url);\n",
       "      document.body.appendChild(element);\n",
       "    }\n",
       "\n",
       "    var skip = [];\n",
       "    if (window.requirejs) {\n",
       "      window.requirejs.config({'packages': {}, 'paths': {'plotly': 'https://cdn.plot.ly/plotly-2.10.1.min', 'gridstack': 'https://cdn.jsdelivr.net/npm/gridstack@4.2.5/dist/gridstack-h5', 'notyf': 'https://cdn.jsdelivr.net/npm/notyf@3/notyf.min'}, 'shim': {'gridstack': {'exports': 'GridStack'}}});\n",
       "      require([\"plotly\"], function(Plotly) {\n",
       "\twindow.Plotly = Plotly\n",
       "\ton_load()\n",
       "      })\n",
       "      require([\"gridstack\"], function(GridStack) {\n",
       "\twindow.GridStack = GridStack\n",
       "\ton_load()\n",
       "      })\n",
       "      require([\"notyf\"], function() {\n",
       "\ton_load()\n",
       "      })\n",
       "      root._bokeh_is_loading = css_urls.length + 3;\n",
       "    } else {\n",
       "      root._bokeh_is_loading = css_urls.length + js_urls.length + js_modules.length;\n",
       "    }    if (((window['Plotly'] !== undefined) && (!(window['Plotly'] instanceof HTMLElement))) || window.requirejs) {\n",
       "      var urls = ['https://cdn.plot.ly/plotly-2.10.1.min.js'];\n",
       "      for (var i = 0; i < urls.length; i++) {\n",
       "        skip.push(urls[i])\n",
       "      }\n",
       "    }    if (((window['GridStack'] !== undefined) && (!(window['GridStack'] instanceof HTMLElement))) || window.requirejs) {\n",
       "      var urls = ['https://cdn.jsdelivr.net/npm/gridstack@4.2.5/dist/gridstack-h5.js'];\n",
       "      for (var i = 0; i < urls.length; i++) {\n",
       "        skip.push(urls[i])\n",
       "      }\n",
       "    }    if (((window['Notyf'] !== undefined) && (!(window['Notyf'] instanceof HTMLElement))) || window.requirejs) {\n",
       "      var urls = ['https://cdn.jsdelivr.net/npm/notyf@3/notyf.min.js'];\n",
       "      for (var i = 0; i < urls.length; i++) {\n",
       "        skip.push(urls[i])\n",
       "      }\n",
       "    }    for (var i = 0; i < js_urls.length; i++) {\n",
       "      var url = js_urls[i];\n",
       "      if (skip.indexOf(url) >= 0) {\n",
       "\tif (!window.requirejs) {\n",
       "\t  on_load();\n",
       "\t}\n",
       "\tcontinue;\n",
       "      }\n",
       "      var element = document.createElement('script');\n",
       "      element.onload = on_load;\n",
       "      element.onerror = on_error;\n",
       "      element.async = false;\n",
       "      element.src = url;\n",
       "      console.debug(\"Bokeh: injecting script tag for BokehJS library: \", url);\n",
       "      document.head.appendChild(element);\n",
       "    }\n",
       "    for (var i = 0; i < js_modules.length; i++) {\n",
       "      var url = js_modules[i];\n",
       "      if (skip.indexOf(url) >= 0) {\n",
       "\tif (!window.requirejs) {\n",
       "\t  on_load();\n",
       "\t}\n",
       "\tcontinue;\n",
       "      }\n",
       "      var element = document.createElement('script');\n",
       "      element.onload = on_load;\n",
       "      element.onerror = on_error;\n",
       "      element.async = false;\n",
       "      element.src = url;\n",
       "      element.type = \"module\";\n",
       "      console.debug(\"Bokeh: injecting script tag for BokehJS library: \", url);\n",
       "      document.head.appendChild(element);\n",
       "    }\n",
       "    if (!js_urls.length && !js_modules.length) {\n",
       "      on_load()\n",
       "    }\n",
       "  };\n",
       "\n",
       "  function inject_raw_css(css) {\n",
       "    const element = document.createElement(\"style\");\n",
       "    element.appendChild(document.createTextNode(css));\n",
       "    document.body.appendChild(element);\n",
       "  }\n",
       "\n",
       "  var js_urls = [\"https://cdn.jsdelivr.net/npm/jquery@3.5.1/dist/jquery.slim.min.js\", \"https://cdn.plot.ly/plotly-2.10.1.min.js\", \"https://cdn.bokeh.org/bokeh/release/bokeh-2.4.3.min.js\", \"https://cdn.bokeh.org/bokeh/release/bokeh-gl-2.4.3.min.js\", \"https://cdn.bokeh.org/bokeh/release/bokeh-widgets-2.4.3.min.js\", \"https://cdn.bokeh.org/bokeh/release/bokeh-tables-2.4.3.min.js\", \"https://cdn.bokeh.org/bokeh/release/bokeh-mathjax-2.4.3.min.js\", \"https://cdn.jsdelivr.net/npm/notyf@3/notyf.min.js\", \"https://unpkg.com/@holoviz/panel@0.13.1/dist/panel.min.js\"];\n",
       "  var js_modules = [];\n",
       "  var css_urls = [\"https://cdn.jsdelivr.net/npm/notyf@3/notyf.min.css\", \"https://cdnjs.cloudflare.com/ajax/libs/font-awesome/5.15.1/css/all.min.css\", \"https://unpkg.com/@holoviz/panel@0.13.1/dist/css/alerts.css\", \"https://unpkg.com/@holoviz/panel@0.13.1/dist/css/card.css\", \"https://unpkg.com/@holoviz/panel@0.13.1/dist/css/dataframe.css\", \"https://unpkg.com/@holoviz/panel@0.13.1/dist/css/debugger.css\", \"https://unpkg.com/@holoviz/panel@0.13.1/dist/css/json.css\", \"https://unpkg.com/@holoviz/panel@0.13.1/dist/css/loading.css\", \"https://unpkg.com/@holoviz/panel@0.13.1/dist/css/markdown.css\", \"https://unpkg.com/@holoviz/panel@0.13.1/dist/css/widgets.css\"];\n",
       "  var inline_js = [    function(Bokeh) {\n",
       "      inject_raw_css(\"\\n    .bk.pn-loading.arcs:before {\\n      background-image: url(\\\"data:image/svg+xml;base64,PHN2ZyB4bWxucz0iaHR0cDovL3d3dy53My5vcmcvMjAwMC9zdmciIHhtbG5zOnhsaW5rPSJodHRwOi8vd3d3LnczLm9yZy8xOTk5L3hsaW5rIiBzdHlsZT0ibWFyZ2luOiBhdXRvOyBiYWNrZ3JvdW5kOiBub25lOyBkaXNwbGF5OiBibG9jazsgc2hhcGUtcmVuZGVyaW5nOiBhdXRvOyIgdmlld0JveD0iMCAwIDEwMCAxMDAiIHByZXNlcnZlQXNwZWN0UmF0aW89InhNaWRZTWlkIj4gIDxjaXJjbGUgY3g9IjUwIiBjeT0iNTAiIHI9IjMyIiBzdHJva2Utd2lkdGg9IjgiIHN0cm9rZT0iI2MzYzNjMyIgc3Ryb2tlLWRhc2hhcnJheT0iNTAuMjY1NDgyNDU3NDM2NjkgNTAuMjY1NDgyNDU3NDM2NjkiIGZpbGw9Im5vbmUiIHN0cm9rZS1saW5lY2FwPSJyb3VuZCI+ICAgIDxhbmltYXRlVHJhbnNmb3JtIGF0dHJpYnV0ZU5hbWU9InRyYW5zZm9ybSIgdHlwZT0icm90YXRlIiByZXBlYXRDb3VudD0iaW5kZWZpbml0ZSIgZHVyPSIxcyIga2V5VGltZXM9IjA7MSIgdmFsdWVzPSIwIDUwIDUwOzM2MCA1MCA1MCI+PC9hbmltYXRlVHJhbnNmb3JtPiAgPC9jaXJjbGU+PC9zdmc+\\\");\\n      background-size: auto calc(min(50%, 400px));\\n    }\\n    \");\n",
       "    },    function(Bokeh) {\n",
       "      inject_raw_css(\"\\n.bk.controls_main {\\n    max-width: 40vw !important;\\n    height: 880px !important;\\n    border-radius: 15px;\\n}\\n\\n\");\n",
       "    },    function(Bokeh) {\n",
       "      Bokeh.set_log_level(\"info\");\n",
       "    },\n",
       "function(Bokeh) {} // ensure no trailing comma for IE\n",
       "  ];\n",
       "\n",
       "  function run_inline_js() {\n",
       "    if ((root.Bokeh !== undefined) || (force === true)) {\n",
       "      for (var i = 0; i < inline_js.length; i++) {\n",
       "        inline_js[i].call(root, root.Bokeh);\n",
       "      }} else if (Date.now() < root._bokeh_timeout) {\n",
       "      setTimeout(run_inline_js, 100);\n",
       "    } else if (!root._bokeh_failed_load) {\n",
       "      console.log(\"Bokeh: BokehJS failed to load within specified timeout.\");\n",
       "      root._bokeh_failed_load = true;\n",
       "    }\n",
       "  }\n",
       "\n",
       "  if (root._bokeh_is_loading === 0) {\n",
       "    console.debug(\"Bokeh: BokehJS loaded, going straight to plotting\");\n",
       "    run_inline_js();\n",
       "  } else {\n",
       "    load_libs(css_urls, js_urls, js_modules, function() {\n",
       "      console.debug(\"Bokeh: BokehJS plotting callback run at\", now());\n",
       "      run_inline_js();\n",
       "    });\n",
       "  }\n",
       "}(window));"
      ],
      "application/vnd.holoviews_load.v0+json": "(function(root) {\n  function now() {\n    return new Date();\n  }\n\n  var force = true;\n\n  if (typeof root._bokeh_onload_callbacks === \"undefined\" || force === true) {\n    root._bokeh_onload_callbacks = [];\n    root._bokeh_is_loading = undefined;\n  }\n\n  if (typeof (root._bokeh_timeout) === \"undefined\" || force === true) {\n    root._bokeh_timeout = Date.now() + 5000;\n    root._bokeh_failed_load = false;\n  }\n\n  function run_callbacks() {\n    try {\n      root._bokeh_onload_callbacks.forEach(function(callback) {\n        if (callback != null)\n          callback();\n      });\n    } finally {\n      delete root._bokeh_onload_callbacks\n    }\n    console.debug(\"Bokeh: all callbacks have finished\");\n  }\n\n  function load_libs(css_urls, js_urls, js_modules, callback) {\n    if (css_urls == null) css_urls = [];\n    if (js_urls == null) js_urls = [];\n    if (js_modules == null) js_modules = [];\n\n    root._bokeh_onload_callbacks.push(callback);\n    if (root._bokeh_is_loading > 0) {\n      console.debug(\"Bokeh: BokehJS is being loaded, scheduling callback at\", now());\n      return null;\n    }\n    if (js_urls.length === 0 && js_modules.length === 0) {\n      run_callbacks();\n      return null;\n    }\n    console.debug(\"Bokeh: BokehJS not loaded, scheduling load and callback at\", now());\n\n    function on_load() {\n      root._bokeh_is_loading--;\n      if (root._bokeh_is_loading === 0) {\n        console.debug(\"Bokeh: all BokehJS libraries/stylesheets loaded\");\n        run_callbacks()\n      }\n    }\n\n    function on_error() {\n      console.error(\"failed to load \" + url);\n    }\n\n    for (var i = 0; i < css_urls.length; i++) {\n      var url = css_urls[i];\n      const element = document.createElement(\"link\");\n      element.onload = on_load;\n      element.onerror = on_error;\n      element.rel = \"stylesheet\";\n      element.type = \"text/css\";\n      element.href = url;\n      console.debug(\"Bokeh: injecting link tag for BokehJS stylesheet: \", url);\n      document.body.appendChild(element);\n    }\n\n    var skip = [];\n    if (window.requirejs) {\n      window.requirejs.config({'packages': {}, 'paths': {'plotly': 'https://cdn.plot.ly/plotly-2.10.1.min', 'gridstack': 'https://cdn.jsdelivr.net/npm/gridstack@4.2.5/dist/gridstack-h5', 'notyf': 'https://cdn.jsdelivr.net/npm/notyf@3/notyf.min'}, 'shim': {'gridstack': {'exports': 'GridStack'}}});\n      require([\"plotly\"], function(Plotly) {\n\twindow.Plotly = Plotly\n\ton_load()\n      })\n      require([\"gridstack\"], function(GridStack) {\n\twindow.GridStack = GridStack\n\ton_load()\n      })\n      require([\"notyf\"], function() {\n\ton_load()\n      })\n      root._bokeh_is_loading = css_urls.length + 3;\n    } else {\n      root._bokeh_is_loading = css_urls.length + js_urls.length + js_modules.length;\n    }    if (((window['Plotly'] !== undefined) && (!(window['Plotly'] instanceof HTMLElement))) || window.requirejs) {\n      var urls = ['https://cdn.plot.ly/plotly-2.10.1.min.js'];\n      for (var i = 0; i < urls.length; i++) {\n        skip.push(urls[i])\n      }\n    }    if (((window['GridStack'] !== undefined) && (!(window['GridStack'] instanceof HTMLElement))) || window.requirejs) {\n      var urls = ['https://cdn.jsdelivr.net/npm/gridstack@4.2.5/dist/gridstack-h5.js'];\n      for (var i = 0; i < urls.length; i++) {\n        skip.push(urls[i])\n      }\n    }    if (((window['Notyf'] !== undefined) && (!(window['Notyf'] instanceof HTMLElement))) || window.requirejs) {\n      var urls = ['https://cdn.jsdelivr.net/npm/notyf@3/notyf.min.js'];\n      for (var i = 0; i < urls.length; i++) {\n        skip.push(urls[i])\n      }\n    }    for (var i = 0; i < js_urls.length; i++) {\n      var url = js_urls[i];\n      if (skip.indexOf(url) >= 0) {\n\tif (!window.requirejs) {\n\t  on_load();\n\t}\n\tcontinue;\n      }\n      var element = document.createElement('script');\n      element.onload = on_load;\n      element.onerror = on_error;\n      element.async = false;\n      element.src = url;\n      console.debug(\"Bokeh: injecting script tag for BokehJS library: \", url);\n      document.head.appendChild(element);\n    }\n    for (var i = 0; i < js_modules.length; i++) {\n      var url = js_modules[i];\n      if (skip.indexOf(url) >= 0) {\n\tif (!window.requirejs) {\n\t  on_load();\n\t}\n\tcontinue;\n      }\n      var element = document.createElement('script');\n      element.onload = on_load;\n      element.onerror = on_error;\n      element.async = false;\n      element.src = url;\n      element.type = \"module\";\n      console.debug(\"Bokeh: injecting script tag for BokehJS library: \", url);\n      document.head.appendChild(element);\n    }\n    if (!js_urls.length && !js_modules.length) {\n      on_load()\n    }\n  };\n\n  function inject_raw_css(css) {\n    const element = document.createElement(\"style\");\n    element.appendChild(document.createTextNode(css));\n    document.body.appendChild(element);\n  }\n\n  var js_urls = [\"https://cdn.jsdelivr.net/npm/jquery@3.5.1/dist/jquery.slim.min.js\", \"https://cdn.plot.ly/plotly-2.10.1.min.js\", \"https://cdn.bokeh.org/bokeh/release/bokeh-2.4.3.min.js\", \"https://cdn.bokeh.org/bokeh/release/bokeh-gl-2.4.3.min.js\", \"https://cdn.bokeh.org/bokeh/release/bokeh-widgets-2.4.3.min.js\", \"https://cdn.bokeh.org/bokeh/release/bokeh-tables-2.4.3.min.js\", \"https://cdn.bokeh.org/bokeh/release/bokeh-mathjax-2.4.3.min.js\", \"https://cdn.jsdelivr.net/npm/notyf@3/notyf.min.js\", \"https://unpkg.com/@holoviz/panel@0.13.1/dist/panel.min.js\"];\n  var js_modules = [];\n  var css_urls = [\"https://cdn.jsdelivr.net/npm/notyf@3/notyf.min.css\", \"https://cdnjs.cloudflare.com/ajax/libs/font-awesome/5.15.1/css/all.min.css\", \"https://unpkg.com/@holoviz/panel@0.13.1/dist/css/alerts.css\", \"https://unpkg.com/@holoviz/panel@0.13.1/dist/css/card.css\", \"https://unpkg.com/@holoviz/panel@0.13.1/dist/css/dataframe.css\", \"https://unpkg.com/@holoviz/panel@0.13.1/dist/css/debugger.css\", \"https://unpkg.com/@holoviz/panel@0.13.1/dist/css/json.css\", \"https://unpkg.com/@holoviz/panel@0.13.1/dist/css/loading.css\", \"https://unpkg.com/@holoviz/panel@0.13.1/dist/css/markdown.css\", \"https://unpkg.com/@holoviz/panel@0.13.1/dist/css/widgets.css\"];\n  var inline_js = [    function(Bokeh) {\n      inject_raw_css(\"\\n    .bk.pn-loading.arcs:before {\\n      background-image: url(\\\"data:image/svg+xml;base64,PHN2ZyB4bWxucz0iaHR0cDovL3d3dy53My5vcmcvMjAwMC9zdmciIHhtbG5zOnhsaW5rPSJodHRwOi8vd3d3LnczLm9yZy8xOTk5L3hsaW5rIiBzdHlsZT0ibWFyZ2luOiBhdXRvOyBiYWNrZ3JvdW5kOiBub25lOyBkaXNwbGF5OiBibG9jazsgc2hhcGUtcmVuZGVyaW5nOiBhdXRvOyIgdmlld0JveD0iMCAwIDEwMCAxMDAiIHByZXNlcnZlQXNwZWN0UmF0aW89InhNaWRZTWlkIj4gIDxjaXJjbGUgY3g9IjUwIiBjeT0iNTAiIHI9IjMyIiBzdHJva2Utd2lkdGg9IjgiIHN0cm9rZT0iI2MzYzNjMyIgc3Ryb2tlLWRhc2hhcnJheT0iNTAuMjY1NDgyNDU3NDM2NjkgNTAuMjY1NDgyNDU3NDM2NjkiIGZpbGw9Im5vbmUiIHN0cm9rZS1saW5lY2FwPSJyb3VuZCI+ICAgIDxhbmltYXRlVHJhbnNmb3JtIGF0dHJpYnV0ZU5hbWU9InRyYW5zZm9ybSIgdHlwZT0icm90YXRlIiByZXBlYXRDb3VudD0iaW5kZWZpbml0ZSIgZHVyPSIxcyIga2V5VGltZXM9IjA7MSIgdmFsdWVzPSIwIDUwIDUwOzM2MCA1MCA1MCI+PC9hbmltYXRlVHJhbnNmb3JtPiAgPC9jaXJjbGU+PC9zdmc+\\\");\\n      background-size: auto calc(min(50%, 400px));\\n    }\\n    \");\n    },    function(Bokeh) {\n      inject_raw_css(\"\\n.bk.controls_main {\\n    max-width: 40vw !important;\\n    height: 880px !important;\\n    border-radius: 15px;\\n}\\n\\n\");\n    },    function(Bokeh) {\n      Bokeh.set_log_level(\"info\");\n    },\nfunction(Bokeh) {} // ensure no trailing comma for IE\n  ];\n\n  function run_inline_js() {\n    if ((root.Bokeh !== undefined) || (force === true)) {\n      for (var i = 0; i < inline_js.length; i++) {\n        inline_js[i].call(root, root.Bokeh);\n      }} else if (Date.now() < root._bokeh_timeout) {\n      setTimeout(run_inline_js, 100);\n    } else if (!root._bokeh_failed_load) {\n      console.log(\"Bokeh: BokehJS failed to load within specified timeout.\");\n      root._bokeh_failed_load = true;\n    }\n  }\n\n  if (root._bokeh_is_loading === 0) {\n    console.debug(\"Bokeh: BokehJS loaded, going straight to plotting\");\n    run_inline_js();\n  } else {\n    load_libs(css_urls, js_urls, js_modules, function() {\n      console.debug(\"Bokeh: BokehJS plotting callback run at\", now());\n      run_inline_js();\n    });\n  }\n}(window));"
     },
     "metadata": {},
     "output_type": "display_data"
    },
    {
     "data": {
      "application/javascript": [
       "\n",
       "if ((window.PyViz === undefined) || (window.PyViz instanceof HTMLElement)) {\n",
       "  window.PyViz = {comms: {}, comm_status:{}, kernels:{}, receivers: {}, plot_index: []}\n",
       "}\n",
       "\n",
       "\n",
       "    function JupyterCommManager() {\n",
       "    }\n",
       "\n",
       "    JupyterCommManager.prototype.register_target = function(plot_id, comm_id, msg_handler) {\n",
       "      if (window.comm_manager || ((window.Jupyter !== undefined) && (Jupyter.notebook.kernel != null))) {\n",
       "        var comm_manager = window.comm_manager || Jupyter.notebook.kernel.comm_manager;\n",
       "        comm_manager.register_target(comm_id, function(comm) {\n",
       "          comm.on_msg(msg_handler);\n",
       "        });\n",
       "      } else if ((plot_id in window.PyViz.kernels) && (window.PyViz.kernels[plot_id])) {\n",
       "        window.PyViz.kernels[plot_id].registerCommTarget(comm_id, function(comm) {\n",
       "          comm.onMsg = msg_handler;\n",
       "        });\n",
       "      } else if (typeof google != 'undefined' && google.colab.kernel != null) {\n",
       "        google.colab.kernel.comms.registerTarget(comm_id, (comm) => {\n",
       "          var messages = comm.messages[Symbol.asyncIterator]();\n",
       "          function processIteratorResult(result) {\n",
       "            var message = result.value;\n",
       "            console.log(message)\n",
       "            var content = {data: message.data, comm_id};\n",
       "            var buffers = []\n",
       "            for (var buffer of message.buffers || []) {\n",
       "              buffers.push(new DataView(buffer))\n",
       "            }\n",
       "            var metadata = message.metadata || {};\n",
       "            var msg = {content, buffers, metadata}\n",
       "            msg_handler(msg);\n",
       "            return messages.next().then(processIteratorResult);\n",
       "          }\n",
       "          return messages.next().then(processIteratorResult);\n",
       "        })\n",
       "      }\n",
       "    }\n",
       "\n",
       "    JupyterCommManager.prototype.get_client_comm = function(plot_id, comm_id, msg_handler) {\n",
       "      if (comm_id in window.PyViz.comms) {\n",
       "        return window.PyViz.comms[comm_id];\n",
       "      } else if (window.comm_manager || ((window.Jupyter !== undefined) && (Jupyter.notebook.kernel != null))) {\n",
       "        var comm_manager = window.comm_manager || Jupyter.notebook.kernel.comm_manager;\n",
       "        var comm = comm_manager.new_comm(comm_id, {}, {}, {}, comm_id);\n",
       "        if (msg_handler) {\n",
       "          comm.on_msg(msg_handler);\n",
       "        }\n",
       "      } else if ((plot_id in window.PyViz.kernels) && (window.PyViz.kernels[plot_id])) {\n",
       "        var comm = window.PyViz.kernels[plot_id].connectToComm(comm_id);\n",
       "        comm.open();\n",
       "        if (msg_handler) {\n",
       "          comm.onMsg = msg_handler;\n",
       "        }\n",
       "      } else if (typeof google != 'undefined' && google.colab.kernel != null) {\n",
       "        var comm_promise = google.colab.kernel.comms.open(comm_id)\n",
       "        comm_promise.then((comm) => {\n",
       "          window.PyViz.comms[comm_id] = comm;\n",
       "          if (msg_handler) {\n",
       "            var messages = comm.messages[Symbol.asyncIterator]();\n",
       "            function processIteratorResult(result) {\n",
       "              var message = result.value;\n",
       "              var content = {data: message.data};\n",
       "              var metadata = message.metadata || {comm_id};\n",
       "              var msg = {content, metadata}\n",
       "              msg_handler(msg);\n",
       "              return messages.next().then(processIteratorResult);\n",
       "            }\n",
       "            return messages.next().then(processIteratorResult);\n",
       "          }\n",
       "        }) \n",
       "        var sendClosure = (data, metadata, buffers, disposeOnDone) => {\n",
       "          return comm_promise.then((comm) => {\n",
       "            comm.send(data, metadata, buffers, disposeOnDone);\n",
       "          });\n",
       "        };\n",
       "        var comm = {\n",
       "          send: sendClosure\n",
       "        };\n",
       "      }\n",
       "      window.PyViz.comms[comm_id] = comm;\n",
       "      return comm;\n",
       "    }\n",
       "    window.PyViz.comm_manager = new JupyterCommManager();\n",
       "    \n",
       "\n",
       "\n",
       "var JS_MIME_TYPE = 'application/javascript';\n",
       "var HTML_MIME_TYPE = 'text/html';\n",
       "var EXEC_MIME_TYPE = 'application/vnd.holoviews_exec.v0+json';\n",
       "var CLASS_NAME = 'output';\n",
       "\n",
       "/**\n",
       " * Render data to the DOM node\n",
       " */\n",
       "function render(props, node) {\n",
       "  var div = document.createElement(\"div\");\n",
       "  var script = document.createElement(\"script\");\n",
       "  node.appendChild(div);\n",
       "  node.appendChild(script);\n",
       "}\n",
       "\n",
       "/**\n",
       " * Handle when a new output is added\n",
       " */\n",
       "function handle_add_output(event, handle) {\n",
       "  var output_area = handle.output_area;\n",
       "  var output = handle.output;\n",
       "  if ((output.data == undefined) || (!output.data.hasOwnProperty(EXEC_MIME_TYPE))) {\n",
       "    return\n",
       "  }\n",
       "  var id = output.metadata[EXEC_MIME_TYPE][\"id\"];\n",
       "  var toinsert = output_area.element.find(\".\" + CLASS_NAME.split(' ')[0]);\n",
       "  if (id !== undefined) {\n",
       "    var nchildren = toinsert.length;\n",
       "    var html_node = toinsert[nchildren-1].children[0];\n",
       "    html_node.innerHTML = output.data[HTML_MIME_TYPE];\n",
       "    var scripts = [];\n",
       "    var nodelist = html_node.querySelectorAll(\"script\");\n",
       "    for (var i in nodelist) {\n",
       "      if (nodelist.hasOwnProperty(i)) {\n",
       "        scripts.push(nodelist[i])\n",
       "      }\n",
       "    }\n",
       "\n",
       "    scripts.forEach( function (oldScript) {\n",
       "      var newScript = document.createElement(\"script\");\n",
       "      var attrs = [];\n",
       "      var nodemap = oldScript.attributes;\n",
       "      for (var j in nodemap) {\n",
       "        if (nodemap.hasOwnProperty(j)) {\n",
       "          attrs.push(nodemap[j])\n",
       "        }\n",
       "      }\n",
       "      attrs.forEach(function(attr) { newScript.setAttribute(attr.name, attr.value) });\n",
       "      newScript.appendChild(document.createTextNode(oldScript.innerHTML));\n",
       "      oldScript.parentNode.replaceChild(newScript, oldScript);\n",
       "    });\n",
       "    if (JS_MIME_TYPE in output.data) {\n",
       "      toinsert[nchildren-1].children[1].textContent = output.data[JS_MIME_TYPE];\n",
       "    }\n",
       "    output_area._hv_plot_id = id;\n",
       "    if ((window.Bokeh !== undefined) && (id in Bokeh.index)) {\n",
       "      window.PyViz.plot_index[id] = Bokeh.index[id];\n",
       "    } else {\n",
       "      window.PyViz.plot_index[id] = null;\n",
       "    }\n",
       "  } else if (output.metadata[EXEC_MIME_TYPE][\"server_id\"] !== undefined) {\n",
       "    var bk_div = document.createElement(\"div\");\n",
       "    bk_div.innerHTML = output.data[HTML_MIME_TYPE];\n",
       "    var script_attrs = bk_div.children[0].attributes;\n",
       "    for (var i = 0; i < script_attrs.length; i++) {\n",
       "      toinsert[toinsert.length - 1].childNodes[1].setAttribute(script_attrs[i].name, script_attrs[i].value);\n",
       "    }\n",
       "    // store reference to server id on output_area\n",
       "    output_area._bokeh_server_id = output.metadata[EXEC_MIME_TYPE][\"server_id\"];\n",
       "  }\n",
       "}\n",
       "\n",
       "/**\n",
       " * Handle when an output is cleared or removed\n",
       " */\n",
       "function handle_clear_output(event, handle) {\n",
       "  var id = handle.cell.output_area._hv_plot_id;\n",
       "  var server_id = handle.cell.output_area._bokeh_server_id;\n",
       "  if (((id === undefined) || !(id in PyViz.plot_index)) && (server_id !== undefined)) { return; }\n",
       "  var comm = window.PyViz.comm_manager.get_client_comm(\"hv-extension-comm\", \"hv-extension-comm\", function () {});\n",
       "  if (server_id !== null) {\n",
       "    comm.send({event_type: 'server_delete', 'id': server_id});\n",
       "    return;\n",
       "  } else if (comm !== null) {\n",
       "    comm.send({event_type: 'delete', 'id': id});\n",
       "  }\n",
       "  delete PyViz.plot_index[id];\n",
       "  if ((window.Bokeh !== undefined) & (id in window.Bokeh.index)) {\n",
       "    var doc = window.Bokeh.index[id].model.document\n",
       "    doc.clear();\n",
       "    const i = window.Bokeh.documents.indexOf(doc);\n",
       "    if (i > -1) {\n",
       "      window.Bokeh.documents.splice(i, 1);\n",
       "    }\n",
       "  }\n",
       "}\n",
       "\n",
       "/**\n",
       " * Handle kernel restart event\n",
       " */\n",
       "function handle_kernel_cleanup(event, handle) {\n",
       "  delete PyViz.comms[\"hv-extension-comm\"];\n",
       "  window.PyViz.plot_index = {}\n",
       "}\n",
       "\n",
       "/**\n",
       " * Handle update_display_data messages\n",
       " */\n",
       "function handle_update_output(event, handle) {\n",
       "  handle_clear_output(event, {cell: {output_area: handle.output_area}})\n",
       "  handle_add_output(event, handle)\n",
       "}\n",
       "\n",
       "function register_renderer(events, OutputArea) {\n",
       "  function append_mime(data, metadata, element) {\n",
       "    // create a DOM node to render to\n",
       "    var toinsert = this.create_output_subarea(\n",
       "    metadata,\n",
       "    CLASS_NAME,\n",
       "    EXEC_MIME_TYPE\n",
       "    );\n",
       "    this.keyboard_manager.register_events(toinsert);\n",
       "    // Render to node\n",
       "    var props = {data: data, metadata: metadata[EXEC_MIME_TYPE]};\n",
       "    render(props, toinsert[0]);\n",
       "    element.append(toinsert);\n",
       "    return toinsert\n",
       "  }\n",
       "\n",
       "  events.on('output_added.OutputArea', handle_add_output);\n",
       "  events.on('output_updated.OutputArea', handle_update_output);\n",
       "  events.on('clear_output.CodeCell', handle_clear_output);\n",
       "  events.on('delete.Cell', handle_clear_output);\n",
       "  events.on('kernel_ready.Kernel', handle_kernel_cleanup);\n",
       "\n",
       "  OutputArea.prototype.register_mime_type(EXEC_MIME_TYPE, append_mime, {\n",
       "    safe: true,\n",
       "    index: 0\n",
       "  });\n",
       "}\n",
       "\n",
       "if (window.Jupyter !== undefined) {\n",
       "  try {\n",
       "    var events = require('base/js/events');\n",
       "    var OutputArea = require('notebook/js/outputarea').OutputArea;\n",
       "    if (OutputArea.prototype.mime_types().indexOf(EXEC_MIME_TYPE) == -1) {\n",
       "      register_renderer(events, OutputArea);\n",
       "    }\n",
       "  } catch(err) {\n",
       "  }\n",
       "}\n"
      ],
      "application/vnd.holoviews_load.v0+json": "\nif ((window.PyViz === undefined) || (window.PyViz instanceof HTMLElement)) {\n  window.PyViz = {comms: {}, comm_status:{}, kernels:{}, receivers: {}, plot_index: []}\n}\n\n\n    function JupyterCommManager() {\n    }\n\n    JupyterCommManager.prototype.register_target = function(plot_id, comm_id, msg_handler) {\n      if (window.comm_manager || ((window.Jupyter !== undefined) && (Jupyter.notebook.kernel != null))) {\n        var comm_manager = window.comm_manager || Jupyter.notebook.kernel.comm_manager;\n        comm_manager.register_target(comm_id, function(comm) {\n          comm.on_msg(msg_handler);\n        });\n      } else if ((plot_id in window.PyViz.kernels) && (window.PyViz.kernels[plot_id])) {\n        window.PyViz.kernels[plot_id].registerCommTarget(comm_id, function(comm) {\n          comm.onMsg = msg_handler;\n        });\n      } else if (typeof google != 'undefined' && google.colab.kernel != null) {\n        google.colab.kernel.comms.registerTarget(comm_id, (comm) => {\n          var messages = comm.messages[Symbol.asyncIterator]();\n          function processIteratorResult(result) {\n            var message = result.value;\n            console.log(message)\n            var content = {data: message.data, comm_id};\n            var buffers = []\n            for (var buffer of message.buffers || []) {\n              buffers.push(new DataView(buffer))\n            }\n            var metadata = message.metadata || {};\n            var msg = {content, buffers, metadata}\n            msg_handler(msg);\n            return messages.next().then(processIteratorResult);\n          }\n          return messages.next().then(processIteratorResult);\n        })\n      }\n    }\n\n    JupyterCommManager.prototype.get_client_comm = function(plot_id, comm_id, msg_handler) {\n      if (comm_id in window.PyViz.comms) {\n        return window.PyViz.comms[comm_id];\n      } else if (window.comm_manager || ((window.Jupyter !== undefined) && (Jupyter.notebook.kernel != null))) {\n        var comm_manager = window.comm_manager || Jupyter.notebook.kernel.comm_manager;\n        var comm = comm_manager.new_comm(comm_id, {}, {}, {}, comm_id);\n        if (msg_handler) {\n          comm.on_msg(msg_handler);\n        }\n      } else if ((plot_id in window.PyViz.kernels) && (window.PyViz.kernels[plot_id])) {\n        var comm = window.PyViz.kernels[plot_id].connectToComm(comm_id);\n        comm.open();\n        if (msg_handler) {\n          comm.onMsg = msg_handler;\n        }\n      } else if (typeof google != 'undefined' && google.colab.kernel != null) {\n        var comm_promise = google.colab.kernel.comms.open(comm_id)\n        comm_promise.then((comm) => {\n          window.PyViz.comms[comm_id] = comm;\n          if (msg_handler) {\n            var messages = comm.messages[Symbol.asyncIterator]();\n            function processIteratorResult(result) {\n              var message = result.value;\n              var content = {data: message.data};\n              var metadata = message.metadata || {comm_id};\n              var msg = {content, metadata}\n              msg_handler(msg);\n              return messages.next().then(processIteratorResult);\n            }\n            return messages.next().then(processIteratorResult);\n          }\n        }) \n        var sendClosure = (data, metadata, buffers, disposeOnDone) => {\n          return comm_promise.then((comm) => {\n            comm.send(data, metadata, buffers, disposeOnDone);\n          });\n        };\n        var comm = {\n          send: sendClosure\n        };\n      }\n      window.PyViz.comms[comm_id] = comm;\n      return comm;\n    }\n    window.PyViz.comm_manager = new JupyterCommManager();\n    \n\n\nvar JS_MIME_TYPE = 'application/javascript';\nvar HTML_MIME_TYPE = 'text/html';\nvar EXEC_MIME_TYPE = 'application/vnd.holoviews_exec.v0+json';\nvar CLASS_NAME = 'output';\n\n/**\n * Render data to the DOM node\n */\nfunction render(props, node) {\n  var div = document.createElement(\"div\");\n  var script = document.createElement(\"script\");\n  node.appendChild(div);\n  node.appendChild(script);\n}\n\n/**\n * Handle when a new output is added\n */\nfunction handle_add_output(event, handle) {\n  var output_area = handle.output_area;\n  var output = handle.output;\n  if ((output.data == undefined) || (!output.data.hasOwnProperty(EXEC_MIME_TYPE))) {\n    return\n  }\n  var id = output.metadata[EXEC_MIME_TYPE][\"id\"];\n  var toinsert = output_area.element.find(\".\" + CLASS_NAME.split(' ')[0]);\n  if (id !== undefined) {\n    var nchildren = toinsert.length;\n    var html_node = toinsert[nchildren-1].children[0];\n    html_node.innerHTML = output.data[HTML_MIME_TYPE];\n    var scripts = [];\n    var nodelist = html_node.querySelectorAll(\"script\");\n    for (var i in nodelist) {\n      if (nodelist.hasOwnProperty(i)) {\n        scripts.push(nodelist[i])\n      }\n    }\n\n    scripts.forEach( function (oldScript) {\n      var newScript = document.createElement(\"script\");\n      var attrs = [];\n      var nodemap = oldScript.attributes;\n      for (var j in nodemap) {\n        if (nodemap.hasOwnProperty(j)) {\n          attrs.push(nodemap[j])\n        }\n      }\n      attrs.forEach(function(attr) { newScript.setAttribute(attr.name, attr.value) });\n      newScript.appendChild(document.createTextNode(oldScript.innerHTML));\n      oldScript.parentNode.replaceChild(newScript, oldScript);\n    });\n    if (JS_MIME_TYPE in output.data) {\n      toinsert[nchildren-1].children[1].textContent = output.data[JS_MIME_TYPE];\n    }\n    output_area._hv_plot_id = id;\n    if ((window.Bokeh !== undefined) && (id in Bokeh.index)) {\n      window.PyViz.plot_index[id] = Bokeh.index[id];\n    } else {\n      window.PyViz.plot_index[id] = null;\n    }\n  } else if (output.metadata[EXEC_MIME_TYPE][\"server_id\"] !== undefined) {\n    var bk_div = document.createElement(\"div\");\n    bk_div.innerHTML = output.data[HTML_MIME_TYPE];\n    var script_attrs = bk_div.children[0].attributes;\n    for (var i = 0; i < script_attrs.length; i++) {\n      toinsert[toinsert.length - 1].childNodes[1].setAttribute(script_attrs[i].name, script_attrs[i].value);\n    }\n    // store reference to server id on output_area\n    output_area._bokeh_server_id = output.metadata[EXEC_MIME_TYPE][\"server_id\"];\n  }\n}\n\n/**\n * Handle when an output is cleared or removed\n */\nfunction handle_clear_output(event, handle) {\n  var id = handle.cell.output_area._hv_plot_id;\n  var server_id = handle.cell.output_area._bokeh_server_id;\n  if (((id === undefined) || !(id in PyViz.plot_index)) && (server_id !== undefined)) { return; }\n  var comm = window.PyViz.comm_manager.get_client_comm(\"hv-extension-comm\", \"hv-extension-comm\", function () {});\n  if (server_id !== null) {\n    comm.send({event_type: 'server_delete', 'id': server_id});\n    return;\n  } else if (comm !== null) {\n    comm.send({event_type: 'delete', 'id': id});\n  }\n  delete PyViz.plot_index[id];\n  if ((window.Bokeh !== undefined) & (id in window.Bokeh.index)) {\n    var doc = window.Bokeh.index[id].model.document\n    doc.clear();\n    const i = window.Bokeh.documents.indexOf(doc);\n    if (i > -1) {\n      window.Bokeh.documents.splice(i, 1);\n    }\n  }\n}\n\n/**\n * Handle kernel restart event\n */\nfunction handle_kernel_cleanup(event, handle) {\n  delete PyViz.comms[\"hv-extension-comm\"];\n  window.PyViz.plot_index = {}\n}\n\n/**\n * Handle update_display_data messages\n */\nfunction handle_update_output(event, handle) {\n  handle_clear_output(event, {cell: {output_area: handle.output_area}})\n  handle_add_output(event, handle)\n}\n\nfunction register_renderer(events, OutputArea) {\n  function append_mime(data, metadata, element) {\n    // create a DOM node to render to\n    var toinsert = this.create_output_subarea(\n    metadata,\n    CLASS_NAME,\n    EXEC_MIME_TYPE\n    );\n    this.keyboard_manager.register_events(toinsert);\n    // Render to node\n    var props = {data: data, metadata: metadata[EXEC_MIME_TYPE]};\n    render(props, toinsert[0]);\n    element.append(toinsert);\n    return toinsert\n  }\n\n  events.on('output_added.OutputArea', handle_add_output);\n  events.on('output_updated.OutputArea', handle_update_output);\n  events.on('clear_output.CodeCell', handle_clear_output);\n  events.on('delete.Cell', handle_clear_output);\n  events.on('kernel_ready.Kernel', handle_kernel_cleanup);\n\n  OutputArea.prototype.register_mime_type(EXEC_MIME_TYPE, append_mime, {\n    safe: true,\n    index: 0\n  });\n}\n\nif (window.Jupyter !== undefined) {\n  try {\n    var events = require('base/js/events');\n    var OutputArea = require('notebook/js/outputarea').OutputArea;\n    if (OutputArea.prototype.mime_types().indexOf(EXEC_MIME_TYPE) == -1) {\n      register_renderer(events, OutputArea);\n    }\n  } catch(err) {\n  }\n}\n"
     },
     "metadata": {},
     "output_type": "display_data"
    },
    {
     "data": {
      "text/html": [
       "<style>.bk-root, .bk-root .bk:before, .bk-root .bk:after {\n",
       "  font-family: var(--jp-ui-font-size1);\n",
       "  font-size: var(--jp-ui-font-size1);\n",
       "  color: var(--jp-ui-font-color1);\n",
       "}\n",
       "</style>"
      ]
     },
     "metadata": {},
     "output_type": "display_data"
    },
    {
     "name": "stdout",
     "output_type": "stream",
     "text": [
      "time: 16 ms (started: 2022-09-24 18:35:35 -05:00)\n"
     ]
    }
   ],
   "source": [
    "css = '''\n",
    ".bk.controls_main {\n",
    "    max-width: 40vw !important;\n",
    "    height: 880px !important;\n",
    "    border-radius: 15px;\n",
    "}\n",
    "\n",
    "'''\n",
    "pn.extension(raw_css=[css])"
   ]
  },
  {
   "cell_type": "code",
   "execution_count": 17,
   "id": "29df5fa3",
   "metadata": {},
   "outputs": [
    {
     "name": "stdout",
     "output_type": "stream",
     "text": [
      "time: 0 ns (started: 2022-09-24 18:35:35 -05:00)\n"
     ]
    }
   ],
   "source": [
    "traj_type = pnw.RadioButtonGroup(\n",
    "    name='Trajectory type', \n",
    "    options=['Brownian motion','Correlated Random Walk', 'Levy Flight'], \n",
    "    button_type = 'primary', margin=(15,0,0,5))"
   ]
  },
  {
   "cell_type": "markdown",
   "id": "f680f45a",
   "metadata": {},
   "source": [
    "## Basic Controls"
   ]
  },
  {
   "cell_type": "code",
   "execution_count": 18,
   "id": "cf5b5b81",
   "metadata": {},
   "outputs": [
    {
     "name": "stdout",
     "output_type": "stream",
     "text": [
      "time: 0 ns (started: 2022-09-24 18:35:35 -05:00)\n"
     ]
    }
   ],
   "source": [
    "n_traj = pnw.IntSlider(name='Numer of trajectories', value=1, step=1, start=1, end=3,css_classes = ['max_38_vwh'])\n",
    "\n",
    "s_x = pnw.IntInput(name='X Starting position',value=0, step=1, start=-100, end=100, width = 100)\n",
    "s_y = pnw.IntInput(name='Y Starting position',value=0, step=1, start=-100, end=100, width = 100)\n",
    "\n",
    "speed = pnw.IntInput(name='Speed',value=6, step=1, start=1, end=10, width=100)\n",
    "\n",
    "n_steps = pnw.IntSlider(name='Numer of steps', value=1000, step=1000, start=1000, end=100000)"
   ]
  },
  {
   "cell_type": "code",
   "execution_count": 19,
   "id": "2ebab42f",
   "metadata": {},
   "outputs": [
    {
     "name": "stdout",
     "output_type": "stream",
     "text": [
      "time: 0 ns (started: 2022-09-24 18:35:35 -05:00)\n"
     ]
    }
   ],
   "source": [
    "basic_controls = pn.Column(\n",
    "    '#### General parameters',\n",
    "    '###### all trajectories will be set with same general satrting parameters',\n",
    "    pn.Row(s_x,s_y),\n",
    "    pn.Row(speed,n_steps))"
   ]
  },
  {
   "cell_type": "code",
   "execution_count": 20,
   "id": "97a8342d",
   "metadata": {},
   "outputs": [
    {
     "name": "stdout",
     "output_type": "stream",
     "text": [
      "time: 0 ns (started: 2022-09-24 18:35:35 -05:00)\n"
     ]
    }
   ],
   "source": [
    "traj_controls = pn.Column(n_traj, '###### Max 3 trayectories')"
   ]
  },
  {
   "cell_type": "markdown",
   "id": "5e2bcbb5",
   "metadata": {},
   "source": [
    "## BM Controls"
   ]
  },
  {
   "cell_type": "code",
   "execution_count": 21,
   "id": "29363461",
   "metadata": {},
   "outputs": [
    {
     "name": "stdout",
     "output_type": "stream",
     "text": [
      "time: 0 ns (started: 2022-09-24 18:35:35 -05:00)\n"
     ]
    }
   ],
   "source": [
    "bm_type = pnw.RadioButtonGroup(name='BM Type', options=['BM 2D', 'North-South-East-Weast Restriction'], button_type = 'default')"
   ]
  },
  {
   "cell_type": "markdown",
   "id": "a4baba86",
   "metadata": {},
   "source": [
    "## CRW Controls"
   ]
  },
  {
   "cell_type": "code",
   "execution_count": 22,
   "id": "c61065cd",
   "metadata": {},
   "outputs": [
    {
     "name": "stdout",
     "output_type": "stream",
     "text": [
      "time: 15 ms (started: 2022-09-24 18:35:35 -05:00)\n"
     ]
    }
   ],
   "source": [
    "crw_e_1 = pnw.FloatInput(name='c',value=0.6, step=0.1, start=0.1, end=0.9, width=80)\n",
    "crw_e_2 = pnw.FloatInput(name='c for t2',value=0.6, step=0.1, start=0.1, end=0.9, width=80)\n",
    "crw_e_3 = pnw.FloatInput(name='c for t3',value=0.6, step=0.1, start=0.1, end=0.9, width=80)\n",
    "crw_e_4 = pnw.FloatInput(name='c for t4',value=0.6, step=0.1, start=0.1, end=0.9, width=80)"
   ]
  },
  {
   "cell_type": "code",
   "execution_count": 23,
   "id": "c66b1248",
   "metadata": {},
   "outputs": [
    {
     "name": "stdout",
     "output_type": "stream",
     "text": [
      "time: 0 ns (started: 2022-09-24 18:35:35 -05:00)\n"
     ]
    }
   ],
   "source": [
    "apply_crwe_to_all = pnw.RadioButtonGroup(name='crwe_apply', options=['YES', 'NO'], button_type = 'default')"
   ]
  },
  {
   "cell_type": "code",
   "execution_count": 24,
   "id": "7a275cc0",
   "metadata": {},
   "outputs": [
    {
     "name": "stdout",
     "output_type": "stream",
     "text": [
      "time: 0 ns (started: 2022-09-24 18:35:35 -05:00)\n"
     ]
    }
   ],
   "source": [
    "CRW_controls = pn.Column(\n",
    "    '#### CRW Parameters',\n",
    "    pn.Column('##### Apply same exponent to all trajectories?',apply_crwe_to_all),\n",
    "    crw_e_1)"
   ]
  },
  {
   "cell_type": "markdown",
   "id": "859ad5f0",
   "metadata": {},
   "source": [
    "## Levy controls"
   ]
  },
  {
   "cell_type": "code",
   "execution_count": 25,
   "id": "1596812c",
   "metadata": {},
   "outputs": [
    {
     "name": "stdout",
     "output_type": "stream",
     "text": [
      "time: 0 ns (started: 2022-09-24 18:35:35 -05:00)\n"
     ]
    }
   ],
   "source": [
    "levy_alpha = pnw.FloatInput(name='alpha',value=1.5, step=0.1, start=0, end=2, width= 80)\n",
    "levy_beta = pnw.FloatInput(name='beta',value=1, step=0.1, start=0, end=1, width= 80)\n",
    "levy_loc = pnw.IntSlider(name='loc', value=3, step=1, start=0, end=10, width= 80)"
   ]
  },
  {
   "cell_type": "code",
   "execution_count": 26,
   "id": "c0f700e2",
   "metadata": {},
   "outputs": [
    {
     "name": "stdout",
     "output_type": "stream",
     "text": [
      "time: 0 ns (started: 2022-09-24 18:35:35 -05:00)\n"
     ]
    }
   ],
   "source": [
    "Levy_controls = pn.Column(\n",
    "    '#### Levy values',\n",
    "    pn.Row(levy_alpha,levy_beta, levy_loc))"
   ]
  },
  {
   "cell_type": "markdown",
   "id": "6b2cc921",
   "metadata": {},
   "source": [
    "## Metrcis controls"
   ]
  },
  {
   "cell_type": "code",
   "execution_count": 27,
   "id": "1aeebfc0",
   "metadata": {},
   "outputs": [
    {
     "name": "stdout",
     "output_type": "stream",
     "text": [
      "time: 0 ns (started: 2022-09-24 18:35:35 -05:00)\n"
     ]
    }
   ],
   "source": [
    "metrics_menu = pnw.RadioBoxGroup(\n",
    "    name = 'mt_control', \n",
    "    options = ['Path Lenght', 'Mean Square Displacement'])"
   ]
  },
  {
   "cell_type": "code",
   "execution_count": 28,
   "id": "d88300d4",
   "metadata": {},
   "outputs": [
    {
     "name": "stdout",
     "output_type": "stream",
     "text": [
      "time: 16 ms (started: 2022-09-24 18:35:35 -05:00)\n"
     ]
    }
   ],
   "source": [
    "metrics_controls = pn.Column('### Calculate Metric:', metrics_menu)"
   ]
  },
  {
   "cell_type": "markdown",
   "id": "c764332f",
   "metadata": {},
   "source": [
    "## ALL"
   ]
  },
  {
   "cell_type": "code",
   "execution_count": 29,
   "id": "5e35991c",
   "metadata": {},
   "outputs": [
    {
     "name": "stdout",
     "output_type": "stream",
     "text": [
      "time: 0 ns (started: 2022-09-24 18:35:35 -05:00)\n"
     ]
    }
   ],
   "source": [
    "@pn.depends(traj_type, n_traj, apply_crwe_to_all)\n",
    "def display_controls(traj_type, n_traj, apply_crwe_to_all):\n",
    "    \n",
    "    controls_layout = pn.Column('####')\n",
    "    \n",
    "    if traj_type == \"Brownian motion\":\n",
    "        controls_layout = pn.Column(traj_controls, basic_controls, '#### Brownian Motion Type', bm_type, metrics_controls)\n",
    "        \n",
    "        \n",
    "    if traj_type == 'Correlated Random Walk' and  n_traj == 2 and apply_crwe_to_all == 'NO':\n",
    "        controls_layout = pn.Column(traj_controls, basic_controls, CRW_controls, crw_e_2, metrics_controls)\n",
    "    \n",
    "    if traj_type == 'Correlated Random Walk' and  n_traj == 3 and apply_crwe_to_all == 'NO':\n",
    "        controls_layout = pn.Column(traj_controls, basic_controls, CRW_controls, pn.Row(crw_e_2,crw_e_3), metrics_controls)\n",
    "    \n",
    "    if traj_type == 'Correlated Random Walk' and  (n_traj == 1 or apply_crwe_to_all == 'YES'):\n",
    "        controls_layout = pn.Column(traj_controls, basic_controls, CRW_controls, metrics_controls)\n",
    "        \n",
    "        \n",
    "    if traj_type == \"Levy Flight\":\n",
    "        controls_layout = pn.Column(basic_controls,Levy_controls, metrics_controls)\n",
    "        \n",
    "    return controls_layout"
   ]
  },
  {
   "cell_type": "code",
   "execution_count": 30,
   "id": "e08797db",
   "metadata": {},
   "outputs": [
    {
     "name": "stdout",
     "output_type": "stream",
     "text": [
      "time: 0 ns (started: 2022-09-24 18:35:35 -05:00)\n"
     ]
    }
   ],
   "source": [
    "@pn.depends(traj_type, n_traj, s_x, s_y, speed, n_steps, bm_type, apply_crwe_to_all, crw_e_1, crw_e_2, crw_e_3, levy_alpha, levy_beta, levy_loc)\n",
    "def set_traj_data(traj_type, n_traj, s_x, s_y, speed, n_steps,  bm_type, apply_crwe_to_all, crw_e_1, crw_e_2, crw_e_3, levy_alpha, levy_beta, levy_loc):\n",
    "    \n",
    "    \n",
    "    # define trajectory type\n",
    "    tt = \"\"\n",
    "    prefix = \"trayectory_\"\n",
    "    if traj_type == \"Brownian motion\" and bm_type == 'BM 2D' :\n",
    "        tt = \"BM_2d\"\n",
    "        \n",
    "    if traj_type == \"Brownian motion\" and bm_type == 'North-South-East-Weast Restriction' :\n",
    "        tt = \"BM_nsew\"\n",
    "        \n",
    "    if traj_type == \"Correlated Random Walk\":\n",
    "        tt = \"CRW\"\n",
    "        prefix = \"cuachy_\"\n",
    "        \n",
    "        \n",
    "    exponents = [0.1]      \n",
    "    if traj_type =='Correlated Random Walk' and (n_traj == 1 or apply_crwe_to_all == 'YES'):\n",
    "        exponents = [crw_e_1]\n",
    "        \n",
    "    if traj_type =='Correlated Random Walk' and n_traj == 2 and apply_crwe_to_all == 'NO':\n",
    "        exponents = [crw_e_1, crw_e_2]\n",
    "    \n",
    "    if traj_type =='Correlated Random Walk' and n_traj == 3 and apply_crwe_to_all == 'NO':\n",
    "         exponents = [crw_e_1, crw_e_2, crw_e_3]\n",
    "    \n",
    "    \n",
    "        \n",
    "        \n",
    "            \n",
    "    if not traj_type == \"Levy Flight\":\n",
    "        explorers = Explorers(s_x,s_y)\n",
    "        traj = explorers.trace_trajectories(n_traj = n_traj, traj_type= tt, n_steps = n_steps, speed = speed, crw_exponents = exponents)\n",
    "    \n",
    "    if traj_type == \"Levy Flight\":\n",
    "        tt = \"LF\"\n",
    "        prefix = \"Levy_alpha_\"\n",
    "        levy_flight = LFlyTrajectory (s_x,s_y)\n",
    "        traj = levy_flight.levy_walk(alpha = levy_alpha, beta = levy_beta, loc = levy_loc , speed = speed, samples = n_steps)\n",
    "    \n",
    "        \n",
    "    global g_dash_data\n",
    "    g_dash_data = traj"
   ]
  },
  {
   "cell_type": "code",
   "execution_count": 31,
   "id": "780babfc",
   "metadata": {},
   "outputs": [
    {
     "name": "stdout",
     "output_type": "stream",
     "text": [
      "time: 0 ns (started: 2022-09-24 18:35:35 -05:00)\n"
     ]
    }
   ],
   "source": [
    "@pn.depends(traj_type, n_traj)\n",
    "def show_traj_plot(traj_type, n_traj):\n",
    "    \n",
    "    # line name prefix\n",
    "    prefix = \"trayectory_\"\n",
    "                \n",
    "    if traj_type == \"Correlated Random Walk\":\n",
    "        prefix = \"cuachy_\"\n",
    "    \n",
    "    if traj_type == \"Levy Flight\":\n",
    "        prefix = \"Levy_alpha_\"\n",
    "    \n",
    "    aux_data = g_dash_data\n",
    "    \n",
    "    fig =  plot_trajectories(aux_data, n_traj, traj_type, prefix)\n",
    "    \n",
    "    return fig"
   ]
  },
  {
   "cell_type": "code",
   "execution_count": 32,
   "id": "90062378",
   "metadata": {},
   "outputs": [
    {
     "name": "stdout",
     "output_type": "stream",
     "text": [
      "time: 0 ns (started: 2022-09-24 18:35:35 -05:00)\n"
     ]
    }
   ],
   "source": [
    "@pn.depends(n_traj, metrics_menu)\n",
    "def show_met_plot(n_traj, metrics_menu):\n",
    "    \n",
    "    fig = \"\"\n",
    "    \n",
    "    prefix = \"trayectory_\"\n",
    "    \n",
    "    if metrics_menu == \"Path Lenght\":\n",
    "        metric_data = get_path_lengt(g_dash_data, n_traj, )\n",
    "        fig =  plot_metrics(metric_data, n_traj, metrics_menu, prefix)\n",
    "    \n",
    "    if metrics_menu == \"Mean Square Displacement\":\n",
    "        metric_data = get_trajectories_msd(g_dash_data, n_traj)\n",
    "        fig =  plot_metrics(metric_data, n_traj, metrics_menu, prefix)\n",
    "\n",
    "    return fig"
   ]
  },
  {
   "cell_type": "code",
   "execution_count": 33,
   "id": "5ff4626f",
   "metadata": {
    "scrolled": false
   },
   "outputs": [
    {
     "data": {},
     "metadata": {},
     "output_type": "display_data"
    },
    {
     "data": {
      "application/vnd.holoviews_exec.v0+json": "",
      "text/html": [
       "<div id='1002'>\n",
       "  <div class=\"bk-root\" id=\"9cf805b6-044b-411d-a37f-299139b3ec3f\" data-root-id=\"1002\"></div>\n",
       "</div>\n",
       "<script type=\"application/javascript\">(function(root) {\n",
       "  function embed_document(root) {\n",
       "    var docs_json = {\"3e8c840e-7744-4f7c-9927-06a3d9956dd9\":{\"defs\":[{\"extends\":null,\"module\":null,\"name\":\"ReactiveHTML1\",\"overrides\":[],\"properties\":[]},{\"extends\":null,\"module\":null,\"name\":\"FlexBox1\",\"overrides\":[],\"properties\":[{\"default\":\"flex-start\",\"kind\":null,\"name\":\"align_content\"},{\"default\":\"flex-start\",\"kind\":null,\"name\":\"align_items\"},{\"default\":\"row\",\"kind\":null,\"name\":\"flex_direction\"},{\"default\":\"wrap\",\"kind\":null,\"name\":\"flex_wrap\"},{\"default\":\"flex-start\",\"kind\":null,\"name\":\"justify_content\"}]},{\"extends\":null,\"module\":null,\"name\":\"GridStack1\",\"overrides\":[],\"properties\":[{\"default\":\"warn\",\"kind\":null,\"name\":\"mode\"},{\"default\":null,\"kind\":null,\"name\":\"ncols\"},{\"default\":null,\"kind\":null,\"name\":\"nrows\"},{\"default\":true,\"kind\":null,\"name\":\"allow_resize\"},{\"default\":true,\"kind\":null,\"name\":\"allow_drag\"},{\"default\":[],\"kind\":null,\"name\":\"state\"}]},{\"extends\":null,\"module\":null,\"name\":\"click1\",\"overrides\":[],\"properties\":[{\"default\":\"\",\"kind\":null,\"name\":\"terminal_output\"},{\"default\":\"\",\"kind\":null,\"name\":\"debug_name\"},{\"default\":0,\"kind\":null,\"name\":\"clears\"}]},{\"extends\":null,\"module\":null,\"name\":\"NotificationAreaBase1\",\"overrides\":[],\"properties\":[{\"default\":\"bottom-right\",\"kind\":null,\"name\":\"position\"},{\"default\":0,\"kind\":null,\"name\":\"_clear\"}]},{\"extends\":null,\"module\":null,\"name\":\"NotificationArea1\",\"overrides\":[],\"properties\":[{\"default\":[],\"kind\":null,\"name\":\"notifications\"},{\"default\":\"bottom-right\",\"kind\":null,\"name\":\"position\"},{\"default\":0,\"kind\":null,\"name\":\"_clear\"},{\"default\":[{\"background\":\"#ffc107\",\"icon\":{\"className\":\"fas fa-exclamation-triangle\",\"color\":\"white\",\"tagName\":\"i\"},\"type\":\"warning\"},{\"background\":\"#007bff\",\"icon\":{\"className\":\"fas fa-info-circle\",\"color\":\"white\",\"tagName\":\"i\"},\"type\":\"info\"}],\"kind\":null,\"name\":\"types\"}]},{\"extends\":null,\"module\":null,\"name\":\"Notification\",\"overrides\":[],\"properties\":[{\"default\":null,\"kind\":null,\"name\":\"background\"},{\"default\":3000,\"kind\":null,\"name\":\"duration\"},{\"default\":null,\"kind\":null,\"name\":\"icon\"},{\"default\":\"\",\"kind\":null,\"name\":\"message\"},{\"default\":null,\"kind\":null,\"name\":\"notification_type\"},{\"default\":false,\"kind\":null,\"name\":\"_destroyed\"}]},{\"extends\":null,\"module\":null,\"name\":\"TemplateActions1\",\"overrides\":[],\"properties\":[{\"default\":0,\"kind\":null,\"name\":\"open_modal\"},{\"default\":0,\"kind\":null,\"name\":\"close_modal\"}]},{\"extends\":null,\"module\":null,\"name\":\"MaterialTemplateActions1\",\"overrides\":[],\"properties\":[{\"default\":0,\"kind\":null,\"name\":\"open_modal\"},{\"default\":0,\"kind\":null,\"name\":\"close_modal\"}]}],\"roots\":{\"references\":[{\"attributes\":{\"children\":[{\"id\":\"1003\"},{\"id\":\"1006\"},{\"id\":\"1027\"},{\"id\":\"1032\"}],\"margin\":[0,0,0,0],\"name\":\"Row00180\"},\"id\":\"1002\",\"type\":\"Row\"},{\"attributes\":{\"css_classes\":[\"markdown\"],\"margin\":[5,5,5,5],\"name\":\"Markdown00160\",\"text\":\"&lt;h2&gt;Trajectories&lt;/h2&gt;\"},\"id\":\"1028\",\"type\":\"panel.models.markup.HTML\"},{\"attributes\":{\"children\":[{\"id\":\"1005\"}],\"margin\":[0,0,0,0],\"name\":\"Row00145\"},\"id\":\"1004\",\"type\":\"Row\"},{\"attributes\":{\"children\":[{\"id\":\"1014\"},{\"id\":\"1015\"},{\"id\":\"1016\"},{\"id\":\"1019\"}],\"margin\":[0,0,0,0],\"name\":\"Column00114\"},\"id\":\"1013\",\"type\":\"Column\"},{\"attributes\":{\"children\":[{\"id\":\"1004\"}],\"margin\":[0,0,0,0],\"name\":\"Column00146\"},\"id\":\"1003\",\"type\":\"Column\"},{\"attributes\":{\"data\":[{\"line\":{\"width\":2},\"marker\":{\"size\":2},\"mode\":\"lines\",\"name\":\"trayectory_: 0\",\"showlegend\":true,\"type\":\"scatter3d\"}],\"data_sources\":[{\"id\":\"1030\"}],\"layout\":{\"height\":800,\"scene\":{\"camera\":{\"eye\":{\"x\":0,\"y\":0,\"z\":2.5}},\"xaxis\":{\"title\":{\"text\":\"x\"}},\"yaxis\":{\"title\":{\"text\":\"y\"}},\"zaxis\":{\"nticks\":20,\"title\":{\"text\":\"time\"}}},\"template\":{\"data\":{\"bar\":[{\"error_x\":{\"color\":\"#2a3f5f\"},\"error_y\":{\"color\":\"#2a3f5f\"},\"marker\":{\"line\":{\"color\":\"#E5ECF6\",\"width\":0.5},\"pattern\":{\"fillmode\":\"overlay\",\"size\":10,\"solidity\":0.2}},\"type\":\"bar\"}],\"barpolar\":[{\"marker\":{\"line\":{\"color\":\"#E5ECF6\",\"width\":0.5},\"pattern\":{\"fillmode\":\"overlay\",\"size\":10,\"solidity\":0.2}},\"type\":\"barpolar\"}],\"carpet\":[{\"aaxis\":{\"endlinecolor\":\"#2a3f5f\",\"gridcolor\":\"white\",\"linecolor\":\"white\",\"minorgridcolor\":\"white\",\"startlinecolor\":\"#2a3f5f\"},\"baxis\":{\"endlinecolor\":\"#2a3f5f\",\"gridcolor\":\"white\",\"linecolor\":\"white\",\"minorgridcolor\":\"white\",\"startlinecolor\":\"#2a3f5f\"},\"type\":\"carpet\"}],\"choropleth\":[{\"colorbar\":{\"outlinewidth\":0,\"ticks\":\"\"},\"type\":\"choropleth\"}],\"contour\":[{\"colorbar\":{\"outlinewidth\":0,\"ticks\":\"\"},\"colorscale\":[[0.0,\"#0d0887\"],[0.1111111111111111,\"#46039f\"],[0.2222222222222222,\"#7201a8\"],[0.3333333333333333,\"#9c179e\"],[0.4444444444444444,\"#bd3786\"],[0.5555555555555556,\"#d8576b\"],[0.6666666666666666,\"#ed7953\"],[0.7777777777777778,\"#fb9f3a\"],[0.8888888888888888,\"#fdca26\"],[1.0,\"#f0f921\"]],\"type\":\"contour\"}],\"contourcarpet\":[{\"colorbar\":{\"outlinewidth\":0,\"ticks\":\"\"},\"type\":\"contourcarpet\"}],\"heatmap\":[{\"colorbar\":{\"outlinewidth\":0,\"ticks\":\"\"},\"colorscale\":[[0.0,\"#0d0887\"],[0.1111111111111111,\"#46039f\"],[0.2222222222222222,\"#7201a8\"],[0.3333333333333333,\"#9c179e\"],[0.4444444444444444,\"#bd3786\"],[0.5555555555555556,\"#d8576b\"],[0.6666666666666666,\"#ed7953\"],[0.7777777777777778,\"#fb9f3a\"],[0.8888888888888888,\"#fdca26\"],[1.0,\"#f0f921\"]],\"type\":\"heatmap\"}],\"heatmapgl\":[{\"colorbar\":{\"outlinewidth\":0,\"ticks\":\"\"},\"colorscale\":[[0.0,\"#0d0887\"],[0.1111111111111111,\"#46039f\"],[0.2222222222222222,\"#7201a8\"],[0.3333333333333333,\"#9c179e\"],[0.4444444444444444,\"#bd3786\"],[0.5555555555555556,\"#d8576b\"],[0.6666666666666666,\"#ed7953\"],[0.7777777777777778,\"#fb9f3a\"],[0.8888888888888888,\"#fdca26\"],[1.0,\"#f0f921\"]],\"type\":\"heatmapgl\"}],\"histogram\":[{\"marker\":{\"pattern\":{\"fillmode\":\"overlay\",\"size\":10,\"solidity\":0.2}},\"type\":\"histogram\"}],\"histogram2d\":[{\"colorbar\":{\"outlinewidth\":0,\"ticks\":\"\"},\"colorscale\":[[0.0,\"#0d0887\"],[0.1111111111111111,\"#46039f\"],[0.2222222222222222,\"#7201a8\"],[0.3333333333333333,\"#9c179e\"],[0.4444444444444444,\"#bd3786\"],[0.5555555555555556,\"#d8576b\"],[0.6666666666666666,\"#ed7953\"],[0.7777777777777778,\"#fb9f3a\"],[0.8888888888888888,\"#fdca26\"],[1.0,\"#f0f921\"]],\"type\":\"histogram2d\"}],\"histogram2dcontour\":[{\"colorbar\":{\"outlinewidth\":0,\"ticks\":\"\"},\"colorscale\":[[0.0,\"#0d0887\"],[0.1111111111111111,\"#46039f\"],[0.2222222222222222,\"#7201a8\"],[0.3333333333333333,\"#9c179e\"],[0.4444444444444444,\"#bd3786\"],[0.5555555555555556,\"#d8576b\"],[0.6666666666666666,\"#ed7953\"],[0.7777777777777778,\"#fb9f3a\"],[0.8888888888888888,\"#fdca26\"],[1.0,\"#f0f921\"]],\"type\":\"histogram2dcontour\"}],\"mesh3d\":[{\"colorbar\":{\"outlinewidth\":0,\"ticks\":\"\"},\"type\":\"mesh3d\"}],\"parcoords\":[{\"line\":{\"colorbar\":{\"outlinewidth\":0,\"ticks\":\"\"}},\"type\":\"parcoords\"}],\"pie\":[{\"automargin\":true,\"type\":\"pie\"}],\"scatter\":[{\"fillpattern\":{\"fillmode\":\"overlay\",\"size\":10,\"solidity\":0.2},\"type\":\"scatter\"}],\"scatter3d\":[{\"line\":{\"colorbar\":{\"outlinewidth\":0,\"ticks\":\"\"}},\"marker\":{\"colorbar\":{\"outlinewidth\":0,\"ticks\":\"\"}},\"type\":\"scatter3d\"}],\"scattercarpet\":[{\"marker\":{\"colorbar\":{\"outlinewidth\":0,\"ticks\":\"\"}},\"type\":\"scattercarpet\"}],\"scattergeo\":[{\"marker\":{\"colorbar\":{\"outlinewidth\":0,\"ticks\":\"\"}},\"type\":\"scattergeo\"}],\"scattergl\":[{\"marker\":{\"colorbar\":{\"outlinewidth\":0,\"ticks\":\"\"}},\"type\":\"scattergl\"}],\"scattermapbox\":[{\"marker\":{\"colorbar\":{\"outlinewidth\":0,\"ticks\":\"\"}},\"type\":\"scattermapbox\"}],\"scatterpolar\":[{\"marker\":{\"colorbar\":{\"outlinewidth\":0,\"ticks\":\"\"}},\"type\":\"scatterpolar\"}],\"scatterpolargl\":[{\"marker\":{\"colorbar\":{\"outlinewidth\":0,\"ticks\":\"\"}},\"type\":\"scatterpolargl\"}],\"scatterternary\":[{\"marker\":{\"colorbar\":{\"outlinewidth\":0,\"ticks\":\"\"}},\"type\":\"scatterternary\"}],\"surface\":[{\"colorbar\":{\"outlinewidth\":0,\"ticks\":\"\"},\"colorscale\":[[0.0,\"#0d0887\"],[0.1111111111111111,\"#46039f\"],[0.2222222222222222,\"#7201a8\"],[0.3333333333333333,\"#9c179e\"],[0.4444444444444444,\"#bd3786\"],[0.5555555555555556,\"#d8576b\"],[0.6666666666666666,\"#ed7953\"],[0.7777777777777778,\"#fb9f3a\"],[0.8888888888888888,\"#fdca26\"],[1.0,\"#f0f921\"]],\"type\":\"surface\"}],\"table\":[{\"cells\":{\"fill\":{\"color\":\"#EBF0F8\"},\"line\":{\"color\":\"white\"}},\"header\":{\"fill\":{\"color\":\"#C8D4E3\"},\"line\":{\"color\":\"white\"}},\"type\":\"table\"}]},\"layout\":{\"annotationdefaults\":{\"arrowcolor\":\"#2a3f5f\",\"arrowhead\":0,\"arrowwidth\":1},\"autotypenumbers\":\"strict\",\"coloraxis\":{\"colorbar\":{\"outlinewidth\":0,\"ticks\":\"\"}},\"colorscale\":{\"diverging\":[[0,\"#8e0152\"],[0.1,\"#c51b7d\"],[0.2,\"#de77ae\"],[0.3,\"#f1b6da\"],[0.4,\"#fde0ef\"],[0.5,\"#f7f7f7\"],[0.6,\"#e6f5d0\"],[0.7,\"#b8e186\"],[0.8,\"#7fbc41\"],[0.9,\"#4d9221\"],[1,\"#276419\"]],\"sequential\":[[0.0,\"#0d0887\"],[0.1111111111111111,\"#46039f\"],[0.2222222222222222,\"#7201a8\"],[0.3333333333333333,\"#9c179e\"],[0.4444444444444444,\"#bd3786\"],[0.5555555555555556,\"#d8576b\"],[0.6666666666666666,\"#ed7953\"],[0.7777777777777778,\"#fb9f3a\"],[0.8888888888888888,\"#fdca26\"],[1.0,\"#f0f921\"]],\"sequentialminus\":[[0.0,\"#0d0887\"],[0.1111111111111111,\"#46039f\"],[0.2222222222222222,\"#7201a8\"],[0.3333333333333333,\"#9c179e\"],[0.4444444444444444,\"#bd3786\"],[0.5555555555555556,\"#d8576b\"],[0.6666666666666666,\"#ed7953\"],[0.7777777777777778,\"#fb9f3a\"],[0.8888888888888888,\"#fdca26\"],[1.0,\"#f0f921\"]]},\"colorway\":[\"#636efa\",\"#EF553B\",\"#00cc96\",\"#ab63fa\",\"#FFA15A\",\"#19d3f3\",\"#FF6692\",\"#B6E880\",\"#FF97FF\",\"#FECB52\"],\"font\":{\"color\":\"#2a3f5f\"},\"geo\":{\"bgcolor\":\"white\",\"lakecolor\":\"white\",\"landcolor\":\"#E5ECF6\",\"showlakes\":true,\"showland\":true,\"subunitcolor\":\"white\"},\"hoverlabel\":{\"align\":\"left\"},\"hovermode\":\"closest\",\"mapbox\":{\"style\":\"light\"},\"paper_bgcolor\":\"white\",\"plot_bgcolor\":\"#E5ECF6\",\"polar\":{\"angularaxis\":{\"gridcolor\":\"white\",\"linecolor\":\"white\",\"ticks\":\"\"},\"bgcolor\":\"#E5ECF6\",\"radialaxis\":{\"gridcolor\":\"white\",\"linecolor\":\"white\",\"ticks\":\"\"}},\"scene\":{\"xaxis\":{\"backgroundcolor\":\"#E5ECF6\",\"gridcolor\":\"white\",\"gridwidth\":2,\"linecolor\":\"white\",\"showbackground\":true,\"ticks\":\"\",\"zerolinecolor\":\"white\"},\"yaxis\":{\"backgroundcolor\":\"#E5ECF6\",\"gridcolor\":\"white\",\"gridwidth\":2,\"linecolor\":\"white\",\"showbackground\":true,\"ticks\":\"\",\"zerolinecolor\":\"white\"},\"zaxis\":{\"backgroundcolor\":\"#E5ECF6\",\"gridcolor\":\"white\",\"gridwidth\":2,\"linecolor\":\"white\",\"showbackground\":true,\"ticks\":\"\",\"zerolinecolor\":\"white\"}},\"shapedefaults\":{\"line\":{\"color\":\"#2a3f5f\"}},\"ternary\":{\"aaxis\":{\"gridcolor\":\"white\",\"linecolor\":\"white\",\"ticks\":\"\"},\"baxis\":{\"gridcolor\":\"white\",\"linecolor\":\"white\",\"ticks\":\"\"},\"bgcolor\":\"#E5ECF6\",\"caxis\":{\"gridcolor\":\"white\",\"linecolor\":\"white\",\"ticks\":\"\"}},\"title\":{\"x\":0.05},\"xaxis\":{\"automargin\":true,\"gridcolor\":\"white\",\"linecolor\":\"white\",\"ticks\":\"\",\"title\":{\"standoff\":15},\"zerolinecolor\":\"white\",\"zerolinewidth\":2},\"yaxis\":{\"automargin\":true,\"gridcolor\":\"white\",\"linecolor\":\"white\",\"ticks\":\"\",\"title\":{\"standoff\":15},\"zerolinecolor\":\"white\",\"zerolinewidth\":2}}},\"title\":{\"text\":\"Brownian motion\"},\"width\":800},\"margin\":[5,5,5,5],\"name\":\"ParamFunction00162\",\"viewport_update_throttle\":200},\"id\":\"1031\",\"type\":\"panel.models.plotly.PlotlyPlot\"},{\"attributes\":{\"children\":[{\"id\":\"1025\"},{\"id\":\"1026\"}],\"margin\":[0,0,0,0],\"name\":\"Column00140\"},\"id\":\"1024\",\"type\":\"Column\"},{\"attributes\":{\"children\":[{\"id\":\"1028\"},{\"id\":\"1029\"}],\"margin\":[0,0,0,0],\"name\":\"Column00169\"},\"id\":\"1027\",\"type\":\"Column\"},{\"attributes\":{\"margin\":[5,5,5,5],\"name\":\"Str00143\",\"text\":\"&lt;pre&gt; &lt;/pre&gt;\"},\"id\":\"1005\",\"type\":\"panel.models.markup.HTML\"},{\"attributes\":{},\"id\":\"1038\",\"type\":\"Selection\"},{\"attributes\":{\"background\":\"WhiteSmoke\",\"children\":[{\"id\":\"1007\"},{\"id\":\"1008\"}],\"margin\":[0,0,0,0],\"name\":\"Column00159\"},\"id\":\"1006\",\"type\":\"Column\"},{\"attributes\":{\"data\":{\"x\":[{\"__ndarray__\":\"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\",\"dtype\":\"float64\",\"order\":\"little\",\"shape\":[1000]}],\"y\":[{\"__ndarray__\":\"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\",\"dtype\":\"float64\",\"order\":\"little\",\"shape\":[1000]}],\"z\":[{\"__ndarray__\":\"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\",\"dtype\":\"int32\",\"order\":\"little\",\"shape\":[1000]}]},\"selected\":{\"id\":\"1038\"},\"selection_policy\":{\"id\":\"1037\"}},\"id\":\"1030\",\"type\":\"ColumnDataSource\"},{\"attributes\":{},\"id\":\"1040\",\"type\":\"Selection\"},{\"attributes\":{\"children\":[{\"id\":\"1031\"}],\"margin\":[0,0,0,0],\"name\":\"Row00166\"},\"id\":\"1029\",\"type\":\"Row\"},{\"attributes\":{\"children\":[{\"id\":\"1010\"},{\"id\":\"1013\"},{\"id\":\"1022\"},{\"id\":\"1023\"},{\"id\":\"1024\"}],\"margin\":[0,0,0,0],\"name\":\"Column00157\"},\"id\":\"1009\",\"type\":\"Column\"},{\"attributes\":{},\"id\":\"1037\",\"type\":\"UnionRenderers\"},{\"attributes\":{\"active\":0,\"button_type\":\"primary\",\"labels\":[\"Brownian motion\",\"Correlated Random Walk\",\"Levy Flight\"],\"margin\":[15,0,0,5]},\"id\":\"1007\",\"type\":\"RadioButtonGroup\"},{\"attributes\":{\"css_classes\":[\"markdown\"],\"margin\":[5,5,5,5],\"name\":\"Markdown00115\",\"text\":\"&lt;h6&gt;Max 3 trayectories&lt;/h6&gt;\"},\"id\":\"1012\",\"type\":\"panel.models.markup.HTML\"},{\"attributes\":{\"children\":[{\"id\":\"1036\"}],\"margin\":[0,0,0,0],\"name\":\"Row00176\"},\"id\":\"1034\",\"type\":\"Row\"},{\"attributes\":{\"children\":[{\"id\":\"1009\"}],\"margin\":[0,0,0,0],\"name\":\"Row00151\"},\"id\":\"1008\",\"type\":\"Row\"},{\"attributes\":{\"active\":0,\"labels\":[\"BM 2D\",\"North-South-East-Weast Restriction\"],\"margin\":[5,10,5,10]},\"id\":\"1023\",\"type\":\"RadioButtonGroup\"},{\"attributes\":{\"children\":[{\"id\":\"1011\"},{\"id\":\"1012\"}],\"margin\":[0,0,0,0],\"name\":\"Column00117\"},\"id\":\"1010\",\"type\":\"Column\"},{\"attributes\":{\"css_classes\":[\"max_38_vwh\"],\"end\":3,\"margin\":[5,10,5,10],\"start\":1,\"title\":\"Numer of trajectories\",\"value\":1},\"id\":\"1011\",\"type\":\"Slider\"},{\"attributes\":{\"end\":100000,\"margin\":[5,10,5,10],\"start\":1000,\"step\":1000,\"title\":\"Numer of steps\",\"value\":1000},\"id\":\"1021\",\"type\":\"Slider\"},{\"attributes\":{\"css_classes\":[\"markdown\"],\"margin\":[5,5,5,5],\"name\":\"Markdown00112\",\"text\":\"&lt;h6&gt;all trajectories will be set with same general satrting parameters&lt;/h6&gt;\"},\"id\":\"1015\",\"type\":\"panel.models.markup.HTML\"},{\"attributes\":{\"css_classes\":[\"markdown\"],\"margin\":[5,5,5,5],\"name\":\"Markdown00170\",\"text\":\"&lt;h2&gt;Metrics&lt;/h2&gt;\"},\"id\":\"1033\",\"type\":\"panel.models.markup.HTML\"},{\"attributes\":{\"data\":[{\"line\":{\"width\":3},\"marker\":{\"size\":0.5},\"mode\":\"lines\",\"name\":\"trayectory_: 0\",\"showlegend\":true,\"type\":\"scatter\"}],\"data_sources\":[{\"id\":\"1035\"}],\"layout\":{\"autosize\":false,\"template\":{\"data\":{\"bar\":[{\"error_x\":{\"color\":\"#2a3f5f\"},\"error_y\":{\"color\":\"#2a3f5f\"},\"marker\":{\"line\":{\"color\":\"#E5ECF6\",\"width\":0.5},\"pattern\":{\"fillmode\":\"overlay\",\"size\":10,\"solidity\":0.2}},\"type\":\"bar\"}],\"barpolar\":[{\"marker\":{\"line\":{\"color\":\"#E5ECF6\",\"width\":0.5},\"pattern\":{\"fillmode\":\"overlay\",\"size\":10,\"solidity\":0.2}},\"type\":\"barpolar\"}],\"carpet\":[{\"aaxis\":{\"endlinecolor\":\"#2a3f5f\",\"gridcolor\":\"white\",\"linecolor\":\"white\",\"minorgridcolor\":\"white\",\"startlinecolor\":\"#2a3f5f\"},\"baxis\":{\"endlinecolor\":\"#2a3f5f\",\"gridcolor\":\"white\",\"linecolor\":\"white\",\"minorgridcolor\":\"white\",\"startlinecolor\":\"#2a3f5f\"},\"type\":\"carpet\"}],\"choropleth\":[{\"colorbar\":{\"outlinewidth\":0,\"ticks\":\"\"},\"type\":\"choropleth\"}],\"contour\":[{\"colorbar\":{\"outlinewidth\":0,\"ticks\":\"\"},\"colorscale\":[[0.0,\"#0d0887\"],[0.1111111111111111,\"#46039f\"],[0.2222222222222222,\"#7201a8\"],[0.3333333333333333,\"#9c179e\"],[0.4444444444444444,\"#bd3786\"],[0.5555555555555556,\"#d8576b\"],[0.6666666666666666,\"#ed7953\"],[0.7777777777777778,\"#fb9f3a\"],[0.8888888888888888,\"#fdca26\"],[1.0,\"#f0f921\"]],\"type\":\"contour\"}],\"contourcarpet\":[{\"colorbar\":{\"outlinewidth\":0,\"ticks\":\"\"},\"type\":\"contourcarpet\"}],\"heatmap\":[{\"colorbar\":{\"outlinewidth\":0,\"ticks\":\"\"},\"colorscale\":[[0.0,\"#0d0887\"],[0.1111111111111111,\"#46039f\"],[0.2222222222222222,\"#7201a8\"],[0.3333333333333333,\"#9c179e\"],[0.4444444444444444,\"#bd3786\"],[0.5555555555555556,\"#d8576b\"],[0.6666666666666666,\"#ed7953\"],[0.7777777777777778,\"#fb9f3a\"],[0.8888888888888888,\"#fdca26\"],[1.0,\"#f0f921\"]],\"type\":\"heatmap\"}],\"heatmapgl\":[{\"colorbar\":{\"outlinewidth\":0,\"ticks\":\"\"},\"colorscale\":[[0.0,\"#0d0887\"],[0.1111111111111111,\"#46039f\"],[0.2222222222222222,\"#7201a8\"],[0.3333333333333333,\"#9c179e\"],[0.4444444444444444,\"#bd3786\"],[0.5555555555555556,\"#d8576b\"],[0.6666666666666666,\"#ed7953\"],[0.7777777777777778,\"#fb9f3a\"],[0.8888888888888888,\"#fdca26\"],[1.0,\"#f0f921\"]],\"type\":\"heatmapgl\"}],\"histogram\":[{\"marker\":{\"pattern\":{\"fillmode\":\"overlay\",\"size\":10,\"solidity\":0.2}},\"type\":\"histogram\"}],\"histogram2d\":[{\"colorbar\":{\"outlinewidth\":0,\"ticks\":\"\"},\"colorscale\":[[0.0,\"#0d0887\"],[0.1111111111111111,\"#46039f\"],[0.2222222222222222,\"#7201a8\"],[0.3333333333333333,\"#9c179e\"],[0.4444444444444444,\"#bd3786\"],[0.5555555555555556,\"#d8576b\"],[0.6666666666666666,\"#ed7953\"],[0.7777777777777778,\"#fb9f3a\"],[0.8888888888888888,\"#fdca26\"],[1.0,\"#f0f921\"]],\"type\":\"histogram2d\"}],\"histogram2dcontour\":[{\"colorbar\":{\"outlinewidth\":0,\"ticks\":\"\"},\"colorscale\":[[0.0,\"#0d0887\"],[0.1111111111111111,\"#46039f\"],[0.2222222222222222,\"#7201a8\"],[0.3333333333333333,\"#9c179e\"],[0.4444444444444444,\"#bd3786\"],[0.5555555555555556,\"#d8576b\"],[0.6666666666666666,\"#ed7953\"],[0.7777777777777778,\"#fb9f3a\"],[0.8888888888888888,\"#fdca26\"],[1.0,\"#f0f921\"]],\"type\":\"histogram2dcontour\"}],\"mesh3d\":[{\"colorbar\":{\"outlinewidth\":0,\"ticks\":\"\"},\"type\":\"mesh3d\"}],\"parcoords\":[{\"line\":{\"colorbar\":{\"outlinewidth\":0,\"ticks\":\"\"}},\"type\":\"parcoords\"}],\"pie\":[{\"automargin\":true,\"type\":\"pie\"}],\"scatter\":[{\"fillpattern\":{\"fillmode\":\"overlay\",\"size\":10,\"solidity\":0.2},\"type\":\"scatter\"}],\"scatter3d\":[{\"line\":{\"colorbar\":{\"outlinewidth\":0,\"ticks\":\"\"}},\"marker\":{\"colorbar\":{\"outlinewidth\":0,\"ticks\":\"\"}},\"type\":\"scatter3d\"}],\"scattercarpet\":[{\"marker\":{\"colorbar\":{\"outlinewidth\":0,\"ticks\":\"\"}},\"type\":\"scattercarpet\"}],\"scattergeo\":[{\"marker\":{\"colorbar\":{\"outlinewidth\":0,\"ticks\":\"\"}},\"type\":\"scattergeo\"}],\"scattergl\":[{\"marker\":{\"colorbar\":{\"outlinewidth\":0,\"ticks\":\"\"}},\"type\":\"scattergl\"}],\"scattermapbox\":[{\"marker\":{\"colorbar\":{\"outlinewidth\":0,\"ticks\":\"\"}},\"type\":\"scattermapbox\"}],\"scatterpolar\":[{\"marker\":{\"colorbar\":{\"outlinewidth\":0,\"ticks\":\"\"}},\"type\":\"scatterpolar\"}],\"scatterpolargl\":[{\"marker\":{\"colorbar\":{\"outlinewidth\":0,\"ticks\":\"\"}},\"type\":\"scatterpolargl\"}],\"scatterternary\":[{\"marker\":{\"colorbar\":{\"outlinewidth\":0,\"ticks\":\"\"}},\"type\":\"scatterternary\"}],\"surface\":[{\"colorbar\":{\"outlinewidth\":0,\"ticks\":\"\"},\"colorscale\":[[0.0,\"#0d0887\"],[0.1111111111111111,\"#46039f\"],[0.2222222222222222,\"#7201a8\"],[0.3333333333333333,\"#9c179e\"],[0.4444444444444444,\"#bd3786\"],[0.5555555555555556,\"#d8576b\"],[0.6666666666666666,\"#ed7953\"],[0.7777777777777778,\"#fb9f3a\"],[0.8888888888888888,\"#fdca26\"],[1.0,\"#f0f921\"]],\"type\":\"surface\"}],\"table\":[{\"cells\":{\"fill\":{\"color\":\"#EBF0F8\"},\"line\":{\"color\":\"white\"}},\"header\":{\"fill\":{\"color\":\"#C8D4E3\"},\"line\":{\"color\":\"white\"}},\"type\":\"table\"}]},\"layout\":{\"annotationdefaults\":{\"arrowcolor\":\"#2a3f5f\",\"arrowhead\":0,\"arrowwidth\":1},\"autotypenumbers\":\"strict\",\"coloraxis\":{\"colorbar\":{\"outlinewidth\":0,\"ticks\":\"\"}},\"colorscale\":{\"diverging\":[[0,\"#8e0152\"],[0.1,\"#c51b7d\"],[0.2,\"#de77ae\"],[0.3,\"#f1b6da\"],[0.4,\"#fde0ef\"],[0.5,\"#f7f7f7\"],[0.6,\"#e6f5d0\"],[0.7,\"#b8e186\"],[0.8,\"#7fbc41\"],[0.9,\"#4d9221\"],[1,\"#276419\"]],\"sequential\":[[0.0,\"#0d0887\"],[0.1111111111111111,\"#46039f\"],[0.2222222222222222,\"#7201a8\"],[0.3333333333333333,\"#9c179e\"],[0.4444444444444444,\"#bd3786\"],[0.5555555555555556,\"#d8576b\"],[0.6666666666666666,\"#ed7953\"],[0.7777777777777778,\"#fb9f3a\"],[0.8888888888888888,\"#fdca26\"],[1.0,\"#f0f921\"]],\"sequentialminus\":[[0.0,\"#0d0887\"],[0.1111111111111111,\"#46039f\"],[0.2222222222222222,\"#7201a8\"],[0.3333333333333333,\"#9c179e\"],[0.4444444444444444,\"#bd3786\"],[0.5555555555555556,\"#d8576b\"],[0.6666666666666666,\"#ed7953\"],[0.7777777777777778,\"#fb9f3a\"],[0.8888888888888888,\"#fdca26\"],[1.0,\"#f0f921\"]]},\"colorway\":[\"#636efa\",\"#EF553B\",\"#00cc96\",\"#ab63fa\",\"#FFA15A\",\"#19d3f3\",\"#FF6692\",\"#B6E880\",\"#FF97FF\",\"#FECB52\"],\"font\":{\"color\":\"#2a3f5f\"},\"geo\":{\"bgcolor\":\"white\",\"lakecolor\":\"white\",\"landcolor\":\"#E5ECF6\",\"showlakes\":true,\"showland\":true,\"subunitcolor\":\"white\"},\"hoverlabel\":{\"align\":\"left\"},\"hovermode\":\"closest\",\"mapbox\":{\"style\":\"light\"},\"paper_bgcolor\":\"white\",\"plot_bgcolor\":\"#E5ECF6\",\"polar\":{\"angularaxis\":{\"gridcolor\":\"white\",\"linecolor\":\"white\",\"ticks\":\"\"},\"bgcolor\":\"#E5ECF6\",\"radialaxis\":{\"gridcolor\":\"white\",\"linecolor\":\"white\",\"ticks\":\"\"}},\"scene\":{\"xaxis\":{\"backgroundcolor\":\"#E5ECF6\",\"gridcolor\":\"white\",\"gridwidth\":2,\"linecolor\":\"white\",\"showbackground\":true,\"ticks\":\"\",\"zerolinecolor\":\"white\"},\"yaxis\":{\"backgroundcolor\":\"#E5ECF6\",\"gridcolor\":\"white\",\"gridwidth\":2,\"linecolor\":\"white\",\"showbackground\":true,\"ticks\":\"\",\"zerolinecolor\":\"white\"},\"zaxis\":{\"backgroundcolor\":\"#E5ECF6\",\"gridcolor\":\"white\",\"gridwidth\":2,\"linecolor\":\"white\",\"showbackground\":true,\"ticks\":\"\",\"zerolinecolor\":\"white\"}},\"shapedefaults\":{\"line\":{\"color\":\"#2a3f5f\"}},\"ternary\":{\"aaxis\":{\"gridcolor\":\"white\",\"linecolor\":\"white\",\"ticks\":\"\"},\"baxis\":{\"gridcolor\":\"white\",\"linecolor\":\"white\",\"ticks\":\"\"},\"bgcolor\":\"#E5ECF6\",\"caxis\":{\"gridcolor\":\"white\",\"linecolor\":\"white\",\"ticks\":\"\"}},\"title\":{\"x\":0.05},\"xaxis\":{\"automargin\":true,\"gridcolor\":\"white\",\"linecolor\":\"white\",\"ticks\":\"\",\"title\":{\"standoff\":15},\"zerolinecolor\":\"white\",\"zerolinewidth\":2},\"yaxis\":{\"automargin\":true,\"gridcolor\":\"white\",\"linecolor\":\"white\",\"ticks\":\"\",\"title\":{\"standoff\":15},\"zerolinecolor\":\"white\",\"zerolinewidth\":2}}},\"title\":{\"text\":\"Path Lenght\"}},\"margin\":[5,5,5,5],\"name\":\"ParamFunction00172\",\"viewport_update_throttle\":200},\"id\":\"1036\",\"type\":\"panel.models.plotly.PlotlyPlot\"},{\"attributes\":{\"high\":100,\"low\":-100,\"margin\":[5,10,5,10],\"min_width\":100,\"mode\":\"int\",\"placeholder\":\"0\",\"title\":\"X Starting position\",\"value\":0,\"value_throttled\":0,\"width\":100},\"id\":\"1017\",\"type\":\"Spinner\"},{\"attributes\":{\"high\":100,\"low\":-100,\"margin\":[5,10,5,10],\"min_width\":100,\"mode\":\"int\",\"placeholder\":\"0\",\"title\":\"Y Starting position\",\"value\":0,\"value_throttled\":0,\"width\":100},\"id\":\"1018\",\"type\":\"Spinner\"},{\"attributes\":{\"css_classes\":[\"markdown\"],\"margin\":[5,5,5,5],\"name\":\"Markdown00110\",\"text\":\"&lt;h4&gt;General parameters&lt;/h4&gt;\"},\"id\":\"1014\",\"type\":\"panel.models.markup.HTML\"},{\"attributes\":{\"children\":[{\"id\":\"1017\"},{\"id\":\"1018\"}],\"margin\":[0,0,0,0],\"name\":\"Row00108\"},\"id\":\"1016\",\"type\":\"Row\"},{\"attributes\":{\"data\":{\"x\":[[0,1,2,3,4,5,6,7,8,9,10,11,12,13,14,15,16,17,18,19,20,21,22,23,24,25,26,27,28,29,30,31,32,33,34,35,36,37,38,39,40,41,42,43,44,45,46,47,48,49,50,51,52,53,54,55,56,57,58,59,60,61,62,63,64,65,66,67,68,69,70,71,72,73,74,75,76,77,78,79,80,81,82,83,84,85,86,87,88,89,90,91,92,93,94,95,96,97,98,99,100,101,102,103,104,105,106,107,108,109,110,111,112,113,114,115,116,117,118,119,120,121,122,123,124,125,126,127,128,129,130,131,132,133,134,135,136,137,138,139,140,141,142,143,144,145,146,147,148,149,150,151,152,153,154,155,156,157,158,159,160,161,162,163,164,165,166,167,168,169,170,171,172,173,174,175,176,177,178,179,180,181,182,183,184,185,186,187,188,189,190,191,192,193,194,195,196,197,198,199,200,201,202,203,204,205,206,207,208,209,210,211,212,213,214,215,216,217,218,219,220,221,222,223,224,225,226,227,228,229,230,231,232,233,234,235,236,237,238,239,240,241,242,243,244,245,246,247,248,249,250,251,252,253,254,255,256,257,258,259,260,261,262,263,264,265,266,267,268,269,270,271,272,273,274,275,276,277,278,279,280,281,282,283,284,285,286,287,288,289,290,291,292,293,294,295,296,297,298,299,300,301,302,303,304,305,306,307,308,309,310,311,312,313,314,315,316,317,318,319,320,321,322,323,324,325,326,327,328,329,330,331,332,333,334,335,336,337,338,339,340,341,342,343,344,345,346,347,348,349,350,351,352,353,354,355,356,357,358,359,360,361,362,363,364,365,366,367,368,369,370,371,372,373,374,375,376,377,378,379,380,381,382,383,384,385,386,387,388,389,390,391,392,393,394,395,396,397,398,399,400,401,402,403,404,405,406,407,408,409,410,411,412,413,414,415,416,417,418,419,420,421,422,423,424,425,426,427,428,429,430,431,432,433,434,435,436,437,438,439,440,441,442,443,444,445,446,447,448,449,450,451,452,453,454,455,456,457,458,459,460,461,462,463,464,465,466,467,468,469,470,471,472,473,474,475,476,477,478,479,480,481,482,483,484,485,486,487,488,489,490,491,492,493,494,495,496,497,498,499,500,501,502,503,504,505,506,507,508,509,510,511,512,513,514,515,516,517,518,519,520,521,522,523,524,525,526,527,528,529,530,531,532,533,534,535,536,537,538,539,540,541,542,543,544,545,546,547,548,549,550,551,552,553,554,555,556,557,558,559,560,561,562,563,564,565,566,567,568,569,570,571,572,573,574,575,576,577,578,579,580,581,582,583,584,585,586,587,588,589,590,591,592,593,594,595,596,597,598,599,600,601,602,603,604,605,606,607,608,609,610,611,612,613,614,615,616,617,618,619,620,621,622,623,624,625,626,627,628,629,630,631,632,633,634,635,636,637,638,639,640,641,642,643,644,645,646,647,648,649,650,651,652,653,654,655,656,657,658,659,660,661,662,663,664,665,666,667,668,669,670,671,672,673,674,675,676,677,678,679,680,681,682,683,684,685,686,687,688,689,690,691,692,693,694,695,696,697,698,699,700,701,702,703,704,705,706,707,708,709,710,711,712,713,714,715,716,717,718,719,720,721,722,723,724,725,726,727,728,729,730,731,732,733,734,735,736,737,738,739,740,741,742,743,744,745,746,747,748,749,750,751,752,753,754,755,756,757,758,759,760,761,762,763,764,765,766,767,768,769,770,771,772,773,774,775,776,777,778,779,780,781,782,783,784,785,786,787,788,789,790,791,792,793,794,795,796,797,798,799,800,801,802,803,804,805,806,807,808,809,810,811,812,813,814,815,816,817,818,819,820,821,822,823,824,825,826,827,828,829,830,831,832,833,834,835,836,837,838,839,840,841,842,843,844,845,846,847,848,849,850,851,852,853,854,855,856,857,858,859,860,861,862,863,864,865,866,867,868,869,870,871,872,873,874,875,876,877,878,879,880,881,882,883,884,885,886,887,888,889,890,891,892,893,894,895,896,897,898,899,900,901,902,903,904,905,906,907,908,909,910,911,912,913,914,915,916,917,918,919,920,921,922,923,924,925,926,927,928,929,930,931,932,933,934,935,936,937,938,939,940,941,942,943,944,945,946,947,948,949,950,951,952,953,954,955,956,957,958,959,960,961,962,963,964,965,966,967,968,969,970,971,972,973,974,975,976,977,978,979,980,981,982,983,984,985,986,987,988,989,990,991,992,993,994,995,996,997,998]],\"y\":[{\"__ndarray__\":\"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\",\"dtype\":\"float64\",\"order\":\"little\",\"shape\":[999]}]},\"selected\":{\"id\":\"1040\"},\"selection_policy\":{\"id\":\"1039\"}},\"id\":\"1035\",\"type\":\"ColumnDataSource\"},{\"attributes\":{\"reload\":false},\"id\":\"1062\",\"type\":\"panel.models.location.Location\"},{\"attributes\":{\"children\":[{\"id\":\"1033\"},{\"id\":\"1034\"}],\"margin\":[0,0,0,0],\"name\":\"Column00179\"},\"id\":\"1032\",\"type\":\"Column\"},{\"attributes\":{},\"id\":\"1039\",\"type\":\"UnionRenderers\"},{\"attributes\":{\"active\":0,\"labels\":[\"Path Lenght\",\"Mean Square Displacement\"],\"margin\":[5,10,5,10]},\"id\":\"1026\",\"type\":\"RadioGroup\"},{\"attributes\":{\"css_classes\":[\"markdown\"],\"margin\":[5,5,5,5],\"name\":\"Markdown00138\",\"text\":\"&lt;h3&gt;Calculate Metric:&lt;/h3&gt;\"},\"id\":\"1025\",\"type\":\"panel.models.markup.HTML\"},{\"attributes\":{\"high\":10,\"low\":1,\"margin\":[5,10,5,10],\"min_width\":100,\"mode\":\"int\",\"placeholder\":\"0\",\"title\":\"Speed\",\"value\":6,\"value_throttled\":6,\"width\":100},\"id\":\"1020\",\"type\":\"Spinner\"},{\"attributes\":{\"children\":[{\"id\":\"1020\"},{\"id\":\"1021\"}],\"margin\":[0,0,0,0],\"name\":\"Row00109\"},\"id\":\"1019\",\"type\":\"Row\"},{\"attributes\":{\"css_classes\":[\"markdown\"],\"margin\":[5,5,5,5],\"name\":\"Markdown00155\",\"text\":\"&lt;h4&gt;Brownian Motion Type&lt;/h4&gt;\"},\"id\":\"1022\",\"type\":\"panel.models.markup.HTML\"},{\"attributes\":{\"client_comm_id\":\"105e01828d8542cc8f68d1d53a3e9d21\",\"comm_id\":\"563cfbf6026c490e90e16eb7bbb850ed\",\"plot_id\":\"1002\"},\"id\":\"1049\",\"type\":\"panel.models.comm_manager.CommManager\"}],\"root_ids\":[\"1002\",\"1049\",\"1062\"]},\"title\":\"Bokeh Application\",\"version\":\"2.4.3\"}};\n",
       "    var render_items = [{\"docid\":\"3e8c840e-7744-4f7c-9927-06a3d9956dd9\",\"root_ids\":[\"1002\"],\"roots\":{\"1002\":\"9cf805b6-044b-411d-a37f-299139b3ec3f\"}}];\n",
       "    root.Bokeh.embed.embed_items_notebook(docs_json, render_items);\n",
       "  }\n",
       "  if (root.Bokeh !== undefined && root.Bokeh.Panel !== undefined && ( root['Plotly'] !== undefined)) {\n",
       "    embed_document(root);\n",
       "  } else {\n",
       "    var attempts = 0;\n",
       "    var timer = setInterval(function(root) {\n",
       "      if (root.Bokeh !== undefined && root.Bokeh.Panel !== undefined && (root['Plotly'] !== undefined)) {\n",
       "        clearInterval(timer);\n",
       "        embed_document(root);\n",
       "      } else if (document.readyState == \"complete\") {\n",
       "        attempts++;\n",
       "        if (attempts > 200) {\n",
       "          clearInterval(timer);\n",
       "          console.log(\"Bokeh: ERROR: Unable to run BokehJS code because BokehJS library is missing\");\n",
       "        }\n",
       "      }\n",
       "    }, 25, root)\n",
       "  }\n",
       "})(window);</script>"
      ],
      "text/plain": [
       "Row\n",
       "    [0] Column\n",
       "        [0] ParamFunction(function)\n",
       "    [1] Column(background='WhiteSmoke')\n",
       "        [0] RadioButtonGroup(button_type='primary', margin=(15, 0, 0, 5), name='Trajectory type', options=['Brownian motion', ...], value='Brownian motion')\n",
       "        [1] ParamFunction(function)\n",
       "    [2] Column\n",
       "        [0] Markdown(str)\n",
       "        [1] ParamFunction(function)\n",
       "    [3] Column\n",
       "        [0] Markdown(str)\n",
       "        [1] ParamFunction(function)"
      ]
     },
     "execution_count": 33,
     "metadata": {
      "application/vnd.holoviews_exec.v0+json": {
       "id": "1002"
      }
     },
     "output_type": "execute_result"
    },
    {
     "name": "stdout",
     "output_type": "stream",
     "text": [
      "time: 266 ms (started: 2022-09-24 18:35:35 -05:00)\n"
     ]
    }
   ],
   "source": [
    "pn.Row(\n",
    "    pn.Column(set_traj_data),\n",
    "    pn.Column(traj_type, display_controls, background = \"WhiteSmoke\"),  \n",
    "    pn.Column('## Trajectories',show_traj_plot),\n",
    "    pn.Column('## Metrics',show_met_plot))"
   ]
  }
 ],
 "metadata": {
  "kernelspec": {
   "display_name": "tti_venv",
   "language": "python",
   "name": "tti_venv"
  },
  "language_info": {
   "codemirror_mode": {
    "name": "ipython",
    "version": 3
   },
   "file_extension": ".py",
   "mimetype": "text/x-python",
   "name": "python",
   "nbconvert_exporter": "python",
   "pygments_lexer": "ipython3",
   "version": "3.10.6"
  }
 },
 "nbformat": 4,
 "nbformat_minor": 5
}
