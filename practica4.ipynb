{
 "cells": [
  {
   "cell_type": "markdown",
   "id": "5c59b35a",
   "metadata": {},
   "source": [
    "# MODULES"
   ]
  },
  {
   "cell_type": "code",
   "execution_count": 5,
   "id": "adec8a3c",
   "metadata": {},
   "outputs": [],
   "source": [
    "import math\n",
    "import numpy as np\n",
    "import pandas as pd\n",
    "\n",
    "import plotly.graph_objects as go\n",
    "\n",
    "from scipy.stats import wrapcauchy\n",
    "from scipy.stats import levy_stable\n",
    "\n",
    "from scipy.spatial import distance"
   ]
  },
  {
   "cell_type": "markdown",
   "id": "e132782d",
   "metadata": {},
   "source": [
    "# CLASESS"
   ]
  },
  {
   "cell_type": "code",
   "execution_count": 6,
   "id": "3956d461",
   "metadata": {},
   "outputs": [],
   "source": [
    "################# http://www.pygame.org/wiki/2DVectorClass ##################\n",
    "class Vec2d(object):\n",
    "    \"\"\"2d vector class, supports vector and scalar operators,\n",
    "       and also provides a bunch of high level functions\n",
    "       \"\"\"\n",
    "    __slots__ = ['x', 'y']\n",
    "\n",
    "    def __init__(self, x_or_pair, y = None):\n",
    "        if y == None:            \n",
    "            self.x = x_or_pair[0]\n",
    "            self.y = x_or_pair[1]\n",
    "        else:\n",
    "            self.x = x_or_pair\n",
    "            self.y = y\n",
    "            \n",
    "    # Addition\n",
    "    def __add__(self, other):\n",
    "        if isinstance(other, Vec2d):\n",
    "            return Vec2d(self.x + other.x, self.y + other.y)\n",
    "        elif hasattr(other, \"__getitem__\"):\n",
    "            return Vec2d(self.x + other[0], self.y + other[1])\n",
    "        else:\n",
    "            return Vec2d(self.x + other, self.y + other)\n",
    "\n",
    "    # Subtraction\n",
    "    def __sub__(self, other):\n",
    "        if isinstance(other, Vec2d):\n",
    "            return Vec2d(self.x - other.x, self.y - other.y)\n",
    "        elif (hasattr(other, \"__getitem__\")):\n",
    "            return Vec2d(self.x - other[0], self.y - other[1])\n",
    "        else:\n",
    "            return Vec2d(self.x - other, self.y - other)\n",
    "    \n",
    "    # Vector length\n",
    "    def get_length(self):\n",
    "        return math.sqrt(self.x**2 + self.y**2)\n",
    "    \n",
    "    # rotate vector\n",
    "    def rotated(self, angle):        \n",
    "        cos = math.cos(angle)\n",
    "        sin = math.sin(angle)\n",
    "        x = self.x*cos - self.y*sin\n",
    "        y = self.x*sin + self.y*cos\n",
    "        return Vec2d(x, y)"
   ]
  },
  {
   "cell_type": "markdown",
   "id": "fb1a4a95",
   "metadata": {},
   "source": [
    "# FUNCTIONS"
   ]
  },
  {
   "cell_type": "markdown",
   "id": "201e7aef",
   "metadata": {},
   "source": [
    "## Euclidean distance\n",
    "\n",
    "$d_E(p,q)=\\sqrt{(p_x-q_x)^2+(p_y-q_y)^2}$"
   ]
  },
  {
   "cell_type": "code",
   "execution_count": 7,
   "id": "c093358e",
   "metadata": {},
   "outputs": [],
   "source": [
    "def get_euclidean_distance(p,q):\n",
    "  \"\"\"\n",
    "  Arguments:\n",
    "    p: [x,y] values for the starting point\n",
    "    q: [x,y] values for the ending point\n",
    "  \"\"\"\n",
    "  \n",
    "  distance = np.sqrt(np.square(p[0]-q[0]) + np.square(p[1]-q[1]))\n",
    "\n",
    "  return distance"
   ]
  },
  {
   "cell_type": "markdown",
   "id": "cbd3655b",
   "metadata": {},
   "source": [
    "## Mean Square Displacement\n",
    "\n",
    "\n",
    "$MSD = \\frac{1}{N-n} \\sum \\limits_{i=1}^{N-n}(\\vec{r}_{i+n}-\\vec{r}_i)^2 \\quad\\quad n=1,...,N-1$\n",
    "<br><br>\n",
    "\n",
    "$MSD = \\frac{1}{N-n}\\sum \\limits_{i=1}^{N-n}{d_E(p,q)}^2 \\quad\\quad n=1,...,N-1$"
   ]
  },
  {
   "cell_type": "code",
   "execution_count": 8,
   "id": "4bf76138",
   "metadata": {},
   "outputs": [],
   "source": [
    "def get_msd(tau,path):\n",
    "  \"\"\"\n",
    "  Arguments:\n",
    "    tau:\n",
    "    path:\n",
    "  \"\"\"\n",
    "\n",
    "  square_displacement = 0 \n",
    "\n",
    "  for i in range(tau,path.shape[0],1):\n",
    "    square_displacement += np.square(get_euclidean_distance(path.iloc[i-tau], path.iloc[i]))\n",
    "\n",
    "  msd= (1/(path.shape[0]-tau))*square_displacement\n",
    "\n",
    "  return msd"
   ]
  },
  {
   "cell_type": "markdown",
   "id": "4ef46d2d",
   "metadata": {},
   "source": [
    "## Turning Angle\n",
    "\n",
    "$\n",
    "tan(\\phi)=\\frac{|\\vec{p}\\times\\vec{q}|}{\\vec{p}\\cdot\\vec{q}}\n",
    "$"
   ]
  },
  {
   "cell_type": "code",
   "execution_count": 10,
   "id": "27bc634c",
   "metadata": {},
   "outputs": [],
   "source": [
    "def get_turning_angle(a,b,c,round_to_zero = False):\n",
    "  \"\"\"\n",
    "  Arguments:\n",
    "    a: coordinates for p vector's tail\n",
    "    b: coordinates p vector's head / q vector's tail\n",
    "    c: coordinates q vector's head\n",
    "    round_to_zero: if true checks if value is close enough to zero to be take as it\n",
    "  \"\"\"\n",
    "\n",
    "  p = np.subtract(b,a)\n",
    "  q = np.subtract(c,b)\n",
    "\n",
    "  \n",
    "  pq_cross = np.cross(p,q)\n",
    "  pq_scalar = np.dot(p,q)\n",
    "\n",
    "  phi_angle = np.arctan2(pq_cross,pq_scalar)\n",
    "\n",
    "  if round_to_zero:\n",
    "    if  count_like_zero(phi_angle):\n",
    "      phi_angle = 0\n",
    "      \n",
    "  return phi_angle"
   ]
  },
  {
   "cell_type": "markdown",
   "id": "ff49a6b6",
   "metadata": {},
   "source": [
    "## Custom round"
   ]
  },
  {
   "cell_type": "code",
   "execution_count": 11,
   "id": "e0294ae8",
   "metadata": {},
   "outputs": [],
   "source": [
    "def count_like_zero(number):\n",
    "  \"\"\"\n",
    "  Arguments:\n",
    "    number: \n",
    "  Return: True if -0.009 <= number <= 0.009 False otherwise\n",
    "  \"\"\"\n",
    "  is_zero = False\n",
    "\n",
    "  if  ((number >= -0.009) & (number <= 0)) | ((number >= 0) & (number <= 0.009)):\n",
    "    is_zero = True\n",
    "\n",
    "  return is_zero"
   ]
  },
  {
   "cell_type": "markdown",
   "id": "d0d3e65d",
   "metadata": {},
   "source": [
    "## Is Negligible turn"
   ]
  },
  {
   "cell_type": "code",
   "execution_count": 12,
   "id": "6eccb675",
   "metadata": {},
   "outputs": [],
   "source": [
    "def drop_turn(angle_i, angle_j):\n",
    "  \"\"\"\n",
    "  Arguments:\n",
    "    angle_i:\n",
    "    angle_j: \n",
    "  Return: True if difference between angles is less than 0.001 False otherwise\n",
    "  \"\"\"\n",
    "  is_dropable = False\n",
    "\n",
    "  if (angle_i > 0) & (angle_j > 0): \n",
    "    rest = abs(angle_i - angle_j)\n",
    "    if abs(angle_i - angle_j) < 0.001:\n",
    "      is_dropable = True\n",
    "\n",
    "  return is_dropable"
   ]
  },
  {
   "cell_type": "code",
   "execution_count": null,
   "id": "9b7dcff3",
   "metadata": {},
   "outputs": [],
   "source": []
  }
 ],
 "metadata": {
  "kernelspec": {
   "display_name": "tti_venv",
   "language": "python",
   "name": "tti_venv"
  },
  "language_info": {
   "codemirror_mode": {
    "name": "ipython",
    "version": 3
   },
   "file_extension": ".py",
   "mimetype": "text/x-python",
   "name": "python",
   "nbconvert_exporter": "python",
   "pygments_lexer": "ipython3",
   "version": "3.10.6"
  }
 },
 "nbformat": 4,
 "nbformat_minor": 5
}
