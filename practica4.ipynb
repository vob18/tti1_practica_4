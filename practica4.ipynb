{
 "cells": [
  {
   "cell_type": "code",
   "execution_count": 1,
   "id": "79e1eee6",
   "metadata": {},
   "outputs": [
    {
     "name": "stdout",
     "output_type": "stream",
     "text": [
      "time: 0 ns (started: 2022-09-23 04:14:30 -05:00)\n"
     ]
    }
   ],
   "source": [
    "%load_ext autotime"
   ]
  },
  {
   "cell_type": "markdown",
   "id": "4aeb8fa0",
   "metadata": {},
   "source": [
    "# MODULES"
   ]
  },
  {
   "cell_type": "code",
   "execution_count": 37,
   "id": "adec8a3c",
   "metadata": {},
   "outputs": [
    {
     "data": {
      "application/javascript": [
       "(function(root) {\n",
       "  function now() {\n",
       "    return new Date();\n",
       "  }\n",
       "\n",
       "  var force = true;\n",
       "\n",
       "  if (typeof root._bokeh_onload_callbacks === \"undefined\" || force === true) {\n",
       "    root._bokeh_onload_callbacks = [];\n",
       "    root._bokeh_is_loading = undefined;\n",
       "  }\n",
       "\n",
       "  if (typeof (root._bokeh_timeout) === \"undefined\" || force === true) {\n",
       "    root._bokeh_timeout = Date.now() + 5000;\n",
       "    root._bokeh_failed_load = false;\n",
       "  }\n",
       "\n",
       "  function run_callbacks() {\n",
       "    try {\n",
       "      root._bokeh_onload_callbacks.forEach(function(callback) {\n",
       "        if (callback != null)\n",
       "          callback();\n",
       "      });\n",
       "    } finally {\n",
       "      delete root._bokeh_onload_callbacks\n",
       "    }\n",
       "    console.debug(\"Bokeh: all callbacks have finished\");\n",
       "  }\n",
       "\n",
       "  function load_libs(css_urls, js_urls, js_modules, callback) {\n",
       "    if (css_urls == null) css_urls = [];\n",
       "    if (js_urls == null) js_urls = [];\n",
       "    if (js_modules == null) js_modules = [];\n",
       "\n",
       "    root._bokeh_onload_callbacks.push(callback);\n",
       "    if (root._bokeh_is_loading > 0) {\n",
       "      console.debug(\"Bokeh: BokehJS is being loaded, scheduling callback at\", now());\n",
       "      return null;\n",
       "    }\n",
       "    if (js_urls.length === 0 && js_modules.length === 0) {\n",
       "      run_callbacks();\n",
       "      return null;\n",
       "    }\n",
       "    console.debug(\"Bokeh: BokehJS not loaded, scheduling load and callback at\", now());\n",
       "\n",
       "    function on_load() {\n",
       "      root._bokeh_is_loading--;\n",
       "      if (root._bokeh_is_loading === 0) {\n",
       "        console.debug(\"Bokeh: all BokehJS libraries/stylesheets loaded\");\n",
       "        run_callbacks()\n",
       "      }\n",
       "    }\n",
       "\n",
       "    function on_error() {\n",
       "      console.error(\"failed to load \" + url);\n",
       "    }\n",
       "\n",
       "    for (var i = 0; i < css_urls.length; i++) {\n",
       "      var url = css_urls[i];\n",
       "      const element = document.createElement(\"link\");\n",
       "      element.onload = on_load;\n",
       "      element.onerror = on_error;\n",
       "      element.rel = \"stylesheet\";\n",
       "      element.type = \"text/css\";\n",
       "      element.href = url;\n",
       "      console.debug(\"Bokeh: injecting link tag for BokehJS stylesheet: \", url);\n",
       "      document.body.appendChild(element);\n",
       "    }\n",
       "\n",
       "    var skip = [];\n",
       "    if (window.requirejs) {\n",
       "      window.requirejs.config({'packages': {}, 'paths': {'plotly': 'https://cdn.plot.ly/plotly-2.10.1.min', 'gridstack': 'https://cdn.jsdelivr.net/npm/gridstack@4.2.5/dist/gridstack-h5', 'notyf': 'https://cdn.jsdelivr.net/npm/notyf@3/notyf.min'}, 'shim': {'gridstack': {'exports': 'GridStack'}}});\n",
       "      require([\"plotly\"], function(Plotly) {\n",
       "\twindow.Plotly = Plotly\n",
       "\ton_load()\n",
       "      })\n",
       "      require([\"gridstack\"], function(GridStack) {\n",
       "\twindow.GridStack = GridStack\n",
       "\ton_load()\n",
       "      })\n",
       "      require([\"notyf\"], function() {\n",
       "\ton_load()\n",
       "      })\n",
       "      root._bokeh_is_loading = css_urls.length + 3;\n",
       "    } else {\n",
       "      root._bokeh_is_loading = css_urls.length + js_urls.length + js_modules.length;\n",
       "    }    if (((window['Plotly'] !== undefined) && (!(window['Plotly'] instanceof HTMLElement))) || window.requirejs) {\n",
       "      var urls = ['https://cdn.plot.ly/plotly-2.10.1.min.js'];\n",
       "      for (var i = 0; i < urls.length; i++) {\n",
       "        skip.push(urls[i])\n",
       "      }\n",
       "    }    if (((window['GridStack'] !== undefined) && (!(window['GridStack'] instanceof HTMLElement))) || window.requirejs) {\n",
       "      var urls = ['https://cdn.jsdelivr.net/npm/gridstack@4.2.5/dist/gridstack-h5.js'];\n",
       "      for (var i = 0; i < urls.length; i++) {\n",
       "        skip.push(urls[i])\n",
       "      }\n",
       "    }    if (((window['Notyf'] !== undefined) && (!(window['Notyf'] instanceof HTMLElement))) || window.requirejs) {\n",
       "      var urls = ['https://cdn.jsdelivr.net/npm/notyf@3/notyf.min.js'];\n",
       "      for (var i = 0; i < urls.length; i++) {\n",
       "        skip.push(urls[i])\n",
       "      }\n",
       "    }    for (var i = 0; i < js_urls.length; i++) {\n",
       "      var url = js_urls[i];\n",
       "      if (skip.indexOf(url) >= 0) {\n",
       "\tif (!window.requirejs) {\n",
       "\t  on_load();\n",
       "\t}\n",
       "\tcontinue;\n",
       "      }\n",
       "      var element = document.createElement('script');\n",
       "      element.onload = on_load;\n",
       "      element.onerror = on_error;\n",
       "      element.async = false;\n",
       "      element.src = url;\n",
       "      console.debug(\"Bokeh: injecting script tag for BokehJS library: \", url);\n",
       "      document.head.appendChild(element);\n",
       "    }\n",
       "    for (var i = 0; i < js_modules.length; i++) {\n",
       "      var url = js_modules[i];\n",
       "      if (skip.indexOf(url) >= 0) {\n",
       "\tif (!window.requirejs) {\n",
       "\t  on_load();\n",
       "\t}\n",
       "\tcontinue;\n",
       "      }\n",
       "      var element = document.createElement('script');\n",
       "      element.onload = on_load;\n",
       "      element.onerror = on_error;\n",
       "      element.async = false;\n",
       "      element.src = url;\n",
       "      element.type = \"module\";\n",
       "      console.debug(\"Bokeh: injecting script tag for BokehJS library: \", url);\n",
       "      document.head.appendChild(element);\n",
       "    }\n",
       "    if (!js_urls.length && !js_modules.length) {\n",
       "      on_load()\n",
       "    }\n",
       "  };\n",
       "\n",
       "  function inject_raw_css(css) {\n",
       "    const element = document.createElement(\"style\");\n",
       "    element.appendChild(document.createTextNode(css));\n",
       "    document.body.appendChild(element);\n",
       "  }\n",
       "\n",
       "  var js_urls = [\"https://cdn.jsdelivr.net/npm/jquery@3.5.1/dist/jquery.slim.min.js\", \"https://cdn.plot.ly/plotly-2.10.1.min.js\", \"https://cdn.bokeh.org/bokeh/release/bokeh-2.4.3.min.js\", \"https://cdn.bokeh.org/bokeh/release/bokeh-gl-2.4.3.min.js\", \"https://cdn.bokeh.org/bokeh/release/bokeh-widgets-2.4.3.min.js\", \"https://cdn.bokeh.org/bokeh/release/bokeh-tables-2.4.3.min.js\", \"https://cdn.bokeh.org/bokeh/release/bokeh-mathjax-2.4.3.min.js\", \"https://cdn.jsdelivr.net/npm/notyf@3/notyf.min.js\", \"https://unpkg.com/@holoviz/panel@0.13.1/dist/panel.min.js\"];\n",
       "  var js_modules = [];\n",
       "  var css_urls = [\"https://cdn.jsdelivr.net/npm/notyf@3/notyf.min.css\", \"https://cdnjs.cloudflare.com/ajax/libs/font-awesome/5.15.1/css/all.min.css\", \"https://unpkg.com/@holoviz/panel@0.13.1/dist/css/alerts.css\", \"https://unpkg.com/@holoviz/panel@0.13.1/dist/css/card.css\", \"https://unpkg.com/@holoviz/panel@0.13.1/dist/css/dataframe.css\", \"https://unpkg.com/@holoviz/panel@0.13.1/dist/css/debugger.css\", \"https://unpkg.com/@holoviz/panel@0.13.1/dist/css/json.css\", \"https://unpkg.com/@holoviz/panel@0.13.1/dist/css/loading.css\", \"https://unpkg.com/@holoviz/panel@0.13.1/dist/css/markdown.css\", \"https://unpkg.com/@holoviz/panel@0.13.1/dist/css/widgets.css\"];\n",
       "  var inline_js = [    function(Bokeh) {\n",
       "      inject_raw_css(\"\\n    .bk.pn-loading.arcs:before {\\n      background-image: url(\\\"data:image/svg+xml;base64,PHN2ZyB4bWxucz0iaHR0cDovL3d3dy53My5vcmcvMjAwMC9zdmciIHhtbG5zOnhsaW5rPSJodHRwOi8vd3d3LnczLm9yZy8xOTk5L3hsaW5rIiBzdHlsZT0ibWFyZ2luOiBhdXRvOyBiYWNrZ3JvdW5kOiBub25lOyBkaXNwbGF5OiBibG9jazsgc2hhcGUtcmVuZGVyaW5nOiBhdXRvOyIgdmlld0JveD0iMCAwIDEwMCAxMDAiIHByZXNlcnZlQXNwZWN0UmF0aW89InhNaWRZTWlkIj4gIDxjaXJjbGUgY3g9IjUwIiBjeT0iNTAiIHI9IjMyIiBzdHJva2Utd2lkdGg9IjgiIHN0cm9rZT0iI2MzYzNjMyIgc3Ryb2tlLWRhc2hhcnJheT0iNTAuMjY1NDgyNDU3NDM2NjkgNTAuMjY1NDgyNDU3NDM2NjkiIGZpbGw9Im5vbmUiIHN0cm9rZS1saW5lY2FwPSJyb3VuZCI+ICAgIDxhbmltYXRlVHJhbnNmb3JtIGF0dHJpYnV0ZU5hbWU9InRyYW5zZm9ybSIgdHlwZT0icm90YXRlIiByZXBlYXRDb3VudD0iaW5kZWZpbml0ZSIgZHVyPSIxcyIga2V5VGltZXM9IjA7MSIgdmFsdWVzPSIwIDUwIDUwOzM2MCA1MCA1MCI+PC9hbmltYXRlVHJhbnNmb3JtPiAgPC9jaXJjbGU+PC9zdmc+\\\");\\n      background-size: auto calc(min(50%, 400px));\\n    }\\n    \");\n",
       "    },    function(Bokeh) {\n",
       "      inject_raw_css(\"\\n.bk.controls_main {\\n    max-width: 400vw !important;\\n    height: 880px !important;\\n    border-radius: 15px;\\n}\\n\\n.bk.hide_blocks {\\n    visibility: hidden;\\n}\\n\\n.bk.show_blocks {\\n    visibility: visible;\\n    min-height: 200px !important;\\n}\\n\\n\");\n",
       "    },    function(Bokeh) {\n",
       "      Bokeh.set_log_level(\"info\");\n",
       "    },\n",
       "function(Bokeh) {} // ensure no trailing comma for IE\n",
       "  ];\n",
       "\n",
       "  function run_inline_js() {\n",
       "    if ((root.Bokeh !== undefined) || (force === true)) {\n",
       "      for (var i = 0; i < inline_js.length; i++) {\n",
       "        inline_js[i].call(root, root.Bokeh);\n",
       "      }} else if (Date.now() < root._bokeh_timeout) {\n",
       "      setTimeout(run_inline_js, 100);\n",
       "    } else if (!root._bokeh_failed_load) {\n",
       "      console.log(\"Bokeh: BokehJS failed to load within specified timeout.\");\n",
       "      root._bokeh_failed_load = true;\n",
       "    }\n",
       "  }\n",
       "\n",
       "  if (root._bokeh_is_loading === 0) {\n",
       "    console.debug(\"Bokeh: BokehJS loaded, going straight to plotting\");\n",
       "    run_inline_js();\n",
       "  } else {\n",
       "    load_libs(css_urls, js_urls, js_modules, function() {\n",
       "      console.debug(\"Bokeh: BokehJS plotting callback run at\", now());\n",
       "      run_inline_js();\n",
       "    });\n",
       "  }\n",
       "}(window));"
      ],
      "application/vnd.holoviews_load.v0+json": "(function(root) {\n  function now() {\n    return new Date();\n  }\n\n  var force = true;\n\n  if (typeof root._bokeh_onload_callbacks === \"undefined\" || force === true) {\n    root._bokeh_onload_callbacks = [];\n    root._bokeh_is_loading = undefined;\n  }\n\n  if (typeof (root._bokeh_timeout) === \"undefined\" || force === true) {\n    root._bokeh_timeout = Date.now() + 5000;\n    root._bokeh_failed_load = false;\n  }\n\n  function run_callbacks() {\n    try {\n      root._bokeh_onload_callbacks.forEach(function(callback) {\n        if (callback != null)\n          callback();\n      });\n    } finally {\n      delete root._bokeh_onload_callbacks\n    }\n    console.debug(\"Bokeh: all callbacks have finished\");\n  }\n\n  function load_libs(css_urls, js_urls, js_modules, callback) {\n    if (css_urls == null) css_urls = [];\n    if (js_urls == null) js_urls = [];\n    if (js_modules == null) js_modules = [];\n\n    root._bokeh_onload_callbacks.push(callback);\n    if (root._bokeh_is_loading > 0) {\n      console.debug(\"Bokeh: BokehJS is being loaded, scheduling callback at\", now());\n      return null;\n    }\n    if (js_urls.length === 0 && js_modules.length === 0) {\n      run_callbacks();\n      return null;\n    }\n    console.debug(\"Bokeh: BokehJS not loaded, scheduling load and callback at\", now());\n\n    function on_load() {\n      root._bokeh_is_loading--;\n      if (root._bokeh_is_loading === 0) {\n        console.debug(\"Bokeh: all BokehJS libraries/stylesheets loaded\");\n        run_callbacks()\n      }\n    }\n\n    function on_error() {\n      console.error(\"failed to load \" + url);\n    }\n\n    for (var i = 0; i < css_urls.length; i++) {\n      var url = css_urls[i];\n      const element = document.createElement(\"link\");\n      element.onload = on_load;\n      element.onerror = on_error;\n      element.rel = \"stylesheet\";\n      element.type = \"text/css\";\n      element.href = url;\n      console.debug(\"Bokeh: injecting link tag for BokehJS stylesheet: \", url);\n      document.body.appendChild(element);\n    }\n\n    var skip = [];\n    if (window.requirejs) {\n      window.requirejs.config({'packages': {}, 'paths': {'plotly': 'https://cdn.plot.ly/plotly-2.10.1.min', 'gridstack': 'https://cdn.jsdelivr.net/npm/gridstack@4.2.5/dist/gridstack-h5', 'notyf': 'https://cdn.jsdelivr.net/npm/notyf@3/notyf.min'}, 'shim': {'gridstack': {'exports': 'GridStack'}}});\n      require([\"plotly\"], function(Plotly) {\n\twindow.Plotly = Plotly\n\ton_load()\n      })\n      require([\"gridstack\"], function(GridStack) {\n\twindow.GridStack = GridStack\n\ton_load()\n      })\n      require([\"notyf\"], function() {\n\ton_load()\n      })\n      root._bokeh_is_loading = css_urls.length + 3;\n    } else {\n      root._bokeh_is_loading = css_urls.length + js_urls.length + js_modules.length;\n    }    if (((window['Plotly'] !== undefined) && (!(window['Plotly'] instanceof HTMLElement))) || window.requirejs) {\n      var urls = ['https://cdn.plot.ly/plotly-2.10.1.min.js'];\n      for (var i = 0; i < urls.length; i++) {\n        skip.push(urls[i])\n      }\n    }    if (((window['GridStack'] !== undefined) && (!(window['GridStack'] instanceof HTMLElement))) || window.requirejs) {\n      var urls = ['https://cdn.jsdelivr.net/npm/gridstack@4.2.5/dist/gridstack-h5.js'];\n      for (var i = 0; i < urls.length; i++) {\n        skip.push(urls[i])\n      }\n    }    if (((window['Notyf'] !== undefined) && (!(window['Notyf'] instanceof HTMLElement))) || window.requirejs) {\n      var urls = ['https://cdn.jsdelivr.net/npm/notyf@3/notyf.min.js'];\n      for (var i = 0; i < urls.length; i++) {\n        skip.push(urls[i])\n      }\n    }    for (var i = 0; i < js_urls.length; i++) {\n      var url = js_urls[i];\n      if (skip.indexOf(url) >= 0) {\n\tif (!window.requirejs) {\n\t  on_load();\n\t}\n\tcontinue;\n      }\n      var element = document.createElement('script');\n      element.onload = on_load;\n      element.onerror = on_error;\n      element.async = false;\n      element.src = url;\n      console.debug(\"Bokeh: injecting script tag for BokehJS library: \", url);\n      document.head.appendChild(element);\n    }\n    for (var i = 0; i < js_modules.length; i++) {\n      var url = js_modules[i];\n      if (skip.indexOf(url) >= 0) {\n\tif (!window.requirejs) {\n\t  on_load();\n\t}\n\tcontinue;\n      }\n      var element = document.createElement('script');\n      element.onload = on_load;\n      element.onerror = on_error;\n      element.async = false;\n      element.src = url;\n      element.type = \"module\";\n      console.debug(\"Bokeh: injecting script tag for BokehJS library: \", url);\n      document.head.appendChild(element);\n    }\n    if (!js_urls.length && !js_modules.length) {\n      on_load()\n    }\n  };\n\n  function inject_raw_css(css) {\n    const element = document.createElement(\"style\");\n    element.appendChild(document.createTextNode(css));\n    document.body.appendChild(element);\n  }\n\n  var js_urls = [\"https://cdn.jsdelivr.net/npm/jquery@3.5.1/dist/jquery.slim.min.js\", \"https://cdn.plot.ly/plotly-2.10.1.min.js\", \"https://cdn.bokeh.org/bokeh/release/bokeh-2.4.3.min.js\", \"https://cdn.bokeh.org/bokeh/release/bokeh-gl-2.4.3.min.js\", \"https://cdn.bokeh.org/bokeh/release/bokeh-widgets-2.4.3.min.js\", \"https://cdn.bokeh.org/bokeh/release/bokeh-tables-2.4.3.min.js\", \"https://cdn.bokeh.org/bokeh/release/bokeh-mathjax-2.4.3.min.js\", \"https://cdn.jsdelivr.net/npm/notyf@3/notyf.min.js\", \"https://unpkg.com/@holoviz/panel@0.13.1/dist/panel.min.js\"];\n  var js_modules = [];\n  var css_urls = [\"https://cdn.jsdelivr.net/npm/notyf@3/notyf.min.css\", \"https://cdnjs.cloudflare.com/ajax/libs/font-awesome/5.15.1/css/all.min.css\", \"https://unpkg.com/@holoviz/panel@0.13.1/dist/css/alerts.css\", \"https://unpkg.com/@holoviz/panel@0.13.1/dist/css/card.css\", \"https://unpkg.com/@holoviz/panel@0.13.1/dist/css/dataframe.css\", \"https://unpkg.com/@holoviz/panel@0.13.1/dist/css/debugger.css\", \"https://unpkg.com/@holoviz/panel@0.13.1/dist/css/json.css\", \"https://unpkg.com/@holoviz/panel@0.13.1/dist/css/loading.css\", \"https://unpkg.com/@holoviz/panel@0.13.1/dist/css/markdown.css\", \"https://unpkg.com/@holoviz/panel@0.13.1/dist/css/widgets.css\"];\n  var inline_js = [    function(Bokeh) {\n      inject_raw_css(\"\\n    .bk.pn-loading.arcs:before {\\n      background-image: url(\\\"data:image/svg+xml;base64,PHN2ZyB4bWxucz0iaHR0cDovL3d3dy53My5vcmcvMjAwMC9zdmciIHhtbG5zOnhsaW5rPSJodHRwOi8vd3d3LnczLm9yZy8xOTk5L3hsaW5rIiBzdHlsZT0ibWFyZ2luOiBhdXRvOyBiYWNrZ3JvdW5kOiBub25lOyBkaXNwbGF5OiBibG9jazsgc2hhcGUtcmVuZGVyaW5nOiBhdXRvOyIgdmlld0JveD0iMCAwIDEwMCAxMDAiIHByZXNlcnZlQXNwZWN0UmF0aW89InhNaWRZTWlkIj4gIDxjaXJjbGUgY3g9IjUwIiBjeT0iNTAiIHI9IjMyIiBzdHJva2Utd2lkdGg9IjgiIHN0cm9rZT0iI2MzYzNjMyIgc3Ryb2tlLWRhc2hhcnJheT0iNTAuMjY1NDgyNDU3NDM2NjkgNTAuMjY1NDgyNDU3NDM2NjkiIGZpbGw9Im5vbmUiIHN0cm9rZS1saW5lY2FwPSJyb3VuZCI+ICAgIDxhbmltYXRlVHJhbnNmb3JtIGF0dHJpYnV0ZU5hbWU9InRyYW5zZm9ybSIgdHlwZT0icm90YXRlIiByZXBlYXRDb3VudD0iaW5kZWZpbml0ZSIgZHVyPSIxcyIga2V5VGltZXM9IjA7MSIgdmFsdWVzPSIwIDUwIDUwOzM2MCA1MCA1MCI+PC9hbmltYXRlVHJhbnNmb3JtPiAgPC9jaXJjbGU+PC9zdmc+\\\");\\n      background-size: auto calc(min(50%, 400px));\\n    }\\n    \");\n    },    function(Bokeh) {\n      inject_raw_css(\"\\n.bk.controls_main {\\n    max-width: 400vw !important;\\n    height: 880px !important;\\n    border-radius: 15px;\\n}\\n\\n.bk.hide_blocks {\\n    visibility: hidden;\\n}\\n\\n.bk.show_blocks {\\n    visibility: visible;\\n    min-height: 200px !important;\\n}\\n\\n\");\n    },    function(Bokeh) {\n      Bokeh.set_log_level(\"info\");\n    },\nfunction(Bokeh) {} // ensure no trailing comma for IE\n  ];\n\n  function run_inline_js() {\n    if ((root.Bokeh !== undefined) || (force === true)) {\n      for (var i = 0; i < inline_js.length; i++) {\n        inline_js[i].call(root, root.Bokeh);\n      }} else if (Date.now() < root._bokeh_timeout) {\n      setTimeout(run_inline_js, 100);\n    } else if (!root._bokeh_failed_load) {\n      console.log(\"Bokeh: BokehJS failed to load within specified timeout.\");\n      root._bokeh_failed_load = true;\n    }\n  }\n\n  if (root._bokeh_is_loading === 0) {\n    console.debug(\"Bokeh: BokehJS loaded, going straight to plotting\");\n    run_inline_js();\n  } else {\n    load_libs(css_urls, js_urls, js_modules, function() {\n      console.debug(\"Bokeh: BokehJS plotting callback run at\", now());\n      run_inline_js();\n    });\n  }\n}(window));"
     },
     "metadata": {},
     "output_type": "display_data"
    },
    {
     "data": {
      "application/javascript": [
       "\n",
       "if ((window.PyViz === undefined) || (window.PyViz instanceof HTMLElement)) {\n",
       "  window.PyViz = {comms: {}, comm_status:{}, kernels:{}, receivers: {}, plot_index: []}\n",
       "}\n",
       "\n",
       "\n",
       "    function JupyterCommManager() {\n",
       "    }\n",
       "\n",
       "    JupyterCommManager.prototype.register_target = function(plot_id, comm_id, msg_handler) {\n",
       "      if (window.comm_manager || ((window.Jupyter !== undefined) && (Jupyter.notebook.kernel != null))) {\n",
       "        var comm_manager = window.comm_manager || Jupyter.notebook.kernel.comm_manager;\n",
       "        comm_manager.register_target(comm_id, function(comm) {\n",
       "          comm.on_msg(msg_handler);\n",
       "        });\n",
       "      } else if ((plot_id in window.PyViz.kernels) && (window.PyViz.kernels[plot_id])) {\n",
       "        window.PyViz.kernels[plot_id].registerCommTarget(comm_id, function(comm) {\n",
       "          comm.onMsg = msg_handler;\n",
       "        });\n",
       "      } else if (typeof google != 'undefined' && google.colab.kernel != null) {\n",
       "        google.colab.kernel.comms.registerTarget(comm_id, (comm) => {\n",
       "          var messages = comm.messages[Symbol.asyncIterator]();\n",
       "          function processIteratorResult(result) {\n",
       "            var message = result.value;\n",
       "            console.log(message)\n",
       "            var content = {data: message.data, comm_id};\n",
       "            var buffers = []\n",
       "            for (var buffer of message.buffers || []) {\n",
       "              buffers.push(new DataView(buffer))\n",
       "            }\n",
       "            var metadata = message.metadata || {};\n",
       "            var msg = {content, buffers, metadata}\n",
       "            msg_handler(msg);\n",
       "            return messages.next().then(processIteratorResult);\n",
       "          }\n",
       "          return messages.next().then(processIteratorResult);\n",
       "        })\n",
       "      }\n",
       "    }\n",
       "\n",
       "    JupyterCommManager.prototype.get_client_comm = function(plot_id, comm_id, msg_handler) {\n",
       "      if (comm_id in window.PyViz.comms) {\n",
       "        return window.PyViz.comms[comm_id];\n",
       "      } else if (window.comm_manager || ((window.Jupyter !== undefined) && (Jupyter.notebook.kernel != null))) {\n",
       "        var comm_manager = window.comm_manager || Jupyter.notebook.kernel.comm_manager;\n",
       "        var comm = comm_manager.new_comm(comm_id, {}, {}, {}, comm_id);\n",
       "        if (msg_handler) {\n",
       "          comm.on_msg(msg_handler);\n",
       "        }\n",
       "      } else if ((plot_id in window.PyViz.kernels) && (window.PyViz.kernels[plot_id])) {\n",
       "        var comm = window.PyViz.kernels[plot_id].connectToComm(comm_id);\n",
       "        comm.open();\n",
       "        if (msg_handler) {\n",
       "          comm.onMsg = msg_handler;\n",
       "        }\n",
       "      } else if (typeof google != 'undefined' && google.colab.kernel != null) {\n",
       "        var comm_promise = google.colab.kernel.comms.open(comm_id)\n",
       "        comm_promise.then((comm) => {\n",
       "          window.PyViz.comms[comm_id] = comm;\n",
       "          if (msg_handler) {\n",
       "            var messages = comm.messages[Symbol.asyncIterator]();\n",
       "            function processIteratorResult(result) {\n",
       "              var message = result.value;\n",
       "              var content = {data: message.data};\n",
       "              var metadata = message.metadata || {comm_id};\n",
       "              var msg = {content, metadata}\n",
       "              msg_handler(msg);\n",
       "              return messages.next().then(processIteratorResult);\n",
       "            }\n",
       "            return messages.next().then(processIteratorResult);\n",
       "          }\n",
       "        }) \n",
       "        var sendClosure = (data, metadata, buffers, disposeOnDone) => {\n",
       "          return comm_promise.then((comm) => {\n",
       "            comm.send(data, metadata, buffers, disposeOnDone);\n",
       "          });\n",
       "        };\n",
       "        var comm = {\n",
       "          send: sendClosure\n",
       "        };\n",
       "      }\n",
       "      window.PyViz.comms[comm_id] = comm;\n",
       "      return comm;\n",
       "    }\n",
       "    window.PyViz.comm_manager = new JupyterCommManager();\n",
       "    \n",
       "\n",
       "\n",
       "var JS_MIME_TYPE = 'application/javascript';\n",
       "var HTML_MIME_TYPE = 'text/html';\n",
       "var EXEC_MIME_TYPE = 'application/vnd.holoviews_exec.v0+json';\n",
       "var CLASS_NAME = 'output';\n",
       "\n",
       "/**\n",
       " * Render data to the DOM node\n",
       " */\n",
       "function render(props, node) {\n",
       "  var div = document.createElement(\"div\");\n",
       "  var script = document.createElement(\"script\");\n",
       "  node.appendChild(div);\n",
       "  node.appendChild(script);\n",
       "}\n",
       "\n",
       "/**\n",
       " * Handle when a new output is added\n",
       " */\n",
       "function handle_add_output(event, handle) {\n",
       "  var output_area = handle.output_area;\n",
       "  var output = handle.output;\n",
       "  if ((output.data == undefined) || (!output.data.hasOwnProperty(EXEC_MIME_TYPE))) {\n",
       "    return\n",
       "  }\n",
       "  var id = output.metadata[EXEC_MIME_TYPE][\"id\"];\n",
       "  var toinsert = output_area.element.find(\".\" + CLASS_NAME.split(' ')[0]);\n",
       "  if (id !== undefined) {\n",
       "    var nchildren = toinsert.length;\n",
       "    var html_node = toinsert[nchildren-1].children[0];\n",
       "    html_node.innerHTML = output.data[HTML_MIME_TYPE];\n",
       "    var scripts = [];\n",
       "    var nodelist = html_node.querySelectorAll(\"script\");\n",
       "    for (var i in nodelist) {\n",
       "      if (nodelist.hasOwnProperty(i)) {\n",
       "        scripts.push(nodelist[i])\n",
       "      }\n",
       "    }\n",
       "\n",
       "    scripts.forEach( function (oldScript) {\n",
       "      var newScript = document.createElement(\"script\");\n",
       "      var attrs = [];\n",
       "      var nodemap = oldScript.attributes;\n",
       "      for (var j in nodemap) {\n",
       "        if (nodemap.hasOwnProperty(j)) {\n",
       "          attrs.push(nodemap[j])\n",
       "        }\n",
       "      }\n",
       "      attrs.forEach(function(attr) { newScript.setAttribute(attr.name, attr.value) });\n",
       "      newScript.appendChild(document.createTextNode(oldScript.innerHTML));\n",
       "      oldScript.parentNode.replaceChild(newScript, oldScript);\n",
       "    });\n",
       "    if (JS_MIME_TYPE in output.data) {\n",
       "      toinsert[nchildren-1].children[1].textContent = output.data[JS_MIME_TYPE];\n",
       "    }\n",
       "    output_area._hv_plot_id = id;\n",
       "    if ((window.Bokeh !== undefined) && (id in Bokeh.index)) {\n",
       "      window.PyViz.plot_index[id] = Bokeh.index[id];\n",
       "    } else {\n",
       "      window.PyViz.plot_index[id] = null;\n",
       "    }\n",
       "  } else if (output.metadata[EXEC_MIME_TYPE][\"server_id\"] !== undefined) {\n",
       "    var bk_div = document.createElement(\"div\");\n",
       "    bk_div.innerHTML = output.data[HTML_MIME_TYPE];\n",
       "    var script_attrs = bk_div.children[0].attributes;\n",
       "    for (var i = 0; i < script_attrs.length; i++) {\n",
       "      toinsert[toinsert.length - 1].childNodes[1].setAttribute(script_attrs[i].name, script_attrs[i].value);\n",
       "    }\n",
       "    // store reference to server id on output_area\n",
       "    output_area._bokeh_server_id = output.metadata[EXEC_MIME_TYPE][\"server_id\"];\n",
       "  }\n",
       "}\n",
       "\n",
       "/**\n",
       " * Handle when an output is cleared or removed\n",
       " */\n",
       "function handle_clear_output(event, handle) {\n",
       "  var id = handle.cell.output_area._hv_plot_id;\n",
       "  var server_id = handle.cell.output_area._bokeh_server_id;\n",
       "  if (((id === undefined) || !(id in PyViz.plot_index)) && (server_id !== undefined)) { return; }\n",
       "  var comm = window.PyViz.comm_manager.get_client_comm(\"hv-extension-comm\", \"hv-extension-comm\", function () {});\n",
       "  if (server_id !== null) {\n",
       "    comm.send({event_type: 'server_delete', 'id': server_id});\n",
       "    return;\n",
       "  } else if (comm !== null) {\n",
       "    comm.send({event_type: 'delete', 'id': id});\n",
       "  }\n",
       "  delete PyViz.plot_index[id];\n",
       "  if ((window.Bokeh !== undefined) & (id in window.Bokeh.index)) {\n",
       "    var doc = window.Bokeh.index[id].model.document\n",
       "    doc.clear();\n",
       "    const i = window.Bokeh.documents.indexOf(doc);\n",
       "    if (i > -1) {\n",
       "      window.Bokeh.documents.splice(i, 1);\n",
       "    }\n",
       "  }\n",
       "}\n",
       "\n",
       "/**\n",
       " * Handle kernel restart event\n",
       " */\n",
       "function handle_kernel_cleanup(event, handle) {\n",
       "  delete PyViz.comms[\"hv-extension-comm\"];\n",
       "  window.PyViz.plot_index = {}\n",
       "}\n",
       "\n",
       "/**\n",
       " * Handle update_display_data messages\n",
       " */\n",
       "function handle_update_output(event, handle) {\n",
       "  handle_clear_output(event, {cell: {output_area: handle.output_area}})\n",
       "  handle_add_output(event, handle)\n",
       "}\n",
       "\n",
       "function register_renderer(events, OutputArea) {\n",
       "  function append_mime(data, metadata, element) {\n",
       "    // create a DOM node to render to\n",
       "    var toinsert = this.create_output_subarea(\n",
       "    metadata,\n",
       "    CLASS_NAME,\n",
       "    EXEC_MIME_TYPE\n",
       "    );\n",
       "    this.keyboard_manager.register_events(toinsert);\n",
       "    // Render to node\n",
       "    var props = {data: data, metadata: metadata[EXEC_MIME_TYPE]};\n",
       "    render(props, toinsert[0]);\n",
       "    element.append(toinsert);\n",
       "    return toinsert\n",
       "  }\n",
       "\n",
       "  events.on('output_added.OutputArea', handle_add_output);\n",
       "  events.on('output_updated.OutputArea', handle_update_output);\n",
       "  events.on('clear_output.CodeCell', handle_clear_output);\n",
       "  events.on('delete.Cell', handle_clear_output);\n",
       "  events.on('kernel_ready.Kernel', handle_kernel_cleanup);\n",
       "\n",
       "  OutputArea.prototype.register_mime_type(EXEC_MIME_TYPE, append_mime, {\n",
       "    safe: true,\n",
       "    index: 0\n",
       "  });\n",
       "}\n",
       "\n",
       "if (window.Jupyter !== undefined) {\n",
       "  try {\n",
       "    var events = require('base/js/events');\n",
       "    var OutputArea = require('notebook/js/outputarea').OutputArea;\n",
       "    if (OutputArea.prototype.mime_types().indexOf(EXEC_MIME_TYPE) == -1) {\n",
       "      register_renderer(events, OutputArea);\n",
       "    }\n",
       "  } catch(err) {\n",
       "  }\n",
       "}\n"
      ],
      "application/vnd.holoviews_load.v0+json": "\nif ((window.PyViz === undefined) || (window.PyViz instanceof HTMLElement)) {\n  window.PyViz = {comms: {}, comm_status:{}, kernels:{}, receivers: {}, plot_index: []}\n}\n\n\n    function JupyterCommManager() {\n    }\n\n    JupyterCommManager.prototype.register_target = function(plot_id, comm_id, msg_handler) {\n      if (window.comm_manager || ((window.Jupyter !== undefined) && (Jupyter.notebook.kernel != null))) {\n        var comm_manager = window.comm_manager || Jupyter.notebook.kernel.comm_manager;\n        comm_manager.register_target(comm_id, function(comm) {\n          comm.on_msg(msg_handler);\n        });\n      } else if ((plot_id in window.PyViz.kernels) && (window.PyViz.kernels[plot_id])) {\n        window.PyViz.kernels[plot_id].registerCommTarget(comm_id, function(comm) {\n          comm.onMsg = msg_handler;\n        });\n      } else if (typeof google != 'undefined' && google.colab.kernel != null) {\n        google.colab.kernel.comms.registerTarget(comm_id, (comm) => {\n          var messages = comm.messages[Symbol.asyncIterator]();\n          function processIteratorResult(result) {\n            var message = result.value;\n            console.log(message)\n            var content = {data: message.data, comm_id};\n            var buffers = []\n            for (var buffer of message.buffers || []) {\n              buffers.push(new DataView(buffer))\n            }\n            var metadata = message.metadata || {};\n            var msg = {content, buffers, metadata}\n            msg_handler(msg);\n            return messages.next().then(processIteratorResult);\n          }\n          return messages.next().then(processIteratorResult);\n        })\n      }\n    }\n\n    JupyterCommManager.prototype.get_client_comm = function(plot_id, comm_id, msg_handler) {\n      if (comm_id in window.PyViz.comms) {\n        return window.PyViz.comms[comm_id];\n      } else if (window.comm_manager || ((window.Jupyter !== undefined) && (Jupyter.notebook.kernel != null))) {\n        var comm_manager = window.comm_manager || Jupyter.notebook.kernel.comm_manager;\n        var comm = comm_manager.new_comm(comm_id, {}, {}, {}, comm_id);\n        if (msg_handler) {\n          comm.on_msg(msg_handler);\n        }\n      } else if ((plot_id in window.PyViz.kernels) && (window.PyViz.kernels[plot_id])) {\n        var comm = window.PyViz.kernels[plot_id].connectToComm(comm_id);\n        comm.open();\n        if (msg_handler) {\n          comm.onMsg = msg_handler;\n        }\n      } else if (typeof google != 'undefined' && google.colab.kernel != null) {\n        var comm_promise = google.colab.kernel.comms.open(comm_id)\n        comm_promise.then((comm) => {\n          window.PyViz.comms[comm_id] = comm;\n          if (msg_handler) {\n            var messages = comm.messages[Symbol.asyncIterator]();\n            function processIteratorResult(result) {\n              var message = result.value;\n              var content = {data: message.data};\n              var metadata = message.metadata || {comm_id};\n              var msg = {content, metadata}\n              msg_handler(msg);\n              return messages.next().then(processIteratorResult);\n            }\n            return messages.next().then(processIteratorResult);\n          }\n        }) \n        var sendClosure = (data, metadata, buffers, disposeOnDone) => {\n          return comm_promise.then((comm) => {\n            comm.send(data, metadata, buffers, disposeOnDone);\n          });\n        };\n        var comm = {\n          send: sendClosure\n        };\n      }\n      window.PyViz.comms[comm_id] = comm;\n      return comm;\n    }\n    window.PyViz.comm_manager = new JupyterCommManager();\n    \n\n\nvar JS_MIME_TYPE = 'application/javascript';\nvar HTML_MIME_TYPE = 'text/html';\nvar EXEC_MIME_TYPE = 'application/vnd.holoviews_exec.v0+json';\nvar CLASS_NAME = 'output';\n\n/**\n * Render data to the DOM node\n */\nfunction render(props, node) {\n  var div = document.createElement(\"div\");\n  var script = document.createElement(\"script\");\n  node.appendChild(div);\n  node.appendChild(script);\n}\n\n/**\n * Handle when a new output is added\n */\nfunction handle_add_output(event, handle) {\n  var output_area = handle.output_area;\n  var output = handle.output;\n  if ((output.data == undefined) || (!output.data.hasOwnProperty(EXEC_MIME_TYPE))) {\n    return\n  }\n  var id = output.metadata[EXEC_MIME_TYPE][\"id\"];\n  var toinsert = output_area.element.find(\".\" + CLASS_NAME.split(' ')[0]);\n  if (id !== undefined) {\n    var nchildren = toinsert.length;\n    var html_node = toinsert[nchildren-1].children[0];\n    html_node.innerHTML = output.data[HTML_MIME_TYPE];\n    var scripts = [];\n    var nodelist = html_node.querySelectorAll(\"script\");\n    for (var i in nodelist) {\n      if (nodelist.hasOwnProperty(i)) {\n        scripts.push(nodelist[i])\n      }\n    }\n\n    scripts.forEach( function (oldScript) {\n      var newScript = document.createElement(\"script\");\n      var attrs = [];\n      var nodemap = oldScript.attributes;\n      for (var j in nodemap) {\n        if (nodemap.hasOwnProperty(j)) {\n          attrs.push(nodemap[j])\n        }\n      }\n      attrs.forEach(function(attr) { newScript.setAttribute(attr.name, attr.value) });\n      newScript.appendChild(document.createTextNode(oldScript.innerHTML));\n      oldScript.parentNode.replaceChild(newScript, oldScript);\n    });\n    if (JS_MIME_TYPE in output.data) {\n      toinsert[nchildren-1].children[1].textContent = output.data[JS_MIME_TYPE];\n    }\n    output_area._hv_plot_id = id;\n    if ((window.Bokeh !== undefined) && (id in Bokeh.index)) {\n      window.PyViz.plot_index[id] = Bokeh.index[id];\n    } else {\n      window.PyViz.plot_index[id] = null;\n    }\n  } else if (output.metadata[EXEC_MIME_TYPE][\"server_id\"] !== undefined) {\n    var bk_div = document.createElement(\"div\");\n    bk_div.innerHTML = output.data[HTML_MIME_TYPE];\n    var script_attrs = bk_div.children[0].attributes;\n    for (var i = 0; i < script_attrs.length; i++) {\n      toinsert[toinsert.length - 1].childNodes[1].setAttribute(script_attrs[i].name, script_attrs[i].value);\n    }\n    // store reference to server id on output_area\n    output_area._bokeh_server_id = output.metadata[EXEC_MIME_TYPE][\"server_id\"];\n  }\n}\n\n/**\n * Handle when an output is cleared or removed\n */\nfunction handle_clear_output(event, handle) {\n  var id = handle.cell.output_area._hv_plot_id;\n  var server_id = handle.cell.output_area._bokeh_server_id;\n  if (((id === undefined) || !(id in PyViz.plot_index)) && (server_id !== undefined)) { return; }\n  var comm = window.PyViz.comm_manager.get_client_comm(\"hv-extension-comm\", \"hv-extension-comm\", function () {});\n  if (server_id !== null) {\n    comm.send({event_type: 'server_delete', 'id': server_id});\n    return;\n  } else if (comm !== null) {\n    comm.send({event_type: 'delete', 'id': id});\n  }\n  delete PyViz.plot_index[id];\n  if ((window.Bokeh !== undefined) & (id in window.Bokeh.index)) {\n    var doc = window.Bokeh.index[id].model.document\n    doc.clear();\n    const i = window.Bokeh.documents.indexOf(doc);\n    if (i > -1) {\n      window.Bokeh.documents.splice(i, 1);\n    }\n  }\n}\n\n/**\n * Handle kernel restart event\n */\nfunction handle_kernel_cleanup(event, handle) {\n  delete PyViz.comms[\"hv-extension-comm\"];\n  window.PyViz.plot_index = {}\n}\n\n/**\n * Handle update_display_data messages\n */\nfunction handle_update_output(event, handle) {\n  handle_clear_output(event, {cell: {output_area: handle.output_area}})\n  handle_add_output(event, handle)\n}\n\nfunction register_renderer(events, OutputArea) {\n  function append_mime(data, metadata, element) {\n    // create a DOM node to render to\n    var toinsert = this.create_output_subarea(\n    metadata,\n    CLASS_NAME,\n    EXEC_MIME_TYPE\n    );\n    this.keyboard_manager.register_events(toinsert);\n    // Render to node\n    var props = {data: data, metadata: metadata[EXEC_MIME_TYPE]};\n    render(props, toinsert[0]);\n    element.append(toinsert);\n    return toinsert\n  }\n\n  events.on('output_added.OutputArea', handle_add_output);\n  events.on('output_updated.OutputArea', handle_update_output);\n  events.on('clear_output.CodeCell', handle_clear_output);\n  events.on('delete.Cell', handle_clear_output);\n  events.on('kernel_ready.Kernel', handle_kernel_cleanup);\n\n  OutputArea.prototype.register_mime_type(EXEC_MIME_TYPE, append_mime, {\n    safe: true,\n    index: 0\n  });\n}\n\nif (window.Jupyter !== undefined) {\n  try {\n    var events = require('base/js/events');\n    var OutputArea = require('notebook/js/outputarea').OutputArea;\n    if (OutputArea.prototype.mime_types().indexOf(EXEC_MIME_TYPE) == -1) {\n      register_renderer(events, OutputArea);\n    }\n  } catch(err) {\n  }\n}\n"
     },
     "metadata": {},
     "output_type": "display_data"
    },
    {
     "data": {
      "text/html": [
       "<style>.bk-root, .bk-root .bk:before, .bk-root .bk:after {\n",
       "  font-family: var(--jp-ui-font-size1);\n",
       "  font-size: var(--jp-ui-font-size1);\n",
       "  color: var(--jp-ui-font-color1);\n",
       "}\n",
       "</style>"
      ]
     },
     "metadata": {},
     "output_type": "display_data"
    },
    {
     "name": "stdout",
     "output_type": "stream",
     "text": [
      "time: 16 ms (started: 2022-09-23 04:14:35 -05:00)\n"
     ]
    }
   ],
   "source": [
    "import panel as pn\n",
    "import panel.widgets as pnw\n",
    "pn.extension('plotly')\n",
    "\n",
    "import plotly.graph_objects as go\n",
    "from plotly.subplots import make_subplots\n",
    "import plotly.express as px\n",
    "\n",
    "import numpy as np\n",
    "import math\n",
    "\n",
    "import pandas as pd\n",
    "\n",
    "from scipy.stats import wrapcauchy\n",
    "from scipy.stats import levy_stable\n",
    "from scipy.spatial import distance"
   ]
  },
  {
   "cell_type": "markdown",
   "id": "02535f4e",
   "metadata": {},
   "source": [
    "# CLASESS"
   ]
  },
  {
   "cell_type": "markdown",
   "id": "5b3df9cf",
   "metadata": {},
   "source": [
    "## Vec2d"
   ]
  },
  {
   "cell_type": "code",
   "execution_count": 3,
   "id": "708dafbb",
   "metadata": {},
   "outputs": [
    {
     "name": "stdout",
     "output_type": "stream",
     "text": [
      "time: 16 ms (started: 2022-09-23 04:14:34 -05:00)\n"
     ]
    }
   ],
   "source": [
    "################# http://www.pygame.org/wiki/2DVectorClass ##################\n",
    "class Vec2d(object):\n",
    "    \"\"\"2d vector class, supports vector and scalar operators,\n",
    "       and also provides a bunch of high level functions\n",
    "       \"\"\"\n",
    "    __slots__ = ['x', 'y']\n",
    "\n",
    "    def __init__(self, x_or_pair, y = None):\n",
    "        if y == None:            \n",
    "            self.x = x_or_pair[0]\n",
    "            self.y = x_or_pair[1]\n",
    "        else:\n",
    "            self.x = x_or_pair\n",
    "            self.y = y\n",
    "            \n",
    "    # Addition\n",
    "    def __add__(self, other):\n",
    "        if isinstance(other, Vec2d):\n",
    "            return Vec2d(self.x + other.x, self.y + other.y)\n",
    "        elif hasattr(other, \"__getitem__\"):\n",
    "            return Vec2d(self.x + other[0], self.y + other[1])\n",
    "        else:\n",
    "            return Vec2d(self.x + other, self.y + other)\n",
    "\n",
    "    # Subtraction\n",
    "    def __sub__(self, other):\n",
    "        if isinstance(other, Vec2d):\n",
    "            return Vec2d(self.x - other.x, self.y - other.y)\n",
    "        elif (hasattr(other, \"__getitem__\")):\n",
    "            return Vec2d(self.x - other[0], self.y - other[1])\n",
    "        else:\n",
    "            return Vec2d(self.x - other, self.y - other)\n",
    "    \n",
    "    # Vector length\n",
    "    def get_length(self):\n",
    "        return math.sqrt(self.x**2 + self.y**2)\n",
    "    \n",
    "    # rotate vector\n",
    "    def rotated(self, angle):        \n",
    "        cos = math.cos(angle)\n",
    "        sin = math.sin(angle)\n",
    "        x = self.x*cos - self.y*sin\n",
    "        y = self.x*sin + self.y*cos\n",
    "        return Vec2d(x, y)"
   ]
  },
  {
   "cell_type": "markdown",
   "id": "a4057b5e",
   "metadata": {},
   "source": [
    "## Explorers"
   ]
  },
  {
   "cell_type": "code",
   "execution_count": 4,
   "id": "48eabd5b",
   "metadata": {},
   "outputs": [
    {
     "name": "stdout",
     "output_type": "stream",
     "text": [
      "time: 16 ms (started: 2022-09-23 04:14:34 -05:00)\n"
     ]
    }
   ],
   "source": [
    "class Explorers(object):\n",
    "    \n",
    "    # This class substitutes BM trajectory and CREW Trajectory\n",
    "    def __init__(self, x = 0, y = 0):\n",
    "        self.x = x\n",
    "        self.y = y\n",
    "        \n",
    "    def trace_trajectories(self, n_traj = 1, traj_type= \"BM_2d\", n_steps =1000, speeds = [6], crw_exponents = [0.5]):\n",
    "        \"\"\"\n",
    "            Generates the trajectories of the explorers according to their type\n",
    "            Arguments: \n",
    "                traj_type:\n",
    "                n_steps:\n",
    "                speed:\n",
    "                n_traj:\n",
    "                crw_exponents:\n",
    "          \"\"\"\n",
    "        \n",
    "        trajectories_df = pd.DataFrame(columns=['x','y','traj'])\n",
    "        \n",
    "\n",
    "        for j in range(n_traj):\n",
    "            \n",
    "            velocity = Vec2d(speeds[j], 0)\n",
    "            \n",
    "            \n",
    "            traj_aux_array = np.ones((n_steps,3))*[self.x,self.y,0]\n",
    "            traj_aux_array[0,2] = j\n",
    "\n",
    "            for i in range(1,n_steps):\n",
    "                crw_ex = lambda : crw_exponents[j] if len(crw_exponents) > 1 else i\n",
    "                turn_angle = self.generate_angle(traj_type, crw_ex())\n",
    "                \n",
    "                velocity = velocity.rotated(turn_angle)\n",
    "\n",
    "                traj_aux_array[i] = traj_aux_array[i-1,:]+[velocity.x,velocity.y,0]\n",
    "                traj_aux_array[i,2] = j\n",
    "\n",
    "                \n",
    "            temp_df = pd.DataFrame(data = traj_aux_array, columns=['x','y','traj'])\n",
    "            \n",
    "            trajectories_df = pd.concat([trajectories_df,temp_df], ignore_index=True)\n",
    "          \n",
    "        return trajectories_df\n",
    "    \n",
    "    \n",
    "    \n",
    "    \n",
    "    # angle choice \n",
    "    def generate_angle(self,traj_type, exponent = 0.6):\n",
    "            \n",
    "        if traj_type == \"BM_2d\":\n",
    "            angle = np.random.uniform(low=-np.pi, high=np.pi)\n",
    "        \n",
    "        if traj_type == \"BM_nsew\":\n",
    "            angle = np.random.choice([0,np.pi/2, np.pi, 3*np.pi])\n",
    "        \n",
    "        if traj_type == \"CRW\":\n",
    "            angle = wrapcauchy.rvs(exponent)\n",
    "            \n",
    "            \n",
    "        return angle"
   ]
  },
  {
   "cell_type": "markdown",
   "id": "25cc3cfb",
   "metadata": {},
   "source": [
    "## Levy Flight"
   ]
  },
  {
   "cell_type": "code",
   "execution_count": 5,
   "id": "a4b2d10f",
   "metadata": {},
   "outputs": [
    {
     "name": "stdout",
     "output_type": "stream",
     "text": [
      "time: 0 ns (started: 2022-09-23 04:14:34 -05:00)\n"
     ]
    }
   ],
   "source": [
    "class LFlyTrajectory(object):\n",
    "    \n",
    "    def __init__(self, x,y):\n",
    "        self.x=0\n",
    "        self.y=0\n",
    "        \n",
    "        \n",
    "    def levy_walk(self, alpha = 1, beta = 1, loc = 6 , speed = 3, samples = 100000):\n",
    "        # Init velocity vector\n",
    "\n",
    "        velocity = Vec2d(speed,0)\n",
    "\n",
    "        # Init df\n",
    "        LW_df = pd.DataFrame(columns=['x','y','traj'])\n",
    "        lw_3d = np.array([[0,0,0]])\n",
    "        aux = np.array([[0,0,0]])\n",
    "\n",
    "\n",
    "        i = 1\n",
    "        while i < samples:\n",
    "            # get random n_steps form levy distribution\n",
    "            step_size = levy_stable.rvs(alpha, beta, loc)\n",
    "            step_size = int(np.ceil(abs(step_size)))\n",
    "\n",
    "            theta = wrapcauchy.rvs(c=0.7, loc=0)\n",
    "\n",
    "            # update velocity\n",
    "            velocity = velocity.rotated(theta)\n",
    "\n",
    "            for j in range(step_size):\n",
    "                aux[0,:] = lw_3d[i-1,:]+[velocity.x,velocity.y,0]\n",
    "                lw_3d = np.r_[lw_3d,aux]\n",
    "\n",
    "                i+=1\n",
    "\n",
    "        temp_df = pd.DataFrame(data = lw_3d, columns=['x','y','traj'])\n",
    "        LW_df = pd.concat([LW_df,temp_df], ignore_index=True)\n",
    "\n",
    "        return LW_df;"
   ]
  },
  {
   "cell_type": "markdown",
   "id": "dd087de0",
   "metadata": {},
   "source": [
    "## Metrics"
   ]
  },
  {
   "cell_type": "markdown",
   "id": "fe304a28",
   "metadata": {},
   "source": [
    "### Path lenght"
   ]
  },
  {
   "cell_type": "code",
   "execution_count": 6,
   "id": "1f31af0c",
   "metadata": {},
   "outputs": [
    {
     "name": "stdout",
     "output_type": "stream",
     "text": [
      "time: 0 ns (started: 2022-09-23 04:14:34 -05:00)\n"
     ]
    }
   ],
   "source": [
    "class TrajectoryMetrics():\n",
    "    \n",
    "    \n",
    "    def get_path_lengt(self, trajectories, traj_df):\n",
    "        \n",
    "        path_lenghts = pd.DataFrame(columns=['distance','traj'])\n",
    "            \n",
    "        for i in range(n_traj):\n",
    "            aux_df= trajectories.loc[trajectories.traj == i, ['x','y']]\n",
    "\n",
    "            #Calculate lenghts for given trajectory\n",
    "            euc_dis = np.array([get_euclidean_distance(aux_df.iloc[i-1], aux_df.iloc[i]) for i in range(1,aux_df.shape[0])])\n",
    "\n",
    "\n",
    "            temp_df = pd.DataFrame(data = np.cumsum(euc_dis), columns = ['distance'])\n",
    "\n",
    "            trajectory_id = np.array([i for j in range(1,aux_df.shape[0])])\n",
    "            temp_df['traj'] = trajectory_id\n",
    "\n",
    "            path_lenghts = pd.concat([path_lenghts,temp_df], ignore_index=True)\n",
    "                \n",
    "            \n",
    "        return path_lenghts\n",
    "    \n",
    "    \n",
    "    \n",
    "    def get_trajectories_msd(self, trajectories, traj_df):\n",
    "        \n",
    "        msd_df = pd.DataFrame(columns=['MSD','traj'])\n",
    "        \n",
    "        for i in range(n_traj):\n",
    "            aux_df= bm_2d_df.loc[bm_2d_df.traj == i, ['x','y']]\n",
    "            msd = np.empty(shape=(0))\n",
    "\n",
    "            for tau in range(1,aux_df.shape[0]):\n",
    "                BM_msd = get_msd(tau,aux_df)\n",
    "\n",
    "                msd = np.append(msd,BM_msd)\n",
    "\n",
    "            temp_df = pd.DataFrame(data = msd, columns = ['MSD'])\n",
    "\n",
    "            trajectory_id = np.array([i for j in range(1,aux_df.shape[0])])\n",
    "            temp_df['traj'] = trajectory_id\n",
    "\n",
    "            msd_df = pd.concat([msd_df,temp_df], ignore_index=True)\n",
    "                \n",
    "        \n",
    "        return msd_df\n",
    "    \n",
    "    \n",
    "    \n",
    "    def get_ta_distribution(self, traj_df):\n",
    "        \n",
    "        ta_dist = np.empty(shape=(0))\n",
    "\n",
    "    \n",
    "        for index, row in traj_df[1:-1].iterrows():\n",
    "            \n",
    "            turning_angle = get_turning_angle(traj_df.iloc[index-1],traj_df.iloc[index],traj_df.iloc[index+1])\n",
    "            ta_dist = np.append(ta_dist,turning_angle)\n",
    "        \n",
    "        return ta_dist\n",
    "    \n",
    "    \n",
    "    \n",
    "    def get_sl_distribution(self, traj_df):\n",
    "        \n",
    "            ta = self.get_ta_distribution(traj_df)\n",
    "            \n",
    "            ta_df= pd.DataFrame(data = ta, columns=['TA_Levy'])\n",
    "            \n",
    "            \n",
    "            sl_array = np.empty(shape=(0))\n",
    "            \n",
    "            for group, elements in ta_df.groupby((ta_df['TA_Levy'].shift()!= ta_df['TA_Levy']).cumsum()):\n",
    "                if elements.shape[0]>1:\n",
    "                    sl_array = np.append(sl_array,elements.shape[0]+1)\n",
    "                    \n",
    "            return sl_array"
   ]
  },
  {
   "cell_type": "markdown",
   "id": "56381080",
   "metadata": {},
   "source": [
    "## Auxiliar functions"
   ]
  },
  {
   "cell_type": "markdown",
   "id": "5e7e50f4",
   "metadata": {},
   "source": [
    "### Euclidean distance\n",
    "\n",
    "$d_E(p,q)=\\sqrt{(p_x-q_x)^2+(p_y-q_y)^2}$"
   ]
  },
  {
   "cell_type": "code",
   "execution_count": 7,
   "id": "ab684f54",
   "metadata": {},
   "outputs": [
    {
     "name": "stdout",
     "output_type": "stream",
     "text": [
      "time: 0 ns (started: 2022-09-23 04:14:34 -05:00)\n"
     ]
    }
   ],
   "source": [
    "def get_euclidean_distance(p,q):\n",
    "    \"\"\"\n",
    "        Arguments:\n",
    "            p: [x,y] values for the starting point\n",
    "            q: [x,y] values for the ending point\n",
    "    \"\"\"\n",
    "  \n",
    "    distance = np.sqrt(np.square(p[0]-q[0]) + np.square(p[1]-q[1]))\n",
    "\n",
    "    return distance"
   ]
  },
  {
   "cell_type": "markdown",
   "id": "379186b4",
   "metadata": {},
   "source": [
    "### Mean Square Displacement\n",
    "\n",
    "\n",
    "$MSD = \\frac{1}{N-n} \\sum \\limits_{i=1}^{N-n}(\\vec{r}_{i+n}-\\vec{r}_i)^2 \\quad\\quad n=1,...,N-1$\n",
    "<br><br>\n",
    "\n",
    "$MSD = \\frac{1}{N-n}\\sum \\limits_{i=1}^{N-n}{d_E(p,q)}^2 \\quad\\quad n=1,...,N-1$"
   ]
  },
  {
   "cell_type": "code",
   "execution_count": 8,
   "id": "e0076ee0",
   "metadata": {},
   "outputs": [
    {
     "name": "stdout",
     "output_type": "stream",
     "text": [
      "time: 0 ns (started: 2022-09-23 04:14:34 -05:00)\n"
     ]
    }
   ],
   "source": [
    "def get_msd(tau,path):\n",
    "    \"\"\"\n",
    "      Arguments:\n",
    "        tau:\n",
    "        path:\n",
    "    \"\"\"\n",
    "\n",
    "    square_displacement = 0 \n",
    "\n",
    "    for i in range(tau,path.shape[0],1):\n",
    "        square_displacement += np.square(get_euclidean_distance(path.iloc[i-tau], path.iloc[i]))\n",
    "\n",
    "    msd= (1/(path.shape[0]-tau))*square_displacement\n",
    "\n",
    "    return msd"
   ]
  },
  {
   "cell_type": "markdown",
   "id": "f74be810",
   "metadata": {},
   "source": [
    "### Turning Angle\n",
    "\n",
    "$\n",
    "tan(\\phi)=\\frac{|\\vec{p}\\times\\vec{q}|}{\\vec{p}\\cdot\\vec{q}}\n",
    "$"
   ]
  },
  {
   "cell_type": "code",
   "execution_count": 9,
   "id": "978a5240",
   "metadata": {},
   "outputs": [
    {
     "name": "stdout",
     "output_type": "stream",
     "text": [
      "time: 0 ns (started: 2022-09-23 04:14:34 -05:00)\n"
     ]
    }
   ],
   "source": [
    "def get_turning_angle(a,b,c,round_to_zero = False):\n",
    "    \"\"\"\n",
    "      Arguments:\n",
    "        a: coordinates for p vector's tail\n",
    "        b: coordinates p vector's head / q vector's tail\n",
    "        c: coordinates q vector's head\n",
    "        round_to_zero: if true checks if value is close enough to zero to be take as it\n",
    "     \"\"\"\n",
    "\n",
    "    p = np.subtract(b,a)\n",
    "    q = np.subtract(c,b)\n",
    "\n",
    "  \n",
    "    pq_cross = np.cross(p,q)\n",
    "    pq_scalar = np.dot(p,q)\n",
    "\n",
    "    phi_angle = np.arctan2(pq_cross,pq_scalar)\n",
    "\n",
    "    if round_to_zero:\n",
    "        if  count_like_zero(phi_angle):\n",
    "            phi_angle = 0\n",
    "      \n",
    "    return phi_angle"
   ]
  },
  {
   "cell_type": "markdown",
   "id": "6d991b76",
   "metadata": {},
   "source": [
    "### Custom round"
   ]
  },
  {
   "cell_type": "code",
   "execution_count": 10,
   "id": "a43d1193",
   "metadata": {},
   "outputs": [
    {
     "name": "stdout",
     "output_type": "stream",
     "text": [
      "time: 0 ns (started: 2022-09-23 04:14:34 -05:00)\n"
     ]
    }
   ],
   "source": [
    "def count_like_zero(number):\n",
    "    \"\"\"\n",
    "        Arguments:\n",
    "            number: \n",
    "        Return: True if -0.009 <= number <= 0.009 False otherwise\n",
    "    \"\"\"\n",
    "    is_zero = False\n",
    "\n",
    "    if  ((number >= -0.009) & (number <= 0)) | ((number >= 0) & (number <= 0.009)):\n",
    "        is_zero = True\n",
    "\n",
    "    return is_zero"
   ]
  },
  {
   "cell_type": "markdown",
   "id": "6a16dd5c",
   "metadata": {},
   "source": [
    "### Is Negligible turn"
   ]
  },
  {
   "cell_type": "code",
   "execution_count": 11,
   "id": "13de4993",
   "metadata": {},
   "outputs": [
    {
     "name": "stdout",
     "output_type": "stream",
     "text": [
      "time: 0 ns (started: 2022-09-23 04:14:34 -05:00)\n"
     ]
    }
   ],
   "source": [
    "def drop_turn(angle_i, angle_j):\n",
    "    \"\"\"\n",
    "      Arguments:\n",
    "        angle_i:\n",
    "        angle_j: \n",
    "      Return: True if difference between angles is less than 0.001 False otherwise\n",
    "      \"\"\"\n",
    "    is_dropable = False\n",
    "    \n",
    "    if (angle_i > 0) & (angle_j > 0): \n",
    "        rest = abs(angle_i - angle_j)\n",
    "        if abs(angle_i - angle_j) < 0.001:\n",
    "            is_dropable = True\n",
    "\n",
    "    return is_dropable"
   ]
  },
  {
   "cell_type": "markdown",
   "id": "60b7f623",
   "metadata": {},
   "source": [
    "# PLOT FUNCTIONS"
   ]
  },
  {
   "cell_type": "markdown",
   "id": "2b8496c3",
   "metadata": {},
   "source": [
    "## Plot Trajectories"
   ]
  },
  {
   "cell_type": "code",
   "execution_count": 12,
   "id": "5dcfe03b",
   "metadata": {},
   "outputs": [
    {
     "name": "stdout",
     "output_type": "stream",
     "text": [
      "time: 0 ns (started: 2022-09-23 04:14:34 -05:00)\n"
     ]
    }
   ],
   "source": [
    "def plot_trajectories(trajectories_df, n_trajectories = 1, title = \"\", line_name_prefix=\"\", line_name_subfix = [\"\"]):\n",
    "    \n",
    "    fig_3d = go.Figure()\n",
    "\n",
    "    for i in range(n_trajectories):\n",
    "        \n",
    "        subfix = lambda : line_name_subfix[i] if len(line_name_subfix) > 1 else i\n",
    "        trajectory_name = line_name_prefix +\": \" + str(subfix())\n",
    "\n",
    "        fig_3d.add_scatter3d(\n",
    "                x = trajectories_df.loc[trajectories_df['traj']==i,'x'], \n",
    "                y = trajectories_df.loc[trajectories_df['traj']==i,'y'], \n",
    "                z = trajectories_df.index,\n",
    "                marker = dict(size=2),\n",
    "                line = dict(width=2),\n",
    "                mode = 'lines',\n",
    "                name = trajectory_name,\n",
    "                showlegend = True)\n",
    "\n",
    "    \n",
    "    fig_3d.update_layout(\n",
    "            title_text = title,\n",
    "            autosize = False,\n",
    "            width = 800,\n",
    "            height = 800,\n",
    "            scene_camera = dict(eye = dict(x=0, y=0, z=2.5)),\n",
    "            scene = dict(\n",
    "                xaxis = dict(title = 'x_pos (mm'),\n",
    "                yaxis = dict(title = 'y_pos (mm)'),\n",
    "                zaxis = dict(title = 'time', nticks = 20)\n",
    "            ))\n",
    "\n",
    "    fig_3d.show()"
   ]
  },
  {
   "cell_type": "markdown",
   "id": "3ffb9038",
   "metadata": {},
   "source": [
    "## Plot Metrics"
   ]
  },
  {
   "cell_type": "code",
   "execution_count": 13,
   "id": "8d1e4ad3",
   "metadata": {},
   "outputs": [
    {
     "name": "stdout",
     "output_type": "stream",
     "text": [
      "time: 16 ms (started: 2022-09-23 04:14:34 -05:00)\n"
     ]
    }
   ],
   "source": [
    "def plot_metrics(metrics_df, n_trajectories = 1, title = \"\", line_name_prefix=\"\", line_name_subfix = [\"\"]):\n",
    "    \n",
    "    fig_2d = go.Figure()\n",
    "    \n",
    "    for i in range(n_trajectories):\n",
    "        \n",
    "        subfix = lambda : line_name_subfix[i] if len(line_name_subfix) > 1 else i\n",
    "        trajectory_name = line_name_prefix +\": \" + str(subfix())\n",
    "\n",
    "        fig_2d.add_scatter( \n",
    "                    x = metrics_df.index,\n",
    "                    y = metrics_df.loc[metrics_df['traj']==i,'MSD'], \n",
    "                    marker = dict(size=0.5),\n",
    "                    line = dict(width=3),\n",
    "                    mode = 'lines',\n",
    "                    name = trajectory_name,\n",
    "                    showlegend = True)\n",
    "        \n",
    "    fig_2d.update_layout(\n",
    "            title_text = title,\n",
    "            autosize = False)\n",
    "\n",
    "    fig_2d.show()"
   ]
  },
  {
   "cell_type": "markdown",
   "id": "2e932098",
   "metadata": {},
   "source": [
    "# PRUEBAS"
   ]
  },
  {
   "cell_type": "markdown",
   "id": "89d45cfa",
   "metadata": {},
   "source": [
    "## Trajectory controls"
   ]
  },
  {
   "cell_type": "code",
   "execution_count": 121,
   "id": "192090ac",
   "metadata": {},
   "outputs": [
    {
     "data": {
      "application/javascript": [
       "(function(root) {\n",
       "  function now() {\n",
       "    return new Date();\n",
       "  }\n",
       "\n",
       "  var force = true;\n",
       "\n",
       "  if (typeof root._bokeh_onload_callbacks === \"undefined\" || force === true) {\n",
       "    root._bokeh_onload_callbacks = [];\n",
       "    root._bokeh_is_loading = undefined;\n",
       "  }\n",
       "\n",
       "  if (typeof (root._bokeh_timeout) === \"undefined\" || force === true) {\n",
       "    root._bokeh_timeout = Date.now() + 5000;\n",
       "    root._bokeh_failed_load = false;\n",
       "  }\n",
       "\n",
       "  function run_callbacks() {\n",
       "    try {\n",
       "      root._bokeh_onload_callbacks.forEach(function(callback) {\n",
       "        if (callback != null)\n",
       "          callback();\n",
       "      });\n",
       "    } finally {\n",
       "      delete root._bokeh_onload_callbacks\n",
       "    }\n",
       "    console.debug(\"Bokeh: all callbacks have finished\");\n",
       "  }\n",
       "\n",
       "  function load_libs(css_urls, js_urls, js_modules, callback) {\n",
       "    if (css_urls == null) css_urls = [];\n",
       "    if (js_urls == null) js_urls = [];\n",
       "    if (js_modules == null) js_modules = [];\n",
       "\n",
       "    root._bokeh_onload_callbacks.push(callback);\n",
       "    if (root._bokeh_is_loading > 0) {\n",
       "      console.debug(\"Bokeh: BokehJS is being loaded, scheduling callback at\", now());\n",
       "      return null;\n",
       "    }\n",
       "    if (js_urls.length === 0 && js_modules.length === 0) {\n",
       "      run_callbacks();\n",
       "      return null;\n",
       "    }\n",
       "    console.debug(\"Bokeh: BokehJS not loaded, scheduling load and callback at\", now());\n",
       "\n",
       "    function on_load() {\n",
       "      root._bokeh_is_loading--;\n",
       "      if (root._bokeh_is_loading === 0) {\n",
       "        console.debug(\"Bokeh: all BokehJS libraries/stylesheets loaded\");\n",
       "        run_callbacks()\n",
       "      }\n",
       "    }\n",
       "\n",
       "    function on_error() {\n",
       "      console.error(\"failed to load \" + url);\n",
       "    }\n",
       "\n",
       "    for (var i = 0; i < css_urls.length; i++) {\n",
       "      var url = css_urls[i];\n",
       "      const element = document.createElement(\"link\");\n",
       "      element.onload = on_load;\n",
       "      element.onerror = on_error;\n",
       "      element.rel = \"stylesheet\";\n",
       "      element.type = \"text/css\";\n",
       "      element.href = url;\n",
       "      console.debug(\"Bokeh: injecting link tag for BokehJS stylesheet: \", url);\n",
       "      document.body.appendChild(element);\n",
       "    }\n",
       "\n",
       "    var skip = [];\n",
       "    if (window.requirejs) {\n",
       "      window.requirejs.config({'packages': {}, 'paths': {'plotly': 'https://cdn.plot.ly/plotly-2.10.1.min', 'gridstack': 'https://cdn.jsdelivr.net/npm/gridstack@4.2.5/dist/gridstack-h5', 'notyf': 'https://cdn.jsdelivr.net/npm/notyf@3/notyf.min'}, 'shim': {'gridstack': {'exports': 'GridStack'}}});\n",
       "      require([\"plotly\"], function(Plotly) {\n",
       "\twindow.Plotly = Plotly\n",
       "\ton_load()\n",
       "      })\n",
       "      require([\"gridstack\"], function(GridStack) {\n",
       "\twindow.GridStack = GridStack\n",
       "\ton_load()\n",
       "      })\n",
       "      require([\"notyf\"], function() {\n",
       "\ton_load()\n",
       "      })\n",
       "      root._bokeh_is_loading = css_urls.length + 3;\n",
       "    } else {\n",
       "      root._bokeh_is_loading = css_urls.length + js_urls.length + js_modules.length;\n",
       "    }    if (((window['Plotly'] !== undefined) && (!(window['Plotly'] instanceof HTMLElement))) || window.requirejs) {\n",
       "      var urls = ['https://cdn.plot.ly/plotly-2.10.1.min.js'];\n",
       "      for (var i = 0; i < urls.length; i++) {\n",
       "        skip.push(urls[i])\n",
       "      }\n",
       "    }    if (((window['GridStack'] !== undefined) && (!(window['GridStack'] instanceof HTMLElement))) || window.requirejs) {\n",
       "      var urls = ['https://cdn.jsdelivr.net/npm/gridstack@4.2.5/dist/gridstack-h5.js'];\n",
       "      for (var i = 0; i < urls.length; i++) {\n",
       "        skip.push(urls[i])\n",
       "      }\n",
       "    }    if (((window['Notyf'] !== undefined) && (!(window['Notyf'] instanceof HTMLElement))) || window.requirejs) {\n",
       "      var urls = ['https://cdn.jsdelivr.net/npm/notyf@3/notyf.min.js'];\n",
       "      for (var i = 0; i < urls.length; i++) {\n",
       "        skip.push(urls[i])\n",
       "      }\n",
       "    }    for (var i = 0; i < js_urls.length; i++) {\n",
       "      var url = js_urls[i];\n",
       "      if (skip.indexOf(url) >= 0) {\n",
       "\tif (!window.requirejs) {\n",
       "\t  on_load();\n",
       "\t}\n",
       "\tcontinue;\n",
       "      }\n",
       "      var element = document.createElement('script');\n",
       "      element.onload = on_load;\n",
       "      element.onerror = on_error;\n",
       "      element.async = false;\n",
       "      element.src = url;\n",
       "      console.debug(\"Bokeh: injecting script tag for BokehJS library: \", url);\n",
       "      document.head.appendChild(element);\n",
       "    }\n",
       "    for (var i = 0; i < js_modules.length; i++) {\n",
       "      var url = js_modules[i];\n",
       "      if (skip.indexOf(url) >= 0) {\n",
       "\tif (!window.requirejs) {\n",
       "\t  on_load();\n",
       "\t}\n",
       "\tcontinue;\n",
       "      }\n",
       "      var element = document.createElement('script');\n",
       "      element.onload = on_load;\n",
       "      element.onerror = on_error;\n",
       "      element.async = false;\n",
       "      element.src = url;\n",
       "      element.type = \"module\";\n",
       "      console.debug(\"Bokeh: injecting script tag for BokehJS library: \", url);\n",
       "      document.head.appendChild(element);\n",
       "    }\n",
       "    if (!js_urls.length && !js_modules.length) {\n",
       "      on_load()\n",
       "    }\n",
       "  };\n",
       "\n",
       "  function inject_raw_css(css) {\n",
       "    const element = document.createElement(\"style\");\n",
       "    element.appendChild(document.createTextNode(css));\n",
       "    document.body.appendChild(element);\n",
       "  }\n",
       "\n",
       "  var js_urls = [\"https://cdn.jsdelivr.net/npm/jquery@3.5.1/dist/jquery.slim.min.js\", \"https://cdn.plot.ly/plotly-2.10.1.min.js\", \"https://cdn.bokeh.org/bokeh/release/bokeh-2.4.3.min.js\", \"https://cdn.bokeh.org/bokeh/release/bokeh-gl-2.4.3.min.js\", \"https://cdn.bokeh.org/bokeh/release/bokeh-widgets-2.4.3.min.js\", \"https://cdn.bokeh.org/bokeh/release/bokeh-tables-2.4.3.min.js\", \"https://cdn.bokeh.org/bokeh/release/bokeh-mathjax-2.4.3.min.js\", \"https://cdn.jsdelivr.net/npm/notyf@3/notyf.min.js\", \"https://unpkg.com/@holoviz/panel@0.13.1/dist/panel.min.js\"];\n",
       "  var js_modules = [];\n",
       "  var css_urls = [\"https://cdn.jsdelivr.net/npm/notyf@3/notyf.min.css\", \"https://cdnjs.cloudflare.com/ajax/libs/font-awesome/5.15.1/css/all.min.css\", \"https://unpkg.com/@holoviz/panel@0.13.1/dist/css/alerts.css\", \"https://unpkg.com/@holoviz/panel@0.13.1/dist/css/card.css\", \"https://unpkg.com/@holoviz/panel@0.13.1/dist/css/dataframe.css\", \"https://unpkg.com/@holoviz/panel@0.13.1/dist/css/debugger.css\", \"https://unpkg.com/@holoviz/panel@0.13.1/dist/css/json.css\", \"https://unpkg.com/@holoviz/panel@0.13.1/dist/css/loading.css\", \"https://unpkg.com/@holoviz/panel@0.13.1/dist/css/markdown.css\", \"https://unpkg.com/@holoviz/panel@0.13.1/dist/css/widgets.css\"];\n",
       "  var inline_js = [    function(Bokeh) {\n",
       "      inject_raw_css(\"\\n    .bk.pn-loading.arcs:before {\\n      background-image: url(\\\"data:image/svg+xml;base64,PHN2ZyB4bWxucz0iaHR0cDovL3d3dy53My5vcmcvMjAwMC9zdmciIHhtbG5zOnhsaW5rPSJodHRwOi8vd3d3LnczLm9yZy8xOTk5L3hsaW5rIiBzdHlsZT0ibWFyZ2luOiBhdXRvOyBiYWNrZ3JvdW5kOiBub25lOyBkaXNwbGF5OiBibG9jazsgc2hhcGUtcmVuZGVyaW5nOiBhdXRvOyIgdmlld0JveD0iMCAwIDEwMCAxMDAiIHByZXNlcnZlQXNwZWN0UmF0aW89InhNaWRZTWlkIj4gIDxjaXJjbGUgY3g9IjUwIiBjeT0iNTAiIHI9IjMyIiBzdHJva2Utd2lkdGg9IjgiIHN0cm9rZT0iI2MzYzNjMyIgc3Ryb2tlLWRhc2hhcnJheT0iNTAuMjY1NDgyNDU3NDM2NjkgNTAuMjY1NDgyNDU3NDM2NjkiIGZpbGw9Im5vbmUiIHN0cm9rZS1saW5lY2FwPSJyb3VuZCI+ICAgIDxhbmltYXRlVHJhbnNmb3JtIGF0dHJpYnV0ZU5hbWU9InRyYW5zZm9ybSIgdHlwZT0icm90YXRlIiByZXBlYXRDb3VudD0iaW5kZWZpbml0ZSIgZHVyPSIxcyIga2V5VGltZXM9IjA7MSIgdmFsdWVzPSIwIDUwIDUwOzM2MCA1MCA1MCI+PC9hbmltYXRlVHJhbnNmb3JtPiAgPC9jaXJjbGU+PC9zdmc+\\\");\\n      background-size: auto calc(min(50%, 400px));\\n    }\\n    \");\n",
       "    },    function(Bokeh) {\n",
       "      inject_raw_css(\"\\n.bk.controls_main {\\n    max-width: 400vw !important;\\n    height: 880px !important;\\n    border-radius: 15px;\\n}\\n\\n.bk.hide_blocks {\\n    visibility: hidden;\\n}\\n\\n.bk.show_blocks {\\n    visibility: visible;\\n    min-height: 200px !important;\\n}\\n\\n\");\n",
       "    },    function(Bokeh) {\n",
       "      inject_raw_css(\"\\n.bk.controls_main {\\n    max-width: 400vw !important;\\n    height: 880px !important;\\n    border-radius: 15px;\\n}\\n\\n.bk.hide_blocks {\\n    visibility: hidden;\\n}\\n\\n.bk.show_blocks {\\n    visibility: visible;\\n    min-height: 200px !important;\\n}\\n\\n\");\n",
       "    },    function(Bokeh) {\n",
       "      inject_raw_css(\"\\n.bk.controls_main {\\n    max-width: 400vw !important;\\n    height: 880px !important;\\n    border-radius: 15px;\\n}\\n\\n.bk.hide_blocks {\\n    visibility: hidden;\\n}\\n\\n.bk.show_blocks {\\n    visibility: visible;\\n    min-height: 200px !important;\\n}\\n\\n\");\n",
       "    },    function(Bokeh) {\n",
       "      inject_raw_css(\"\\n.bk.controls_main {\\n    max-width: 400vw !important;\\n    height: 880px !important;\\n    border-radius: 15px;\\n}\\n\\n.bk.hide_blocks {\\n}\\n\\n.bk.show_blocks {\\n    min-height: 200px !important;\\n}\\n\\n\");\n",
       "    },    function(Bokeh) {\n",
       "      inject_raw_css(\"\\n.bk.controls_main {\\n    max-width: 400vw !important;\\n    height: 880px !important;\\n    border-radius: 15px;\\n}\\n\\n.bk.min_h_control {\\n    min-height: 50px !important;\\n}\\n\\n\\n.bk.hide_blocks {\\n}\\n\\n.bk.show_blocks {\\n    min-height: 200px !important;\\n}\\n\\n\");\n",
       "    },    function(Bokeh) {\n",
       "      inject_raw_css(\"\\n.bk.controls_main {\\n    max-width: 400vw !important;\\n    height: 880px !important;\\n    border-radius: 15px;\\n}\\n\\n.bk.min_h_control {\\n    min-height: 50px !important;\\n}\\n\\n\\n.bk.hide_blocks {\\n}\\n\\n.bk.show_blocks {\\n    min-height: 200px !important;\\n}\\n\\n\");\n",
       "    },    function(Bokeh) {\n",
       "      inject_raw_css(\"\\n.bk.controls_main {\\n    max-width: 400vw !important;\\n    height: 880px !important;\\n    border-radius: 15px;\\n}\\n\\n.bk.min_h_control {\\n    min-height: 50px !important;\\n    top: 50;\\n}\\n\\n\\n.bk.hide_blocks {\\n}\\n\\n.bk.show_blocks {\\n    min-height: 200px !important;\\n}\\n\\n\");\n",
       "    },    function(Bokeh) {\n",
       "      Bokeh.set_log_level(\"info\");\n",
       "    },\n",
       "function(Bokeh) {} // ensure no trailing comma for IE\n",
       "  ];\n",
       "\n",
       "  function run_inline_js() {\n",
       "    if ((root.Bokeh !== undefined) || (force === true)) {\n",
       "      for (var i = 0; i < inline_js.length; i++) {\n",
       "        inline_js[i].call(root, root.Bokeh);\n",
       "      }} else if (Date.now() < root._bokeh_timeout) {\n",
       "      setTimeout(run_inline_js, 100);\n",
       "    } else if (!root._bokeh_failed_load) {\n",
       "      console.log(\"Bokeh: BokehJS failed to load within specified timeout.\");\n",
       "      root._bokeh_failed_load = true;\n",
       "    }\n",
       "  }\n",
       "\n",
       "  if (root._bokeh_is_loading === 0) {\n",
       "    console.debug(\"Bokeh: BokehJS loaded, going straight to plotting\");\n",
       "    run_inline_js();\n",
       "  } else {\n",
       "    load_libs(css_urls, js_urls, js_modules, function() {\n",
       "      console.debug(\"Bokeh: BokehJS plotting callback run at\", now());\n",
       "      run_inline_js();\n",
       "    });\n",
       "  }\n",
       "}(window));"
      ],
      "application/vnd.holoviews_load.v0+json": "(function(root) {\n  function now() {\n    return new Date();\n  }\n\n  var force = true;\n\n  if (typeof root._bokeh_onload_callbacks === \"undefined\" || force === true) {\n    root._bokeh_onload_callbacks = [];\n    root._bokeh_is_loading = undefined;\n  }\n\n  if (typeof (root._bokeh_timeout) === \"undefined\" || force === true) {\n    root._bokeh_timeout = Date.now() + 5000;\n    root._bokeh_failed_load = false;\n  }\n\n  function run_callbacks() {\n    try {\n      root._bokeh_onload_callbacks.forEach(function(callback) {\n        if (callback != null)\n          callback();\n      });\n    } finally {\n      delete root._bokeh_onload_callbacks\n    }\n    console.debug(\"Bokeh: all callbacks have finished\");\n  }\n\n  function load_libs(css_urls, js_urls, js_modules, callback) {\n    if (css_urls == null) css_urls = [];\n    if (js_urls == null) js_urls = [];\n    if (js_modules == null) js_modules = [];\n\n    root._bokeh_onload_callbacks.push(callback);\n    if (root._bokeh_is_loading > 0) {\n      console.debug(\"Bokeh: BokehJS is being loaded, scheduling callback at\", now());\n      return null;\n    }\n    if (js_urls.length === 0 && js_modules.length === 0) {\n      run_callbacks();\n      return null;\n    }\n    console.debug(\"Bokeh: BokehJS not loaded, scheduling load and callback at\", now());\n\n    function on_load() {\n      root._bokeh_is_loading--;\n      if (root._bokeh_is_loading === 0) {\n        console.debug(\"Bokeh: all BokehJS libraries/stylesheets loaded\");\n        run_callbacks()\n      }\n    }\n\n    function on_error() {\n      console.error(\"failed to load \" + url);\n    }\n\n    for (var i = 0; i < css_urls.length; i++) {\n      var url = css_urls[i];\n      const element = document.createElement(\"link\");\n      element.onload = on_load;\n      element.onerror = on_error;\n      element.rel = \"stylesheet\";\n      element.type = \"text/css\";\n      element.href = url;\n      console.debug(\"Bokeh: injecting link tag for BokehJS stylesheet: \", url);\n      document.body.appendChild(element);\n    }\n\n    var skip = [];\n    if (window.requirejs) {\n      window.requirejs.config({'packages': {}, 'paths': {'plotly': 'https://cdn.plot.ly/plotly-2.10.1.min', 'gridstack': 'https://cdn.jsdelivr.net/npm/gridstack@4.2.5/dist/gridstack-h5', 'notyf': 'https://cdn.jsdelivr.net/npm/notyf@3/notyf.min'}, 'shim': {'gridstack': {'exports': 'GridStack'}}});\n      require([\"plotly\"], function(Plotly) {\n\twindow.Plotly = Plotly\n\ton_load()\n      })\n      require([\"gridstack\"], function(GridStack) {\n\twindow.GridStack = GridStack\n\ton_load()\n      })\n      require([\"notyf\"], function() {\n\ton_load()\n      })\n      root._bokeh_is_loading = css_urls.length + 3;\n    } else {\n      root._bokeh_is_loading = css_urls.length + js_urls.length + js_modules.length;\n    }    if (((window['Plotly'] !== undefined) && (!(window['Plotly'] instanceof HTMLElement))) || window.requirejs) {\n      var urls = ['https://cdn.plot.ly/plotly-2.10.1.min.js'];\n      for (var i = 0; i < urls.length; i++) {\n        skip.push(urls[i])\n      }\n    }    if (((window['GridStack'] !== undefined) && (!(window['GridStack'] instanceof HTMLElement))) || window.requirejs) {\n      var urls = ['https://cdn.jsdelivr.net/npm/gridstack@4.2.5/dist/gridstack-h5.js'];\n      for (var i = 0; i < urls.length; i++) {\n        skip.push(urls[i])\n      }\n    }    if (((window['Notyf'] !== undefined) && (!(window['Notyf'] instanceof HTMLElement))) || window.requirejs) {\n      var urls = ['https://cdn.jsdelivr.net/npm/notyf@3/notyf.min.js'];\n      for (var i = 0; i < urls.length; i++) {\n        skip.push(urls[i])\n      }\n    }    for (var i = 0; i < js_urls.length; i++) {\n      var url = js_urls[i];\n      if (skip.indexOf(url) >= 0) {\n\tif (!window.requirejs) {\n\t  on_load();\n\t}\n\tcontinue;\n      }\n      var element = document.createElement('script');\n      element.onload = on_load;\n      element.onerror = on_error;\n      element.async = false;\n      element.src = url;\n      console.debug(\"Bokeh: injecting script tag for BokehJS library: \", url);\n      document.head.appendChild(element);\n    }\n    for (var i = 0; i < js_modules.length; i++) {\n      var url = js_modules[i];\n      if (skip.indexOf(url) >= 0) {\n\tif (!window.requirejs) {\n\t  on_load();\n\t}\n\tcontinue;\n      }\n      var element = document.createElement('script');\n      element.onload = on_load;\n      element.onerror = on_error;\n      element.async = false;\n      element.src = url;\n      element.type = \"module\";\n      console.debug(\"Bokeh: injecting script tag for BokehJS library: \", url);\n      document.head.appendChild(element);\n    }\n    if (!js_urls.length && !js_modules.length) {\n      on_load()\n    }\n  };\n\n  function inject_raw_css(css) {\n    const element = document.createElement(\"style\");\n    element.appendChild(document.createTextNode(css));\n    document.body.appendChild(element);\n  }\n\n  var js_urls = [\"https://cdn.jsdelivr.net/npm/jquery@3.5.1/dist/jquery.slim.min.js\", \"https://cdn.plot.ly/plotly-2.10.1.min.js\", \"https://cdn.bokeh.org/bokeh/release/bokeh-2.4.3.min.js\", \"https://cdn.bokeh.org/bokeh/release/bokeh-gl-2.4.3.min.js\", \"https://cdn.bokeh.org/bokeh/release/bokeh-widgets-2.4.3.min.js\", \"https://cdn.bokeh.org/bokeh/release/bokeh-tables-2.4.3.min.js\", \"https://cdn.bokeh.org/bokeh/release/bokeh-mathjax-2.4.3.min.js\", \"https://cdn.jsdelivr.net/npm/notyf@3/notyf.min.js\", \"https://unpkg.com/@holoviz/panel@0.13.1/dist/panel.min.js\"];\n  var js_modules = [];\n  var css_urls = [\"https://cdn.jsdelivr.net/npm/notyf@3/notyf.min.css\", \"https://cdnjs.cloudflare.com/ajax/libs/font-awesome/5.15.1/css/all.min.css\", \"https://unpkg.com/@holoviz/panel@0.13.1/dist/css/alerts.css\", \"https://unpkg.com/@holoviz/panel@0.13.1/dist/css/card.css\", \"https://unpkg.com/@holoviz/panel@0.13.1/dist/css/dataframe.css\", \"https://unpkg.com/@holoviz/panel@0.13.1/dist/css/debugger.css\", \"https://unpkg.com/@holoviz/panel@0.13.1/dist/css/json.css\", \"https://unpkg.com/@holoviz/panel@0.13.1/dist/css/loading.css\", \"https://unpkg.com/@holoviz/panel@0.13.1/dist/css/markdown.css\", \"https://unpkg.com/@holoviz/panel@0.13.1/dist/css/widgets.css\"];\n  var inline_js = [    function(Bokeh) {\n      inject_raw_css(\"\\n    .bk.pn-loading.arcs:before {\\n      background-image: url(\\\"data:image/svg+xml;base64,PHN2ZyB4bWxucz0iaHR0cDovL3d3dy53My5vcmcvMjAwMC9zdmciIHhtbG5zOnhsaW5rPSJodHRwOi8vd3d3LnczLm9yZy8xOTk5L3hsaW5rIiBzdHlsZT0ibWFyZ2luOiBhdXRvOyBiYWNrZ3JvdW5kOiBub25lOyBkaXNwbGF5OiBibG9jazsgc2hhcGUtcmVuZGVyaW5nOiBhdXRvOyIgdmlld0JveD0iMCAwIDEwMCAxMDAiIHByZXNlcnZlQXNwZWN0UmF0aW89InhNaWRZTWlkIj4gIDxjaXJjbGUgY3g9IjUwIiBjeT0iNTAiIHI9IjMyIiBzdHJva2Utd2lkdGg9IjgiIHN0cm9rZT0iI2MzYzNjMyIgc3Ryb2tlLWRhc2hhcnJheT0iNTAuMjY1NDgyNDU3NDM2NjkgNTAuMjY1NDgyNDU3NDM2NjkiIGZpbGw9Im5vbmUiIHN0cm9rZS1saW5lY2FwPSJyb3VuZCI+ICAgIDxhbmltYXRlVHJhbnNmb3JtIGF0dHJpYnV0ZU5hbWU9InRyYW5zZm9ybSIgdHlwZT0icm90YXRlIiByZXBlYXRDb3VudD0iaW5kZWZpbml0ZSIgZHVyPSIxcyIga2V5VGltZXM9IjA7MSIgdmFsdWVzPSIwIDUwIDUwOzM2MCA1MCA1MCI+PC9hbmltYXRlVHJhbnNmb3JtPiAgPC9jaXJjbGU+PC9zdmc+\\\");\\n      background-size: auto calc(min(50%, 400px));\\n    }\\n    \");\n    },    function(Bokeh) {\n      inject_raw_css(\"\\n.bk.controls_main {\\n    max-width: 400vw !important;\\n    height: 880px !important;\\n    border-radius: 15px;\\n}\\n\\n.bk.hide_blocks {\\n    visibility: hidden;\\n}\\n\\n.bk.show_blocks {\\n    visibility: visible;\\n    min-height: 200px !important;\\n}\\n\\n\");\n    },    function(Bokeh) {\n      inject_raw_css(\"\\n.bk.controls_main {\\n    max-width: 400vw !important;\\n    height: 880px !important;\\n    border-radius: 15px;\\n}\\n\\n.bk.hide_blocks {\\n    visibility: hidden;\\n}\\n\\n.bk.show_blocks {\\n    visibility: visible;\\n    min-height: 200px !important;\\n}\\n\\n\");\n    },    function(Bokeh) {\n      inject_raw_css(\"\\n.bk.controls_main {\\n    max-width: 400vw !important;\\n    height: 880px !important;\\n    border-radius: 15px;\\n}\\n\\n.bk.hide_blocks {\\n    visibility: hidden;\\n}\\n\\n.bk.show_blocks {\\n    visibility: visible;\\n    min-height: 200px !important;\\n}\\n\\n\");\n    },    function(Bokeh) {\n      inject_raw_css(\"\\n.bk.controls_main {\\n    max-width: 400vw !important;\\n    height: 880px !important;\\n    border-radius: 15px;\\n}\\n\\n.bk.hide_blocks {\\n}\\n\\n.bk.show_blocks {\\n    min-height: 200px !important;\\n}\\n\\n\");\n    },    function(Bokeh) {\n      inject_raw_css(\"\\n.bk.controls_main {\\n    max-width: 400vw !important;\\n    height: 880px !important;\\n    border-radius: 15px;\\n}\\n\\n.bk.min_h_control {\\n    min-height: 50px !important;\\n}\\n\\n\\n.bk.hide_blocks {\\n}\\n\\n.bk.show_blocks {\\n    min-height: 200px !important;\\n}\\n\\n\");\n    },    function(Bokeh) {\n      inject_raw_css(\"\\n.bk.controls_main {\\n    max-width: 400vw !important;\\n    height: 880px !important;\\n    border-radius: 15px;\\n}\\n\\n.bk.min_h_control {\\n    min-height: 50px !important;\\n}\\n\\n\\n.bk.hide_blocks {\\n}\\n\\n.bk.show_blocks {\\n    min-height: 200px !important;\\n}\\n\\n\");\n    },    function(Bokeh) {\n      inject_raw_css(\"\\n.bk.controls_main {\\n    max-width: 400vw !important;\\n    height: 880px !important;\\n    border-radius: 15px;\\n}\\n\\n.bk.min_h_control {\\n    min-height: 50px !important;\\n    top: 50;\\n}\\n\\n\\n.bk.hide_blocks {\\n}\\n\\n.bk.show_blocks {\\n    min-height: 200px !important;\\n}\\n\\n\");\n    },    function(Bokeh) {\n      Bokeh.set_log_level(\"info\");\n    },\nfunction(Bokeh) {} // ensure no trailing comma for IE\n  ];\n\n  function run_inline_js() {\n    if ((root.Bokeh !== undefined) || (force === true)) {\n      for (var i = 0; i < inline_js.length; i++) {\n        inline_js[i].call(root, root.Bokeh);\n      }} else if (Date.now() < root._bokeh_timeout) {\n      setTimeout(run_inline_js, 100);\n    } else if (!root._bokeh_failed_load) {\n      console.log(\"Bokeh: BokehJS failed to load within specified timeout.\");\n      root._bokeh_failed_load = true;\n    }\n  }\n\n  if (root._bokeh_is_loading === 0) {\n    console.debug(\"Bokeh: BokehJS loaded, going straight to plotting\");\n    run_inline_js();\n  } else {\n    load_libs(css_urls, js_urls, js_modules, function() {\n      console.debug(\"Bokeh: BokehJS plotting callback run at\", now());\n      run_inline_js();\n    });\n  }\n}(window));"
     },
     "metadata": {},
     "output_type": "display_data"
    },
    {
     "data": {
      "application/javascript": [
       "\n",
       "if ((window.PyViz === undefined) || (window.PyViz instanceof HTMLElement)) {\n",
       "  window.PyViz = {comms: {}, comm_status:{}, kernels:{}, receivers: {}, plot_index: []}\n",
       "}\n",
       "\n",
       "\n",
       "    function JupyterCommManager() {\n",
       "    }\n",
       "\n",
       "    JupyterCommManager.prototype.register_target = function(plot_id, comm_id, msg_handler) {\n",
       "      if (window.comm_manager || ((window.Jupyter !== undefined) && (Jupyter.notebook.kernel != null))) {\n",
       "        var comm_manager = window.comm_manager || Jupyter.notebook.kernel.comm_manager;\n",
       "        comm_manager.register_target(comm_id, function(comm) {\n",
       "          comm.on_msg(msg_handler);\n",
       "        });\n",
       "      } else if ((plot_id in window.PyViz.kernels) && (window.PyViz.kernels[plot_id])) {\n",
       "        window.PyViz.kernels[plot_id].registerCommTarget(comm_id, function(comm) {\n",
       "          comm.onMsg = msg_handler;\n",
       "        });\n",
       "      } else if (typeof google != 'undefined' && google.colab.kernel != null) {\n",
       "        google.colab.kernel.comms.registerTarget(comm_id, (comm) => {\n",
       "          var messages = comm.messages[Symbol.asyncIterator]();\n",
       "          function processIteratorResult(result) {\n",
       "            var message = result.value;\n",
       "            console.log(message)\n",
       "            var content = {data: message.data, comm_id};\n",
       "            var buffers = []\n",
       "            for (var buffer of message.buffers || []) {\n",
       "              buffers.push(new DataView(buffer))\n",
       "            }\n",
       "            var metadata = message.metadata || {};\n",
       "            var msg = {content, buffers, metadata}\n",
       "            msg_handler(msg);\n",
       "            return messages.next().then(processIteratorResult);\n",
       "          }\n",
       "          return messages.next().then(processIteratorResult);\n",
       "        })\n",
       "      }\n",
       "    }\n",
       "\n",
       "    JupyterCommManager.prototype.get_client_comm = function(plot_id, comm_id, msg_handler) {\n",
       "      if (comm_id in window.PyViz.comms) {\n",
       "        return window.PyViz.comms[comm_id];\n",
       "      } else if (window.comm_manager || ((window.Jupyter !== undefined) && (Jupyter.notebook.kernel != null))) {\n",
       "        var comm_manager = window.comm_manager || Jupyter.notebook.kernel.comm_manager;\n",
       "        var comm = comm_manager.new_comm(comm_id, {}, {}, {}, comm_id);\n",
       "        if (msg_handler) {\n",
       "          comm.on_msg(msg_handler);\n",
       "        }\n",
       "      } else if ((plot_id in window.PyViz.kernels) && (window.PyViz.kernels[plot_id])) {\n",
       "        var comm = window.PyViz.kernels[plot_id].connectToComm(comm_id);\n",
       "        comm.open();\n",
       "        if (msg_handler) {\n",
       "          comm.onMsg = msg_handler;\n",
       "        }\n",
       "      } else if (typeof google != 'undefined' && google.colab.kernel != null) {\n",
       "        var comm_promise = google.colab.kernel.comms.open(comm_id)\n",
       "        comm_promise.then((comm) => {\n",
       "          window.PyViz.comms[comm_id] = comm;\n",
       "          if (msg_handler) {\n",
       "            var messages = comm.messages[Symbol.asyncIterator]();\n",
       "            function processIteratorResult(result) {\n",
       "              var message = result.value;\n",
       "              var content = {data: message.data};\n",
       "              var metadata = message.metadata || {comm_id};\n",
       "              var msg = {content, metadata}\n",
       "              msg_handler(msg);\n",
       "              return messages.next().then(processIteratorResult);\n",
       "            }\n",
       "            return messages.next().then(processIteratorResult);\n",
       "          }\n",
       "        }) \n",
       "        var sendClosure = (data, metadata, buffers, disposeOnDone) => {\n",
       "          return comm_promise.then((comm) => {\n",
       "            comm.send(data, metadata, buffers, disposeOnDone);\n",
       "          });\n",
       "        };\n",
       "        var comm = {\n",
       "          send: sendClosure\n",
       "        };\n",
       "      }\n",
       "      window.PyViz.comms[comm_id] = comm;\n",
       "      return comm;\n",
       "    }\n",
       "    window.PyViz.comm_manager = new JupyterCommManager();\n",
       "    \n",
       "\n",
       "\n",
       "var JS_MIME_TYPE = 'application/javascript';\n",
       "var HTML_MIME_TYPE = 'text/html';\n",
       "var EXEC_MIME_TYPE = 'application/vnd.holoviews_exec.v0+json';\n",
       "var CLASS_NAME = 'output';\n",
       "\n",
       "/**\n",
       " * Render data to the DOM node\n",
       " */\n",
       "function render(props, node) {\n",
       "  var div = document.createElement(\"div\");\n",
       "  var script = document.createElement(\"script\");\n",
       "  node.appendChild(div);\n",
       "  node.appendChild(script);\n",
       "}\n",
       "\n",
       "/**\n",
       " * Handle when a new output is added\n",
       " */\n",
       "function handle_add_output(event, handle) {\n",
       "  var output_area = handle.output_area;\n",
       "  var output = handle.output;\n",
       "  if ((output.data == undefined) || (!output.data.hasOwnProperty(EXEC_MIME_TYPE))) {\n",
       "    return\n",
       "  }\n",
       "  var id = output.metadata[EXEC_MIME_TYPE][\"id\"];\n",
       "  var toinsert = output_area.element.find(\".\" + CLASS_NAME.split(' ')[0]);\n",
       "  if (id !== undefined) {\n",
       "    var nchildren = toinsert.length;\n",
       "    var html_node = toinsert[nchildren-1].children[0];\n",
       "    html_node.innerHTML = output.data[HTML_MIME_TYPE];\n",
       "    var scripts = [];\n",
       "    var nodelist = html_node.querySelectorAll(\"script\");\n",
       "    for (var i in nodelist) {\n",
       "      if (nodelist.hasOwnProperty(i)) {\n",
       "        scripts.push(nodelist[i])\n",
       "      }\n",
       "    }\n",
       "\n",
       "    scripts.forEach( function (oldScript) {\n",
       "      var newScript = document.createElement(\"script\");\n",
       "      var attrs = [];\n",
       "      var nodemap = oldScript.attributes;\n",
       "      for (var j in nodemap) {\n",
       "        if (nodemap.hasOwnProperty(j)) {\n",
       "          attrs.push(nodemap[j])\n",
       "        }\n",
       "      }\n",
       "      attrs.forEach(function(attr) { newScript.setAttribute(attr.name, attr.value) });\n",
       "      newScript.appendChild(document.createTextNode(oldScript.innerHTML));\n",
       "      oldScript.parentNode.replaceChild(newScript, oldScript);\n",
       "    });\n",
       "    if (JS_MIME_TYPE in output.data) {\n",
       "      toinsert[nchildren-1].children[1].textContent = output.data[JS_MIME_TYPE];\n",
       "    }\n",
       "    output_area._hv_plot_id = id;\n",
       "    if ((window.Bokeh !== undefined) && (id in Bokeh.index)) {\n",
       "      window.PyViz.plot_index[id] = Bokeh.index[id];\n",
       "    } else {\n",
       "      window.PyViz.plot_index[id] = null;\n",
       "    }\n",
       "  } else if (output.metadata[EXEC_MIME_TYPE][\"server_id\"] !== undefined) {\n",
       "    var bk_div = document.createElement(\"div\");\n",
       "    bk_div.innerHTML = output.data[HTML_MIME_TYPE];\n",
       "    var script_attrs = bk_div.children[0].attributes;\n",
       "    for (var i = 0; i < script_attrs.length; i++) {\n",
       "      toinsert[toinsert.length - 1].childNodes[1].setAttribute(script_attrs[i].name, script_attrs[i].value);\n",
       "    }\n",
       "    // store reference to server id on output_area\n",
       "    output_area._bokeh_server_id = output.metadata[EXEC_MIME_TYPE][\"server_id\"];\n",
       "  }\n",
       "}\n",
       "\n",
       "/**\n",
       " * Handle when an output is cleared or removed\n",
       " */\n",
       "function handle_clear_output(event, handle) {\n",
       "  var id = handle.cell.output_area._hv_plot_id;\n",
       "  var server_id = handle.cell.output_area._bokeh_server_id;\n",
       "  if (((id === undefined) || !(id in PyViz.plot_index)) && (server_id !== undefined)) { return; }\n",
       "  var comm = window.PyViz.comm_manager.get_client_comm(\"hv-extension-comm\", \"hv-extension-comm\", function () {});\n",
       "  if (server_id !== null) {\n",
       "    comm.send({event_type: 'server_delete', 'id': server_id});\n",
       "    return;\n",
       "  } else if (comm !== null) {\n",
       "    comm.send({event_type: 'delete', 'id': id});\n",
       "  }\n",
       "  delete PyViz.plot_index[id];\n",
       "  if ((window.Bokeh !== undefined) & (id in window.Bokeh.index)) {\n",
       "    var doc = window.Bokeh.index[id].model.document\n",
       "    doc.clear();\n",
       "    const i = window.Bokeh.documents.indexOf(doc);\n",
       "    if (i > -1) {\n",
       "      window.Bokeh.documents.splice(i, 1);\n",
       "    }\n",
       "  }\n",
       "}\n",
       "\n",
       "/**\n",
       " * Handle kernel restart event\n",
       " */\n",
       "function handle_kernel_cleanup(event, handle) {\n",
       "  delete PyViz.comms[\"hv-extension-comm\"];\n",
       "  window.PyViz.plot_index = {}\n",
       "}\n",
       "\n",
       "/**\n",
       " * Handle update_display_data messages\n",
       " */\n",
       "function handle_update_output(event, handle) {\n",
       "  handle_clear_output(event, {cell: {output_area: handle.output_area}})\n",
       "  handle_add_output(event, handle)\n",
       "}\n",
       "\n",
       "function register_renderer(events, OutputArea) {\n",
       "  function append_mime(data, metadata, element) {\n",
       "    // create a DOM node to render to\n",
       "    var toinsert = this.create_output_subarea(\n",
       "    metadata,\n",
       "    CLASS_NAME,\n",
       "    EXEC_MIME_TYPE\n",
       "    );\n",
       "    this.keyboard_manager.register_events(toinsert);\n",
       "    // Render to node\n",
       "    var props = {data: data, metadata: metadata[EXEC_MIME_TYPE]};\n",
       "    render(props, toinsert[0]);\n",
       "    element.append(toinsert);\n",
       "    return toinsert\n",
       "  }\n",
       "\n",
       "  events.on('output_added.OutputArea', handle_add_output);\n",
       "  events.on('output_updated.OutputArea', handle_update_output);\n",
       "  events.on('clear_output.CodeCell', handle_clear_output);\n",
       "  events.on('delete.Cell', handle_clear_output);\n",
       "  events.on('kernel_ready.Kernel', handle_kernel_cleanup);\n",
       "\n",
       "  OutputArea.prototype.register_mime_type(EXEC_MIME_TYPE, append_mime, {\n",
       "    safe: true,\n",
       "    index: 0\n",
       "  });\n",
       "}\n",
       "\n",
       "if (window.Jupyter !== undefined) {\n",
       "  try {\n",
       "    var events = require('base/js/events');\n",
       "    var OutputArea = require('notebook/js/outputarea').OutputArea;\n",
       "    if (OutputArea.prototype.mime_types().indexOf(EXEC_MIME_TYPE) == -1) {\n",
       "      register_renderer(events, OutputArea);\n",
       "    }\n",
       "  } catch(err) {\n",
       "  }\n",
       "}\n"
      ],
      "application/vnd.holoviews_load.v0+json": "\nif ((window.PyViz === undefined) || (window.PyViz instanceof HTMLElement)) {\n  window.PyViz = {comms: {}, comm_status:{}, kernels:{}, receivers: {}, plot_index: []}\n}\n\n\n    function JupyterCommManager() {\n    }\n\n    JupyterCommManager.prototype.register_target = function(plot_id, comm_id, msg_handler) {\n      if (window.comm_manager || ((window.Jupyter !== undefined) && (Jupyter.notebook.kernel != null))) {\n        var comm_manager = window.comm_manager || Jupyter.notebook.kernel.comm_manager;\n        comm_manager.register_target(comm_id, function(comm) {\n          comm.on_msg(msg_handler);\n        });\n      } else if ((plot_id in window.PyViz.kernels) && (window.PyViz.kernels[plot_id])) {\n        window.PyViz.kernels[plot_id].registerCommTarget(comm_id, function(comm) {\n          comm.onMsg = msg_handler;\n        });\n      } else if (typeof google != 'undefined' && google.colab.kernel != null) {\n        google.colab.kernel.comms.registerTarget(comm_id, (comm) => {\n          var messages = comm.messages[Symbol.asyncIterator]();\n          function processIteratorResult(result) {\n            var message = result.value;\n            console.log(message)\n            var content = {data: message.data, comm_id};\n            var buffers = []\n            for (var buffer of message.buffers || []) {\n              buffers.push(new DataView(buffer))\n            }\n            var metadata = message.metadata || {};\n            var msg = {content, buffers, metadata}\n            msg_handler(msg);\n            return messages.next().then(processIteratorResult);\n          }\n          return messages.next().then(processIteratorResult);\n        })\n      }\n    }\n\n    JupyterCommManager.prototype.get_client_comm = function(plot_id, comm_id, msg_handler) {\n      if (comm_id in window.PyViz.comms) {\n        return window.PyViz.comms[comm_id];\n      } else if (window.comm_manager || ((window.Jupyter !== undefined) && (Jupyter.notebook.kernel != null))) {\n        var comm_manager = window.comm_manager || Jupyter.notebook.kernel.comm_manager;\n        var comm = comm_manager.new_comm(comm_id, {}, {}, {}, comm_id);\n        if (msg_handler) {\n          comm.on_msg(msg_handler);\n        }\n      } else if ((plot_id in window.PyViz.kernels) && (window.PyViz.kernels[plot_id])) {\n        var comm = window.PyViz.kernels[plot_id].connectToComm(comm_id);\n        comm.open();\n        if (msg_handler) {\n          comm.onMsg = msg_handler;\n        }\n      } else if (typeof google != 'undefined' && google.colab.kernel != null) {\n        var comm_promise = google.colab.kernel.comms.open(comm_id)\n        comm_promise.then((comm) => {\n          window.PyViz.comms[comm_id] = comm;\n          if (msg_handler) {\n            var messages = comm.messages[Symbol.asyncIterator]();\n            function processIteratorResult(result) {\n              var message = result.value;\n              var content = {data: message.data};\n              var metadata = message.metadata || {comm_id};\n              var msg = {content, metadata}\n              msg_handler(msg);\n              return messages.next().then(processIteratorResult);\n            }\n            return messages.next().then(processIteratorResult);\n          }\n        }) \n        var sendClosure = (data, metadata, buffers, disposeOnDone) => {\n          return comm_promise.then((comm) => {\n            comm.send(data, metadata, buffers, disposeOnDone);\n          });\n        };\n        var comm = {\n          send: sendClosure\n        };\n      }\n      window.PyViz.comms[comm_id] = comm;\n      return comm;\n    }\n    window.PyViz.comm_manager = new JupyterCommManager();\n    \n\n\nvar JS_MIME_TYPE = 'application/javascript';\nvar HTML_MIME_TYPE = 'text/html';\nvar EXEC_MIME_TYPE = 'application/vnd.holoviews_exec.v0+json';\nvar CLASS_NAME = 'output';\n\n/**\n * Render data to the DOM node\n */\nfunction render(props, node) {\n  var div = document.createElement(\"div\");\n  var script = document.createElement(\"script\");\n  node.appendChild(div);\n  node.appendChild(script);\n}\n\n/**\n * Handle when a new output is added\n */\nfunction handle_add_output(event, handle) {\n  var output_area = handle.output_area;\n  var output = handle.output;\n  if ((output.data == undefined) || (!output.data.hasOwnProperty(EXEC_MIME_TYPE))) {\n    return\n  }\n  var id = output.metadata[EXEC_MIME_TYPE][\"id\"];\n  var toinsert = output_area.element.find(\".\" + CLASS_NAME.split(' ')[0]);\n  if (id !== undefined) {\n    var nchildren = toinsert.length;\n    var html_node = toinsert[nchildren-1].children[0];\n    html_node.innerHTML = output.data[HTML_MIME_TYPE];\n    var scripts = [];\n    var nodelist = html_node.querySelectorAll(\"script\");\n    for (var i in nodelist) {\n      if (nodelist.hasOwnProperty(i)) {\n        scripts.push(nodelist[i])\n      }\n    }\n\n    scripts.forEach( function (oldScript) {\n      var newScript = document.createElement(\"script\");\n      var attrs = [];\n      var nodemap = oldScript.attributes;\n      for (var j in nodemap) {\n        if (nodemap.hasOwnProperty(j)) {\n          attrs.push(nodemap[j])\n        }\n      }\n      attrs.forEach(function(attr) { newScript.setAttribute(attr.name, attr.value) });\n      newScript.appendChild(document.createTextNode(oldScript.innerHTML));\n      oldScript.parentNode.replaceChild(newScript, oldScript);\n    });\n    if (JS_MIME_TYPE in output.data) {\n      toinsert[nchildren-1].children[1].textContent = output.data[JS_MIME_TYPE];\n    }\n    output_area._hv_plot_id = id;\n    if ((window.Bokeh !== undefined) && (id in Bokeh.index)) {\n      window.PyViz.plot_index[id] = Bokeh.index[id];\n    } else {\n      window.PyViz.plot_index[id] = null;\n    }\n  } else if (output.metadata[EXEC_MIME_TYPE][\"server_id\"] !== undefined) {\n    var bk_div = document.createElement(\"div\");\n    bk_div.innerHTML = output.data[HTML_MIME_TYPE];\n    var script_attrs = bk_div.children[0].attributes;\n    for (var i = 0; i < script_attrs.length; i++) {\n      toinsert[toinsert.length - 1].childNodes[1].setAttribute(script_attrs[i].name, script_attrs[i].value);\n    }\n    // store reference to server id on output_area\n    output_area._bokeh_server_id = output.metadata[EXEC_MIME_TYPE][\"server_id\"];\n  }\n}\n\n/**\n * Handle when an output is cleared or removed\n */\nfunction handle_clear_output(event, handle) {\n  var id = handle.cell.output_area._hv_plot_id;\n  var server_id = handle.cell.output_area._bokeh_server_id;\n  if (((id === undefined) || !(id in PyViz.plot_index)) && (server_id !== undefined)) { return; }\n  var comm = window.PyViz.comm_manager.get_client_comm(\"hv-extension-comm\", \"hv-extension-comm\", function () {});\n  if (server_id !== null) {\n    comm.send({event_type: 'server_delete', 'id': server_id});\n    return;\n  } else if (comm !== null) {\n    comm.send({event_type: 'delete', 'id': id});\n  }\n  delete PyViz.plot_index[id];\n  if ((window.Bokeh !== undefined) & (id in window.Bokeh.index)) {\n    var doc = window.Bokeh.index[id].model.document\n    doc.clear();\n    const i = window.Bokeh.documents.indexOf(doc);\n    if (i > -1) {\n      window.Bokeh.documents.splice(i, 1);\n    }\n  }\n}\n\n/**\n * Handle kernel restart event\n */\nfunction handle_kernel_cleanup(event, handle) {\n  delete PyViz.comms[\"hv-extension-comm\"];\n  window.PyViz.plot_index = {}\n}\n\n/**\n * Handle update_display_data messages\n */\nfunction handle_update_output(event, handle) {\n  handle_clear_output(event, {cell: {output_area: handle.output_area}})\n  handle_add_output(event, handle)\n}\n\nfunction register_renderer(events, OutputArea) {\n  function append_mime(data, metadata, element) {\n    // create a DOM node to render to\n    var toinsert = this.create_output_subarea(\n    metadata,\n    CLASS_NAME,\n    EXEC_MIME_TYPE\n    );\n    this.keyboard_manager.register_events(toinsert);\n    // Render to node\n    var props = {data: data, metadata: metadata[EXEC_MIME_TYPE]};\n    render(props, toinsert[0]);\n    element.append(toinsert);\n    return toinsert\n  }\n\n  events.on('output_added.OutputArea', handle_add_output);\n  events.on('output_updated.OutputArea', handle_update_output);\n  events.on('clear_output.CodeCell', handle_clear_output);\n  events.on('delete.Cell', handle_clear_output);\n  events.on('kernel_ready.Kernel', handle_kernel_cleanup);\n\n  OutputArea.prototype.register_mime_type(EXEC_MIME_TYPE, append_mime, {\n    safe: true,\n    index: 0\n  });\n}\n\nif (window.Jupyter !== undefined) {\n  try {\n    var events = require('base/js/events');\n    var OutputArea = require('notebook/js/outputarea').OutputArea;\n    if (OutputArea.prototype.mime_types().indexOf(EXEC_MIME_TYPE) == -1) {\n      register_renderer(events, OutputArea);\n    }\n  } catch(err) {\n  }\n}\n"
     },
     "metadata": {},
     "output_type": "display_data"
    },
    {
     "data": {
      "text/html": [
       "<style>.bk-root, .bk-root .bk:before, .bk-root .bk:after {\n",
       "  font-family: var(--jp-ui-font-size1);\n",
       "  font-size: var(--jp-ui-font-size1);\n",
       "  color: var(--jp-ui-font-color1);\n",
       "}\n",
       "</style>"
      ]
     },
     "metadata": {},
     "output_type": "display_data"
    },
    {
     "name": "stdout",
     "output_type": "stream",
     "text": [
      "time: 63 ms (started: 2022-09-23 04:45:30 -05:00)\n"
     ]
    }
   ],
   "source": [
    "css = '''\n",
    ".bk.controls_main {\n",
    "    max-width: 400vw !important;\n",
    "    height: 880px !important;\n",
    "    border-radius: 15px;\n",
    "}\n",
    "\n",
    ".bk.min_h_control {\n",
    "    min-height: 50px !important;\n",
    "    top: 50;\n",
    "}\n",
    "\n",
    "\n",
    ".bk.hide_blocks {\n",
    "}\n",
    "\n",
    ".bk.show_blocks {\n",
    "    min-height: 200px !important;\n",
    "}\n",
    "\n",
    "'''\n",
    "\n",
    "pn.extension(raw_css=[css])"
   ]
  },
  {
   "cell_type": "code",
   "execution_count": 62,
   "id": "29df5fa3",
   "metadata": {},
   "outputs": [
    {
     "name": "stdout",
     "output_type": "stream",
     "text": [
      "time: 0 ns (started: 2022-09-23 04:15:43 -05:00)\n"
     ]
    }
   ],
   "source": [
    "traj_type = pnw.RadioButtonGroup(\n",
    "    name='Trajectory type', \n",
    "    options=['Brownian motion','Correlated Random Walk', 'Levy Flight'], \n",
    "    button_type = 'primary')"
   ]
  },
  {
   "cell_type": "code",
   "execution_count": 63,
   "id": "1f2a6d14",
   "metadata": {},
   "outputs": [
    {
     "data": {},
     "metadata": {},
     "output_type": "display_data"
    },
    {
     "data": {
      "application/vnd.holoviews_exec.v0+json": "",
      "text/html": [
       "<div id='1181'>\n",
       "  <div class=\"bk-root\" id=\"a9951d18-7d5d-4c71-a016-6b3f76fc7517\" data-root-id=\"1181\"></div>\n",
       "</div>\n",
       "<script type=\"application/javascript\">(function(root) {\n",
       "  function embed_document(root) {\n",
       "    var docs_json = {\"1bfa9186-1bfe-42d8-8fe2-779c2d09ecd3\":{\"defs\":[{\"extends\":null,\"module\":null,\"name\":\"ReactiveHTML1\",\"overrides\":[],\"properties\":[]},{\"extends\":null,\"module\":null,\"name\":\"FlexBox1\",\"overrides\":[],\"properties\":[{\"default\":\"flex-start\",\"kind\":null,\"name\":\"align_content\"},{\"default\":\"flex-start\",\"kind\":null,\"name\":\"align_items\"},{\"default\":\"row\",\"kind\":null,\"name\":\"flex_direction\"},{\"default\":\"wrap\",\"kind\":null,\"name\":\"flex_wrap\"},{\"default\":\"flex-start\",\"kind\":null,\"name\":\"justify_content\"}]},{\"extends\":null,\"module\":null,\"name\":\"GridStack1\",\"overrides\":[],\"properties\":[{\"default\":\"warn\",\"kind\":null,\"name\":\"mode\"},{\"default\":null,\"kind\":null,\"name\":\"ncols\"},{\"default\":null,\"kind\":null,\"name\":\"nrows\"},{\"default\":true,\"kind\":null,\"name\":\"allow_resize\"},{\"default\":true,\"kind\":null,\"name\":\"allow_drag\"},{\"default\":[],\"kind\":null,\"name\":\"state\"}]},{\"extends\":null,\"module\":null,\"name\":\"click1\",\"overrides\":[],\"properties\":[{\"default\":\"\",\"kind\":null,\"name\":\"terminal_output\"},{\"default\":\"\",\"kind\":null,\"name\":\"debug_name\"},{\"default\":0,\"kind\":null,\"name\":\"clears\"}]},{\"extends\":null,\"module\":null,\"name\":\"NotificationAreaBase1\",\"overrides\":[],\"properties\":[{\"default\":\"bottom-right\",\"kind\":null,\"name\":\"position\"},{\"default\":0,\"kind\":null,\"name\":\"_clear\"}]},{\"extends\":null,\"module\":null,\"name\":\"NotificationArea1\",\"overrides\":[],\"properties\":[{\"default\":[],\"kind\":null,\"name\":\"notifications\"},{\"default\":\"bottom-right\",\"kind\":null,\"name\":\"position\"},{\"default\":0,\"kind\":null,\"name\":\"_clear\"},{\"default\":[{\"background\":\"#ffc107\",\"icon\":{\"className\":\"fas fa-exclamation-triangle\",\"color\":\"white\",\"tagName\":\"i\"},\"type\":\"warning\"},{\"background\":\"#007bff\",\"icon\":{\"className\":\"fas fa-info-circle\",\"color\":\"white\",\"tagName\":\"i\"},\"type\":\"info\"}],\"kind\":null,\"name\":\"types\"}]},{\"extends\":null,\"module\":null,\"name\":\"Notification\",\"overrides\":[],\"properties\":[{\"default\":null,\"kind\":null,\"name\":\"background\"},{\"default\":3000,\"kind\":null,\"name\":\"duration\"},{\"default\":null,\"kind\":null,\"name\":\"icon\"},{\"default\":\"\",\"kind\":null,\"name\":\"message\"},{\"default\":null,\"kind\":null,\"name\":\"notification_type\"},{\"default\":false,\"kind\":null,\"name\":\"_destroyed\"}]},{\"extends\":null,\"module\":null,\"name\":\"TemplateActions1\",\"overrides\":[],\"properties\":[{\"default\":0,\"kind\":null,\"name\":\"open_modal\"},{\"default\":0,\"kind\":null,\"name\":\"close_modal\"}]},{\"extends\":null,\"module\":null,\"name\":\"MaterialTemplateActions1\",\"overrides\":[],\"properties\":[{\"default\":0,\"kind\":null,\"name\":\"open_modal\"},{\"default\":0,\"kind\":null,\"name\":\"close_modal\"}]}],\"roots\":{\"references\":[{\"attributes\":{\"active\":0,\"button_type\":\"primary\",\"labels\":[\"Brownian motion\",\"Correlated Random Walk\",\"Levy Flight\"],\"margin\":[5,10,5,10]},\"id\":\"1181\",\"type\":\"RadioButtonGroup\"},{\"attributes\":{\"client_comm_id\":\"cdb52076cdb54f55af937b48235a9347\",\"comm_id\":\"34833f4bb7004dd79c4a68295d3dd8d4\",\"plot_id\":\"1181\"},\"id\":\"1182\",\"type\":\"panel.models.comm_manager.CommManager\"}],\"root_ids\":[\"1181\",\"1182\"]},\"title\":\"Bokeh Application\",\"version\":\"2.4.3\"}};\n",
       "    var render_items = [{\"docid\":\"1bfa9186-1bfe-42d8-8fe2-779c2d09ecd3\",\"root_ids\":[\"1181\"],\"roots\":{\"1181\":\"a9951d18-7d5d-4c71-a016-6b3f76fc7517\"}}];\n",
       "    root.Bokeh.embed.embed_items_notebook(docs_json, render_items);\n",
       "  }\n",
       "  if (root.Bokeh !== undefined && root.Bokeh.Panel !== undefined && ( root['Plotly'] !== undefined) && ( root['Plotly'] !== undefined)) {\n",
       "    embed_document(root);\n",
       "  } else {\n",
       "    var attempts = 0;\n",
       "    var timer = setInterval(function(root) {\n",
       "      if (root.Bokeh !== undefined && root.Bokeh.Panel !== undefined && (root['Plotly'] !== undefined) && (root['Plotly'] !== undefined)) {\n",
       "        clearInterval(timer);\n",
       "        embed_document(root);\n",
       "      } else if (document.readyState == \"complete\") {\n",
       "        attempts++;\n",
       "        if (attempts > 200) {\n",
       "          clearInterval(timer);\n",
       "          console.log(\"Bokeh: ERROR: Unable to run BokehJS code because BokehJS library is missing\");\n",
       "        }\n",
       "      }\n",
       "    }, 25, root)\n",
       "  }\n",
       "})(window);</script>"
      ],
      "text/plain": [
       "RadioButtonGroup(button_type='primary', name='Trajectory type', options=['Brownian motion', ...], value='Brownian motion')"
      ]
     },
     "execution_count": 63,
     "metadata": {
      "application/vnd.holoviews_exec.v0+json": {
       "id": "1181"
      }
     },
     "output_type": "execute_result"
    },
    {
     "name": "stdout",
     "output_type": "stream",
     "text": [
      "time: 31 ms (started: 2022-09-23 04:15:44 -05:00)\n"
     ]
    }
   ],
   "source": [
    "traj_type"
   ]
  },
  {
   "cell_type": "markdown",
   "id": "f680f45a",
   "metadata": {},
   "source": [
    "## Basic Controls"
   ]
  },
  {
   "cell_type": "code",
   "execution_count": 64,
   "id": "cf5b5b81",
   "metadata": {},
   "outputs": [
    {
     "name": "stdout",
     "output_type": "stream",
     "text": [
      "time: 16 ms (started: 2022-09-23 04:15:45 -05:00)\n"
     ]
    }
   ],
   "source": [
    "\n",
    "n_traj = pnw.IntSlider(name='Numer of trajectories', value=1, step=1, start=1, end=4)\n",
    "\n",
    "s_x = pnw.IntInput(name='X Starting position',value=0, step=1, start=-100, end=100)\n",
    "s_y = pnw.IntInput(name='Y Starting position',value=0, step=1, start=-100, end=100)\n",
    "\n",
    "speed = pnw.IntInput(name='Speed',value=6, step=1, start=1, end=10)\n",
    "\n",
    "n_steps = pnw.IntSlider(name='Numer of steps', value=1000, step=1000, start=1000, end=100000)"
   ]
  },
  {
   "cell_type": "code",
   "execution_count": 65,
   "id": "b5f6363f",
   "metadata": {},
   "outputs": [
    {
     "name": "stdout",
     "output_type": "stream",
     "text": [
      "time: 0 ns (started: 2022-09-23 04:15:45 -05:00)\n"
     ]
    }
   ],
   "source": [
    "s_pos_controls = pn.Row(s_x,s_y)"
   ]
  },
  {
   "cell_type": "code",
   "execution_count": 66,
   "id": "c5f08e00",
   "metadata": {},
   "outputs": [
    {
     "name": "stdout",
     "output_type": "stream",
     "text": [
      "time: 15 ms (started: 2022-09-23 04:15:46 -05:00)\n"
     ]
    }
   ],
   "source": [
    "step_speed_controls =  pn.Row(speed,n_steps)"
   ]
  },
  {
   "cell_type": "code",
   "execution_count": 67,
   "id": "e2adfaa1",
   "metadata": {},
   "outputs": [
    {
     "name": "stdout",
     "output_type": "stream",
     "text": [
      "time: 0 ns (started: 2022-09-23 04:15:46 -05:00)\n"
     ]
    }
   ],
   "source": [
    "basic_controls = pn.Column(n_traj,s_pos_controls, step_speed_controls)"
   ]
  },
  {
   "cell_type": "code",
   "execution_count": 68,
   "id": "4ad5231c",
   "metadata": {},
   "outputs": [
    {
     "data": {},
     "metadata": {},
     "output_type": "display_data"
    },
    {
     "data": {
      "application/vnd.holoviews_exec.v0+json": "",
      "text/html": [
       "<div id='1183'>\n",
       "  <div class=\"bk-root\" id=\"0debbfc8-18e6-4aae-bc22-d47b1bb4062b\" data-root-id=\"1183\"></div>\n",
       "</div>\n",
       "<script type=\"application/javascript\">(function(root) {\n",
       "  function embed_document(root) {\n",
       "    var docs_json = {\"088fa645-e490-4bed-a253-f92b42e9018b\":{\"defs\":[{\"extends\":null,\"module\":null,\"name\":\"ReactiveHTML1\",\"overrides\":[],\"properties\":[]},{\"extends\":null,\"module\":null,\"name\":\"FlexBox1\",\"overrides\":[],\"properties\":[{\"default\":\"flex-start\",\"kind\":null,\"name\":\"align_content\"},{\"default\":\"flex-start\",\"kind\":null,\"name\":\"align_items\"},{\"default\":\"row\",\"kind\":null,\"name\":\"flex_direction\"},{\"default\":\"wrap\",\"kind\":null,\"name\":\"flex_wrap\"},{\"default\":\"flex-start\",\"kind\":null,\"name\":\"justify_content\"}]},{\"extends\":null,\"module\":null,\"name\":\"GridStack1\",\"overrides\":[],\"properties\":[{\"default\":\"warn\",\"kind\":null,\"name\":\"mode\"},{\"default\":null,\"kind\":null,\"name\":\"ncols\"},{\"default\":null,\"kind\":null,\"name\":\"nrows\"},{\"default\":true,\"kind\":null,\"name\":\"allow_resize\"},{\"default\":true,\"kind\":null,\"name\":\"allow_drag\"},{\"default\":[],\"kind\":null,\"name\":\"state\"}]},{\"extends\":null,\"module\":null,\"name\":\"click1\",\"overrides\":[],\"properties\":[{\"default\":\"\",\"kind\":null,\"name\":\"terminal_output\"},{\"default\":\"\",\"kind\":null,\"name\":\"debug_name\"},{\"default\":0,\"kind\":null,\"name\":\"clears\"}]},{\"extends\":null,\"module\":null,\"name\":\"NotificationAreaBase1\",\"overrides\":[],\"properties\":[{\"default\":\"bottom-right\",\"kind\":null,\"name\":\"position\"},{\"default\":0,\"kind\":null,\"name\":\"_clear\"}]},{\"extends\":null,\"module\":null,\"name\":\"NotificationArea1\",\"overrides\":[],\"properties\":[{\"default\":[],\"kind\":null,\"name\":\"notifications\"},{\"default\":\"bottom-right\",\"kind\":null,\"name\":\"position\"},{\"default\":0,\"kind\":null,\"name\":\"_clear\"},{\"default\":[{\"background\":\"#ffc107\",\"icon\":{\"className\":\"fas fa-exclamation-triangle\",\"color\":\"white\",\"tagName\":\"i\"},\"type\":\"warning\"},{\"background\":\"#007bff\",\"icon\":{\"className\":\"fas fa-info-circle\",\"color\":\"white\",\"tagName\":\"i\"},\"type\":\"info\"}],\"kind\":null,\"name\":\"types\"}]},{\"extends\":null,\"module\":null,\"name\":\"Notification\",\"overrides\":[],\"properties\":[{\"default\":null,\"kind\":null,\"name\":\"background\"},{\"default\":3000,\"kind\":null,\"name\":\"duration\"},{\"default\":null,\"kind\":null,\"name\":\"icon\"},{\"default\":\"\",\"kind\":null,\"name\":\"message\"},{\"default\":null,\"kind\":null,\"name\":\"notification_type\"},{\"default\":false,\"kind\":null,\"name\":\"_destroyed\"}]},{\"extends\":null,\"module\":null,\"name\":\"TemplateActions1\",\"overrides\":[],\"properties\":[{\"default\":0,\"kind\":null,\"name\":\"open_modal\"},{\"default\":0,\"kind\":null,\"name\":\"close_modal\"}]},{\"extends\":null,\"module\":null,\"name\":\"MaterialTemplateActions1\",\"overrides\":[],\"properties\":[{\"default\":0,\"kind\":null,\"name\":\"open_modal\"},{\"default\":0,\"kind\":null,\"name\":\"close_modal\"}]}],\"roots\":{\"references\":[{\"attributes\":{\"high\":10,\"low\":1,\"margin\":[5,10,5,10],\"mode\":\"int\",\"placeholder\":\"0\",\"title\":\"Speed\",\"value\":6,\"value_throttled\":6},\"id\":\"1189\",\"type\":\"Spinner\"},{\"attributes\":{\"end\":4,\"margin\":[5,10,5,10],\"start\":1,\"title\":\"Numer of trajectories\",\"value\":1},\"id\":\"1184\",\"type\":\"Slider\"},{\"attributes\":{\"children\":[{\"id\":\"1186\"},{\"id\":\"1187\"}],\"margin\":[0,0,0,0],\"name\":\"Row00228\"},\"id\":\"1185\",\"type\":\"Row\"},{\"attributes\":{\"client_comm_id\":\"abf43892ffd746b8890b660a99909fe1\",\"comm_id\":\"a32ed13a6ce042b59cbdde92424658bd\",\"plot_id\":\"1183\"},\"id\":\"1191\",\"type\":\"panel.models.comm_manager.CommManager\"},{\"attributes\":{\"end\":100000,\"margin\":[5,10,5,10],\"start\":1000,\"step\":1000,\"title\":\"Numer of steps\",\"value\":1000},\"id\":\"1190\",\"type\":\"Slider\"},{\"attributes\":{\"high\":100,\"low\":-100,\"margin\":[5,10,5,10],\"mode\":\"int\",\"placeholder\":\"0\",\"title\":\"Y Starting position\",\"value\":0,\"value_throttled\":0},\"id\":\"1187\",\"type\":\"Spinner\"},{\"attributes\":{\"children\":[{\"id\":\"1184\"},{\"id\":\"1185\"},{\"id\":\"1188\"}],\"margin\":[0,0,0,0],\"name\":\"Column00230\"},\"id\":\"1183\",\"type\":\"Column\"},{\"attributes\":{\"children\":[{\"id\":\"1189\"},{\"id\":\"1190\"}],\"margin\":[0,0,0,0],\"name\":\"Row00229\"},\"id\":\"1188\",\"type\":\"Row\"},{\"attributes\":{\"high\":100,\"low\":-100,\"margin\":[5,10,5,10],\"mode\":\"int\",\"placeholder\":\"0\",\"title\":\"X Starting position\",\"value\":0,\"value_throttled\":0},\"id\":\"1186\",\"type\":\"Spinner\"}],\"root_ids\":[\"1183\",\"1191\"]},\"title\":\"Bokeh Application\",\"version\":\"2.4.3\"}};\n",
       "    var render_items = [{\"docid\":\"088fa645-e490-4bed-a253-f92b42e9018b\",\"root_ids\":[\"1183\"],\"roots\":{\"1183\":\"0debbfc8-18e6-4aae-bc22-d47b1bb4062b\"}}];\n",
       "    root.Bokeh.embed.embed_items_notebook(docs_json, render_items);\n",
       "  }\n",
       "  if (root.Bokeh !== undefined && root.Bokeh.Panel !== undefined && ( root['Plotly'] !== undefined) && ( root['Plotly'] !== undefined)) {\n",
       "    embed_document(root);\n",
       "  } else {\n",
       "    var attempts = 0;\n",
       "    var timer = setInterval(function(root) {\n",
       "      if (root.Bokeh !== undefined && root.Bokeh.Panel !== undefined && (root['Plotly'] !== undefined) && (root['Plotly'] !== undefined)) {\n",
       "        clearInterval(timer);\n",
       "        embed_document(root);\n",
       "      } else if (document.readyState == \"complete\") {\n",
       "        attempts++;\n",
       "        if (attempts > 200) {\n",
       "          clearInterval(timer);\n",
       "          console.log(\"Bokeh: ERROR: Unable to run BokehJS code because BokehJS library is missing\");\n",
       "        }\n",
       "      }\n",
       "    }, 25, root)\n",
       "  }\n",
       "})(window);</script>"
      ],
      "text/plain": [
       "Column\n",
       "    [0] IntSlider(end=4, name='Numer of trajectories', start=1, value=1)\n",
       "    [1] Row\n",
       "        [0] IntInput(end=100, name='X Starting position', start=-100)\n",
       "        [1] IntInput(end=100, name='Y Starting position', start=-100)\n",
       "    [2] Row\n",
       "        [0] IntInput(end=10, name='Speed', start=1, value=6)\n",
       "        [1] IntSlider(end=100000, name='Numer of steps', start=1000, step=1000, value=1000)"
      ]
     },
     "execution_count": 68,
     "metadata": {
      "application/vnd.holoviews_exec.v0+json": {
       "id": "1183"
      }
     },
     "output_type": "execute_result"
    },
    {
     "name": "stdout",
     "output_type": "stream",
     "text": [
      "time: 109 ms (started: 2022-09-23 04:15:46 -05:00)\n"
     ]
    }
   ],
   "source": [
    "basic_controls"
   ]
  },
  {
   "cell_type": "markdown",
   "id": "f4f75505",
   "metadata": {},
   "source": [
    "## CRW Controls"
   ]
  },
  {
   "cell_type": "code",
   "execution_count": 69,
   "id": "c61065cd",
   "metadata": {},
   "outputs": [
    {
     "name": "stdout",
     "output_type": "stream",
     "text": [
      "time: 16 ms (started: 2022-09-23 04:15:47 -05:00)\n"
     ]
    }
   ],
   "source": [
    "crw_e_1 = pnw.FloatInput(name='c exponent',value=0.6, step=0.1, start=0.1, end=0.9)\n",
    "crw_e_2 = pnw.FloatInput(name='c exponent for trajectory no. 2',value=0.6, step=0.1, start=0.1, end=0.9, visible = False)\n",
    "crw_e_3 = pnw.FloatInput(name='c exponent for trajectory no. 3',value=0.6, step=0.1, start=0.1, end=0.9, visible = False)\n",
    "crw_e_4 = pnw.FloatInput(name='c exponent for trajectory no. 4',value=0.6, step=0.1, start=0.1, end=0.9, visible = False)"
   ]
  },
  {
   "cell_type": "code",
   "execution_count": 70,
   "id": "c66b1248",
   "metadata": {},
   "outputs": [
    {
     "name": "stdout",
     "output_type": "stream",
     "text": [
      "time: 16 ms (started: 2022-09-23 04:15:47 -05:00)\n"
     ]
    }
   ],
   "source": [
    "apply_crwe_to_all = pnw.RadioButtonGroup(name='crwe_apply', options=['YES', 'NO'], button_type = 'default')"
   ]
  },
  {
   "cell_type": "code",
   "execution_count": 71,
   "id": "f77ad0f2",
   "metadata": {},
   "outputs": [
    {
     "name": "stdout",
     "output_type": "stream",
     "text": [
      "time: 15 ms (started: 2022-09-23 04:15:48 -05:00)\n"
     ]
    }
   ],
   "source": [
    "s_pos_controls = pn.Column('####Apply same exponent to all trajectories?',apply_crwe_to_all)"
   ]
  },
  {
   "cell_type": "code",
   "execution_count": 72,
   "id": "93e59ce4",
   "metadata": {},
   "outputs": [
    {
     "data": {},
     "metadata": {},
     "output_type": "display_data"
    },
    {
     "data": {
      "application/vnd.holoviews_exec.v0+json": "",
      "text/html": [
       "<div id='1192'>\n",
       "  <div class=\"bk-root\" id=\"6c0996c8-31c0-4f2b-91fe-306ae0a86a6f\" data-root-id=\"1192\"></div>\n",
       "</div>\n",
       "<script type=\"application/javascript\">(function(root) {\n",
       "  function embed_document(root) {\n",
       "    var docs_json = {\"9e9bd398-8b1a-42dc-b50d-a1acebdab9c3\":{\"defs\":[{\"extends\":null,\"module\":null,\"name\":\"ReactiveHTML1\",\"overrides\":[],\"properties\":[]},{\"extends\":null,\"module\":null,\"name\":\"FlexBox1\",\"overrides\":[],\"properties\":[{\"default\":\"flex-start\",\"kind\":null,\"name\":\"align_content\"},{\"default\":\"flex-start\",\"kind\":null,\"name\":\"align_items\"},{\"default\":\"row\",\"kind\":null,\"name\":\"flex_direction\"},{\"default\":\"wrap\",\"kind\":null,\"name\":\"flex_wrap\"},{\"default\":\"flex-start\",\"kind\":null,\"name\":\"justify_content\"}]},{\"extends\":null,\"module\":null,\"name\":\"GridStack1\",\"overrides\":[],\"properties\":[{\"default\":\"warn\",\"kind\":null,\"name\":\"mode\"},{\"default\":null,\"kind\":null,\"name\":\"ncols\"},{\"default\":null,\"kind\":null,\"name\":\"nrows\"},{\"default\":true,\"kind\":null,\"name\":\"allow_resize\"},{\"default\":true,\"kind\":null,\"name\":\"allow_drag\"},{\"default\":[],\"kind\":null,\"name\":\"state\"}]},{\"extends\":null,\"module\":null,\"name\":\"click1\",\"overrides\":[],\"properties\":[{\"default\":\"\",\"kind\":null,\"name\":\"terminal_output\"},{\"default\":\"\",\"kind\":null,\"name\":\"debug_name\"},{\"default\":0,\"kind\":null,\"name\":\"clears\"}]},{\"extends\":null,\"module\":null,\"name\":\"NotificationAreaBase1\",\"overrides\":[],\"properties\":[{\"default\":\"bottom-right\",\"kind\":null,\"name\":\"position\"},{\"default\":0,\"kind\":null,\"name\":\"_clear\"}]},{\"extends\":null,\"module\":null,\"name\":\"NotificationArea1\",\"overrides\":[],\"properties\":[{\"default\":[],\"kind\":null,\"name\":\"notifications\"},{\"default\":\"bottom-right\",\"kind\":null,\"name\":\"position\"},{\"default\":0,\"kind\":null,\"name\":\"_clear\"},{\"default\":[{\"background\":\"#ffc107\",\"icon\":{\"className\":\"fas fa-exclamation-triangle\",\"color\":\"white\",\"tagName\":\"i\"},\"type\":\"warning\"},{\"background\":\"#007bff\",\"icon\":{\"className\":\"fas fa-info-circle\",\"color\":\"white\",\"tagName\":\"i\"},\"type\":\"info\"}],\"kind\":null,\"name\":\"types\"}]},{\"extends\":null,\"module\":null,\"name\":\"Notification\",\"overrides\":[],\"properties\":[{\"default\":null,\"kind\":null,\"name\":\"background\"},{\"default\":3000,\"kind\":null,\"name\":\"duration\"},{\"default\":null,\"kind\":null,\"name\":\"icon\"},{\"default\":\"\",\"kind\":null,\"name\":\"message\"},{\"default\":null,\"kind\":null,\"name\":\"notification_type\"},{\"default\":false,\"kind\":null,\"name\":\"_destroyed\"}]},{\"extends\":null,\"module\":null,\"name\":\"TemplateActions1\",\"overrides\":[],\"properties\":[{\"default\":0,\"kind\":null,\"name\":\"open_modal\"},{\"default\":0,\"kind\":null,\"name\":\"close_modal\"}]},{\"extends\":null,\"module\":null,\"name\":\"MaterialTemplateActions1\",\"overrides\":[],\"properties\":[{\"default\":0,\"kind\":null,\"name\":\"open_modal\"},{\"default\":0,\"kind\":null,\"name\":\"close_modal\"}]}],\"roots\":{\"references\":[{\"attributes\":{\"active\":0,\"labels\":[\"YES\",\"NO\"],\"margin\":[5,10,5,10]},\"id\":\"1194\",\"type\":\"RadioButtonGroup\"},{\"attributes\":{\"css_classes\":[\"markdown\"],\"margin\":[5,5,5,5],\"name\":\"Markdown00238\",\"text\":\"&lt;h4&gt;Apply same exponent to all trajectories?&lt;/h4&gt;\"},\"id\":\"1193\",\"type\":\"panel.models.markup.HTML\"},{\"attributes\":{\"children\":[{\"id\":\"1193\"},{\"id\":\"1194\"}],\"margin\":[0,0,0,0],\"name\":\"Column00240\"},\"id\":\"1192\",\"type\":\"Column\"},{\"attributes\":{\"client_comm_id\":\"4860fdd705b44496bcc946f44a0b9570\",\"comm_id\":\"4f3173dd184146ad98e44ce8a8e9dc5a\",\"plot_id\":\"1192\"},\"id\":\"1195\",\"type\":\"panel.models.comm_manager.CommManager\"}],\"root_ids\":[\"1192\",\"1195\"]},\"title\":\"Bokeh Application\",\"version\":\"2.4.3\"}};\n",
       "    var render_items = [{\"docid\":\"9e9bd398-8b1a-42dc-b50d-a1acebdab9c3\",\"root_ids\":[\"1192\"],\"roots\":{\"1192\":\"6c0996c8-31c0-4f2b-91fe-306ae0a86a6f\"}}];\n",
       "    root.Bokeh.embed.embed_items_notebook(docs_json, render_items);\n",
       "  }\n",
       "  if (root.Bokeh !== undefined && root.Bokeh.Panel !== undefined && ( root['Plotly'] !== undefined) && ( root['Plotly'] !== undefined)) {\n",
       "    embed_document(root);\n",
       "  } else {\n",
       "    var attempts = 0;\n",
       "    var timer = setInterval(function(root) {\n",
       "      if (root.Bokeh !== undefined && root.Bokeh.Panel !== undefined && (root['Plotly'] !== undefined) && (root['Plotly'] !== undefined)) {\n",
       "        clearInterval(timer);\n",
       "        embed_document(root);\n",
       "      } else if (document.readyState == \"complete\") {\n",
       "        attempts++;\n",
       "        if (attempts > 200) {\n",
       "          clearInterval(timer);\n",
       "          console.log(\"Bokeh: ERROR: Unable to run BokehJS code because BokehJS library is missing\");\n",
       "        }\n",
       "      }\n",
       "    }, 25, root)\n",
       "  }\n",
       "})(window);</script>"
      ],
      "text/plain": [
       "Column\n",
       "    [0] Markdown(str)\n",
       "    [1] RadioButtonGroup(name='crwe_apply', options=['YES', 'NO'], value='YES')"
      ]
     },
     "execution_count": 72,
     "metadata": {
      "application/vnd.holoviews_exec.v0+json": {
       "id": "1192"
      }
     },
     "output_type": "execute_result"
    },
    {
     "name": "stdout",
     "output_type": "stream",
     "text": [
      "time: 47 ms (started: 2022-09-23 04:15:48 -05:00)\n"
     ]
    }
   ],
   "source": [
    "s_pos_controls"
   ]
  },
  {
   "cell_type": "code",
   "execution_count": 73,
   "id": "e8a8193b",
   "metadata": {},
   "outputs": [
    {
     "name": "stdout",
     "output_type": "stream",
     "text": [
      "time: 16 ms (started: 2022-09-23 04:15:49 -05:00)\n"
     ]
    }
   ],
   "source": [
    "exponents = pn.Column(pn.Row(crw_e_1,crw_e_2),pn.Row(crw_e_3,crw_e_4))"
   ]
  },
  {
   "cell_type": "code",
   "execution_count": 74,
   "id": "5379b55e",
   "metadata": {},
   "outputs": [
    {
     "data": {},
     "metadata": {},
     "output_type": "display_data"
    },
    {
     "data": {
      "application/vnd.holoviews_exec.v0+json": "",
      "text/html": [
       "<div id='1196'>\n",
       "  <div class=\"bk-root\" id=\"320a258c-5f00-41cd-9901-65bace5f73d2\" data-root-id=\"1196\"></div>\n",
       "</div>\n",
       "<script type=\"application/javascript\">(function(root) {\n",
       "  function embed_document(root) {\n",
       "    var docs_json = {\"cf27ccfe-d5ef-4cb2-b141-0adf8750b5dd\":{\"defs\":[{\"extends\":null,\"module\":null,\"name\":\"ReactiveHTML1\",\"overrides\":[],\"properties\":[]},{\"extends\":null,\"module\":null,\"name\":\"FlexBox1\",\"overrides\":[],\"properties\":[{\"default\":\"flex-start\",\"kind\":null,\"name\":\"align_content\"},{\"default\":\"flex-start\",\"kind\":null,\"name\":\"align_items\"},{\"default\":\"row\",\"kind\":null,\"name\":\"flex_direction\"},{\"default\":\"wrap\",\"kind\":null,\"name\":\"flex_wrap\"},{\"default\":\"flex-start\",\"kind\":null,\"name\":\"justify_content\"}]},{\"extends\":null,\"module\":null,\"name\":\"GridStack1\",\"overrides\":[],\"properties\":[{\"default\":\"warn\",\"kind\":null,\"name\":\"mode\"},{\"default\":null,\"kind\":null,\"name\":\"ncols\"},{\"default\":null,\"kind\":null,\"name\":\"nrows\"},{\"default\":true,\"kind\":null,\"name\":\"allow_resize\"},{\"default\":true,\"kind\":null,\"name\":\"allow_drag\"},{\"default\":[],\"kind\":null,\"name\":\"state\"}]},{\"extends\":null,\"module\":null,\"name\":\"click1\",\"overrides\":[],\"properties\":[{\"default\":\"\",\"kind\":null,\"name\":\"terminal_output\"},{\"default\":\"\",\"kind\":null,\"name\":\"debug_name\"},{\"default\":0,\"kind\":null,\"name\":\"clears\"}]},{\"extends\":null,\"module\":null,\"name\":\"NotificationAreaBase1\",\"overrides\":[],\"properties\":[{\"default\":\"bottom-right\",\"kind\":null,\"name\":\"position\"},{\"default\":0,\"kind\":null,\"name\":\"_clear\"}]},{\"extends\":null,\"module\":null,\"name\":\"NotificationArea1\",\"overrides\":[],\"properties\":[{\"default\":[],\"kind\":null,\"name\":\"notifications\"},{\"default\":\"bottom-right\",\"kind\":null,\"name\":\"position\"},{\"default\":0,\"kind\":null,\"name\":\"_clear\"},{\"default\":[{\"background\":\"#ffc107\",\"icon\":{\"className\":\"fas fa-exclamation-triangle\",\"color\":\"white\",\"tagName\":\"i\"},\"type\":\"warning\"},{\"background\":\"#007bff\",\"icon\":{\"className\":\"fas fa-info-circle\",\"color\":\"white\",\"tagName\":\"i\"},\"type\":\"info\"}],\"kind\":null,\"name\":\"types\"}]},{\"extends\":null,\"module\":null,\"name\":\"Notification\",\"overrides\":[],\"properties\":[{\"default\":null,\"kind\":null,\"name\":\"background\"},{\"default\":3000,\"kind\":null,\"name\":\"duration\"},{\"default\":null,\"kind\":null,\"name\":\"icon\"},{\"default\":\"\",\"kind\":null,\"name\":\"message\"},{\"default\":null,\"kind\":null,\"name\":\"notification_type\"},{\"default\":false,\"kind\":null,\"name\":\"_destroyed\"}]},{\"extends\":null,\"module\":null,\"name\":\"TemplateActions1\",\"overrides\":[],\"properties\":[{\"default\":0,\"kind\":null,\"name\":\"open_modal\"},{\"default\":0,\"kind\":null,\"name\":\"close_modal\"}]},{\"extends\":null,\"module\":null,\"name\":\"MaterialTemplateActions1\",\"overrides\":[],\"properties\":[{\"default\":0,\"kind\":null,\"name\":\"open_modal\"},{\"default\":0,\"kind\":null,\"name\":\"close_modal\"}]}],\"roots\":{\"references\":[{\"attributes\":{\"high\":0.9,\"low\":0.1,\"margin\":[5,10,5,10],\"placeholder\":\"0\",\"step\":0.1,\"title\":\"c exponent for trajectory no. 2\",\"value\":0.6,\"value_throttled\":0.6,\"visible\":false},\"id\":\"1199\",\"type\":\"Spinner\"},{\"attributes\":{\"high\":0.9,\"low\":0.1,\"margin\":[5,10,5,10],\"placeholder\":\"0\",\"step\":0.1,\"title\":\"c exponent for trajectory no. 3\",\"value\":0.6,\"value_throttled\":0.6,\"visible\":false},\"id\":\"1201\",\"type\":\"Spinner\"},{\"attributes\":{\"children\":[{\"id\":\"1198\"},{\"id\":\"1199\"}],\"margin\":[0,0,0,0],\"name\":\"Row00243\"},\"id\":\"1197\",\"type\":\"Row\"},{\"attributes\":{\"client_comm_id\":\"91dd1351c5e74bf8859abdc9c4f5b035\",\"comm_id\":\"957f4c0a0f634430a88093311c28dd74\",\"plot_id\":\"1196\"},\"id\":\"1203\",\"type\":\"panel.models.comm_manager.CommManager\"},{\"attributes\":{\"children\":[{\"id\":\"1197\"},{\"id\":\"1200\"}],\"margin\":[0,0,0,0],\"name\":\"Column00245\"},\"id\":\"1196\",\"type\":\"Column\"},{\"attributes\":{\"high\":0.9,\"low\":0.1,\"margin\":[5,10,5,10],\"placeholder\":\"0\",\"step\":0.1,\"title\":\"c exponent for trajectory no. 4\",\"value\":0.6,\"value_throttled\":0.6,\"visible\":false},\"id\":\"1202\",\"type\":\"Spinner\"},{\"attributes\":{\"high\":0.9,\"low\":0.1,\"margin\":[5,10,5,10],\"placeholder\":\"0\",\"step\":0.1,\"title\":\"c exponent\",\"value\":0.6,\"value_throttled\":0.6},\"id\":\"1198\",\"type\":\"Spinner\"},{\"attributes\":{\"children\":[{\"id\":\"1201\"},{\"id\":\"1202\"}],\"margin\":[0,0,0,0],\"name\":\"Row00244\"},\"id\":\"1200\",\"type\":\"Row\"}],\"root_ids\":[\"1196\",\"1203\"]},\"title\":\"Bokeh Application\",\"version\":\"2.4.3\"}};\n",
       "    var render_items = [{\"docid\":\"cf27ccfe-d5ef-4cb2-b141-0adf8750b5dd\",\"root_ids\":[\"1196\"],\"roots\":{\"1196\":\"320a258c-5f00-41cd-9901-65bace5f73d2\"}}];\n",
       "    root.Bokeh.embed.embed_items_notebook(docs_json, render_items);\n",
       "  }\n",
       "  if (root.Bokeh !== undefined && root.Bokeh.Panel !== undefined && ( root['Plotly'] !== undefined) && ( root['Plotly'] !== undefined)) {\n",
       "    embed_document(root);\n",
       "  } else {\n",
       "    var attempts = 0;\n",
       "    var timer = setInterval(function(root) {\n",
       "      if (root.Bokeh !== undefined && root.Bokeh.Panel !== undefined && (root['Plotly'] !== undefined) && (root['Plotly'] !== undefined)) {\n",
       "        clearInterval(timer);\n",
       "        embed_document(root);\n",
       "      } else if (document.readyState == \"complete\") {\n",
       "        attempts++;\n",
       "        if (attempts > 200) {\n",
       "          clearInterval(timer);\n",
       "          console.log(\"Bokeh: ERROR: Unable to run BokehJS code because BokehJS library is missing\");\n",
       "        }\n",
       "      }\n",
       "    }, 25, root)\n",
       "  }\n",
       "})(window);</script>"
      ],
      "text/plain": [
       "Column\n",
       "    [0] Row\n",
       "        [0] FloatInput(end=0.9, name='c exponent', start=0.1, value=0.6)\n",
       "        [1] FloatInput(end=0.9, name='c exponent for t..., start=0.1, value=0.6, visible=False)\n",
       "    [1] Row\n",
       "        [0] FloatInput(end=0.9, name='c exponent for t..., start=0.1, value=0.6, visible=False)\n",
       "        [1] FloatInput(end=0.9, name='c exponent for t..., start=0.1, value=0.6, visible=False)"
      ]
     },
     "execution_count": 74,
     "metadata": {
      "application/vnd.holoviews_exec.v0+json": {
       "id": "1196"
      }
     },
     "output_type": "execute_result"
    },
    {
     "name": "stdout",
     "output_type": "stream",
     "text": [
      "time: 79 ms (started: 2022-09-23 04:15:49 -05:00)\n"
     ]
    }
   ],
   "source": [
    "exponents"
   ]
  },
  {
   "cell_type": "code",
   "execution_count": 75,
   "id": "7a275cc0",
   "metadata": {},
   "outputs": [
    {
     "name": "stdout",
     "output_type": "stream",
     "text": [
      "time: 16 ms (started: 2022-09-23 04:15:49 -05:00)\n"
     ]
    }
   ],
   "source": [
    "CRW_controls = pn.Column('### CRW exponents',s_pos_controls,exponents, css_classes = ['hide_blocks'])"
   ]
  },
  {
   "cell_type": "markdown",
   "id": "859ad5f0",
   "metadata": {},
   "source": [
    "## Levy controls"
   ]
  },
  {
   "cell_type": "code",
   "execution_count": 122,
   "id": "1596812c",
   "metadata": {},
   "outputs": [
    {
     "name": "stdout",
     "output_type": "stream",
     "text": [
      "time: 16 ms (started: 2022-09-23 04:45:36 -05:00)\n"
     ]
    }
   ],
   "source": [
    "levy_alpha = pnw.FloatInput(name='alpha',value=1, step=0.1, start=0, end=2, css_classes = ['min_h_control'])\n",
    "levy_beta = pnw.FloatInput(name='beta',value=1, step=0.1, start=0, end=1, css_classes = ['min_h_control'])\n",
    "levy_loc = pnw.IntSlider(name='loc', value=3, step=1, start=0, end=10, css_classes = ['min_h_control'])"
   ]
  },
  {
   "cell_type": "code",
   "execution_count": 123,
   "id": "c0f700e2",
   "metadata": {},
   "outputs": [
    {
     "name": "stdout",
     "output_type": "stream",
     "text": [
      "time: 0 ns (started: 2022-09-23 04:45:43 -05:00)\n"
     ]
    }
   ],
   "source": [
    "Levy_controls = pn.Column(\n",
    "    '### Levy values',pn.Row(levy_alpha,levy_beta, levy_loc),\n",
    "css_classes = ['hide_blocks'])"
   ]
  },
  {
   "cell_type": "markdown",
   "id": "c764332f",
   "metadata": {},
   "source": [
    "## ALL"
   ]
  },
  {
   "cell_type": "code",
   "execution_count": 124,
   "id": "d8f7bdad",
   "metadata": {},
   "outputs": [
    {
     "name": "stdout",
     "output_type": "stream",
     "text": [
      "time: 0 ns (started: 2022-09-23 04:45:44 -05:00)\n"
     ]
    }
   ],
   "source": [
    "controls_layout = pn.Column(\n",
    "    traj_type,basic_controls,CRW_controls, Levy_controls, \n",
    "     background = 'WhiteSmoke',\n",
    "css_classes = ['controls_main'])"
   ]
  },
  {
   "cell_type": "code",
   "execution_count": 125,
   "id": "22259562",
   "metadata": {
    "scrolled": false
   },
   "outputs": [
    {
     "data": {},
     "metadata": {},
     "output_type": "display_data"
    },
    {
     "data": {
      "application/vnd.holoviews_exec.v0+json": "",
      "text/html": [
       "<div id='3290'>\n",
       "  <div class=\"bk-root\" id=\"fa5f445c-626f-4e9b-adb0-2005ab699533\" data-root-id=\"3290\"></div>\n",
       "</div>\n",
       "<script type=\"application/javascript\">(function(root) {\n",
       "  function embed_document(root) {\n",
       "    var docs_json = {\"0ed8e7d6-fdc3-4486-a266-4e476b1728a1\":{\"defs\":[{\"extends\":null,\"module\":null,\"name\":\"ReactiveHTML1\",\"overrides\":[],\"properties\":[]},{\"extends\":null,\"module\":null,\"name\":\"FlexBox1\",\"overrides\":[],\"properties\":[{\"default\":\"flex-start\",\"kind\":null,\"name\":\"align_content\"},{\"default\":\"flex-start\",\"kind\":null,\"name\":\"align_items\"},{\"default\":\"row\",\"kind\":null,\"name\":\"flex_direction\"},{\"default\":\"wrap\",\"kind\":null,\"name\":\"flex_wrap\"},{\"default\":\"flex-start\",\"kind\":null,\"name\":\"justify_content\"}]},{\"extends\":null,\"module\":null,\"name\":\"GridStack1\",\"overrides\":[],\"properties\":[{\"default\":\"warn\",\"kind\":null,\"name\":\"mode\"},{\"default\":null,\"kind\":null,\"name\":\"ncols\"},{\"default\":null,\"kind\":null,\"name\":\"nrows\"},{\"default\":true,\"kind\":null,\"name\":\"allow_resize\"},{\"default\":true,\"kind\":null,\"name\":\"allow_drag\"},{\"default\":[],\"kind\":null,\"name\":\"state\"}]},{\"extends\":null,\"module\":null,\"name\":\"click1\",\"overrides\":[],\"properties\":[{\"default\":\"\",\"kind\":null,\"name\":\"terminal_output\"},{\"default\":\"\",\"kind\":null,\"name\":\"debug_name\"},{\"default\":0,\"kind\":null,\"name\":\"clears\"}]},{\"extends\":null,\"module\":null,\"name\":\"NotificationAreaBase1\",\"overrides\":[],\"properties\":[{\"default\":\"bottom-right\",\"kind\":null,\"name\":\"position\"},{\"default\":0,\"kind\":null,\"name\":\"_clear\"}]},{\"extends\":null,\"module\":null,\"name\":\"NotificationArea1\",\"overrides\":[],\"properties\":[{\"default\":[],\"kind\":null,\"name\":\"notifications\"},{\"default\":\"bottom-right\",\"kind\":null,\"name\":\"position\"},{\"default\":0,\"kind\":null,\"name\":\"_clear\"},{\"default\":[{\"background\":\"#ffc107\",\"icon\":{\"className\":\"fas fa-exclamation-triangle\",\"color\":\"white\",\"tagName\":\"i\"},\"type\":\"warning\"},{\"background\":\"#007bff\",\"icon\":{\"className\":\"fas fa-info-circle\",\"color\":\"white\",\"tagName\":\"i\"},\"type\":\"info\"}],\"kind\":null,\"name\":\"types\"}]},{\"extends\":null,\"module\":null,\"name\":\"Notification\",\"overrides\":[],\"properties\":[{\"default\":null,\"kind\":null,\"name\":\"background\"},{\"default\":3000,\"kind\":null,\"name\":\"duration\"},{\"default\":null,\"kind\":null,\"name\":\"icon\"},{\"default\":\"\",\"kind\":null,\"name\":\"message\"},{\"default\":null,\"kind\":null,\"name\":\"notification_type\"},{\"default\":false,\"kind\":null,\"name\":\"_destroyed\"}]},{\"extends\":null,\"module\":null,\"name\":\"TemplateActions1\",\"overrides\":[],\"properties\":[{\"default\":0,\"kind\":null,\"name\":\"open_modal\"},{\"default\":0,\"kind\":null,\"name\":\"close_modal\"}]},{\"extends\":null,\"module\":null,\"name\":\"MaterialTemplateActions1\",\"overrides\":[],\"properties\":[{\"default\":0,\"kind\":null,\"name\":\"open_modal\"},{\"default\":0,\"kind\":null,\"name\":\"close_modal\"}]}],\"roots\":{\"references\":[{\"attributes\":{\"background\":\"WhiteSmoke\",\"children\":[{\"id\":\"3291\"},{\"id\":\"3292\"},{\"id\":\"3300\"},{\"id\":\"3312\"}],\"css_classes\":[\"controls_main\"],\"margin\":[0,0,0,0],\"name\":\"Column00374\"},\"id\":\"3290\",\"type\":\"Column\"},{\"attributes\":{\"high\":100,\"low\":-100,\"margin\":[5,10,5,10],\"mode\":\"int\",\"placeholder\":\"0\",\"title\":\"Y Starting position\",\"value\":0,\"value_throttled\":0},\"id\":\"3296\",\"type\":\"Spinner\"},{\"attributes\":{\"high\":100,\"low\":-100,\"margin\":[5,10,5,10],\"mode\":\"int\",\"placeholder\":\"0\",\"title\":\"X Starting position\",\"value\":0,\"value_throttled\":0},\"id\":\"3295\",\"type\":\"Spinner\"},{\"attributes\":{\"css_classes\":[\"min_h_control\"],\"high\":1,\"low\":0,\"margin\":[5,10,5,10],\"placeholder\":\"0\",\"step\":0.1,\"title\":\"beta\",\"value\":1,\"value_throttled\":1},\"id\":\"3316\",\"type\":\"Spinner\"},{\"attributes\":{\"css_classes\":[\"markdown\"],\"margin\":[5,5,5,5],\"name\":\"Markdown00238\",\"text\":\"&lt;h4&gt;Apply same exponent to all trajectories?&lt;/h4&gt;\"},\"id\":\"3303\",\"type\":\"panel.models.markup.HTML\"},{\"attributes\":{\"children\":[{\"id\":\"3301\"},{\"id\":\"3302\"},{\"id\":\"3305\"}],\"css_classes\":[\"hide_blocks\"],\"margin\":[0,0,0,0],\"name\":\"Column00250\",\"visible\":false},\"id\":\"3300\",\"type\":\"Column\"},{\"attributes\":{\"children\":[{\"id\":\"3306\"},{\"id\":\"3309\"}],\"margin\":[0,0,0,0],\"name\":\"Column00245\"},\"id\":\"3305\",\"type\":\"Column\"},{\"attributes\":{\"high\":0.9,\"low\":0.1,\"margin\":[5,10,5,10],\"placeholder\":\"0\",\"step\":0.1,\"title\":\"c exponent for trajectory no. 2\",\"value\":0.6,\"value_throttled\":0.6,\"visible\":false},\"id\":\"3308\",\"type\":\"Spinner\"},{\"attributes\":{\"high\":0.9,\"low\":0.1,\"margin\":[5,10,5,10],\"placeholder\":\"0\",\"step\":0.1,\"title\":\"c exponent\",\"value\":0.6,\"value_throttled\":0.6},\"id\":\"3307\",\"type\":\"Spinner\"},{\"attributes\":{\"high\":10,\"low\":1,\"margin\":[5,10,5,10],\"mode\":\"int\",\"placeholder\":\"0\",\"title\":\"Speed\",\"value\":6,\"value_throttled\":6},\"id\":\"3298\",\"type\":\"Spinner\"},{\"attributes\":{\"css_classes\":[\"markdown\"],\"margin\":[5,5,5,5],\"name\":\"Markdown00248\",\"text\":\"&lt;h3&gt;CRW exponents&lt;/h3&gt;\"},\"id\":\"3301\",\"type\":\"panel.models.markup.HTML\"},{\"attributes\":{\"children\":[{\"id\":\"3295\"},{\"id\":\"3296\"}],\"margin\":[0,0,0,0],\"name\":\"Row00228\"},\"id\":\"3294\",\"type\":\"Row\"},{\"attributes\":{\"children\":[{\"id\":\"3298\"},{\"id\":\"3299\"}],\"margin\":[0,0,0,0],\"name\":\"Row00229\"},\"id\":\"3297\",\"type\":\"Row\"},{\"attributes\":{\"children\":[{\"id\":\"3303\"},{\"id\":\"3304\"}],\"margin\":[0,0,0,0],\"name\":\"Column00240\"},\"id\":\"3302\",\"type\":\"Column\"},{\"attributes\":{\"css_classes\":[\"markdown\"],\"margin\":[5,5,5,5],\"name\":\"Markdown00371\",\"text\":\"&lt;h3&gt;Levy values&lt;/h3&gt;\"},\"id\":\"3313\",\"type\":\"panel.models.markup.HTML\"},{\"attributes\":{\"end\":4,\"margin\":[5,10,5,10],\"start\":1,\"title\":\"Numer of trajectories\",\"value\":1},\"id\":\"3293\",\"type\":\"Slider\"},{\"attributes\":{\"high\":0.9,\"low\":0.1,\"margin\":[5,10,5,10],\"placeholder\":\"0\",\"step\":0.1,\"title\":\"c exponent for trajectory no. 4\",\"value\":0.6,\"value_throttled\":0.6,\"visible\":false},\"id\":\"3311\",\"type\":\"Spinner\"},{\"attributes\":{\"client_comm_id\":\"8f3dd4033c42460d87d6ca1219c803bb\",\"comm_id\":\"e8bd69bc3221491ca765cf6bd766b11f\",\"plot_id\":\"3290\"},\"id\":\"3318\",\"type\":\"panel.models.comm_manager.CommManager\"},{\"attributes\":{\"children\":[{\"id\":\"3315\"},{\"id\":\"3316\"},{\"id\":\"3317\"}],\"margin\":[0,0,0,0],\"name\":\"Row00370\"},\"id\":\"3314\",\"type\":\"Row\"},{\"attributes\":{\"end\":100000,\"margin\":[5,10,5,10],\"start\":1000,\"step\":1000,\"title\":\"Numer of steps\",\"value\":1000},\"id\":\"3299\",\"type\":\"Slider\"},{\"attributes\":{\"children\":[{\"id\":\"3293\"},{\"id\":\"3294\"},{\"id\":\"3297\"}],\"margin\":[0,0,0,0],\"name\":\"Column00230\"},\"id\":\"3292\",\"type\":\"Column\"},{\"attributes\":{\"css_classes\":[\"min_h_control\"],\"high\":2,\"low\":0,\"margin\":[5,10,5,10],\"placeholder\":\"0\",\"step\":0.1,\"title\":\"alpha\",\"value\":1,\"value_throttled\":1},\"id\":\"3315\",\"type\":\"Spinner\"},{\"attributes\":{\"css_classes\":[\"min_h_control\"],\"end\":10,\"margin\":[5,10,5,10],\"start\":0,\"title\":\"loc\",\"value\":3},\"id\":\"3317\",\"type\":\"Slider\"},{\"attributes\":{\"active\":2,\"button_type\":\"primary\",\"labels\":[\"Brownian motion\",\"Correlated Random Walk\",\"Levy Flight\"],\"margin\":[5,10,5,10]},\"id\":\"3291\",\"type\":\"RadioButtonGroup\"},{\"attributes\":{\"children\":[{\"id\":\"3310\"},{\"id\":\"3311\"}],\"margin\":[0,0,0,0],\"name\":\"Row00244\"},\"id\":\"3309\",\"type\":\"Row\"},{\"attributes\":{\"children\":[{\"id\":\"3313\"},{\"id\":\"3314\"}],\"css_classes\":[\"hide_blocks\"],\"margin\":[0,0,0,0],\"name\":\"Column00373\"},\"id\":\"3312\",\"type\":\"Column\"},{\"attributes\":{\"children\":[{\"id\":\"3307\"},{\"id\":\"3308\"}],\"margin\":[0,0,0,0],\"name\":\"Row00243\"},\"id\":\"3306\",\"type\":\"Row\"},{\"attributes\":{\"active\":0,\"labels\":[\"YES\",\"NO\"],\"margin\":[5,10,5,10]},\"id\":\"3304\",\"type\":\"RadioButtonGroup\"},{\"attributes\":{\"high\":0.9,\"low\":0.1,\"margin\":[5,10,5,10],\"placeholder\":\"0\",\"step\":0.1,\"title\":\"c exponent for trajectory no. 3\",\"value\":0.6,\"value_throttled\":0.6,\"visible\":false},\"id\":\"3310\",\"type\":\"Spinner\"}],\"root_ids\":[\"3290\",\"3318\"]},\"title\":\"Bokeh Application\",\"version\":\"2.4.3\"}};\n",
       "    var render_items = [{\"docid\":\"0ed8e7d6-fdc3-4486-a266-4e476b1728a1\",\"root_ids\":[\"3290\"],\"roots\":{\"3290\":\"fa5f445c-626f-4e9b-adb0-2005ab699533\"}}];\n",
       "    root.Bokeh.embed.embed_items_notebook(docs_json, render_items);\n",
       "  }\n",
       "  if (root.Bokeh !== undefined && root.Bokeh.Panel !== undefined && ( root['Plotly'] !== undefined) && ( root['Plotly'] !== undefined)) {\n",
       "    embed_document(root);\n",
       "  } else {\n",
       "    var attempts = 0;\n",
       "    var timer = setInterval(function(root) {\n",
       "      if (root.Bokeh !== undefined && root.Bokeh.Panel !== undefined && (root['Plotly'] !== undefined) && (root['Plotly'] !== undefined)) {\n",
       "        clearInterval(timer);\n",
       "        embed_document(root);\n",
       "      } else if (document.readyState == \"complete\") {\n",
       "        attempts++;\n",
       "        if (attempts > 200) {\n",
       "          clearInterval(timer);\n",
       "          console.log(\"Bokeh: ERROR: Unable to run BokehJS code because BokehJS library is missing\");\n",
       "        }\n",
       "      }\n",
       "    }, 25, root)\n",
       "  }\n",
       "})(window);</script>"
      ],
      "text/plain": [
       "Column(background='WhiteSmoke', css_classes=['controls_main'])\n",
       "    [0] RadioButtonGroup(button_type='primary', name='Trajectory type', options=['Brownian motion', ...], value='Levy Flight')\n",
       "    [1] Column\n",
       "        [0] IntSlider(end=4, name='Numer of trajectories', start=1, value=1)\n",
       "        [1] Row\n",
       "            [0] IntInput(end=100, name='X Starting position', start=-100)\n",
       "            [1] IntInput(end=100, name='Y Starting position', start=-100)\n",
       "        [2] Row\n",
       "            [0] IntInput(end=10, name='Speed', start=1, value=6)\n",
       "            [1] IntSlider(end=100000, name='Numer of steps', start=1000, step=1000, value=1000)\n",
       "    [2] Column(css_classes=['hide_blocks'], visible=False)\n",
       "        [0] Markdown(str)\n",
       "        [1] Column\n",
       "            [0] Markdown(str)\n",
       "            [1] RadioButtonGroup(name='crwe_apply', options=['YES', 'NO'], value='YES')\n",
       "        [2] Column\n",
       "            [0] Row\n",
       "                [0] FloatInput(end=0.9, name='c exponent', start=0.1, value=0.6)\n",
       "                [1] FloatInput(end=0.9, name='c exponent for t..., start=0.1, value=0.6, visible=False)\n",
       "            [1] Row\n",
       "                [0] FloatInput(end=0.9, name='c exponent for t..., start=0.1, value=0.6, visible=False)\n",
       "                [1] FloatInput(end=0.9, name='c exponent for t..., start=0.1, value=0.6, visible=False)\n",
       "    [3] Column(css_classes=['hide_blocks'])\n",
       "        [0] Markdown(str)\n",
       "        [1] Row\n",
       "            [0] FloatInput(css_classes=['min_h_control'], end=2, name='alpha', start=0, value=1)\n",
       "            [1] FloatInput(css_classes=['min_h_control'], end=1, name='beta', start=0, value=1)\n",
       "            [2] IntSlider(css_classes=['min_h_control'], end=10, name='loc', value=3)"
      ]
     },
     "execution_count": 125,
     "metadata": {
      "application/vnd.holoviews_exec.v0+json": {
       "id": "3290"
      }
     },
     "output_type": "execute_result"
    },
    {
     "name": "stdout",
     "output_type": "stream",
     "text": [
      "time: 218 ms (started: 2022-09-23 04:45:44 -05:00)\n"
     ]
    }
   ],
   "source": [
    "controls_layout"
   ]
  },
  {
   "cell_type": "code",
   "execution_count": 112,
   "id": "5e35991c",
   "metadata": {},
   "outputs": [
    {
     "name": "stdout",
     "output_type": "stream",
     "text": [
      "time: 0 ns (started: 2022-09-23 04:40:14 -05:00)\n"
     ]
    }
   ],
   "source": [
    "@pn.depends(traj_type)\n",
    "def display_Radio_Button(traj_type):\n",
    "    if traj_type == \"Correlated Random Walk\":\n",
    "        #CRW_controls.css_classes = ['show_blocks']\n",
    "        #Levy_controls.css_classes = ['hide_blocks']\n",
    "        CRW_controls.visible = True \n",
    "        Levy_controls.visible = False \n",
    "\n",
    "    else:\n",
    "        if traj_type == \"Levy Flight\":\n",
    "            #CRW_controls.css_classes = ['hide_blocks']\n",
    "            #Levy_controls.css_classes = ['show_blocks']\n",
    "            CRW_controls.visible = False \n",
    "            Levy_controls.visible = True \n",
    "\n",
    "        else:\n",
    "            #CRW_controls.css_classes = ['hide_blocks']\n",
    "            #Levy_controls.css_classes = ['hide_blocks']\n",
    "            CRW_controls.visible = False \n",
    "            Levy_controls.visible = False \n"
   ]
  },
  {
   "cell_type": "code",
   "execution_count": 113,
   "id": "cd60ab8e",
   "metadata": {
    "scrolled": false
   },
   "outputs": [
    {
     "data": {},
     "metadata": {},
     "output_type": "display_data"
    },
    {
     "data": {
      "application/vnd.holoviews_exec.v0+json": "",
      "text/html": [
       "<div id='2733'>\n",
       "  <div class=\"bk-root\" id=\"3a3be00b-b34f-4b84-8f3f-91de0a21f523\" data-root-id=\"2733\"></div>\n",
       "</div>\n",
       "<script type=\"application/javascript\">(function(root) {\n",
       "  function embed_document(root) {\n",
       "    var docs_json = {\"b747208b-bd39-4c99-a5ad-870f1a50c405\":{\"defs\":[{\"extends\":null,\"module\":null,\"name\":\"ReactiveHTML1\",\"overrides\":[],\"properties\":[]},{\"extends\":null,\"module\":null,\"name\":\"FlexBox1\",\"overrides\":[],\"properties\":[{\"default\":\"flex-start\",\"kind\":null,\"name\":\"align_content\"},{\"default\":\"flex-start\",\"kind\":null,\"name\":\"align_items\"},{\"default\":\"row\",\"kind\":null,\"name\":\"flex_direction\"},{\"default\":\"wrap\",\"kind\":null,\"name\":\"flex_wrap\"},{\"default\":\"flex-start\",\"kind\":null,\"name\":\"justify_content\"}]},{\"extends\":null,\"module\":null,\"name\":\"GridStack1\",\"overrides\":[],\"properties\":[{\"default\":\"warn\",\"kind\":null,\"name\":\"mode\"},{\"default\":null,\"kind\":null,\"name\":\"ncols\"},{\"default\":null,\"kind\":null,\"name\":\"nrows\"},{\"default\":true,\"kind\":null,\"name\":\"allow_resize\"},{\"default\":true,\"kind\":null,\"name\":\"allow_drag\"},{\"default\":[],\"kind\":null,\"name\":\"state\"}]},{\"extends\":null,\"module\":null,\"name\":\"click1\",\"overrides\":[],\"properties\":[{\"default\":\"\",\"kind\":null,\"name\":\"terminal_output\"},{\"default\":\"\",\"kind\":null,\"name\":\"debug_name\"},{\"default\":0,\"kind\":null,\"name\":\"clears\"}]},{\"extends\":null,\"module\":null,\"name\":\"NotificationAreaBase1\",\"overrides\":[],\"properties\":[{\"default\":\"bottom-right\",\"kind\":null,\"name\":\"position\"},{\"default\":0,\"kind\":null,\"name\":\"_clear\"}]},{\"extends\":null,\"module\":null,\"name\":\"NotificationArea1\",\"overrides\":[],\"properties\":[{\"default\":[],\"kind\":null,\"name\":\"notifications\"},{\"default\":\"bottom-right\",\"kind\":null,\"name\":\"position\"},{\"default\":0,\"kind\":null,\"name\":\"_clear\"},{\"default\":[{\"background\":\"#ffc107\",\"icon\":{\"className\":\"fas fa-exclamation-triangle\",\"color\":\"white\",\"tagName\":\"i\"},\"type\":\"warning\"},{\"background\":\"#007bff\",\"icon\":{\"className\":\"fas fa-info-circle\",\"color\":\"white\",\"tagName\":\"i\"},\"type\":\"info\"}],\"kind\":null,\"name\":\"types\"}]},{\"extends\":null,\"module\":null,\"name\":\"Notification\",\"overrides\":[],\"properties\":[{\"default\":null,\"kind\":null,\"name\":\"background\"},{\"default\":3000,\"kind\":null,\"name\":\"duration\"},{\"default\":null,\"kind\":null,\"name\":\"icon\"},{\"default\":\"\",\"kind\":null,\"name\":\"message\"},{\"default\":null,\"kind\":null,\"name\":\"notification_type\"},{\"default\":false,\"kind\":null,\"name\":\"_destroyed\"}]},{\"extends\":null,\"module\":null,\"name\":\"TemplateActions1\",\"overrides\":[],\"properties\":[{\"default\":0,\"kind\":null,\"name\":\"open_modal\"},{\"default\":0,\"kind\":null,\"name\":\"close_modal\"}]},{\"extends\":null,\"module\":null,\"name\":\"MaterialTemplateActions1\",\"overrides\":[],\"properties\":[{\"default\":0,\"kind\":null,\"name\":\"open_modal\"},{\"default\":0,\"kind\":null,\"name\":\"close_modal\"}]}],\"roots\":{\"references\":[{\"attributes\":{\"children\":[{\"id\":\"2735\"}],\"margin\":[0,0,0,0],\"name\":\"Row00345\"},\"id\":\"2734\",\"type\":\"Row\"},{\"attributes\":{\"client_comm_id\":\"60bfd2cc0d75422bb612c2f1791d57e0\",\"comm_id\":\"0807d7909ec94e869d73737e46f41ceb\",\"plot_id\":\"2733\"},\"id\":\"2736\",\"type\":\"panel.models.comm_manager.CommManager\"},{\"attributes\":{\"margin\":[5,5,5,5],\"name\":\"Str00343\",\"text\":\"&lt;pre&gt; &lt;/pre&gt;\"},\"id\":\"2735\",\"type\":\"panel.models.markup.HTML\"},{\"attributes\":{\"children\":[{\"id\":\"2734\"}],\"margin\":[0,0,0,0],\"name\":\"Row00346\"},\"id\":\"2733\",\"type\":\"Row\"}],\"root_ids\":[\"2733\",\"2736\"]},\"title\":\"Bokeh Application\",\"version\":\"2.4.3\"}};\n",
       "    var render_items = [{\"docid\":\"b747208b-bd39-4c99-a5ad-870f1a50c405\",\"root_ids\":[\"2733\"],\"roots\":{\"2733\":\"3a3be00b-b34f-4b84-8f3f-91de0a21f523\"}}];\n",
       "    root.Bokeh.embed.embed_items_notebook(docs_json, render_items);\n",
       "  }\n",
       "  if (root.Bokeh !== undefined && root.Bokeh.Panel !== undefined && ( root['Plotly'] !== undefined) && ( root['Plotly'] !== undefined)) {\n",
       "    embed_document(root);\n",
       "  } else {\n",
       "    var attempts = 0;\n",
       "    var timer = setInterval(function(root) {\n",
       "      if (root.Bokeh !== undefined && root.Bokeh.Panel !== undefined && (root['Plotly'] !== undefined) && (root['Plotly'] !== undefined)) {\n",
       "        clearInterval(timer);\n",
       "        embed_document(root);\n",
       "      } else if (document.readyState == \"complete\") {\n",
       "        attempts++;\n",
       "        if (attempts > 200) {\n",
       "          clearInterval(timer);\n",
       "          console.log(\"Bokeh: ERROR: Unable to run BokehJS code because BokehJS library is missing\");\n",
       "        }\n",
       "      }\n",
       "    }, 25, root)\n",
       "  }\n",
       "})(window);</script>"
      ],
      "text/plain": [
       "Row\n",
       "    [0] ParamFunction(function)"
      ]
     },
     "execution_count": 113,
     "metadata": {
      "application/vnd.holoviews_exec.v0+json": {
       "id": "2733"
      }
     },
     "output_type": "execute_result"
    },
    {
     "name": "stdout",
     "output_type": "stream",
     "text": [
      "time: 32 ms (started: 2022-09-23 04:40:15 -05:00)\n"
     ]
    }
   ],
   "source": [
    "pn.Row(display_Radio_Button)"
   ]
  },
  {
   "cell_type": "code",
   "execution_count": 114,
   "id": "db658e46",
   "metadata": {},
   "outputs": [
    {
     "name": "stdout",
     "output_type": "stream",
     "text": [
      "time: 16 ms (started: 2022-09-23 04:40:17 -05:00)\n"
     ]
    }
   ],
   "source": [
    "plots = pn.Row('# Trajectory', \"# Metrcis\")"
   ]
  },
  {
   "cell_type": "code",
   "execution_count": 95,
   "id": "690300e0",
   "metadata": {},
   "outputs": [
    {
     "data": {},
     "metadata": {},
     "output_type": "display_data"
    },
    {
     "data": {
      "application/vnd.holoviews_exec.v0+json": "",
      "text/html": [
       "<div id='1686'>\n",
       "  <div class=\"bk-root\" id=\"8bf044b4-bb46-4af2-8adb-0c550adae336\" data-root-id=\"1686\"></div>\n",
       "</div>\n",
       "<script type=\"application/javascript\">(function(root) {\n",
       "  function embed_document(root) {\n",
       "    var docs_json = {\"80a18178-c503-406f-818c-2a35330bdbaa\":{\"defs\":[{\"extends\":null,\"module\":null,\"name\":\"ReactiveHTML1\",\"overrides\":[],\"properties\":[]},{\"extends\":null,\"module\":null,\"name\":\"FlexBox1\",\"overrides\":[],\"properties\":[{\"default\":\"flex-start\",\"kind\":null,\"name\":\"align_content\"},{\"default\":\"flex-start\",\"kind\":null,\"name\":\"align_items\"},{\"default\":\"row\",\"kind\":null,\"name\":\"flex_direction\"},{\"default\":\"wrap\",\"kind\":null,\"name\":\"flex_wrap\"},{\"default\":\"flex-start\",\"kind\":null,\"name\":\"justify_content\"}]},{\"extends\":null,\"module\":null,\"name\":\"GridStack1\",\"overrides\":[],\"properties\":[{\"default\":\"warn\",\"kind\":null,\"name\":\"mode\"},{\"default\":null,\"kind\":null,\"name\":\"ncols\"},{\"default\":null,\"kind\":null,\"name\":\"nrows\"},{\"default\":true,\"kind\":null,\"name\":\"allow_resize\"},{\"default\":true,\"kind\":null,\"name\":\"allow_drag\"},{\"default\":[],\"kind\":null,\"name\":\"state\"}]},{\"extends\":null,\"module\":null,\"name\":\"click1\",\"overrides\":[],\"properties\":[{\"default\":\"\",\"kind\":null,\"name\":\"terminal_output\"},{\"default\":\"\",\"kind\":null,\"name\":\"debug_name\"},{\"default\":0,\"kind\":null,\"name\":\"clears\"}]},{\"extends\":null,\"module\":null,\"name\":\"NotificationAreaBase1\",\"overrides\":[],\"properties\":[{\"default\":\"bottom-right\",\"kind\":null,\"name\":\"position\"},{\"default\":0,\"kind\":null,\"name\":\"_clear\"}]},{\"extends\":null,\"module\":null,\"name\":\"NotificationArea1\",\"overrides\":[],\"properties\":[{\"default\":[],\"kind\":null,\"name\":\"notifications\"},{\"default\":\"bottom-right\",\"kind\":null,\"name\":\"position\"},{\"default\":0,\"kind\":null,\"name\":\"_clear\"},{\"default\":[{\"background\":\"#ffc107\",\"icon\":{\"className\":\"fas fa-exclamation-triangle\",\"color\":\"white\",\"tagName\":\"i\"},\"type\":\"warning\"},{\"background\":\"#007bff\",\"icon\":{\"className\":\"fas fa-info-circle\",\"color\":\"white\",\"tagName\":\"i\"},\"type\":\"info\"}],\"kind\":null,\"name\":\"types\"}]},{\"extends\":null,\"module\":null,\"name\":\"Notification\",\"overrides\":[],\"properties\":[{\"default\":null,\"kind\":null,\"name\":\"background\"},{\"default\":3000,\"kind\":null,\"name\":\"duration\"},{\"default\":null,\"kind\":null,\"name\":\"icon\"},{\"default\":\"\",\"kind\":null,\"name\":\"message\"},{\"default\":null,\"kind\":null,\"name\":\"notification_type\"},{\"default\":false,\"kind\":null,\"name\":\"_destroyed\"}]},{\"extends\":null,\"module\":null,\"name\":\"TemplateActions1\",\"overrides\":[],\"properties\":[{\"default\":0,\"kind\":null,\"name\":\"open_modal\"},{\"default\":0,\"kind\":null,\"name\":\"close_modal\"}]},{\"extends\":null,\"module\":null,\"name\":\"MaterialTemplateActions1\",\"overrides\":[],\"properties\":[{\"default\":0,\"kind\":null,\"name\":\"open_modal\"},{\"default\":0,\"kind\":null,\"name\":\"close_modal\"}]}],\"roots\":{\"references\":[{\"attributes\":{\"css_classes\":[\"markdown\"],\"margin\":[5,5,5,5],\"name\":\"Markdown00248\",\"text\":\"&lt;h3&gt;CRW exponents&lt;/h3&gt;\"},\"id\":\"1698\",\"type\":\"panel.models.markup.HTML\"},{\"attributes\":{\"background\":\"WhiteSmoke\",\"children\":[{\"id\":\"1688\"},{\"id\":\"1689\"},{\"id\":\"1697\"},{\"id\":\"1709\"}],\"css_classes\":[\"controls_main\"],\"margin\":[0,0,0,0],\"name\":\"Column00279\"},\"id\":\"1687\",\"type\":\"Column\"},{\"attributes\":{\"children\":[{\"id\":\"1707\"},{\"id\":\"1708\"}],\"margin\":[0,0,0,0],\"name\":\"Row00244\"},\"id\":\"1706\",\"type\":\"Row\"},{\"attributes\":{\"high\":10,\"low\":1,\"margin\":[5,10,5,10],\"mode\":\"int\",\"placeholder\":\"0\",\"title\":\"Speed\",\"value\":6,\"value_throttled\":6},\"id\":\"1695\",\"type\":\"Spinner\"},{\"attributes\":{\"high\":0.9,\"low\":0.1,\"margin\":[5,10,5,10],\"placeholder\":\"0\",\"step\":0.1,\"title\":\"c exponent for trajectory no. 3\",\"value\":0.6,\"value_throttled\":0.6,\"visible\":false},\"id\":\"1707\",\"type\":\"Spinner\"},{\"attributes\":{\"css_classes\":[\"markdown\"],\"margin\":[5,5,5,5],\"name\":\"Markdown00309\",\"text\":\"&lt;h1&gt;Metrcis&lt;/h1&gt;\"},\"id\":\"1717\",\"type\":\"panel.models.markup.HTML\"},{\"attributes\":{\"children\":[{\"id\":\"1712\"},{\"id\":\"1713\"}],\"margin\":[0,0,0,0],\"name\":\"Row00254\"},\"id\":\"1711\",\"type\":\"Row\"},{\"attributes\":{\"children\":[{\"id\":\"1704\"},{\"id\":\"1705\"}],\"margin\":[0,0,0,0],\"name\":\"Row00243\"},\"id\":\"1703\",\"type\":\"Row\"},{\"attributes\":{\"high\":0.9,\"low\":0.1,\"margin\":[5,10,5,10],\"placeholder\":\"0\",\"step\":0.1,\"title\":\"c exponent for trajectory no. 4\",\"value\":0.6,\"value_throttled\":0.6,\"visible\":false},\"id\":\"1708\",\"type\":\"Spinner\"},{\"attributes\":{\"high\":0.9,\"low\":0.1,\"margin\":[5,10,5,10],\"placeholder\":\"0\",\"step\":0.1,\"title\":\"c exponent for trajectory no. 2\",\"value\":0.6,\"value_throttled\":0.6,\"visible\":false},\"id\":\"1705\",\"type\":\"Spinner\"},{\"attributes\":{\"children\":[{\"id\":\"1716\"},{\"id\":\"1717\"}],\"margin\":[0,0,0,0],\"name\":\"Row00311\"},\"id\":\"1715\",\"type\":\"Row\"},{\"attributes\":{\"high\":2,\"low\":0,\"margin\":[5,10,5,10],\"placeholder\":\"0\",\"step\":0.1,\"title\":\"alpha\",\"value\":1,\"value_throttled\":1},\"id\":\"1712\",\"type\":\"Spinner\"},{\"attributes\":{\"background\":\"WhiteSmoke\",\"children\":[{\"id\":\"1710\"},{\"id\":\"1711\"},{\"id\":\"1714\"}],\"css_classes\":[\"hide_blocks\"],\"margin\":[0,0,0,0],\"name\":\"Column00257\",\"visible\":false},\"id\":\"1709\",\"type\":\"Column\"},{\"attributes\":{\"client_comm_id\":\"37fcb76c3ca6443d9c981679347ac0c6\",\"comm_id\":\"806da7f288124058aaebf99081925124\",\"plot_id\":\"1686\"},\"id\":\"1718\",\"type\":\"panel.models.comm_manager.CommManager\"},{\"attributes\":{\"high\":100,\"low\":-100,\"margin\":[5,10,5,10],\"mode\":\"int\",\"placeholder\":\"0\",\"title\":\"X Starting position\",\"value\":0,\"value_throttled\":0},\"id\":\"1692\",\"type\":\"Spinner\"},{\"attributes\":{\"children\":[{\"id\":\"1695\"},{\"id\":\"1696\"}],\"margin\":[0,0,0,0],\"name\":\"Row00229\"},\"id\":\"1694\",\"type\":\"Row\"},{\"attributes\":{\"css_classes\":[\"markdown\"],\"margin\":[5,5,5,5],\"name\":\"Markdown00255\",\"text\":\"&lt;h3&gt;Levy values&lt;/h3&gt;\"},\"id\":\"1710\",\"type\":\"panel.models.markup.HTML\"},{\"attributes\":{\"end\":100000,\"margin\":[5,10,5,10],\"start\":1000,\"step\":1000,\"title\":\"Numer of steps\",\"value\":1000},\"id\":\"1696\",\"type\":\"Slider\"},{\"attributes\":{\"active\":0,\"labels\":[\"YES\",\"NO\"],\"margin\":[5,10,5,10]},\"id\":\"1701\",\"type\":\"RadioButtonGroup\"},{\"attributes\":{\"css_classes\":[\"markdown\"],\"margin\":[5,5,5,5],\"name\":\"Markdown00307\",\"text\":\"&lt;h1&gt;Trajectory&lt;/h1&gt;\"},\"id\":\"1716\",\"type\":\"panel.models.markup.HTML\"},{\"attributes\":{\"high\":1,\"low\":0,\"margin\":[5,10,5,10],\"placeholder\":\"0\",\"step\":0.1,\"title\":\"beta\",\"value\":1,\"value_throttled\":1},\"id\":\"1713\",\"type\":\"Spinner\"},{\"attributes\":{\"children\":[{\"id\":\"1690\"},{\"id\":\"1691\"},{\"id\":\"1694\"}],\"margin\":[0,0,0,0],\"name\":\"Column00230\"},\"id\":\"1689\",\"type\":\"Column\"},{\"attributes\":{\"active\":0,\"button_type\":\"primary\",\"labels\":[\"Brownian motion\",\"Correlated Random Walk\",\"Levy Flight\"],\"margin\":[5,10,5,10]},\"id\":\"1688\",\"type\":\"RadioButtonGroup\"},{\"attributes\":{\"children\":[{\"id\":\"1692\"},{\"id\":\"1693\"}],\"margin\":[0,0,0,0],\"name\":\"Row00228\"},\"id\":\"1691\",\"type\":\"Row\"},{\"attributes\":{\"css_classes\":[\"markdown\"],\"margin\":[5,5,5,5],\"name\":\"Markdown00238\",\"text\":\"&lt;h4&gt;Apply same exponent to all trajectories?&lt;/h4&gt;\"},\"id\":\"1700\",\"type\":\"panel.models.markup.HTML\"},{\"attributes\":{\"end\":4,\"margin\":[5,10,5,10],\"start\":1,\"title\":\"Numer of trajectories\",\"value\":1},\"id\":\"1690\",\"type\":\"Slider\"},{\"attributes\":{\"children\":[{\"id\":\"1700\"},{\"id\":\"1701\"}],\"margin\":[0,0,0,0],\"name\":\"Column00240\"},\"id\":\"1699\",\"type\":\"Column\"},{\"attributes\":{\"children\":[{\"id\":\"1687\"},{\"id\":\"1715\"}],\"margin\":[0,0,0,0],\"name\":\"Row00312\"},\"id\":\"1686\",\"type\":\"Row\"},{\"attributes\":{\"end\":10,\"margin\":[5,10,5,10],\"start\":0,\"title\":\"loc\",\"value\":3},\"id\":\"1714\",\"type\":\"Slider\"},{\"attributes\":{\"high\":100,\"low\":-100,\"margin\":[5,10,5,10],\"mode\":\"int\",\"placeholder\":\"0\",\"title\":\"Y Starting position\",\"value\":0,\"value_throttled\":0},\"id\":\"1693\",\"type\":\"Spinner\"},{\"attributes\":{\"children\":[{\"id\":\"1698\"},{\"id\":\"1699\"},{\"id\":\"1702\"}],\"css_classes\":[\"hide_blocks\"],\"margin\":[0,0,0,0],\"name\":\"Column00250\",\"visible\":false},\"id\":\"1697\",\"type\":\"Column\"},{\"attributes\":{\"high\":0.9,\"low\":0.1,\"margin\":[5,10,5,10],\"placeholder\":\"0\",\"step\":0.1,\"title\":\"c exponent\",\"value\":0.6,\"value_throttled\":0.6},\"id\":\"1704\",\"type\":\"Spinner\"},{\"attributes\":{\"children\":[{\"id\":\"1703\"},{\"id\":\"1706\"}],\"margin\":[0,0,0,0],\"name\":\"Column00245\"},\"id\":\"1702\",\"type\":\"Column\"}],\"root_ids\":[\"1686\",\"1718\"]},\"title\":\"Bokeh Application\",\"version\":\"2.4.3\"}};\n",
       "    var render_items = [{\"docid\":\"80a18178-c503-406f-818c-2a35330bdbaa\",\"root_ids\":[\"1686\"],\"roots\":{\"1686\":\"8bf044b4-bb46-4af2-8adb-0c550adae336\"}}];\n",
       "    root.Bokeh.embed.embed_items_notebook(docs_json, render_items);\n",
       "  }\n",
       "  if (root.Bokeh !== undefined && root.Bokeh.Panel !== undefined && ( root['Plotly'] !== undefined) && ( root['Plotly'] !== undefined)) {\n",
       "    embed_document(root);\n",
       "  } else {\n",
       "    var attempts = 0;\n",
       "    var timer = setInterval(function(root) {\n",
       "      if (root.Bokeh !== undefined && root.Bokeh.Panel !== undefined && (root['Plotly'] !== undefined) && (root['Plotly'] !== undefined)) {\n",
       "        clearInterval(timer);\n",
       "        embed_document(root);\n",
       "      } else if (document.readyState == \"complete\") {\n",
       "        attempts++;\n",
       "        if (attempts > 200) {\n",
       "          clearInterval(timer);\n",
       "          console.log(\"Bokeh: ERROR: Unable to run BokehJS code because BokehJS library is missing\");\n",
       "        }\n",
       "      }\n",
       "    }, 25, root)\n",
       "  }\n",
       "})(window);</script>"
      ],
      "text/plain": [
       "Row\n",
       "    [0] Column(background='WhiteSmoke', css_classes=['controls_main'])\n",
       "        [0] RadioButtonGroup(button_type='primary', name='Trajectory type', options=['Brownian motion', ...], value='Brownian motion')\n",
       "        [1] Column\n",
       "            [0] IntSlider(end=4, name='Numer of trajectories', start=1, value=1)\n",
       "            [1] Row\n",
       "                [0] IntInput(end=100, name='X Starting position', start=-100)\n",
       "                [1] IntInput(end=100, name='Y Starting position', start=-100)\n",
       "            [2] Row\n",
       "                [0] IntInput(end=10, name='Speed', start=1, value=6)\n",
       "                [1] IntSlider(end=100000, name='Numer of steps', start=1000, step=1000, value=1000)\n",
       "        [2] Column(css_classes=['hide_blocks'], visible=False)\n",
       "            [0] Markdown(str)\n",
       "            [1] Column\n",
       "                [0] Markdown(str)\n",
       "                [1] RadioButtonGroup(name='crwe_apply', options=['YES', 'NO'], value='YES')\n",
       "            [2] Column\n",
       "                [0] Row\n",
       "                    [0] FloatInput(end=0.9, name='c exponent', start=0.1, value=0.6)\n",
       "                    [1] FloatInput(end=0.9, name='c exponent for t..., start=0.1, value=0.6, visible=False)\n",
       "                [1] Row\n",
       "                    [0] FloatInput(end=0.9, name='c exponent for t..., start=0.1, value=0.6, visible=False)\n",
       "                    [1] FloatInput(end=0.9, name='c exponent for t..., start=0.1, value=0.6, visible=False)\n",
       "        [3] Column(background='WhiteSmoke', css_classes=['hide_blocks'], visible=False)\n",
       "            [0] Markdown(str)\n",
       "            [1] Row\n",
       "                [0] FloatInput(end=2, name='alpha', start=0, value=1)\n",
       "                [1] FloatInput(end=1, name='beta', start=0, value=1)\n",
       "            [2] IntSlider(end=10, name='loc', value=3)\n",
       "    [1] Row\n",
       "        [0] Markdown(str)\n",
       "        [1] Markdown(str)"
      ]
     },
     "execution_count": 95,
     "metadata": {
      "application/vnd.holoviews_exec.v0+json": {
       "id": "1686"
      }
     },
     "output_type": "execute_result"
    },
    {
     "name": "stdout",
     "output_type": "stream",
     "text": [
      "time: 219 ms (started: 2022-09-23 04:22:27 -05:00)\n"
     ]
    }
   ],
   "source": [
    "pn.Row(controls_layout, plots)"
   ]
  },
  {
   "cell_type": "code",
   "execution_count": null,
   "id": "e08797db",
   "metadata": {},
   "outputs": [],
   "source": []
  },
  {
   "cell_type": "code",
   "execution_count": null,
   "id": "f0f57c9f",
   "metadata": {},
   "outputs": [],
   "source": []
  }
 ],
 "metadata": {
  "kernelspec": {
   "display_name": "tti_venv",
   "language": "python",
   "name": "tti_venv"
  },
  "language_info": {
   "codemirror_mode": {
    "name": "ipython",
    "version": 3
   },
   "file_extension": ".py",
   "mimetype": "text/x-python",
   "name": "python",
   "nbconvert_exporter": "python",
   "pygments_lexer": "ipython3",
   "version": "3.10.6"
  }
 },
 "nbformat": 4,
 "nbformat_minor": 5
}
