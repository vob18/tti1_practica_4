{
 "cells": [
  {
   "cell_type": "code",
   "execution_count": 1,
   "id": "79e1eee6",
   "metadata": {},
   "outputs": [
    {
     "name": "stdout",
     "output_type": "stream",
     "text": [
      "time: 0 ns (started: 2022-09-24 03:50:55 -05:00)\n"
     ]
    }
   ],
   "source": [
    "%load_ext autotime"
   ]
  },
  {
   "cell_type": "markdown",
   "id": "4aeb8fa0",
   "metadata": {},
   "source": [
    "# MODULES"
   ]
  },
  {
   "cell_type": "code",
   "execution_count": 2,
   "id": "adec8a3c",
   "metadata": {},
   "outputs": [
    {
     "data": {
      "application/javascript": [
       "(function(root) {\n",
       "  function now() {\n",
       "    return new Date();\n",
       "  }\n",
       "\n",
       "  var force = true;\n",
       "\n",
       "  if (typeof root._bokeh_onload_callbacks === \"undefined\" || force === true) {\n",
       "    root._bokeh_onload_callbacks = [];\n",
       "    root._bokeh_is_loading = undefined;\n",
       "  }\n",
       "\n",
       "  if (typeof (root._bokeh_timeout) === \"undefined\" || force === true) {\n",
       "    root._bokeh_timeout = Date.now() + 5000;\n",
       "    root._bokeh_failed_load = false;\n",
       "  }\n",
       "\n",
       "  function run_callbacks() {\n",
       "    try {\n",
       "      root._bokeh_onload_callbacks.forEach(function(callback) {\n",
       "        if (callback != null)\n",
       "          callback();\n",
       "      });\n",
       "    } finally {\n",
       "      delete root._bokeh_onload_callbacks\n",
       "    }\n",
       "    console.debug(\"Bokeh: all callbacks have finished\");\n",
       "  }\n",
       "\n",
       "  function load_libs(css_urls, js_urls, js_modules, callback) {\n",
       "    if (css_urls == null) css_urls = [];\n",
       "    if (js_urls == null) js_urls = [];\n",
       "    if (js_modules == null) js_modules = [];\n",
       "\n",
       "    root._bokeh_onload_callbacks.push(callback);\n",
       "    if (root._bokeh_is_loading > 0) {\n",
       "      console.debug(\"Bokeh: BokehJS is being loaded, scheduling callback at\", now());\n",
       "      return null;\n",
       "    }\n",
       "    if (js_urls.length === 0 && js_modules.length === 0) {\n",
       "      run_callbacks();\n",
       "      return null;\n",
       "    }\n",
       "    console.debug(\"Bokeh: BokehJS not loaded, scheduling load and callback at\", now());\n",
       "\n",
       "    function on_load() {\n",
       "      root._bokeh_is_loading--;\n",
       "      if (root._bokeh_is_loading === 0) {\n",
       "        console.debug(\"Bokeh: all BokehJS libraries/stylesheets loaded\");\n",
       "        run_callbacks()\n",
       "      }\n",
       "    }\n",
       "\n",
       "    function on_error() {\n",
       "      console.error(\"failed to load \" + url);\n",
       "    }\n",
       "\n",
       "    for (var i = 0; i < css_urls.length; i++) {\n",
       "      var url = css_urls[i];\n",
       "      const element = document.createElement(\"link\");\n",
       "      element.onload = on_load;\n",
       "      element.onerror = on_error;\n",
       "      element.rel = \"stylesheet\";\n",
       "      element.type = \"text/css\";\n",
       "      element.href = url;\n",
       "      console.debug(\"Bokeh: injecting link tag for BokehJS stylesheet: \", url);\n",
       "      document.body.appendChild(element);\n",
       "    }\n",
       "\n",
       "    var skip = [];\n",
       "    if (window.requirejs) {\n",
       "      window.requirejs.config({'packages': {}, 'paths': {'plotly': 'https://cdn.plot.ly/plotly-2.10.1.min', 'gridstack': 'https://cdn.jsdelivr.net/npm/gridstack@4.2.5/dist/gridstack-h5', 'notyf': 'https://cdn.jsdelivr.net/npm/notyf@3/notyf.min'}, 'shim': {'gridstack': {'exports': 'GridStack'}}});\n",
       "      require([\"plotly\"], function(Plotly) {\n",
       "\twindow.Plotly = Plotly\n",
       "\ton_load()\n",
       "      })\n",
       "      require([\"gridstack\"], function(GridStack) {\n",
       "\twindow.GridStack = GridStack\n",
       "\ton_load()\n",
       "      })\n",
       "      require([\"notyf\"], function() {\n",
       "\ton_load()\n",
       "      })\n",
       "      root._bokeh_is_loading = css_urls.length + 3;\n",
       "    } else {\n",
       "      root._bokeh_is_loading = css_urls.length + js_urls.length + js_modules.length;\n",
       "    }    if (((window['Plotly'] !== undefined) && (!(window['Plotly'] instanceof HTMLElement))) || window.requirejs) {\n",
       "      var urls = ['https://cdn.plot.ly/plotly-2.10.1.min.js'];\n",
       "      for (var i = 0; i < urls.length; i++) {\n",
       "        skip.push(urls[i])\n",
       "      }\n",
       "    }    if (((window['GridStack'] !== undefined) && (!(window['GridStack'] instanceof HTMLElement))) || window.requirejs) {\n",
       "      var urls = ['https://cdn.jsdelivr.net/npm/gridstack@4.2.5/dist/gridstack-h5.js'];\n",
       "      for (var i = 0; i < urls.length; i++) {\n",
       "        skip.push(urls[i])\n",
       "      }\n",
       "    }    if (((window['Notyf'] !== undefined) && (!(window['Notyf'] instanceof HTMLElement))) || window.requirejs) {\n",
       "      var urls = ['https://cdn.jsdelivr.net/npm/notyf@3/notyf.min.js'];\n",
       "      for (var i = 0; i < urls.length; i++) {\n",
       "        skip.push(urls[i])\n",
       "      }\n",
       "    }    for (var i = 0; i < js_urls.length; i++) {\n",
       "      var url = js_urls[i];\n",
       "      if (skip.indexOf(url) >= 0) {\n",
       "\tif (!window.requirejs) {\n",
       "\t  on_load();\n",
       "\t}\n",
       "\tcontinue;\n",
       "      }\n",
       "      var element = document.createElement('script');\n",
       "      element.onload = on_load;\n",
       "      element.onerror = on_error;\n",
       "      element.async = false;\n",
       "      element.src = url;\n",
       "      console.debug(\"Bokeh: injecting script tag for BokehJS library: \", url);\n",
       "      document.head.appendChild(element);\n",
       "    }\n",
       "    for (var i = 0; i < js_modules.length; i++) {\n",
       "      var url = js_modules[i];\n",
       "      if (skip.indexOf(url) >= 0) {\n",
       "\tif (!window.requirejs) {\n",
       "\t  on_load();\n",
       "\t}\n",
       "\tcontinue;\n",
       "      }\n",
       "      var element = document.createElement('script');\n",
       "      element.onload = on_load;\n",
       "      element.onerror = on_error;\n",
       "      element.async = false;\n",
       "      element.src = url;\n",
       "      element.type = \"module\";\n",
       "      console.debug(\"Bokeh: injecting script tag for BokehJS library: \", url);\n",
       "      document.head.appendChild(element);\n",
       "    }\n",
       "    if (!js_urls.length && !js_modules.length) {\n",
       "      on_load()\n",
       "    }\n",
       "  };\n",
       "\n",
       "  function inject_raw_css(css) {\n",
       "    const element = document.createElement(\"style\");\n",
       "    element.appendChild(document.createTextNode(css));\n",
       "    document.body.appendChild(element);\n",
       "  }\n",
       "\n",
       "  var js_urls = [\"https://cdn.jsdelivr.net/npm/jquery@3.5.1/dist/jquery.slim.min.js\", \"https://cdn.plot.ly/plotly-2.10.1.min.js\", \"https://cdn.bokeh.org/bokeh/release/bokeh-2.4.3.min.js\", \"https://cdn.bokeh.org/bokeh/release/bokeh-gl-2.4.3.min.js\", \"https://cdn.bokeh.org/bokeh/release/bokeh-widgets-2.4.3.min.js\", \"https://cdn.bokeh.org/bokeh/release/bokeh-tables-2.4.3.min.js\", \"https://cdn.bokeh.org/bokeh/release/bokeh-mathjax-2.4.3.min.js\", \"https://cdn.jsdelivr.net/npm/notyf@3/notyf.min.js\", \"https://unpkg.com/@holoviz/panel@0.13.1/dist/panel.min.js\"];\n",
       "  var js_modules = [];\n",
       "  var css_urls = [\"https://cdn.jsdelivr.net/npm/notyf@3/notyf.min.css\", \"https://cdnjs.cloudflare.com/ajax/libs/font-awesome/5.15.1/css/all.min.css\", \"https://unpkg.com/@holoviz/panel@0.13.1/dist/css/alerts.css\", \"https://unpkg.com/@holoviz/panel@0.13.1/dist/css/card.css\", \"https://unpkg.com/@holoviz/panel@0.13.1/dist/css/dataframe.css\", \"https://unpkg.com/@holoviz/panel@0.13.1/dist/css/debugger.css\", \"https://unpkg.com/@holoviz/panel@0.13.1/dist/css/json.css\", \"https://unpkg.com/@holoviz/panel@0.13.1/dist/css/loading.css\", \"https://unpkg.com/@holoviz/panel@0.13.1/dist/css/markdown.css\", \"https://unpkg.com/@holoviz/panel@0.13.1/dist/css/widgets.css\"];\n",
       "  var inline_js = [    function(Bokeh) {\n",
       "      inject_raw_css(\"\\n    .bk.pn-loading.arcs:before {\\n      background-image: url(\\\"data:image/svg+xml;base64,PHN2ZyB4bWxucz0iaHR0cDovL3d3dy53My5vcmcvMjAwMC9zdmciIHhtbG5zOnhsaW5rPSJodHRwOi8vd3d3LnczLm9yZy8xOTk5L3hsaW5rIiBzdHlsZT0ibWFyZ2luOiBhdXRvOyBiYWNrZ3JvdW5kOiBub25lOyBkaXNwbGF5OiBibG9jazsgc2hhcGUtcmVuZGVyaW5nOiBhdXRvOyIgdmlld0JveD0iMCAwIDEwMCAxMDAiIHByZXNlcnZlQXNwZWN0UmF0aW89InhNaWRZTWlkIj4gIDxjaXJjbGUgY3g9IjUwIiBjeT0iNTAiIHI9IjMyIiBzdHJva2Utd2lkdGg9IjgiIHN0cm9rZT0iI2MzYzNjMyIgc3Ryb2tlLWRhc2hhcnJheT0iNTAuMjY1NDgyNDU3NDM2NjkgNTAuMjY1NDgyNDU3NDM2NjkiIGZpbGw9Im5vbmUiIHN0cm9rZS1saW5lY2FwPSJyb3VuZCI+ICAgIDxhbmltYXRlVHJhbnNmb3JtIGF0dHJpYnV0ZU5hbWU9InRyYW5zZm9ybSIgdHlwZT0icm90YXRlIiByZXBlYXRDb3VudD0iaW5kZWZpbml0ZSIgZHVyPSIxcyIga2V5VGltZXM9IjA7MSIgdmFsdWVzPSIwIDUwIDUwOzM2MCA1MCA1MCI+PC9hbmltYXRlVHJhbnNmb3JtPiAgPC9jaXJjbGU+PC9zdmc+\\\");\\n      background-size: auto calc(min(50%, 400px));\\n    }\\n    \");\n",
       "    },    function(Bokeh) {\n",
       "      Bokeh.set_log_level(\"info\");\n",
       "    },\n",
       "function(Bokeh) {} // ensure no trailing comma for IE\n",
       "  ];\n",
       "\n",
       "  function run_inline_js() {\n",
       "    if ((root.Bokeh !== undefined) || (force === true)) {\n",
       "      for (var i = 0; i < inline_js.length; i++) {\n",
       "        inline_js[i].call(root, root.Bokeh);\n",
       "      }} else if (Date.now() < root._bokeh_timeout) {\n",
       "      setTimeout(run_inline_js, 100);\n",
       "    } else if (!root._bokeh_failed_load) {\n",
       "      console.log(\"Bokeh: BokehJS failed to load within specified timeout.\");\n",
       "      root._bokeh_failed_load = true;\n",
       "    }\n",
       "  }\n",
       "\n",
       "  if (root._bokeh_is_loading === 0) {\n",
       "    console.debug(\"Bokeh: BokehJS loaded, going straight to plotting\");\n",
       "    run_inline_js();\n",
       "  } else {\n",
       "    load_libs(css_urls, js_urls, js_modules, function() {\n",
       "      console.debug(\"Bokeh: BokehJS plotting callback run at\", now());\n",
       "      run_inline_js();\n",
       "    });\n",
       "  }\n",
       "}(window));"
      ],
      "application/vnd.holoviews_load.v0+json": "(function(root) {\n  function now() {\n    return new Date();\n  }\n\n  var force = true;\n\n  if (typeof root._bokeh_onload_callbacks === \"undefined\" || force === true) {\n    root._bokeh_onload_callbacks = [];\n    root._bokeh_is_loading = undefined;\n  }\n\n  if (typeof (root._bokeh_timeout) === \"undefined\" || force === true) {\n    root._bokeh_timeout = Date.now() + 5000;\n    root._bokeh_failed_load = false;\n  }\n\n  function run_callbacks() {\n    try {\n      root._bokeh_onload_callbacks.forEach(function(callback) {\n        if (callback != null)\n          callback();\n      });\n    } finally {\n      delete root._bokeh_onload_callbacks\n    }\n    console.debug(\"Bokeh: all callbacks have finished\");\n  }\n\n  function load_libs(css_urls, js_urls, js_modules, callback) {\n    if (css_urls == null) css_urls = [];\n    if (js_urls == null) js_urls = [];\n    if (js_modules == null) js_modules = [];\n\n    root._bokeh_onload_callbacks.push(callback);\n    if (root._bokeh_is_loading > 0) {\n      console.debug(\"Bokeh: BokehJS is being loaded, scheduling callback at\", now());\n      return null;\n    }\n    if (js_urls.length === 0 && js_modules.length === 0) {\n      run_callbacks();\n      return null;\n    }\n    console.debug(\"Bokeh: BokehJS not loaded, scheduling load and callback at\", now());\n\n    function on_load() {\n      root._bokeh_is_loading--;\n      if (root._bokeh_is_loading === 0) {\n        console.debug(\"Bokeh: all BokehJS libraries/stylesheets loaded\");\n        run_callbacks()\n      }\n    }\n\n    function on_error() {\n      console.error(\"failed to load \" + url);\n    }\n\n    for (var i = 0; i < css_urls.length; i++) {\n      var url = css_urls[i];\n      const element = document.createElement(\"link\");\n      element.onload = on_load;\n      element.onerror = on_error;\n      element.rel = \"stylesheet\";\n      element.type = \"text/css\";\n      element.href = url;\n      console.debug(\"Bokeh: injecting link tag for BokehJS stylesheet: \", url);\n      document.body.appendChild(element);\n    }\n\n    var skip = [];\n    if (window.requirejs) {\n      window.requirejs.config({'packages': {}, 'paths': {'plotly': 'https://cdn.plot.ly/plotly-2.10.1.min', 'gridstack': 'https://cdn.jsdelivr.net/npm/gridstack@4.2.5/dist/gridstack-h5', 'notyf': 'https://cdn.jsdelivr.net/npm/notyf@3/notyf.min'}, 'shim': {'gridstack': {'exports': 'GridStack'}}});\n      require([\"plotly\"], function(Plotly) {\n\twindow.Plotly = Plotly\n\ton_load()\n      })\n      require([\"gridstack\"], function(GridStack) {\n\twindow.GridStack = GridStack\n\ton_load()\n      })\n      require([\"notyf\"], function() {\n\ton_load()\n      })\n      root._bokeh_is_loading = css_urls.length + 3;\n    } else {\n      root._bokeh_is_loading = css_urls.length + js_urls.length + js_modules.length;\n    }    if (((window['Plotly'] !== undefined) && (!(window['Plotly'] instanceof HTMLElement))) || window.requirejs) {\n      var urls = ['https://cdn.plot.ly/plotly-2.10.1.min.js'];\n      for (var i = 0; i < urls.length; i++) {\n        skip.push(urls[i])\n      }\n    }    if (((window['GridStack'] !== undefined) && (!(window['GridStack'] instanceof HTMLElement))) || window.requirejs) {\n      var urls = ['https://cdn.jsdelivr.net/npm/gridstack@4.2.5/dist/gridstack-h5.js'];\n      for (var i = 0; i < urls.length; i++) {\n        skip.push(urls[i])\n      }\n    }    if (((window['Notyf'] !== undefined) && (!(window['Notyf'] instanceof HTMLElement))) || window.requirejs) {\n      var urls = ['https://cdn.jsdelivr.net/npm/notyf@3/notyf.min.js'];\n      for (var i = 0; i < urls.length; i++) {\n        skip.push(urls[i])\n      }\n    }    for (var i = 0; i < js_urls.length; i++) {\n      var url = js_urls[i];\n      if (skip.indexOf(url) >= 0) {\n\tif (!window.requirejs) {\n\t  on_load();\n\t}\n\tcontinue;\n      }\n      var element = document.createElement('script');\n      element.onload = on_load;\n      element.onerror = on_error;\n      element.async = false;\n      element.src = url;\n      console.debug(\"Bokeh: injecting script tag for BokehJS library: \", url);\n      document.head.appendChild(element);\n    }\n    for (var i = 0; i < js_modules.length; i++) {\n      var url = js_modules[i];\n      if (skip.indexOf(url) >= 0) {\n\tif (!window.requirejs) {\n\t  on_load();\n\t}\n\tcontinue;\n      }\n      var element = document.createElement('script');\n      element.onload = on_load;\n      element.onerror = on_error;\n      element.async = false;\n      element.src = url;\n      element.type = \"module\";\n      console.debug(\"Bokeh: injecting script tag for BokehJS library: \", url);\n      document.head.appendChild(element);\n    }\n    if (!js_urls.length && !js_modules.length) {\n      on_load()\n    }\n  };\n\n  function inject_raw_css(css) {\n    const element = document.createElement(\"style\");\n    element.appendChild(document.createTextNode(css));\n    document.body.appendChild(element);\n  }\n\n  var js_urls = [\"https://cdn.jsdelivr.net/npm/jquery@3.5.1/dist/jquery.slim.min.js\", \"https://cdn.plot.ly/plotly-2.10.1.min.js\", \"https://cdn.bokeh.org/bokeh/release/bokeh-2.4.3.min.js\", \"https://cdn.bokeh.org/bokeh/release/bokeh-gl-2.4.3.min.js\", \"https://cdn.bokeh.org/bokeh/release/bokeh-widgets-2.4.3.min.js\", \"https://cdn.bokeh.org/bokeh/release/bokeh-tables-2.4.3.min.js\", \"https://cdn.bokeh.org/bokeh/release/bokeh-mathjax-2.4.3.min.js\", \"https://cdn.jsdelivr.net/npm/notyf@3/notyf.min.js\", \"https://unpkg.com/@holoviz/panel@0.13.1/dist/panel.min.js\"];\n  var js_modules = [];\n  var css_urls = [\"https://cdn.jsdelivr.net/npm/notyf@3/notyf.min.css\", \"https://cdnjs.cloudflare.com/ajax/libs/font-awesome/5.15.1/css/all.min.css\", \"https://unpkg.com/@holoviz/panel@0.13.1/dist/css/alerts.css\", \"https://unpkg.com/@holoviz/panel@0.13.1/dist/css/card.css\", \"https://unpkg.com/@holoviz/panel@0.13.1/dist/css/dataframe.css\", \"https://unpkg.com/@holoviz/panel@0.13.1/dist/css/debugger.css\", \"https://unpkg.com/@holoviz/panel@0.13.1/dist/css/json.css\", \"https://unpkg.com/@holoviz/panel@0.13.1/dist/css/loading.css\", \"https://unpkg.com/@holoviz/panel@0.13.1/dist/css/markdown.css\", \"https://unpkg.com/@holoviz/panel@0.13.1/dist/css/widgets.css\"];\n  var inline_js = [    function(Bokeh) {\n      inject_raw_css(\"\\n    .bk.pn-loading.arcs:before {\\n      background-image: url(\\\"data:image/svg+xml;base64,PHN2ZyB4bWxucz0iaHR0cDovL3d3dy53My5vcmcvMjAwMC9zdmciIHhtbG5zOnhsaW5rPSJodHRwOi8vd3d3LnczLm9yZy8xOTk5L3hsaW5rIiBzdHlsZT0ibWFyZ2luOiBhdXRvOyBiYWNrZ3JvdW5kOiBub25lOyBkaXNwbGF5OiBibG9jazsgc2hhcGUtcmVuZGVyaW5nOiBhdXRvOyIgdmlld0JveD0iMCAwIDEwMCAxMDAiIHByZXNlcnZlQXNwZWN0UmF0aW89InhNaWRZTWlkIj4gIDxjaXJjbGUgY3g9IjUwIiBjeT0iNTAiIHI9IjMyIiBzdHJva2Utd2lkdGg9IjgiIHN0cm9rZT0iI2MzYzNjMyIgc3Ryb2tlLWRhc2hhcnJheT0iNTAuMjY1NDgyNDU3NDM2NjkgNTAuMjY1NDgyNDU3NDM2NjkiIGZpbGw9Im5vbmUiIHN0cm9rZS1saW5lY2FwPSJyb3VuZCI+ICAgIDxhbmltYXRlVHJhbnNmb3JtIGF0dHJpYnV0ZU5hbWU9InRyYW5zZm9ybSIgdHlwZT0icm90YXRlIiByZXBlYXRDb3VudD0iaW5kZWZpbml0ZSIgZHVyPSIxcyIga2V5VGltZXM9IjA7MSIgdmFsdWVzPSIwIDUwIDUwOzM2MCA1MCA1MCI+PC9hbmltYXRlVHJhbnNmb3JtPiAgPC9jaXJjbGU+PC9zdmc+\\\");\\n      background-size: auto calc(min(50%, 400px));\\n    }\\n    \");\n    },    function(Bokeh) {\n      Bokeh.set_log_level(\"info\");\n    },\nfunction(Bokeh) {} // ensure no trailing comma for IE\n  ];\n\n  function run_inline_js() {\n    if ((root.Bokeh !== undefined) || (force === true)) {\n      for (var i = 0; i < inline_js.length; i++) {\n        inline_js[i].call(root, root.Bokeh);\n      }} else if (Date.now() < root._bokeh_timeout) {\n      setTimeout(run_inline_js, 100);\n    } else if (!root._bokeh_failed_load) {\n      console.log(\"Bokeh: BokehJS failed to load within specified timeout.\");\n      root._bokeh_failed_load = true;\n    }\n  }\n\n  if (root._bokeh_is_loading === 0) {\n    console.debug(\"Bokeh: BokehJS loaded, going straight to plotting\");\n    run_inline_js();\n  } else {\n    load_libs(css_urls, js_urls, js_modules, function() {\n      console.debug(\"Bokeh: BokehJS plotting callback run at\", now());\n      run_inline_js();\n    });\n  }\n}(window));"
     },
     "metadata": {},
     "output_type": "display_data"
    },
    {
     "data": {
      "application/javascript": [
       "\n",
       "if ((window.PyViz === undefined) || (window.PyViz instanceof HTMLElement)) {\n",
       "  window.PyViz = {comms: {}, comm_status:{}, kernels:{}, receivers: {}, plot_index: []}\n",
       "}\n",
       "\n",
       "\n",
       "    function JupyterCommManager() {\n",
       "    }\n",
       "\n",
       "    JupyterCommManager.prototype.register_target = function(plot_id, comm_id, msg_handler) {\n",
       "      if (window.comm_manager || ((window.Jupyter !== undefined) && (Jupyter.notebook.kernel != null))) {\n",
       "        var comm_manager = window.comm_manager || Jupyter.notebook.kernel.comm_manager;\n",
       "        comm_manager.register_target(comm_id, function(comm) {\n",
       "          comm.on_msg(msg_handler);\n",
       "        });\n",
       "      } else if ((plot_id in window.PyViz.kernels) && (window.PyViz.kernels[plot_id])) {\n",
       "        window.PyViz.kernels[plot_id].registerCommTarget(comm_id, function(comm) {\n",
       "          comm.onMsg = msg_handler;\n",
       "        });\n",
       "      } else if (typeof google != 'undefined' && google.colab.kernel != null) {\n",
       "        google.colab.kernel.comms.registerTarget(comm_id, (comm) => {\n",
       "          var messages = comm.messages[Symbol.asyncIterator]();\n",
       "          function processIteratorResult(result) {\n",
       "            var message = result.value;\n",
       "            console.log(message)\n",
       "            var content = {data: message.data, comm_id};\n",
       "            var buffers = []\n",
       "            for (var buffer of message.buffers || []) {\n",
       "              buffers.push(new DataView(buffer))\n",
       "            }\n",
       "            var metadata = message.metadata || {};\n",
       "            var msg = {content, buffers, metadata}\n",
       "            msg_handler(msg);\n",
       "            return messages.next().then(processIteratorResult);\n",
       "          }\n",
       "          return messages.next().then(processIteratorResult);\n",
       "        })\n",
       "      }\n",
       "    }\n",
       "\n",
       "    JupyterCommManager.prototype.get_client_comm = function(plot_id, comm_id, msg_handler) {\n",
       "      if (comm_id in window.PyViz.comms) {\n",
       "        return window.PyViz.comms[comm_id];\n",
       "      } else if (window.comm_manager || ((window.Jupyter !== undefined) && (Jupyter.notebook.kernel != null))) {\n",
       "        var comm_manager = window.comm_manager || Jupyter.notebook.kernel.comm_manager;\n",
       "        var comm = comm_manager.new_comm(comm_id, {}, {}, {}, comm_id);\n",
       "        if (msg_handler) {\n",
       "          comm.on_msg(msg_handler);\n",
       "        }\n",
       "      } else if ((plot_id in window.PyViz.kernels) && (window.PyViz.kernels[plot_id])) {\n",
       "        var comm = window.PyViz.kernels[plot_id].connectToComm(comm_id);\n",
       "        comm.open();\n",
       "        if (msg_handler) {\n",
       "          comm.onMsg = msg_handler;\n",
       "        }\n",
       "      } else if (typeof google != 'undefined' && google.colab.kernel != null) {\n",
       "        var comm_promise = google.colab.kernel.comms.open(comm_id)\n",
       "        comm_promise.then((comm) => {\n",
       "          window.PyViz.comms[comm_id] = comm;\n",
       "          if (msg_handler) {\n",
       "            var messages = comm.messages[Symbol.asyncIterator]();\n",
       "            function processIteratorResult(result) {\n",
       "              var message = result.value;\n",
       "              var content = {data: message.data};\n",
       "              var metadata = message.metadata || {comm_id};\n",
       "              var msg = {content, metadata}\n",
       "              msg_handler(msg);\n",
       "              return messages.next().then(processIteratorResult);\n",
       "            }\n",
       "            return messages.next().then(processIteratorResult);\n",
       "          }\n",
       "        }) \n",
       "        var sendClosure = (data, metadata, buffers, disposeOnDone) => {\n",
       "          return comm_promise.then((comm) => {\n",
       "            comm.send(data, metadata, buffers, disposeOnDone);\n",
       "          });\n",
       "        };\n",
       "        var comm = {\n",
       "          send: sendClosure\n",
       "        };\n",
       "      }\n",
       "      window.PyViz.comms[comm_id] = comm;\n",
       "      return comm;\n",
       "    }\n",
       "    window.PyViz.comm_manager = new JupyterCommManager();\n",
       "    \n",
       "\n",
       "\n",
       "var JS_MIME_TYPE = 'application/javascript';\n",
       "var HTML_MIME_TYPE = 'text/html';\n",
       "var EXEC_MIME_TYPE = 'application/vnd.holoviews_exec.v0+json';\n",
       "var CLASS_NAME = 'output';\n",
       "\n",
       "/**\n",
       " * Render data to the DOM node\n",
       " */\n",
       "function render(props, node) {\n",
       "  var div = document.createElement(\"div\");\n",
       "  var script = document.createElement(\"script\");\n",
       "  node.appendChild(div);\n",
       "  node.appendChild(script);\n",
       "}\n",
       "\n",
       "/**\n",
       " * Handle when a new output is added\n",
       " */\n",
       "function handle_add_output(event, handle) {\n",
       "  var output_area = handle.output_area;\n",
       "  var output = handle.output;\n",
       "  if ((output.data == undefined) || (!output.data.hasOwnProperty(EXEC_MIME_TYPE))) {\n",
       "    return\n",
       "  }\n",
       "  var id = output.metadata[EXEC_MIME_TYPE][\"id\"];\n",
       "  var toinsert = output_area.element.find(\".\" + CLASS_NAME.split(' ')[0]);\n",
       "  if (id !== undefined) {\n",
       "    var nchildren = toinsert.length;\n",
       "    var html_node = toinsert[nchildren-1].children[0];\n",
       "    html_node.innerHTML = output.data[HTML_MIME_TYPE];\n",
       "    var scripts = [];\n",
       "    var nodelist = html_node.querySelectorAll(\"script\");\n",
       "    for (var i in nodelist) {\n",
       "      if (nodelist.hasOwnProperty(i)) {\n",
       "        scripts.push(nodelist[i])\n",
       "      }\n",
       "    }\n",
       "\n",
       "    scripts.forEach( function (oldScript) {\n",
       "      var newScript = document.createElement(\"script\");\n",
       "      var attrs = [];\n",
       "      var nodemap = oldScript.attributes;\n",
       "      for (var j in nodemap) {\n",
       "        if (nodemap.hasOwnProperty(j)) {\n",
       "          attrs.push(nodemap[j])\n",
       "        }\n",
       "      }\n",
       "      attrs.forEach(function(attr) { newScript.setAttribute(attr.name, attr.value) });\n",
       "      newScript.appendChild(document.createTextNode(oldScript.innerHTML));\n",
       "      oldScript.parentNode.replaceChild(newScript, oldScript);\n",
       "    });\n",
       "    if (JS_MIME_TYPE in output.data) {\n",
       "      toinsert[nchildren-1].children[1].textContent = output.data[JS_MIME_TYPE];\n",
       "    }\n",
       "    output_area._hv_plot_id = id;\n",
       "    if ((window.Bokeh !== undefined) && (id in Bokeh.index)) {\n",
       "      window.PyViz.plot_index[id] = Bokeh.index[id];\n",
       "    } else {\n",
       "      window.PyViz.plot_index[id] = null;\n",
       "    }\n",
       "  } else if (output.metadata[EXEC_MIME_TYPE][\"server_id\"] !== undefined) {\n",
       "    var bk_div = document.createElement(\"div\");\n",
       "    bk_div.innerHTML = output.data[HTML_MIME_TYPE];\n",
       "    var script_attrs = bk_div.children[0].attributes;\n",
       "    for (var i = 0; i < script_attrs.length; i++) {\n",
       "      toinsert[toinsert.length - 1].childNodes[1].setAttribute(script_attrs[i].name, script_attrs[i].value);\n",
       "    }\n",
       "    // store reference to server id on output_area\n",
       "    output_area._bokeh_server_id = output.metadata[EXEC_MIME_TYPE][\"server_id\"];\n",
       "  }\n",
       "}\n",
       "\n",
       "/**\n",
       " * Handle when an output is cleared or removed\n",
       " */\n",
       "function handle_clear_output(event, handle) {\n",
       "  var id = handle.cell.output_area._hv_plot_id;\n",
       "  var server_id = handle.cell.output_area._bokeh_server_id;\n",
       "  if (((id === undefined) || !(id in PyViz.plot_index)) && (server_id !== undefined)) { return; }\n",
       "  var comm = window.PyViz.comm_manager.get_client_comm(\"hv-extension-comm\", \"hv-extension-comm\", function () {});\n",
       "  if (server_id !== null) {\n",
       "    comm.send({event_type: 'server_delete', 'id': server_id});\n",
       "    return;\n",
       "  } else if (comm !== null) {\n",
       "    comm.send({event_type: 'delete', 'id': id});\n",
       "  }\n",
       "  delete PyViz.plot_index[id];\n",
       "  if ((window.Bokeh !== undefined) & (id in window.Bokeh.index)) {\n",
       "    var doc = window.Bokeh.index[id].model.document\n",
       "    doc.clear();\n",
       "    const i = window.Bokeh.documents.indexOf(doc);\n",
       "    if (i > -1) {\n",
       "      window.Bokeh.documents.splice(i, 1);\n",
       "    }\n",
       "  }\n",
       "}\n",
       "\n",
       "/**\n",
       " * Handle kernel restart event\n",
       " */\n",
       "function handle_kernel_cleanup(event, handle) {\n",
       "  delete PyViz.comms[\"hv-extension-comm\"];\n",
       "  window.PyViz.plot_index = {}\n",
       "}\n",
       "\n",
       "/**\n",
       " * Handle update_display_data messages\n",
       " */\n",
       "function handle_update_output(event, handle) {\n",
       "  handle_clear_output(event, {cell: {output_area: handle.output_area}})\n",
       "  handle_add_output(event, handle)\n",
       "}\n",
       "\n",
       "function register_renderer(events, OutputArea) {\n",
       "  function append_mime(data, metadata, element) {\n",
       "    // create a DOM node to render to\n",
       "    var toinsert = this.create_output_subarea(\n",
       "    metadata,\n",
       "    CLASS_NAME,\n",
       "    EXEC_MIME_TYPE\n",
       "    );\n",
       "    this.keyboard_manager.register_events(toinsert);\n",
       "    // Render to node\n",
       "    var props = {data: data, metadata: metadata[EXEC_MIME_TYPE]};\n",
       "    render(props, toinsert[0]);\n",
       "    element.append(toinsert);\n",
       "    return toinsert\n",
       "  }\n",
       "\n",
       "  events.on('output_added.OutputArea', handle_add_output);\n",
       "  events.on('output_updated.OutputArea', handle_update_output);\n",
       "  events.on('clear_output.CodeCell', handle_clear_output);\n",
       "  events.on('delete.Cell', handle_clear_output);\n",
       "  events.on('kernel_ready.Kernel', handle_kernel_cleanup);\n",
       "\n",
       "  OutputArea.prototype.register_mime_type(EXEC_MIME_TYPE, append_mime, {\n",
       "    safe: true,\n",
       "    index: 0\n",
       "  });\n",
       "}\n",
       "\n",
       "if (window.Jupyter !== undefined) {\n",
       "  try {\n",
       "    var events = require('base/js/events');\n",
       "    var OutputArea = require('notebook/js/outputarea').OutputArea;\n",
       "    if (OutputArea.prototype.mime_types().indexOf(EXEC_MIME_TYPE) == -1) {\n",
       "      register_renderer(events, OutputArea);\n",
       "    }\n",
       "  } catch(err) {\n",
       "  }\n",
       "}\n"
      ],
      "application/vnd.holoviews_load.v0+json": "\nif ((window.PyViz === undefined) || (window.PyViz instanceof HTMLElement)) {\n  window.PyViz = {comms: {}, comm_status:{}, kernels:{}, receivers: {}, plot_index: []}\n}\n\n\n    function JupyterCommManager() {\n    }\n\n    JupyterCommManager.prototype.register_target = function(plot_id, comm_id, msg_handler) {\n      if (window.comm_manager || ((window.Jupyter !== undefined) && (Jupyter.notebook.kernel != null))) {\n        var comm_manager = window.comm_manager || Jupyter.notebook.kernel.comm_manager;\n        comm_manager.register_target(comm_id, function(comm) {\n          comm.on_msg(msg_handler);\n        });\n      } else if ((plot_id in window.PyViz.kernels) && (window.PyViz.kernels[plot_id])) {\n        window.PyViz.kernels[plot_id].registerCommTarget(comm_id, function(comm) {\n          comm.onMsg = msg_handler;\n        });\n      } else if (typeof google != 'undefined' && google.colab.kernel != null) {\n        google.colab.kernel.comms.registerTarget(comm_id, (comm) => {\n          var messages = comm.messages[Symbol.asyncIterator]();\n          function processIteratorResult(result) {\n            var message = result.value;\n            console.log(message)\n            var content = {data: message.data, comm_id};\n            var buffers = []\n            for (var buffer of message.buffers || []) {\n              buffers.push(new DataView(buffer))\n            }\n            var metadata = message.metadata || {};\n            var msg = {content, buffers, metadata}\n            msg_handler(msg);\n            return messages.next().then(processIteratorResult);\n          }\n          return messages.next().then(processIteratorResult);\n        })\n      }\n    }\n\n    JupyterCommManager.prototype.get_client_comm = function(plot_id, comm_id, msg_handler) {\n      if (comm_id in window.PyViz.comms) {\n        return window.PyViz.comms[comm_id];\n      } else if (window.comm_manager || ((window.Jupyter !== undefined) && (Jupyter.notebook.kernel != null))) {\n        var comm_manager = window.comm_manager || Jupyter.notebook.kernel.comm_manager;\n        var comm = comm_manager.new_comm(comm_id, {}, {}, {}, comm_id);\n        if (msg_handler) {\n          comm.on_msg(msg_handler);\n        }\n      } else if ((plot_id in window.PyViz.kernels) && (window.PyViz.kernels[plot_id])) {\n        var comm = window.PyViz.kernels[plot_id].connectToComm(comm_id);\n        comm.open();\n        if (msg_handler) {\n          comm.onMsg = msg_handler;\n        }\n      } else if (typeof google != 'undefined' && google.colab.kernel != null) {\n        var comm_promise = google.colab.kernel.comms.open(comm_id)\n        comm_promise.then((comm) => {\n          window.PyViz.comms[comm_id] = comm;\n          if (msg_handler) {\n            var messages = comm.messages[Symbol.asyncIterator]();\n            function processIteratorResult(result) {\n              var message = result.value;\n              var content = {data: message.data};\n              var metadata = message.metadata || {comm_id};\n              var msg = {content, metadata}\n              msg_handler(msg);\n              return messages.next().then(processIteratorResult);\n            }\n            return messages.next().then(processIteratorResult);\n          }\n        }) \n        var sendClosure = (data, metadata, buffers, disposeOnDone) => {\n          return comm_promise.then((comm) => {\n            comm.send(data, metadata, buffers, disposeOnDone);\n          });\n        };\n        var comm = {\n          send: sendClosure\n        };\n      }\n      window.PyViz.comms[comm_id] = comm;\n      return comm;\n    }\n    window.PyViz.comm_manager = new JupyterCommManager();\n    \n\n\nvar JS_MIME_TYPE = 'application/javascript';\nvar HTML_MIME_TYPE = 'text/html';\nvar EXEC_MIME_TYPE = 'application/vnd.holoviews_exec.v0+json';\nvar CLASS_NAME = 'output';\n\n/**\n * Render data to the DOM node\n */\nfunction render(props, node) {\n  var div = document.createElement(\"div\");\n  var script = document.createElement(\"script\");\n  node.appendChild(div);\n  node.appendChild(script);\n}\n\n/**\n * Handle when a new output is added\n */\nfunction handle_add_output(event, handle) {\n  var output_area = handle.output_area;\n  var output = handle.output;\n  if ((output.data == undefined) || (!output.data.hasOwnProperty(EXEC_MIME_TYPE))) {\n    return\n  }\n  var id = output.metadata[EXEC_MIME_TYPE][\"id\"];\n  var toinsert = output_area.element.find(\".\" + CLASS_NAME.split(' ')[0]);\n  if (id !== undefined) {\n    var nchildren = toinsert.length;\n    var html_node = toinsert[nchildren-1].children[0];\n    html_node.innerHTML = output.data[HTML_MIME_TYPE];\n    var scripts = [];\n    var nodelist = html_node.querySelectorAll(\"script\");\n    for (var i in nodelist) {\n      if (nodelist.hasOwnProperty(i)) {\n        scripts.push(nodelist[i])\n      }\n    }\n\n    scripts.forEach( function (oldScript) {\n      var newScript = document.createElement(\"script\");\n      var attrs = [];\n      var nodemap = oldScript.attributes;\n      for (var j in nodemap) {\n        if (nodemap.hasOwnProperty(j)) {\n          attrs.push(nodemap[j])\n        }\n      }\n      attrs.forEach(function(attr) { newScript.setAttribute(attr.name, attr.value) });\n      newScript.appendChild(document.createTextNode(oldScript.innerHTML));\n      oldScript.parentNode.replaceChild(newScript, oldScript);\n    });\n    if (JS_MIME_TYPE in output.data) {\n      toinsert[nchildren-1].children[1].textContent = output.data[JS_MIME_TYPE];\n    }\n    output_area._hv_plot_id = id;\n    if ((window.Bokeh !== undefined) && (id in Bokeh.index)) {\n      window.PyViz.plot_index[id] = Bokeh.index[id];\n    } else {\n      window.PyViz.plot_index[id] = null;\n    }\n  } else if (output.metadata[EXEC_MIME_TYPE][\"server_id\"] !== undefined) {\n    var bk_div = document.createElement(\"div\");\n    bk_div.innerHTML = output.data[HTML_MIME_TYPE];\n    var script_attrs = bk_div.children[0].attributes;\n    for (var i = 0; i < script_attrs.length; i++) {\n      toinsert[toinsert.length - 1].childNodes[1].setAttribute(script_attrs[i].name, script_attrs[i].value);\n    }\n    // store reference to server id on output_area\n    output_area._bokeh_server_id = output.metadata[EXEC_MIME_TYPE][\"server_id\"];\n  }\n}\n\n/**\n * Handle when an output is cleared or removed\n */\nfunction handle_clear_output(event, handle) {\n  var id = handle.cell.output_area._hv_plot_id;\n  var server_id = handle.cell.output_area._bokeh_server_id;\n  if (((id === undefined) || !(id in PyViz.plot_index)) && (server_id !== undefined)) { return; }\n  var comm = window.PyViz.comm_manager.get_client_comm(\"hv-extension-comm\", \"hv-extension-comm\", function () {});\n  if (server_id !== null) {\n    comm.send({event_type: 'server_delete', 'id': server_id});\n    return;\n  } else if (comm !== null) {\n    comm.send({event_type: 'delete', 'id': id});\n  }\n  delete PyViz.plot_index[id];\n  if ((window.Bokeh !== undefined) & (id in window.Bokeh.index)) {\n    var doc = window.Bokeh.index[id].model.document\n    doc.clear();\n    const i = window.Bokeh.documents.indexOf(doc);\n    if (i > -1) {\n      window.Bokeh.documents.splice(i, 1);\n    }\n  }\n}\n\n/**\n * Handle kernel restart event\n */\nfunction handle_kernel_cleanup(event, handle) {\n  delete PyViz.comms[\"hv-extension-comm\"];\n  window.PyViz.plot_index = {}\n}\n\n/**\n * Handle update_display_data messages\n */\nfunction handle_update_output(event, handle) {\n  handle_clear_output(event, {cell: {output_area: handle.output_area}})\n  handle_add_output(event, handle)\n}\n\nfunction register_renderer(events, OutputArea) {\n  function append_mime(data, metadata, element) {\n    // create a DOM node to render to\n    var toinsert = this.create_output_subarea(\n    metadata,\n    CLASS_NAME,\n    EXEC_MIME_TYPE\n    );\n    this.keyboard_manager.register_events(toinsert);\n    // Render to node\n    var props = {data: data, metadata: metadata[EXEC_MIME_TYPE]};\n    render(props, toinsert[0]);\n    element.append(toinsert);\n    return toinsert\n  }\n\n  events.on('output_added.OutputArea', handle_add_output);\n  events.on('output_updated.OutputArea', handle_update_output);\n  events.on('clear_output.CodeCell', handle_clear_output);\n  events.on('delete.Cell', handle_clear_output);\n  events.on('kernel_ready.Kernel', handle_kernel_cleanup);\n\n  OutputArea.prototype.register_mime_type(EXEC_MIME_TYPE, append_mime, {\n    safe: true,\n    index: 0\n  });\n}\n\nif (window.Jupyter !== undefined) {\n  try {\n    var events = require('base/js/events');\n    var OutputArea = require('notebook/js/outputarea').OutputArea;\n    if (OutputArea.prototype.mime_types().indexOf(EXEC_MIME_TYPE) == -1) {\n      register_renderer(events, OutputArea);\n    }\n  } catch(err) {\n  }\n}\n"
     },
     "metadata": {},
     "output_type": "display_data"
    },
    {
     "data": {
      "text/html": [
       "<style>.bk-root, .bk-root .bk:before, .bk-root .bk:after {\n",
       "  font-family: var(--jp-ui-font-size1);\n",
       "  font-size: var(--jp-ui-font-size1);\n",
       "  color: var(--jp-ui-font-color1);\n",
       "}\n",
       "</style>"
      ]
     },
     "metadata": {},
     "output_type": "display_data"
    },
    {
     "name": "stdout",
     "output_type": "stream",
     "text": [
      "time: 5.73 s (started: 2022-09-24 03:50:55 -05:00)\n"
     ]
    }
   ],
   "source": [
    "import panel as pn\n",
    "import panel.widgets as pnw\n",
    "pn.extension('plotly')\n",
    "\n",
    "import plotly.graph_objects as go\n",
    "from plotly.subplots import make_subplots\n",
    "import plotly.express as px\n",
    "\n",
    "import numpy as np\n",
    "import math\n",
    "\n",
    "import pandas as pd\n",
    "\n",
    "from scipy.stats import wrapcauchy\n",
    "from scipy.stats import levy_stable\n",
    "from scipy.spatial import distance"
   ]
  },
  {
   "cell_type": "code",
   "execution_count": null,
   "id": "711a50c9",
   "metadata": {},
   "outputs": [],
   "source": []
  },
  {
   "cell_type": "code",
   "execution_count": 32,
   "id": "71e9d297",
   "metadata": {},
   "outputs": [
    {
     "name": "stdout",
     "output_type": "stream",
     "text": [
      "time: 16 ms (started: 2022-09-24 03:51:35 -05:00)\n"
     ]
    }
   ],
   "source": [
    "g_dash_data = pd.DataFrame(columns = ['x','y','traj'])\n",
    "g_a = 5"
   ]
  },
  {
   "cell_type": "markdown",
   "id": "02535f4e",
   "metadata": {},
   "source": [
    "# CLASESS"
   ]
  },
  {
   "cell_type": "markdown",
   "id": "5b3df9cf",
   "metadata": {},
   "source": [
    "## Vec2d"
   ]
  },
  {
   "cell_type": "code",
   "execution_count": 4,
   "id": "708dafbb",
   "metadata": {},
   "outputs": [
    {
     "name": "stdout",
     "output_type": "stream",
     "text": [
      "time: 0 ns (started: 2022-09-24 03:51:01 -05:00)\n"
     ]
    }
   ],
   "source": [
    "################# http://www.pygame.org/wiki/2DVectorClass ##################\n",
    "class Vec2d(object):\n",
    "    \"\"\"2d vector class, supports vector and scalar operators,\n",
    "       and also provides a bunch of high level functions\n",
    "       \"\"\"\n",
    "    __slots__ = ['x', 'y']\n",
    "\n",
    "    def __init__(self, x_or_pair, y = None):\n",
    "        if y == None:            \n",
    "            self.x = x_or_pair[0]\n",
    "            self.y = x_or_pair[1]\n",
    "        else:\n",
    "            self.x = x_or_pair\n",
    "            self.y = y\n",
    "            \n",
    "    # Addition\n",
    "    def __add__(self, other):\n",
    "        if isinstance(other, Vec2d):\n",
    "            return Vec2d(self.x + other.x, self.y + other.y)\n",
    "        elif hasattr(other, \"__getitem__\"):\n",
    "            return Vec2d(self.x + other[0], self.y + other[1])\n",
    "        else:\n",
    "            return Vec2d(self.x + other, self.y + other)\n",
    "\n",
    "    # Subtraction\n",
    "    def __sub__(self, other):\n",
    "        if isinstance(other, Vec2d):\n",
    "            return Vec2d(self.x - other.x, self.y - other.y)\n",
    "        elif (hasattr(other, \"__getitem__\")):\n",
    "            return Vec2d(self.x - other[0], self.y - other[1])\n",
    "        else:\n",
    "            return Vec2d(self.x - other, self.y - other)\n",
    "    \n",
    "    # Vector length\n",
    "    def get_length(self):\n",
    "        return math.sqrt(self.x**2 + self.y**2)\n",
    "    \n",
    "    # rotate vector\n",
    "    def rotated(self, angle):        \n",
    "        cos = math.cos(angle)\n",
    "        sin = math.sin(angle)\n",
    "        x = self.x*cos - self.y*sin\n",
    "        y = self.x*sin + self.y*cos\n",
    "        return Vec2d(x, y)"
   ]
  },
  {
   "cell_type": "markdown",
   "id": "a4057b5e",
   "metadata": {},
   "source": [
    "## Explorers"
   ]
  },
  {
   "cell_type": "code",
   "execution_count": 5,
   "id": "48eabd5b",
   "metadata": {},
   "outputs": [
    {
     "name": "stdout",
     "output_type": "stream",
     "text": [
      "time: 0 ns (started: 2022-09-24 03:51:01 -05:00)\n"
     ]
    }
   ],
   "source": [
    "class Explorers(object):\n",
    "    \n",
    "    # This class substitutes BM trajectory and CREW Trajectory\n",
    "    def __init__(self, x = 0, y = 0):\n",
    "        self.x = x\n",
    "        self.y = y\n",
    "        \n",
    "    def trace_trajectories(self, n_traj = 1, traj_type= \"BM_2d\", n_steps =1000, speed = 6, crw_exponents = [0.6]):\n",
    "        \"\"\"\n",
    "            Generates the trajectories of the explorers according to their type\n",
    "            Arguments: \n",
    "                traj_type:\n",
    "                n_steps:\n",
    "                speed:\n",
    "                n_traj:\n",
    "                crw_exponents:\n",
    "          \"\"\"\n",
    "        \n",
    "        trajectories_df = pd.DataFrame(columns=['x','y','traj'])\n",
    "        \n",
    "\n",
    "        for j in range(n_traj):\n",
    "            \n",
    "            velocity = Vec2d(speed, 0)\n",
    "            \n",
    "            \n",
    "            traj_aux_array = np.ones((n_steps,3))*[self.x,self.y,0]\n",
    "            traj_aux_array[0,2] = j\n",
    "            \n",
    "            crw_ex = lambda : crw_exponents[j] if len(crw_exponents) > 1 else crw_exponents[0]\n",
    "            exponent = crw_ex()\n",
    "\n",
    "            for i in range(1,n_steps):\n",
    "                turn_angle = self.generate_angle(traj_type, exponent)\n",
    "                \n",
    "                velocity = velocity.rotated(turn_angle)\n",
    "\n",
    "                traj_aux_array[i] = traj_aux_array[i-1,:]+[velocity.x,velocity.y,0]\n",
    "                traj_aux_array[i,2] = j\n",
    "\n",
    "                \n",
    "            temp_df = pd.DataFrame(data = traj_aux_array, columns=['x','y','traj'])\n",
    "            \n",
    "            trajectories_df = pd.concat([trajectories_df,temp_df], ignore_index=True)\n",
    "          \n",
    "        return trajectories_df\n",
    "    \n",
    "    \n",
    "    \n",
    "    \n",
    "    # angle choice \n",
    "    def generate_angle(self,traj_type, exponent = 0.6):\n",
    "        angle = 0\n",
    "        if traj_type == \"BM_2d\":\n",
    "            angle = np.random.uniform(low=-np.pi, high=np.pi)\n",
    "        \n",
    "        if traj_type == \"BM_nsew\":\n",
    "            angle = np.random.choice([0,np.pi/2, np.pi, 3*np.pi])\n",
    "        \n",
    "        if traj_type == \"CRW\":\n",
    "            angle = wrapcauchy.rvs(exponent)\n",
    "            \n",
    "            \n",
    "        return angle"
   ]
  },
  {
   "cell_type": "markdown",
   "id": "25cc3cfb",
   "metadata": {},
   "source": [
    "## Levy Flight"
   ]
  },
  {
   "cell_type": "code",
   "execution_count": 6,
   "id": "a4b2d10f",
   "metadata": {},
   "outputs": [
    {
     "name": "stdout",
     "output_type": "stream",
     "text": [
      "time: 0 ns (started: 2022-09-24 03:51:01 -05:00)\n"
     ]
    }
   ],
   "source": [
    "class LFlyTrajectory(object):\n",
    "    \n",
    "    def __init__(self, x = 0 , y = 0):\n",
    "        self.x = 0\n",
    "        self.y = 0\n",
    "        \n",
    "        \n",
    "    def levy_walk(self, alpha = 1, beta = 1, loc = 6 , speed = 3, samples = 100000):\n",
    "        # Init velocity vector\n",
    "\n",
    "        velocity = Vec2d(speed,0)\n",
    "\n",
    "        # Init df\n",
    "        LW_df = pd.DataFrame(columns=['x','y','traj'])\n",
    "        lw_3d = np.array([[0,0,0]])\n",
    "        aux = np.array([[0,0,0]])\n",
    "\n",
    "        for i in range(1,samples):\n",
    "            # get random n_steps form levy distribution\n",
    "            step_size = levy_stable.rvs(alpha, beta, loc)\n",
    "            step_size = int(np.ceil(abs(step_size)))\n",
    "\n",
    "            theta = wrapcauchy.rvs(c=0.7, loc=loc)\n",
    "\n",
    "            # update velocity\n",
    "            velocity = velocity.rotated(theta)\n",
    "\n",
    "            for j in range(step_size):\n",
    "                row = len(lw_3d)\n",
    "                aux = np.array([lw_3d[row-1,:]+[velocity.x,velocity.y,0]])\n",
    "\n",
    "                lw_3d = np.vstack([lw_3d,aux])\n",
    "\n",
    "            if(len(lw_3d) >= samples):\n",
    "                break\n",
    "\n",
    "        LW_df = pd.DataFrame(data = lw_3d, columns=['x','y','traj'])\n",
    "\n",
    "        return LW_df;"
   ]
  },
  {
   "cell_type": "code",
   "execution_count": 7,
   "id": "6e9368c7",
   "metadata": {},
   "outputs": [
    {
     "name": "stdout",
     "output_type": "stream",
     "text": [
      "time: 0 ns (started: 2022-09-24 03:51:01 -05:00)\n"
     ]
    }
   ],
   "source": [
    "class BCLFigures(object):\n",
    "    \n",
    "    def __init__(self, traj_data = pd.DataFrame(columns=['x','y','traj']), n_traj = 1):\n",
    "        self.traj_data = traj_data\n",
    "        self.n_traj = n_traj\n",
    "        \n",
    "        \n",
    "    def show_trajectories(self):\n",
    "        plot_trajectories(self.traj_data, n_traj)\n",
    "        return fig"
   ]
  },
  {
   "cell_type": "markdown",
   "id": "dd087de0",
   "metadata": {},
   "source": [
    "## Metrics"
   ]
  },
  {
   "cell_type": "markdown",
   "id": "fe304a28",
   "metadata": {},
   "source": [
    "### Path lenght"
   ]
  },
  {
   "cell_type": "code",
   "execution_count": 8,
   "id": "1f31af0c",
   "metadata": {},
   "outputs": [
    {
     "name": "stdout",
     "output_type": "stream",
     "text": [
      "time: 0 ns (started: 2022-09-24 03:51:01 -05:00)\n"
     ]
    }
   ],
   "source": [
    "class TrajectoryMetrics():\n",
    "    \n",
    "    \n",
    "    def get_path_lengt(self, trajectories, traj_df):\n",
    "        \n",
    "        path_lenghts = pd.DataFrame(columns=['distance','traj'])\n",
    "            \n",
    "        for i in range(n_traj):\n",
    "            aux_df= trajectories.loc[trajectories.traj == i, ['x','y']]\n",
    "\n",
    "            #Calculate lenghts for given trajectory\n",
    "            euc_dis = np.array([get_euclidean_distance(aux_df.iloc[i-1], aux_df.iloc[i]) for i in range(1,aux_df.shape[0])])\n",
    "\n",
    "\n",
    "            temp_df = pd.DataFrame(data = np.cumsum(euc_dis), columns = ['distance'])\n",
    "\n",
    "            trajectory_id = np.array([i for j in range(1,aux_df.shape[0])])\n",
    "            temp_df['traj'] = trajectory_id\n",
    "\n",
    "            path_lenghts = pd.concat([path_lenghts,temp_df], ignore_index=True)\n",
    "                \n",
    "            \n",
    "        return path_lenghts\n",
    "    \n",
    "    \n",
    "    \n",
    "    def get_trajectories_msd(self, trajectories, traj_df):\n",
    "        \n",
    "        msd_df = pd.DataFrame(columns=['MSD','traj'])\n",
    "        \n",
    "        for i in range(n_traj):\n",
    "            aux_df= bm_2d_df.loc[bm_2d_df.traj == i, ['x','y']]\n",
    "            msd = np.empty(shape=(0))\n",
    "\n",
    "            for tau in range(1,aux_df.shape[0]):\n",
    "                BM_msd = get_msd(tau,aux_df)\n",
    "\n",
    "                msd = np.append(msd,BM_msd)\n",
    "\n",
    "            temp_df = pd.DataFrame(data = msd, columns = ['MSD'])\n",
    "\n",
    "            trajectory_id = np.array([i for j in range(1,aux_df.shape[0])])\n",
    "            temp_df['traj'] = trajectory_id\n",
    "\n",
    "            msd_df = pd.concat([msd_df,temp_df], ignore_index=True)\n",
    "                \n",
    "        \n",
    "        return msd_df\n",
    "    \n",
    "    \n",
    "    \n",
    "    def get_ta_distribution(self, traj_df):\n",
    "        \n",
    "        ta_dist = np.empty(shape=(0))\n",
    "\n",
    "    \n",
    "        for index, row in traj_df[1:-1].iterrows():\n",
    "            \n",
    "            turning_angle = get_turning_angle(traj_df.iloc[index-1],traj_df.iloc[index],traj_df.iloc[index+1])\n",
    "            ta_dist = np.append(ta_dist,turning_angle)\n",
    "        \n",
    "        return ta_dist\n",
    "    \n",
    "    \n",
    "    \n",
    "    def get_sl_distribution(self, traj_df):\n",
    "        \n",
    "            ta = self.get_ta_distribution(traj_df)\n",
    "            \n",
    "            ta_df= pd.DataFrame(data = ta, columns=['TA_Levy'])\n",
    "            \n",
    "            \n",
    "            sl_array = np.empty(shape=(0))\n",
    "            \n",
    "            for group, elements in ta_df.groupby((ta_df['TA_Levy'].shift()!= ta_df['TA_Levy']).cumsum()):\n",
    "                if elements.shape[0]>1:\n",
    "                    sl_array = np.append(sl_array,elements.shape[0]+1)\n",
    "                    \n",
    "            return sl_array"
   ]
  },
  {
   "cell_type": "markdown",
   "id": "56381080",
   "metadata": {},
   "source": [
    "## Auxiliar functions"
   ]
  },
  {
   "cell_type": "markdown",
   "id": "5e7e50f4",
   "metadata": {},
   "source": [
    "### Euclidean distance\n",
    "\n",
    "$d_E(p,q)=\\sqrt{(p_x-q_x)^2+(p_y-q_y)^2}$"
   ]
  },
  {
   "cell_type": "code",
   "execution_count": 9,
   "id": "ab684f54",
   "metadata": {},
   "outputs": [
    {
     "name": "stdout",
     "output_type": "stream",
     "text": [
      "time: 0 ns (started: 2022-09-24 03:51:01 -05:00)\n"
     ]
    }
   ],
   "source": [
    "def get_euclidean_distance(p,q):\n",
    "    \"\"\"\n",
    "        Arguments:\n",
    "            p: [x,y] values for the starting point\n",
    "            q: [x,y] values for the ending point\n",
    "    \"\"\"\n",
    "  \n",
    "    distance = np.sqrt(np.square(p[0]-q[0]) + np.square(p[1]-q[1]))\n",
    "\n",
    "    return distance"
   ]
  },
  {
   "cell_type": "markdown",
   "id": "379186b4",
   "metadata": {},
   "source": [
    "### Mean Square Displacement\n",
    "\n",
    "\n",
    "$MSD = \\frac{1}{N-n} \\sum \\limits_{i=1}^{N-n}(\\vec{r}_{i+n}-\\vec{r}_i)^2 \\quad\\quad n=1,...,N-1$\n",
    "<br><br>\n",
    "\n",
    "$MSD = \\frac{1}{N-n}\\sum \\limits_{i=1}^{N-n}{d_E(p,q)}^2 \\quad\\quad n=1,...,N-1$"
   ]
  },
  {
   "cell_type": "code",
   "execution_count": 10,
   "id": "e0076ee0",
   "metadata": {},
   "outputs": [
    {
     "name": "stdout",
     "output_type": "stream",
     "text": [
      "time: 0 ns (started: 2022-09-24 03:51:01 -05:00)\n"
     ]
    }
   ],
   "source": [
    "def get_msd(tau,path):\n",
    "    \"\"\"\n",
    "      Arguments:\n",
    "        tau:\n",
    "        path:\n",
    "    \"\"\"\n",
    "\n",
    "    square_displacement = 0 \n",
    "\n",
    "    for i in range(tau,path.shape[0],1):\n",
    "        square_displacement += np.square(get_euclidean_distance(path.iloc[i-tau], path.iloc[i]))\n",
    "\n",
    "    msd= (1/(path.shape[0]-tau))*square_displacement\n",
    "\n",
    "    return msd"
   ]
  },
  {
   "cell_type": "markdown",
   "id": "f74be810",
   "metadata": {},
   "source": [
    "### Turning Angle\n",
    "\n",
    "$\n",
    "tan(\\phi)=\\frac{|\\vec{p}\\times\\vec{q}|}{\\vec{p}\\cdot\\vec{q}}\n",
    "$"
   ]
  },
  {
   "cell_type": "code",
   "execution_count": 11,
   "id": "978a5240",
   "metadata": {},
   "outputs": [
    {
     "name": "stdout",
     "output_type": "stream",
     "text": [
      "time: 0 ns (started: 2022-09-24 03:51:01 -05:00)\n"
     ]
    }
   ],
   "source": [
    "def get_turning_angle(a,b,c,round_to_zero = False):\n",
    "    \"\"\"\n",
    "      Arguments:\n",
    "        a: coordinates for p vector's tail\n",
    "        b: coordinates p vector's head / q vector's tail\n",
    "        c: coordinates q vector's head\n",
    "        round_to_zero: if true checks if value is close enough to zero to be take as it\n",
    "     \"\"\"\n",
    "\n",
    "    p = np.subtract(b,a)\n",
    "    q = np.subtract(c,b)\n",
    "\n",
    "  \n",
    "    pq_cross = np.cross(p,q)\n",
    "    pq_scalar = np.dot(p,q)\n",
    "\n",
    "    phi_angle = np.arctan2(pq_cross,pq_scalar)\n",
    "\n",
    "    if round_to_zero:\n",
    "        if  count_like_zero(phi_angle):\n",
    "            phi_angle = 0\n",
    "      \n",
    "    return phi_angle"
   ]
  },
  {
   "cell_type": "markdown",
   "id": "6d991b76",
   "metadata": {},
   "source": [
    "### Custom round"
   ]
  },
  {
   "cell_type": "code",
   "execution_count": 12,
   "id": "a43d1193",
   "metadata": {},
   "outputs": [
    {
     "name": "stdout",
     "output_type": "stream",
     "text": [
      "time: 0 ns (started: 2022-09-24 03:51:01 -05:00)\n"
     ]
    }
   ],
   "source": [
    "def count_like_zero(number):\n",
    "    \"\"\"\n",
    "        Arguments:\n",
    "            number: \n",
    "        Return: True if -0.009 <= number <= 0.009 False otherwise\n",
    "    \"\"\"\n",
    "    is_zero = False\n",
    "\n",
    "    if  ((number >= -0.009) & (number <= 0)) | ((number >= 0) & (number <= 0.009)):\n",
    "        is_zero = True\n",
    "\n",
    "    return is_zero"
   ]
  },
  {
   "cell_type": "markdown",
   "id": "6a16dd5c",
   "metadata": {},
   "source": [
    "### Is Negligible turn"
   ]
  },
  {
   "cell_type": "code",
   "execution_count": 13,
   "id": "13de4993",
   "metadata": {},
   "outputs": [
    {
     "name": "stdout",
     "output_type": "stream",
     "text": [
      "time: 0 ns (started: 2022-09-24 03:51:01 -05:00)\n"
     ]
    }
   ],
   "source": [
    "def drop_turn(angle_i, angle_j):\n",
    "    \"\"\"\n",
    "      Arguments:\n",
    "        angle_i:\n",
    "        angle_j: \n",
    "      Return: True if difference between angles is less than 0.001 False otherwise\n",
    "      \"\"\"\n",
    "    is_dropable = False\n",
    "    \n",
    "    if (angle_i > 0) & (angle_j > 0): \n",
    "        rest = abs(angle_i - angle_j)\n",
    "        if abs(angle_i - angle_j) < 0.001:\n",
    "            is_dropable = True\n",
    "\n",
    "    return is_dropable"
   ]
  },
  {
   "cell_type": "markdown",
   "id": "60b7f623",
   "metadata": {},
   "source": [
    "# PLOT FUNCTIONS"
   ]
  },
  {
   "cell_type": "markdown",
   "id": "2b8496c3",
   "metadata": {},
   "source": [
    "## Plot Trajectories"
   ]
  },
  {
   "cell_type": "code",
   "execution_count": 14,
   "id": "5dcfe03b",
   "metadata": {},
   "outputs": [
    {
     "name": "stdout",
     "output_type": "stream",
     "text": [
      "time: 0 ns (started: 2022-09-24 03:51:01 -05:00)\n"
     ]
    }
   ],
   "source": [
    "def plot_trajectories(trajectories_df, n_trajectories = 1, title = \"\", line_name_prefix=\"\", line_name_subfix = [\"\"]):\n",
    "    \n",
    "    fig_3d = go.Figure()\n",
    "\n",
    "    for i in range(n_trajectories):\n",
    "        \n",
    "        subfix = lambda : line_name_subfix[i] if len(line_name_subfix) > 1 else i\n",
    "        trajectory_name = line_name_prefix +\": \" + str(subfix())\n",
    "\n",
    "        fig_3d.add_scatter3d(\n",
    "                x = trajectories_df.loc[trajectories_df['traj']==i,'x'], \n",
    "                y = trajectories_df.loc[trajectories_df['traj']==i,'y'], \n",
    "                z = trajectories_df.index,\n",
    "                marker = dict(size=2),\n",
    "                line = dict(width=2),\n",
    "                mode = 'lines',\n",
    "                name = trajectory_name,\n",
    "                showlegend = True)\n",
    "\n",
    "    \n",
    "    fig_3d.update_layout(\n",
    "            title_text = title,\n",
    "            width = 800,\n",
    "            height = 800,\n",
    "            scene_camera = dict(eye = dict(x=0, y=0, z=2.5)),\n",
    "            scene = dict(\n",
    "                xaxis = dict(title = 'x'),\n",
    "                yaxis = dict(title = 'y'),\n",
    "                zaxis = dict(title = 'time', nticks = 20)\n",
    "            ))\n",
    "\n",
    "    return fig_3d"
   ]
  },
  {
   "cell_type": "markdown",
   "id": "3ffb9038",
   "metadata": {},
   "source": [
    "## Plot Metrics"
   ]
  },
  {
   "cell_type": "code",
   "execution_count": 15,
   "id": "8d1e4ad3",
   "metadata": {},
   "outputs": [
    {
     "name": "stdout",
     "output_type": "stream",
     "text": [
      "time: 0 ns (started: 2022-09-24 03:51:01 -05:00)\n"
     ]
    }
   ],
   "source": [
    "def plot_metrics(metrics_df, n_trajectories = 1, title = \"\", line_name_prefix=\"\", line_name_subfix = [\"\"]):\n",
    "    \n",
    "    fig_2d = go.Figure()\n",
    "    \n",
    "    for i in range(n_trajectories):\n",
    "        \n",
    "        subfix = lambda : line_name_subfix[i] if len(line_name_subfix) > 1 else i\n",
    "        trajectory_name = line_name_prefix +\": \" + str(subfix())\n",
    "\n",
    "        fig_2d.add_scatter( \n",
    "                    x = metrics_df.index,\n",
    "                    y = metrics_df.loc[metrics_df['traj']==i,'MSD'], \n",
    "                    marker = dict(size=0.5),\n",
    "                    line = dict(width=3),\n",
    "                    mode = 'lines',\n",
    "                    name = trajectory_name,\n",
    "                    showlegend = True)\n",
    "        \n",
    "    fig_2d.update_layout(\n",
    "            title_text = title,\n",
    "            autosize = False)\n",
    "\n",
    "    fig_2d.show()"
   ]
  },
  {
   "cell_type": "markdown",
   "id": "2e932098",
   "metadata": {},
   "source": [
    "# PRUEBAS"
   ]
  },
  {
   "cell_type": "markdown",
   "id": "89d45cfa",
   "metadata": {},
   "source": [
    "## Trajectory controls"
   ]
  },
  {
   "cell_type": "code",
   "execution_count": 16,
   "id": "192090ac",
   "metadata": {},
   "outputs": [
    {
     "data": {
      "application/javascript": [
       "(function(root) {\n",
       "  function now() {\n",
       "    return new Date();\n",
       "  }\n",
       "\n",
       "  var force = true;\n",
       "\n",
       "  if (typeof root._bokeh_onload_callbacks === \"undefined\" || force === true) {\n",
       "    root._bokeh_onload_callbacks = [];\n",
       "    root._bokeh_is_loading = undefined;\n",
       "  }\n",
       "\n",
       "  if (typeof (root._bokeh_timeout) === \"undefined\" || force === true) {\n",
       "    root._bokeh_timeout = Date.now() + 5000;\n",
       "    root._bokeh_failed_load = false;\n",
       "  }\n",
       "\n",
       "  function run_callbacks() {\n",
       "    try {\n",
       "      root._bokeh_onload_callbacks.forEach(function(callback) {\n",
       "        if (callback != null)\n",
       "          callback();\n",
       "      });\n",
       "    } finally {\n",
       "      delete root._bokeh_onload_callbacks\n",
       "    }\n",
       "    console.debug(\"Bokeh: all callbacks have finished\");\n",
       "  }\n",
       "\n",
       "  function load_libs(css_urls, js_urls, js_modules, callback) {\n",
       "    if (css_urls == null) css_urls = [];\n",
       "    if (js_urls == null) js_urls = [];\n",
       "    if (js_modules == null) js_modules = [];\n",
       "\n",
       "    root._bokeh_onload_callbacks.push(callback);\n",
       "    if (root._bokeh_is_loading > 0) {\n",
       "      console.debug(\"Bokeh: BokehJS is being loaded, scheduling callback at\", now());\n",
       "      return null;\n",
       "    }\n",
       "    if (js_urls.length === 0 && js_modules.length === 0) {\n",
       "      run_callbacks();\n",
       "      return null;\n",
       "    }\n",
       "    console.debug(\"Bokeh: BokehJS not loaded, scheduling load and callback at\", now());\n",
       "\n",
       "    function on_load() {\n",
       "      root._bokeh_is_loading--;\n",
       "      if (root._bokeh_is_loading === 0) {\n",
       "        console.debug(\"Bokeh: all BokehJS libraries/stylesheets loaded\");\n",
       "        run_callbacks()\n",
       "      }\n",
       "    }\n",
       "\n",
       "    function on_error() {\n",
       "      console.error(\"failed to load \" + url);\n",
       "    }\n",
       "\n",
       "    for (var i = 0; i < css_urls.length; i++) {\n",
       "      var url = css_urls[i];\n",
       "      const element = document.createElement(\"link\");\n",
       "      element.onload = on_load;\n",
       "      element.onerror = on_error;\n",
       "      element.rel = \"stylesheet\";\n",
       "      element.type = \"text/css\";\n",
       "      element.href = url;\n",
       "      console.debug(\"Bokeh: injecting link tag for BokehJS stylesheet: \", url);\n",
       "      document.body.appendChild(element);\n",
       "    }\n",
       "\n",
       "    var skip = [];\n",
       "    if (window.requirejs) {\n",
       "      window.requirejs.config({'packages': {}, 'paths': {'plotly': 'https://cdn.plot.ly/plotly-2.10.1.min', 'gridstack': 'https://cdn.jsdelivr.net/npm/gridstack@4.2.5/dist/gridstack-h5', 'notyf': 'https://cdn.jsdelivr.net/npm/notyf@3/notyf.min'}, 'shim': {'gridstack': {'exports': 'GridStack'}}});\n",
       "      require([\"plotly\"], function(Plotly) {\n",
       "\twindow.Plotly = Plotly\n",
       "\ton_load()\n",
       "      })\n",
       "      require([\"gridstack\"], function(GridStack) {\n",
       "\twindow.GridStack = GridStack\n",
       "\ton_load()\n",
       "      })\n",
       "      require([\"notyf\"], function() {\n",
       "\ton_load()\n",
       "      })\n",
       "      root._bokeh_is_loading = css_urls.length + 3;\n",
       "    } else {\n",
       "      root._bokeh_is_loading = css_urls.length + js_urls.length + js_modules.length;\n",
       "    }    if (((window['Plotly'] !== undefined) && (!(window['Plotly'] instanceof HTMLElement))) || window.requirejs) {\n",
       "      var urls = ['https://cdn.plot.ly/plotly-2.10.1.min.js'];\n",
       "      for (var i = 0; i < urls.length; i++) {\n",
       "        skip.push(urls[i])\n",
       "      }\n",
       "    }    if (((window['GridStack'] !== undefined) && (!(window['GridStack'] instanceof HTMLElement))) || window.requirejs) {\n",
       "      var urls = ['https://cdn.jsdelivr.net/npm/gridstack@4.2.5/dist/gridstack-h5.js'];\n",
       "      for (var i = 0; i < urls.length; i++) {\n",
       "        skip.push(urls[i])\n",
       "      }\n",
       "    }    if (((window['Notyf'] !== undefined) && (!(window['Notyf'] instanceof HTMLElement))) || window.requirejs) {\n",
       "      var urls = ['https://cdn.jsdelivr.net/npm/notyf@3/notyf.min.js'];\n",
       "      for (var i = 0; i < urls.length; i++) {\n",
       "        skip.push(urls[i])\n",
       "      }\n",
       "    }    for (var i = 0; i < js_urls.length; i++) {\n",
       "      var url = js_urls[i];\n",
       "      if (skip.indexOf(url) >= 0) {\n",
       "\tif (!window.requirejs) {\n",
       "\t  on_load();\n",
       "\t}\n",
       "\tcontinue;\n",
       "      }\n",
       "      var element = document.createElement('script');\n",
       "      element.onload = on_load;\n",
       "      element.onerror = on_error;\n",
       "      element.async = false;\n",
       "      element.src = url;\n",
       "      console.debug(\"Bokeh: injecting script tag for BokehJS library: \", url);\n",
       "      document.head.appendChild(element);\n",
       "    }\n",
       "    for (var i = 0; i < js_modules.length; i++) {\n",
       "      var url = js_modules[i];\n",
       "      if (skip.indexOf(url) >= 0) {\n",
       "\tif (!window.requirejs) {\n",
       "\t  on_load();\n",
       "\t}\n",
       "\tcontinue;\n",
       "      }\n",
       "      var element = document.createElement('script');\n",
       "      element.onload = on_load;\n",
       "      element.onerror = on_error;\n",
       "      element.async = false;\n",
       "      element.src = url;\n",
       "      element.type = \"module\";\n",
       "      console.debug(\"Bokeh: injecting script tag for BokehJS library: \", url);\n",
       "      document.head.appendChild(element);\n",
       "    }\n",
       "    if (!js_urls.length && !js_modules.length) {\n",
       "      on_load()\n",
       "    }\n",
       "  };\n",
       "\n",
       "  function inject_raw_css(css) {\n",
       "    const element = document.createElement(\"style\");\n",
       "    element.appendChild(document.createTextNode(css));\n",
       "    document.body.appendChild(element);\n",
       "  }\n",
       "\n",
       "  var js_urls = [\"https://cdn.jsdelivr.net/npm/jquery@3.5.1/dist/jquery.slim.min.js\", \"https://cdn.plot.ly/plotly-2.10.1.min.js\", \"https://cdn.bokeh.org/bokeh/release/bokeh-2.4.3.min.js\", \"https://cdn.bokeh.org/bokeh/release/bokeh-gl-2.4.3.min.js\", \"https://cdn.bokeh.org/bokeh/release/bokeh-widgets-2.4.3.min.js\", \"https://cdn.bokeh.org/bokeh/release/bokeh-tables-2.4.3.min.js\", \"https://cdn.bokeh.org/bokeh/release/bokeh-mathjax-2.4.3.min.js\", \"https://cdn.jsdelivr.net/npm/notyf@3/notyf.min.js\", \"https://unpkg.com/@holoviz/panel@0.13.1/dist/panel.min.js\"];\n",
       "  var js_modules = [];\n",
       "  var css_urls = [\"https://cdn.jsdelivr.net/npm/notyf@3/notyf.min.css\", \"https://cdnjs.cloudflare.com/ajax/libs/font-awesome/5.15.1/css/all.min.css\", \"https://unpkg.com/@holoviz/panel@0.13.1/dist/css/alerts.css\", \"https://unpkg.com/@holoviz/panel@0.13.1/dist/css/card.css\", \"https://unpkg.com/@holoviz/panel@0.13.1/dist/css/dataframe.css\", \"https://unpkg.com/@holoviz/panel@0.13.1/dist/css/debugger.css\", \"https://unpkg.com/@holoviz/panel@0.13.1/dist/css/json.css\", \"https://unpkg.com/@holoviz/panel@0.13.1/dist/css/loading.css\", \"https://unpkg.com/@holoviz/panel@0.13.1/dist/css/markdown.css\", \"https://unpkg.com/@holoviz/panel@0.13.1/dist/css/widgets.css\"];\n",
       "  var inline_js = [    function(Bokeh) {\n",
       "      inject_raw_css(\"\\n    .bk.pn-loading.arcs:before {\\n      background-image: url(\\\"data:image/svg+xml;base64,PHN2ZyB4bWxucz0iaHR0cDovL3d3dy53My5vcmcvMjAwMC9zdmciIHhtbG5zOnhsaW5rPSJodHRwOi8vd3d3LnczLm9yZy8xOTk5L3hsaW5rIiBzdHlsZT0ibWFyZ2luOiBhdXRvOyBiYWNrZ3JvdW5kOiBub25lOyBkaXNwbGF5OiBibG9jazsgc2hhcGUtcmVuZGVyaW5nOiBhdXRvOyIgdmlld0JveD0iMCAwIDEwMCAxMDAiIHByZXNlcnZlQXNwZWN0UmF0aW89InhNaWRZTWlkIj4gIDxjaXJjbGUgY3g9IjUwIiBjeT0iNTAiIHI9IjMyIiBzdHJva2Utd2lkdGg9IjgiIHN0cm9rZT0iI2MzYzNjMyIgc3Ryb2tlLWRhc2hhcnJheT0iNTAuMjY1NDgyNDU3NDM2NjkgNTAuMjY1NDgyNDU3NDM2NjkiIGZpbGw9Im5vbmUiIHN0cm9rZS1saW5lY2FwPSJyb3VuZCI+ICAgIDxhbmltYXRlVHJhbnNmb3JtIGF0dHJpYnV0ZU5hbWU9InRyYW5zZm9ybSIgdHlwZT0icm90YXRlIiByZXBlYXRDb3VudD0iaW5kZWZpbml0ZSIgZHVyPSIxcyIga2V5VGltZXM9IjA7MSIgdmFsdWVzPSIwIDUwIDUwOzM2MCA1MCA1MCI+PC9hbmltYXRlVHJhbnNmb3JtPiAgPC9jaXJjbGU+PC9zdmc+\\\");\\n      background-size: auto calc(min(50%, 400px));\\n    }\\n    \");\n",
       "    },    function(Bokeh) {\n",
       "      inject_raw_css(\"\\n.bk.controls_main {\\n    max-width: 40vw !important;\\n    height: 880px !important;\\n    border-radius: 15px;\\n}\\n\\n.bk.min_h_control {\\n    min-height: 50px !important;\\n    top: 50;\\n}\\n\\n\\n.bk.hide_blocks {\\n}\\n\\n.bk.show_blocks {\\n    min-height: 200px !important;\\n}\\n\\n.bk.max_38_vwh{\\n  max-width:38vw !important;\\n}\\n\\n.bk.max_50_px{\\n  max-width:80px !important;\\n  margin-right: 0;\\n}\\n\\n\");\n",
       "    },    function(Bokeh) {\n",
       "      Bokeh.set_log_level(\"info\");\n",
       "    },\n",
       "function(Bokeh) {} // ensure no trailing comma for IE\n",
       "  ];\n",
       "\n",
       "  function run_inline_js() {\n",
       "    if ((root.Bokeh !== undefined) || (force === true)) {\n",
       "      for (var i = 0; i < inline_js.length; i++) {\n",
       "        inline_js[i].call(root, root.Bokeh);\n",
       "      }} else if (Date.now() < root._bokeh_timeout) {\n",
       "      setTimeout(run_inline_js, 100);\n",
       "    } else if (!root._bokeh_failed_load) {\n",
       "      console.log(\"Bokeh: BokehJS failed to load within specified timeout.\");\n",
       "      root._bokeh_failed_load = true;\n",
       "    }\n",
       "  }\n",
       "\n",
       "  if (root._bokeh_is_loading === 0) {\n",
       "    console.debug(\"Bokeh: BokehJS loaded, going straight to plotting\");\n",
       "    run_inline_js();\n",
       "  } else {\n",
       "    load_libs(css_urls, js_urls, js_modules, function() {\n",
       "      console.debug(\"Bokeh: BokehJS plotting callback run at\", now());\n",
       "      run_inline_js();\n",
       "    });\n",
       "  }\n",
       "}(window));"
      ],
      "application/vnd.holoviews_load.v0+json": "(function(root) {\n  function now() {\n    return new Date();\n  }\n\n  var force = true;\n\n  if (typeof root._bokeh_onload_callbacks === \"undefined\" || force === true) {\n    root._bokeh_onload_callbacks = [];\n    root._bokeh_is_loading = undefined;\n  }\n\n  if (typeof (root._bokeh_timeout) === \"undefined\" || force === true) {\n    root._bokeh_timeout = Date.now() + 5000;\n    root._bokeh_failed_load = false;\n  }\n\n  function run_callbacks() {\n    try {\n      root._bokeh_onload_callbacks.forEach(function(callback) {\n        if (callback != null)\n          callback();\n      });\n    } finally {\n      delete root._bokeh_onload_callbacks\n    }\n    console.debug(\"Bokeh: all callbacks have finished\");\n  }\n\n  function load_libs(css_urls, js_urls, js_modules, callback) {\n    if (css_urls == null) css_urls = [];\n    if (js_urls == null) js_urls = [];\n    if (js_modules == null) js_modules = [];\n\n    root._bokeh_onload_callbacks.push(callback);\n    if (root._bokeh_is_loading > 0) {\n      console.debug(\"Bokeh: BokehJS is being loaded, scheduling callback at\", now());\n      return null;\n    }\n    if (js_urls.length === 0 && js_modules.length === 0) {\n      run_callbacks();\n      return null;\n    }\n    console.debug(\"Bokeh: BokehJS not loaded, scheduling load and callback at\", now());\n\n    function on_load() {\n      root._bokeh_is_loading--;\n      if (root._bokeh_is_loading === 0) {\n        console.debug(\"Bokeh: all BokehJS libraries/stylesheets loaded\");\n        run_callbacks()\n      }\n    }\n\n    function on_error() {\n      console.error(\"failed to load \" + url);\n    }\n\n    for (var i = 0; i < css_urls.length; i++) {\n      var url = css_urls[i];\n      const element = document.createElement(\"link\");\n      element.onload = on_load;\n      element.onerror = on_error;\n      element.rel = \"stylesheet\";\n      element.type = \"text/css\";\n      element.href = url;\n      console.debug(\"Bokeh: injecting link tag for BokehJS stylesheet: \", url);\n      document.body.appendChild(element);\n    }\n\n    var skip = [];\n    if (window.requirejs) {\n      window.requirejs.config({'packages': {}, 'paths': {'plotly': 'https://cdn.plot.ly/plotly-2.10.1.min', 'gridstack': 'https://cdn.jsdelivr.net/npm/gridstack@4.2.5/dist/gridstack-h5', 'notyf': 'https://cdn.jsdelivr.net/npm/notyf@3/notyf.min'}, 'shim': {'gridstack': {'exports': 'GridStack'}}});\n      require([\"plotly\"], function(Plotly) {\n\twindow.Plotly = Plotly\n\ton_load()\n      })\n      require([\"gridstack\"], function(GridStack) {\n\twindow.GridStack = GridStack\n\ton_load()\n      })\n      require([\"notyf\"], function() {\n\ton_load()\n      })\n      root._bokeh_is_loading = css_urls.length + 3;\n    } else {\n      root._bokeh_is_loading = css_urls.length + js_urls.length + js_modules.length;\n    }    if (((window['Plotly'] !== undefined) && (!(window['Plotly'] instanceof HTMLElement))) || window.requirejs) {\n      var urls = ['https://cdn.plot.ly/plotly-2.10.1.min.js'];\n      for (var i = 0; i < urls.length; i++) {\n        skip.push(urls[i])\n      }\n    }    if (((window['GridStack'] !== undefined) && (!(window['GridStack'] instanceof HTMLElement))) || window.requirejs) {\n      var urls = ['https://cdn.jsdelivr.net/npm/gridstack@4.2.5/dist/gridstack-h5.js'];\n      for (var i = 0; i < urls.length; i++) {\n        skip.push(urls[i])\n      }\n    }    if (((window['Notyf'] !== undefined) && (!(window['Notyf'] instanceof HTMLElement))) || window.requirejs) {\n      var urls = ['https://cdn.jsdelivr.net/npm/notyf@3/notyf.min.js'];\n      for (var i = 0; i < urls.length; i++) {\n        skip.push(urls[i])\n      }\n    }    for (var i = 0; i < js_urls.length; i++) {\n      var url = js_urls[i];\n      if (skip.indexOf(url) >= 0) {\n\tif (!window.requirejs) {\n\t  on_load();\n\t}\n\tcontinue;\n      }\n      var element = document.createElement('script');\n      element.onload = on_load;\n      element.onerror = on_error;\n      element.async = false;\n      element.src = url;\n      console.debug(\"Bokeh: injecting script tag for BokehJS library: \", url);\n      document.head.appendChild(element);\n    }\n    for (var i = 0; i < js_modules.length; i++) {\n      var url = js_modules[i];\n      if (skip.indexOf(url) >= 0) {\n\tif (!window.requirejs) {\n\t  on_load();\n\t}\n\tcontinue;\n      }\n      var element = document.createElement('script');\n      element.onload = on_load;\n      element.onerror = on_error;\n      element.async = false;\n      element.src = url;\n      element.type = \"module\";\n      console.debug(\"Bokeh: injecting script tag for BokehJS library: \", url);\n      document.head.appendChild(element);\n    }\n    if (!js_urls.length && !js_modules.length) {\n      on_load()\n    }\n  };\n\n  function inject_raw_css(css) {\n    const element = document.createElement(\"style\");\n    element.appendChild(document.createTextNode(css));\n    document.body.appendChild(element);\n  }\n\n  var js_urls = [\"https://cdn.jsdelivr.net/npm/jquery@3.5.1/dist/jquery.slim.min.js\", \"https://cdn.plot.ly/plotly-2.10.1.min.js\", \"https://cdn.bokeh.org/bokeh/release/bokeh-2.4.3.min.js\", \"https://cdn.bokeh.org/bokeh/release/bokeh-gl-2.4.3.min.js\", \"https://cdn.bokeh.org/bokeh/release/bokeh-widgets-2.4.3.min.js\", \"https://cdn.bokeh.org/bokeh/release/bokeh-tables-2.4.3.min.js\", \"https://cdn.bokeh.org/bokeh/release/bokeh-mathjax-2.4.3.min.js\", \"https://cdn.jsdelivr.net/npm/notyf@3/notyf.min.js\", \"https://unpkg.com/@holoviz/panel@0.13.1/dist/panel.min.js\"];\n  var js_modules = [];\n  var css_urls = [\"https://cdn.jsdelivr.net/npm/notyf@3/notyf.min.css\", \"https://cdnjs.cloudflare.com/ajax/libs/font-awesome/5.15.1/css/all.min.css\", \"https://unpkg.com/@holoviz/panel@0.13.1/dist/css/alerts.css\", \"https://unpkg.com/@holoviz/panel@0.13.1/dist/css/card.css\", \"https://unpkg.com/@holoviz/panel@0.13.1/dist/css/dataframe.css\", \"https://unpkg.com/@holoviz/panel@0.13.1/dist/css/debugger.css\", \"https://unpkg.com/@holoviz/panel@0.13.1/dist/css/json.css\", \"https://unpkg.com/@holoviz/panel@0.13.1/dist/css/loading.css\", \"https://unpkg.com/@holoviz/panel@0.13.1/dist/css/markdown.css\", \"https://unpkg.com/@holoviz/panel@0.13.1/dist/css/widgets.css\"];\n  var inline_js = [    function(Bokeh) {\n      inject_raw_css(\"\\n    .bk.pn-loading.arcs:before {\\n      background-image: url(\\\"data:image/svg+xml;base64,PHN2ZyB4bWxucz0iaHR0cDovL3d3dy53My5vcmcvMjAwMC9zdmciIHhtbG5zOnhsaW5rPSJodHRwOi8vd3d3LnczLm9yZy8xOTk5L3hsaW5rIiBzdHlsZT0ibWFyZ2luOiBhdXRvOyBiYWNrZ3JvdW5kOiBub25lOyBkaXNwbGF5OiBibG9jazsgc2hhcGUtcmVuZGVyaW5nOiBhdXRvOyIgdmlld0JveD0iMCAwIDEwMCAxMDAiIHByZXNlcnZlQXNwZWN0UmF0aW89InhNaWRZTWlkIj4gIDxjaXJjbGUgY3g9IjUwIiBjeT0iNTAiIHI9IjMyIiBzdHJva2Utd2lkdGg9IjgiIHN0cm9rZT0iI2MzYzNjMyIgc3Ryb2tlLWRhc2hhcnJheT0iNTAuMjY1NDgyNDU3NDM2NjkgNTAuMjY1NDgyNDU3NDM2NjkiIGZpbGw9Im5vbmUiIHN0cm9rZS1saW5lY2FwPSJyb3VuZCI+ICAgIDxhbmltYXRlVHJhbnNmb3JtIGF0dHJpYnV0ZU5hbWU9InRyYW5zZm9ybSIgdHlwZT0icm90YXRlIiByZXBlYXRDb3VudD0iaW5kZWZpbml0ZSIgZHVyPSIxcyIga2V5VGltZXM9IjA7MSIgdmFsdWVzPSIwIDUwIDUwOzM2MCA1MCA1MCI+PC9hbmltYXRlVHJhbnNmb3JtPiAgPC9jaXJjbGU+PC9zdmc+\\\");\\n      background-size: auto calc(min(50%, 400px));\\n    }\\n    \");\n    },    function(Bokeh) {\n      inject_raw_css(\"\\n.bk.controls_main {\\n    max-width: 40vw !important;\\n    height: 880px !important;\\n    border-radius: 15px;\\n}\\n\\n.bk.min_h_control {\\n    min-height: 50px !important;\\n    top: 50;\\n}\\n\\n\\n.bk.hide_blocks {\\n}\\n\\n.bk.show_blocks {\\n    min-height: 200px !important;\\n}\\n\\n.bk.max_38_vwh{\\n  max-width:38vw !important;\\n}\\n\\n.bk.max_50_px{\\n  max-width:80px !important;\\n  margin-right: 0;\\n}\\n\\n\");\n    },    function(Bokeh) {\n      Bokeh.set_log_level(\"info\");\n    },\nfunction(Bokeh) {} // ensure no trailing comma for IE\n  ];\n\n  function run_inline_js() {\n    if ((root.Bokeh !== undefined) || (force === true)) {\n      for (var i = 0; i < inline_js.length; i++) {\n        inline_js[i].call(root, root.Bokeh);\n      }} else if (Date.now() < root._bokeh_timeout) {\n      setTimeout(run_inline_js, 100);\n    } else if (!root._bokeh_failed_load) {\n      console.log(\"Bokeh: BokehJS failed to load within specified timeout.\");\n      root._bokeh_failed_load = true;\n    }\n  }\n\n  if (root._bokeh_is_loading === 0) {\n    console.debug(\"Bokeh: BokehJS loaded, going straight to plotting\");\n    run_inline_js();\n  } else {\n    load_libs(css_urls, js_urls, js_modules, function() {\n      console.debug(\"Bokeh: BokehJS plotting callback run at\", now());\n      run_inline_js();\n    });\n  }\n}(window));"
     },
     "metadata": {},
     "output_type": "display_data"
    },
    {
     "data": {
      "application/javascript": [
       "\n",
       "if ((window.PyViz === undefined) || (window.PyViz instanceof HTMLElement)) {\n",
       "  window.PyViz = {comms: {}, comm_status:{}, kernels:{}, receivers: {}, plot_index: []}\n",
       "}\n",
       "\n",
       "\n",
       "    function JupyterCommManager() {\n",
       "    }\n",
       "\n",
       "    JupyterCommManager.prototype.register_target = function(plot_id, comm_id, msg_handler) {\n",
       "      if (window.comm_manager || ((window.Jupyter !== undefined) && (Jupyter.notebook.kernel != null))) {\n",
       "        var comm_manager = window.comm_manager || Jupyter.notebook.kernel.comm_manager;\n",
       "        comm_manager.register_target(comm_id, function(comm) {\n",
       "          comm.on_msg(msg_handler);\n",
       "        });\n",
       "      } else if ((plot_id in window.PyViz.kernels) && (window.PyViz.kernels[plot_id])) {\n",
       "        window.PyViz.kernels[plot_id].registerCommTarget(comm_id, function(comm) {\n",
       "          comm.onMsg = msg_handler;\n",
       "        });\n",
       "      } else if (typeof google != 'undefined' && google.colab.kernel != null) {\n",
       "        google.colab.kernel.comms.registerTarget(comm_id, (comm) => {\n",
       "          var messages = comm.messages[Symbol.asyncIterator]();\n",
       "          function processIteratorResult(result) {\n",
       "            var message = result.value;\n",
       "            console.log(message)\n",
       "            var content = {data: message.data, comm_id};\n",
       "            var buffers = []\n",
       "            for (var buffer of message.buffers || []) {\n",
       "              buffers.push(new DataView(buffer))\n",
       "            }\n",
       "            var metadata = message.metadata || {};\n",
       "            var msg = {content, buffers, metadata}\n",
       "            msg_handler(msg);\n",
       "            return messages.next().then(processIteratorResult);\n",
       "          }\n",
       "          return messages.next().then(processIteratorResult);\n",
       "        })\n",
       "      }\n",
       "    }\n",
       "\n",
       "    JupyterCommManager.prototype.get_client_comm = function(plot_id, comm_id, msg_handler) {\n",
       "      if (comm_id in window.PyViz.comms) {\n",
       "        return window.PyViz.comms[comm_id];\n",
       "      } else if (window.comm_manager || ((window.Jupyter !== undefined) && (Jupyter.notebook.kernel != null))) {\n",
       "        var comm_manager = window.comm_manager || Jupyter.notebook.kernel.comm_manager;\n",
       "        var comm = comm_manager.new_comm(comm_id, {}, {}, {}, comm_id);\n",
       "        if (msg_handler) {\n",
       "          comm.on_msg(msg_handler);\n",
       "        }\n",
       "      } else if ((plot_id in window.PyViz.kernels) && (window.PyViz.kernels[plot_id])) {\n",
       "        var comm = window.PyViz.kernels[plot_id].connectToComm(comm_id);\n",
       "        comm.open();\n",
       "        if (msg_handler) {\n",
       "          comm.onMsg = msg_handler;\n",
       "        }\n",
       "      } else if (typeof google != 'undefined' && google.colab.kernel != null) {\n",
       "        var comm_promise = google.colab.kernel.comms.open(comm_id)\n",
       "        comm_promise.then((comm) => {\n",
       "          window.PyViz.comms[comm_id] = comm;\n",
       "          if (msg_handler) {\n",
       "            var messages = comm.messages[Symbol.asyncIterator]();\n",
       "            function processIteratorResult(result) {\n",
       "              var message = result.value;\n",
       "              var content = {data: message.data};\n",
       "              var metadata = message.metadata || {comm_id};\n",
       "              var msg = {content, metadata}\n",
       "              msg_handler(msg);\n",
       "              return messages.next().then(processIteratorResult);\n",
       "            }\n",
       "            return messages.next().then(processIteratorResult);\n",
       "          }\n",
       "        }) \n",
       "        var sendClosure = (data, metadata, buffers, disposeOnDone) => {\n",
       "          return comm_promise.then((comm) => {\n",
       "            comm.send(data, metadata, buffers, disposeOnDone);\n",
       "          });\n",
       "        };\n",
       "        var comm = {\n",
       "          send: sendClosure\n",
       "        };\n",
       "      }\n",
       "      window.PyViz.comms[comm_id] = comm;\n",
       "      return comm;\n",
       "    }\n",
       "    window.PyViz.comm_manager = new JupyterCommManager();\n",
       "    \n",
       "\n",
       "\n",
       "var JS_MIME_TYPE = 'application/javascript';\n",
       "var HTML_MIME_TYPE = 'text/html';\n",
       "var EXEC_MIME_TYPE = 'application/vnd.holoviews_exec.v0+json';\n",
       "var CLASS_NAME = 'output';\n",
       "\n",
       "/**\n",
       " * Render data to the DOM node\n",
       " */\n",
       "function render(props, node) {\n",
       "  var div = document.createElement(\"div\");\n",
       "  var script = document.createElement(\"script\");\n",
       "  node.appendChild(div);\n",
       "  node.appendChild(script);\n",
       "}\n",
       "\n",
       "/**\n",
       " * Handle when a new output is added\n",
       " */\n",
       "function handle_add_output(event, handle) {\n",
       "  var output_area = handle.output_area;\n",
       "  var output = handle.output;\n",
       "  if ((output.data == undefined) || (!output.data.hasOwnProperty(EXEC_MIME_TYPE))) {\n",
       "    return\n",
       "  }\n",
       "  var id = output.metadata[EXEC_MIME_TYPE][\"id\"];\n",
       "  var toinsert = output_area.element.find(\".\" + CLASS_NAME.split(' ')[0]);\n",
       "  if (id !== undefined) {\n",
       "    var nchildren = toinsert.length;\n",
       "    var html_node = toinsert[nchildren-1].children[0];\n",
       "    html_node.innerHTML = output.data[HTML_MIME_TYPE];\n",
       "    var scripts = [];\n",
       "    var nodelist = html_node.querySelectorAll(\"script\");\n",
       "    for (var i in nodelist) {\n",
       "      if (nodelist.hasOwnProperty(i)) {\n",
       "        scripts.push(nodelist[i])\n",
       "      }\n",
       "    }\n",
       "\n",
       "    scripts.forEach( function (oldScript) {\n",
       "      var newScript = document.createElement(\"script\");\n",
       "      var attrs = [];\n",
       "      var nodemap = oldScript.attributes;\n",
       "      for (var j in nodemap) {\n",
       "        if (nodemap.hasOwnProperty(j)) {\n",
       "          attrs.push(nodemap[j])\n",
       "        }\n",
       "      }\n",
       "      attrs.forEach(function(attr) { newScript.setAttribute(attr.name, attr.value) });\n",
       "      newScript.appendChild(document.createTextNode(oldScript.innerHTML));\n",
       "      oldScript.parentNode.replaceChild(newScript, oldScript);\n",
       "    });\n",
       "    if (JS_MIME_TYPE in output.data) {\n",
       "      toinsert[nchildren-1].children[1].textContent = output.data[JS_MIME_TYPE];\n",
       "    }\n",
       "    output_area._hv_plot_id = id;\n",
       "    if ((window.Bokeh !== undefined) && (id in Bokeh.index)) {\n",
       "      window.PyViz.plot_index[id] = Bokeh.index[id];\n",
       "    } else {\n",
       "      window.PyViz.plot_index[id] = null;\n",
       "    }\n",
       "  } else if (output.metadata[EXEC_MIME_TYPE][\"server_id\"] !== undefined) {\n",
       "    var bk_div = document.createElement(\"div\");\n",
       "    bk_div.innerHTML = output.data[HTML_MIME_TYPE];\n",
       "    var script_attrs = bk_div.children[0].attributes;\n",
       "    for (var i = 0; i < script_attrs.length; i++) {\n",
       "      toinsert[toinsert.length - 1].childNodes[1].setAttribute(script_attrs[i].name, script_attrs[i].value);\n",
       "    }\n",
       "    // store reference to server id on output_area\n",
       "    output_area._bokeh_server_id = output.metadata[EXEC_MIME_TYPE][\"server_id\"];\n",
       "  }\n",
       "}\n",
       "\n",
       "/**\n",
       " * Handle when an output is cleared or removed\n",
       " */\n",
       "function handle_clear_output(event, handle) {\n",
       "  var id = handle.cell.output_area._hv_plot_id;\n",
       "  var server_id = handle.cell.output_area._bokeh_server_id;\n",
       "  if (((id === undefined) || !(id in PyViz.plot_index)) && (server_id !== undefined)) { return; }\n",
       "  var comm = window.PyViz.comm_manager.get_client_comm(\"hv-extension-comm\", \"hv-extension-comm\", function () {});\n",
       "  if (server_id !== null) {\n",
       "    comm.send({event_type: 'server_delete', 'id': server_id});\n",
       "    return;\n",
       "  } else if (comm !== null) {\n",
       "    comm.send({event_type: 'delete', 'id': id});\n",
       "  }\n",
       "  delete PyViz.plot_index[id];\n",
       "  if ((window.Bokeh !== undefined) & (id in window.Bokeh.index)) {\n",
       "    var doc = window.Bokeh.index[id].model.document\n",
       "    doc.clear();\n",
       "    const i = window.Bokeh.documents.indexOf(doc);\n",
       "    if (i > -1) {\n",
       "      window.Bokeh.documents.splice(i, 1);\n",
       "    }\n",
       "  }\n",
       "}\n",
       "\n",
       "/**\n",
       " * Handle kernel restart event\n",
       " */\n",
       "function handle_kernel_cleanup(event, handle) {\n",
       "  delete PyViz.comms[\"hv-extension-comm\"];\n",
       "  window.PyViz.plot_index = {}\n",
       "}\n",
       "\n",
       "/**\n",
       " * Handle update_display_data messages\n",
       " */\n",
       "function handle_update_output(event, handle) {\n",
       "  handle_clear_output(event, {cell: {output_area: handle.output_area}})\n",
       "  handle_add_output(event, handle)\n",
       "}\n",
       "\n",
       "function register_renderer(events, OutputArea) {\n",
       "  function append_mime(data, metadata, element) {\n",
       "    // create a DOM node to render to\n",
       "    var toinsert = this.create_output_subarea(\n",
       "    metadata,\n",
       "    CLASS_NAME,\n",
       "    EXEC_MIME_TYPE\n",
       "    );\n",
       "    this.keyboard_manager.register_events(toinsert);\n",
       "    // Render to node\n",
       "    var props = {data: data, metadata: metadata[EXEC_MIME_TYPE]};\n",
       "    render(props, toinsert[0]);\n",
       "    element.append(toinsert);\n",
       "    return toinsert\n",
       "  }\n",
       "\n",
       "  events.on('output_added.OutputArea', handle_add_output);\n",
       "  events.on('output_updated.OutputArea', handle_update_output);\n",
       "  events.on('clear_output.CodeCell', handle_clear_output);\n",
       "  events.on('delete.Cell', handle_clear_output);\n",
       "  events.on('kernel_ready.Kernel', handle_kernel_cleanup);\n",
       "\n",
       "  OutputArea.prototype.register_mime_type(EXEC_MIME_TYPE, append_mime, {\n",
       "    safe: true,\n",
       "    index: 0\n",
       "  });\n",
       "}\n",
       "\n",
       "if (window.Jupyter !== undefined) {\n",
       "  try {\n",
       "    var events = require('base/js/events');\n",
       "    var OutputArea = require('notebook/js/outputarea').OutputArea;\n",
       "    if (OutputArea.prototype.mime_types().indexOf(EXEC_MIME_TYPE) == -1) {\n",
       "      register_renderer(events, OutputArea);\n",
       "    }\n",
       "  } catch(err) {\n",
       "  }\n",
       "}\n"
      ],
      "application/vnd.holoviews_load.v0+json": "\nif ((window.PyViz === undefined) || (window.PyViz instanceof HTMLElement)) {\n  window.PyViz = {comms: {}, comm_status:{}, kernels:{}, receivers: {}, plot_index: []}\n}\n\n\n    function JupyterCommManager() {\n    }\n\n    JupyterCommManager.prototype.register_target = function(plot_id, comm_id, msg_handler) {\n      if (window.comm_manager || ((window.Jupyter !== undefined) && (Jupyter.notebook.kernel != null))) {\n        var comm_manager = window.comm_manager || Jupyter.notebook.kernel.comm_manager;\n        comm_manager.register_target(comm_id, function(comm) {\n          comm.on_msg(msg_handler);\n        });\n      } else if ((plot_id in window.PyViz.kernels) && (window.PyViz.kernels[plot_id])) {\n        window.PyViz.kernels[plot_id].registerCommTarget(comm_id, function(comm) {\n          comm.onMsg = msg_handler;\n        });\n      } else if (typeof google != 'undefined' && google.colab.kernel != null) {\n        google.colab.kernel.comms.registerTarget(comm_id, (comm) => {\n          var messages = comm.messages[Symbol.asyncIterator]();\n          function processIteratorResult(result) {\n            var message = result.value;\n            console.log(message)\n            var content = {data: message.data, comm_id};\n            var buffers = []\n            for (var buffer of message.buffers || []) {\n              buffers.push(new DataView(buffer))\n            }\n            var metadata = message.metadata || {};\n            var msg = {content, buffers, metadata}\n            msg_handler(msg);\n            return messages.next().then(processIteratorResult);\n          }\n          return messages.next().then(processIteratorResult);\n        })\n      }\n    }\n\n    JupyterCommManager.prototype.get_client_comm = function(plot_id, comm_id, msg_handler) {\n      if (comm_id in window.PyViz.comms) {\n        return window.PyViz.comms[comm_id];\n      } else if (window.comm_manager || ((window.Jupyter !== undefined) && (Jupyter.notebook.kernel != null))) {\n        var comm_manager = window.comm_manager || Jupyter.notebook.kernel.comm_manager;\n        var comm = comm_manager.new_comm(comm_id, {}, {}, {}, comm_id);\n        if (msg_handler) {\n          comm.on_msg(msg_handler);\n        }\n      } else if ((plot_id in window.PyViz.kernels) && (window.PyViz.kernels[plot_id])) {\n        var comm = window.PyViz.kernels[plot_id].connectToComm(comm_id);\n        comm.open();\n        if (msg_handler) {\n          comm.onMsg = msg_handler;\n        }\n      } else if (typeof google != 'undefined' && google.colab.kernel != null) {\n        var comm_promise = google.colab.kernel.comms.open(comm_id)\n        comm_promise.then((comm) => {\n          window.PyViz.comms[comm_id] = comm;\n          if (msg_handler) {\n            var messages = comm.messages[Symbol.asyncIterator]();\n            function processIteratorResult(result) {\n              var message = result.value;\n              var content = {data: message.data};\n              var metadata = message.metadata || {comm_id};\n              var msg = {content, metadata}\n              msg_handler(msg);\n              return messages.next().then(processIteratorResult);\n            }\n            return messages.next().then(processIteratorResult);\n          }\n        }) \n        var sendClosure = (data, metadata, buffers, disposeOnDone) => {\n          return comm_promise.then((comm) => {\n            comm.send(data, metadata, buffers, disposeOnDone);\n          });\n        };\n        var comm = {\n          send: sendClosure\n        };\n      }\n      window.PyViz.comms[comm_id] = comm;\n      return comm;\n    }\n    window.PyViz.comm_manager = new JupyterCommManager();\n    \n\n\nvar JS_MIME_TYPE = 'application/javascript';\nvar HTML_MIME_TYPE = 'text/html';\nvar EXEC_MIME_TYPE = 'application/vnd.holoviews_exec.v0+json';\nvar CLASS_NAME = 'output';\n\n/**\n * Render data to the DOM node\n */\nfunction render(props, node) {\n  var div = document.createElement(\"div\");\n  var script = document.createElement(\"script\");\n  node.appendChild(div);\n  node.appendChild(script);\n}\n\n/**\n * Handle when a new output is added\n */\nfunction handle_add_output(event, handle) {\n  var output_area = handle.output_area;\n  var output = handle.output;\n  if ((output.data == undefined) || (!output.data.hasOwnProperty(EXEC_MIME_TYPE))) {\n    return\n  }\n  var id = output.metadata[EXEC_MIME_TYPE][\"id\"];\n  var toinsert = output_area.element.find(\".\" + CLASS_NAME.split(' ')[0]);\n  if (id !== undefined) {\n    var nchildren = toinsert.length;\n    var html_node = toinsert[nchildren-1].children[0];\n    html_node.innerHTML = output.data[HTML_MIME_TYPE];\n    var scripts = [];\n    var nodelist = html_node.querySelectorAll(\"script\");\n    for (var i in nodelist) {\n      if (nodelist.hasOwnProperty(i)) {\n        scripts.push(nodelist[i])\n      }\n    }\n\n    scripts.forEach( function (oldScript) {\n      var newScript = document.createElement(\"script\");\n      var attrs = [];\n      var nodemap = oldScript.attributes;\n      for (var j in nodemap) {\n        if (nodemap.hasOwnProperty(j)) {\n          attrs.push(nodemap[j])\n        }\n      }\n      attrs.forEach(function(attr) { newScript.setAttribute(attr.name, attr.value) });\n      newScript.appendChild(document.createTextNode(oldScript.innerHTML));\n      oldScript.parentNode.replaceChild(newScript, oldScript);\n    });\n    if (JS_MIME_TYPE in output.data) {\n      toinsert[nchildren-1].children[1].textContent = output.data[JS_MIME_TYPE];\n    }\n    output_area._hv_plot_id = id;\n    if ((window.Bokeh !== undefined) && (id in Bokeh.index)) {\n      window.PyViz.plot_index[id] = Bokeh.index[id];\n    } else {\n      window.PyViz.plot_index[id] = null;\n    }\n  } else if (output.metadata[EXEC_MIME_TYPE][\"server_id\"] !== undefined) {\n    var bk_div = document.createElement(\"div\");\n    bk_div.innerHTML = output.data[HTML_MIME_TYPE];\n    var script_attrs = bk_div.children[0].attributes;\n    for (var i = 0; i < script_attrs.length; i++) {\n      toinsert[toinsert.length - 1].childNodes[1].setAttribute(script_attrs[i].name, script_attrs[i].value);\n    }\n    // store reference to server id on output_area\n    output_area._bokeh_server_id = output.metadata[EXEC_MIME_TYPE][\"server_id\"];\n  }\n}\n\n/**\n * Handle when an output is cleared or removed\n */\nfunction handle_clear_output(event, handle) {\n  var id = handle.cell.output_area._hv_plot_id;\n  var server_id = handle.cell.output_area._bokeh_server_id;\n  if (((id === undefined) || !(id in PyViz.plot_index)) && (server_id !== undefined)) { return; }\n  var comm = window.PyViz.comm_manager.get_client_comm(\"hv-extension-comm\", \"hv-extension-comm\", function () {});\n  if (server_id !== null) {\n    comm.send({event_type: 'server_delete', 'id': server_id});\n    return;\n  } else if (comm !== null) {\n    comm.send({event_type: 'delete', 'id': id});\n  }\n  delete PyViz.plot_index[id];\n  if ((window.Bokeh !== undefined) & (id in window.Bokeh.index)) {\n    var doc = window.Bokeh.index[id].model.document\n    doc.clear();\n    const i = window.Bokeh.documents.indexOf(doc);\n    if (i > -1) {\n      window.Bokeh.documents.splice(i, 1);\n    }\n  }\n}\n\n/**\n * Handle kernel restart event\n */\nfunction handle_kernel_cleanup(event, handle) {\n  delete PyViz.comms[\"hv-extension-comm\"];\n  window.PyViz.plot_index = {}\n}\n\n/**\n * Handle update_display_data messages\n */\nfunction handle_update_output(event, handle) {\n  handle_clear_output(event, {cell: {output_area: handle.output_area}})\n  handle_add_output(event, handle)\n}\n\nfunction register_renderer(events, OutputArea) {\n  function append_mime(data, metadata, element) {\n    // create a DOM node to render to\n    var toinsert = this.create_output_subarea(\n    metadata,\n    CLASS_NAME,\n    EXEC_MIME_TYPE\n    );\n    this.keyboard_manager.register_events(toinsert);\n    // Render to node\n    var props = {data: data, metadata: metadata[EXEC_MIME_TYPE]};\n    render(props, toinsert[0]);\n    element.append(toinsert);\n    return toinsert\n  }\n\n  events.on('output_added.OutputArea', handle_add_output);\n  events.on('output_updated.OutputArea', handle_update_output);\n  events.on('clear_output.CodeCell', handle_clear_output);\n  events.on('delete.Cell', handle_clear_output);\n  events.on('kernel_ready.Kernel', handle_kernel_cleanup);\n\n  OutputArea.prototype.register_mime_type(EXEC_MIME_TYPE, append_mime, {\n    safe: true,\n    index: 0\n  });\n}\n\nif (window.Jupyter !== undefined) {\n  try {\n    var events = require('base/js/events');\n    var OutputArea = require('notebook/js/outputarea').OutputArea;\n    if (OutputArea.prototype.mime_types().indexOf(EXEC_MIME_TYPE) == -1) {\n      register_renderer(events, OutputArea);\n    }\n  } catch(err) {\n  }\n}\n"
     },
     "metadata": {},
     "output_type": "display_data"
    },
    {
     "data": {
      "text/html": [
       "<style>.bk-root, .bk-root .bk:before, .bk-root .bk:after {\n",
       "  font-family: var(--jp-ui-font-size1);\n",
       "  font-size: var(--jp-ui-font-size1);\n",
       "  color: var(--jp-ui-font-color1);\n",
       "}\n",
       "</style>"
      ]
     },
     "metadata": {},
     "output_type": "display_data"
    },
    {
     "name": "stdout",
     "output_type": "stream",
     "text": [
      "time: 16 ms (started: 2022-09-24 03:51:01 -05:00)\n"
     ]
    }
   ],
   "source": [
    "css = '''\n",
    ".bk.controls_main {\n",
    "    max-width: 40vw !important;\n",
    "    height: 880px !important;\n",
    "    border-radius: 15px;\n",
    "}\n",
    "\n",
    ".bk.min_h_control {\n",
    "    min-height: 50px !important;\n",
    "    top: 50;\n",
    "}\n",
    "\n",
    "\n",
    ".bk.hide_blocks {\n",
    "}\n",
    "\n",
    ".bk.show_blocks {\n",
    "    min-height: 200px !important;\n",
    "}\n",
    "\n",
    ".bk.max_38_vwh{\n",
    "  max-width:38vw !important;\n",
    "}\n",
    "\n",
    ".bk.max_50_px{\n",
    "  max-width:80px !important;\n",
    "  margin-right: 0;\n",
    "}\n",
    "\n",
    "'''\n",
    "\n",
    "pn.extension(raw_css=[css])"
   ]
  },
  {
   "cell_type": "code",
   "execution_count": 17,
   "id": "29df5fa3",
   "metadata": {},
   "outputs": [
    {
     "name": "stdout",
     "output_type": "stream",
     "text": [
      "time: 0 ns (started: 2022-09-24 03:51:01 -05:00)\n"
     ]
    }
   ],
   "source": [
    "traj_type = pnw.RadioButtonGroup(\n",
    "    name='Trajectory type', \n",
    "    options=['Brownian motion','Correlated Random Walk', 'Levy Flight'], \n",
    "    button_type = 'primary', margin=(15,0,0,5))"
   ]
  },
  {
   "cell_type": "markdown",
   "id": "f680f45a",
   "metadata": {},
   "source": [
    "## Basic Controls"
   ]
  },
  {
   "cell_type": "code",
   "execution_count": 18,
   "id": "cf5b5b81",
   "metadata": {},
   "outputs": [
    {
     "name": "stdout",
     "output_type": "stream",
     "text": [
      "time: 15 ms (started: 2022-09-24 03:51:01 -05:00)\n"
     ]
    }
   ],
   "source": [
    "n_traj = pnw.IntSlider(name='Numer of trajectories', value=1, step=1, start=1, end=3,css_classes = ['max_38_vwh'])\n",
    "\n",
    "s_x = pnw.IntInput(name='X Starting position',value=0, step=1, start=-100, end=100, width = 100)\n",
    "s_y = pnw.IntInput(name='Y Starting position',value=0, step=1, start=-100, end=100, width = 100)\n",
    "\n",
    "speed = pnw.IntInput(name='Speed',value=6, step=1, start=1, end=10, width=100)\n",
    "\n",
    "n_steps = pnw.IntSlider(name='Numer of steps', value=1000, step=1000, start=1000, end=100000)"
   ]
  },
  {
   "cell_type": "code",
   "execution_count": 19,
   "id": "2ebab42f",
   "metadata": {},
   "outputs": [
    {
     "name": "stdout",
     "output_type": "stream",
     "text": [
      "time: 16 ms (started: 2022-09-24 03:51:01 -05:00)\n"
     ]
    }
   ],
   "source": [
    "basic_controls = pn.Column(\n",
    "    '#### General parameters',\n",
    "    '###### all trajectories will be set with same general satrting parameters',\n",
    "    pn.Row(s_x,s_y),\n",
    "    pn.Row(speed,n_steps))"
   ]
  },
  {
   "cell_type": "code",
   "execution_count": 20,
   "id": "b686c94d",
   "metadata": {},
   "outputs": [
    {
     "name": "stdout",
     "output_type": "stream",
     "text": [
      "time: 16 ms (started: 2022-09-24 03:51:01 -05:00)\n"
     ]
    }
   ],
   "source": [
    "traj_controls = pn.Column(n_traj, '###### Max 3 trayectories')"
   ]
  },
  {
   "cell_type": "markdown",
   "id": "5e2bcbb5",
   "metadata": {},
   "source": [
    "## BM Controls"
   ]
  },
  {
   "cell_type": "code",
   "execution_count": 21,
   "id": "29363461",
   "metadata": {},
   "outputs": [
    {
     "name": "stdout",
     "output_type": "stream",
     "text": [
      "time: 0 ns (started: 2022-09-24 03:51:01 -05:00)\n"
     ]
    }
   ],
   "source": [
    "bm_type = pnw.RadioButtonGroup(name='BM Type', options=['BM 2D', 'North-South-East-Weast Restriction'], button_type = 'default')"
   ]
  },
  {
   "cell_type": "markdown",
   "id": "a4baba86",
   "metadata": {},
   "source": [
    "## CRW Controls"
   ]
  },
  {
   "cell_type": "code",
   "execution_count": 22,
   "id": "c61065cd",
   "metadata": {},
   "outputs": [
    {
     "name": "stdout",
     "output_type": "stream",
     "text": [
      "time: 0 ns (started: 2022-09-24 03:51:01 -05:00)\n"
     ]
    }
   ],
   "source": [
    "crw_e_1 = pnw.FloatInput(name='c',value=0.6, step=0.1, start=0.1, end=0.9, width=80)\n",
    "crw_e_2 = pnw.FloatInput(name='c for t2',value=0.6, step=0.1, start=0.1, end=0.9, width=80)\n",
    "crw_e_3 = pnw.FloatInput(name='c for t3',value=0.6, step=0.1, start=0.1, end=0.9, width=80)\n",
    "crw_e_4 = pnw.FloatInput(name='c for t4',value=0.6, step=0.1, start=0.1, end=0.9, width=80)"
   ]
  },
  {
   "cell_type": "code",
   "execution_count": 23,
   "id": "c66b1248",
   "metadata": {},
   "outputs": [
    {
     "name": "stdout",
     "output_type": "stream",
     "text": [
      "time: 0 ns (started: 2022-09-24 03:51:01 -05:00)\n"
     ]
    }
   ],
   "source": [
    "apply_crwe_to_all = pnw.RadioButtonGroup(name='crwe_apply', options=['YES', 'NO'], button_type = 'default')"
   ]
  },
  {
   "cell_type": "code",
   "execution_count": 24,
   "id": "7a275cc0",
   "metadata": {},
   "outputs": [
    {
     "name": "stdout",
     "output_type": "stream",
     "text": [
      "time: 0 ns (started: 2022-09-24 03:51:01 -05:00)\n"
     ]
    }
   ],
   "source": [
    "CRW_controls = pn.Column(\n",
    "    '#### CRW Parameters',\n",
    "    pn.Column('##### Apply same exponent to all trajectories?',apply_crwe_to_all),\n",
    "    crw_e_1)"
   ]
  },
  {
   "cell_type": "markdown",
   "id": "859ad5f0",
   "metadata": {},
   "source": [
    "## Levy controls"
   ]
  },
  {
   "cell_type": "code",
   "execution_count": 25,
   "id": "1596812c",
   "metadata": {},
   "outputs": [
    {
     "name": "stdout",
     "output_type": "stream",
     "text": [
      "time: 0 ns (started: 2022-09-24 03:51:01 -05:00)\n"
     ]
    }
   ],
   "source": [
    "levy_alpha = pnw.FloatInput(name='alpha',value=1, step=0.1, start=0, end=2, width= 80)\n",
    "levy_beta = pnw.FloatInput(name='beta',value=1, step=0.1, start=0, end=1, width= 80)\n",
    "levy_loc = pnw.IntSlider(name='loc', value=3, step=1, start=0, end=10, width= 80)"
   ]
  },
  {
   "cell_type": "code",
   "execution_count": 26,
   "id": "c0f700e2",
   "metadata": {},
   "outputs": [
    {
     "name": "stdout",
     "output_type": "stream",
     "text": [
      "time: 0 ns (started: 2022-09-24 03:51:01 -05:00)\n"
     ]
    }
   ],
   "source": [
    "Levy_controls = pn.Column(\n",
    "    '#### Levy values',\n",
    "    pn.Row(levy_alpha,levy_beta, levy_loc))"
   ]
  },
  {
   "cell_type": "markdown",
   "id": "c764332f",
   "metadata": {},
   "source": [
    "## ALL"
   ]
  },
  {
   "cell_type": "code",
   "execution_count": 27,
   "id": "5e35991c",
   "metadata": {},
   "outputs": [
    {
     "name": "stdout",
     "output_type": "stream",
     "text": [
      "time: 0 ns (started: 2022-09-24 03:51:01 -05:00)\n"
     ]
    }
   ],
   "source": [
    "@pn.depends(traj_type, n_traj, apply_crwe_to_all)\n",
    "def display_controls(traj_type, n_traj, apply_crwe_to_all):\n",
    "    \n",
    "    controls_layout = pn.Column('#### hola')\n",
    "    \n",
    "    if traj_type == \"Brownian motion\":\n",
    "        controls_layout = pn.Column(traj_controls, basic_controls, '#### Brownian Motion Type', bm_type)\n",
    "        \n",
    "        \n",
    "    if traj_type == 'Correlated Random Walk' and  n_traj == 2 and apply_crwe_to_all == 'NO':\n",
    "        controls_layout = pn.Column(traj_controls, basic_controls, CRW_controls, crw_e_2)\n",
    "    \n",
    "    if traj_type == 'Correlated Random Walk' and  n_traj == 3 and apply_crwe_to_all == 'NO':\n",
    "        controls_layout = pn.Column(traj_controls, basic_controls, CRW_controls, pn.Row(crw_e_2,crw_e_3))\n",
    "    \n",
    "    if traj_type == 'Correlated Random Walk' and  (n_traj == 1 or apply_crwe_to_all == 'YES'):\n",
    "        controls_layout = pn.Column(traj_controls, basic_controls, CRW_controls)\n",
    "        \n",
    "        \n",
    "    if traj_type == \"Levy Flight\":\n",
    "        controls_layout = pn.Column(basic_controls,Levy_controls)\n",
    "        \n",
    "    return controls_layout"
   ]
  },
  {
   "cell_type": "code",
   "execution_count": 50,
   "id": "e08797db",
   "metadata": {},
   "outputs": [
    {
     "name": "stdout",
     "output_type": "stream",
     "text": [
      "time: 0 ns (started: 2022-09-24 03:59:11 -05:00)\n"
     ]
    }
   ],
   "source": [
    "@pn.depends(traj_type, n_traj, s_x, s_y, speed, n_steps, bm_type, apply_crwe_to_all, crw_e_1, crw_e_2, crw_e_3, levy_alpha, levy_beta, levy_loc)\n",
    "def set_traj_data(traj_type, n_traj, s_x, s_y, speed, n_steps,  bm_type, apply_crwe_to_all, crw_e_1, crw_e_2, crw_e_3, levy_alpha, levy_beta, levy_loc):\n",
    "    \n",
    "    \n",
    "    # define trajectory type\n",
    "    tt = \"\"\n",
    "    prefix = \"trayectory_\"\n",
    "    if traj_type == \"Brownian motion\" and bm_type == 'BM 2D' :\n",
    "        tt = \"BM_2d\"\n",
    "        \n",
    "    if traj_type == \"Brownian motion\" and bm_type == 'North-South-East-Weast Restriction' :\n",
    "        tt = \"BM_nsew\"\n",
    "        \n",
    "    if traj_type == \"Correlated Random Walk\":\n",
    "        tt = \"CRW\"\n",
    "        prefix = \"cuachy_\"\n",
    "        \n",
    "        \n",
    "    exponents = [0.1]      \n",
    "    if traj_type =='Correlated Random Walk' and (n_traj == 1 or apply_crwe_to_all == 'YES'):\n",
    "        exponents = [crw_e_1]\n",
    "        \n",
    "    if traj_type =='Correlated Random Walk' and n_traj == 2 and apply_crwe_to_all == 'NO':\n",
    "        exponents = [crw_e_1, crw_e_2]\n",
    "    \n",
    "    if traj_type =='Correlated Random Walk' and n_traj == 3 and apply_crwe_to_all == 'NO':\n",
    "         exponents = [crw_e_1, crw_e_2, crw_e_3]\n",
    "    \n",
    "    \n",
    "        \n",
    "        \n",
    "            \n",
    "    if not traj_type == \"Levy Flight\":\n",
    "        explorers = Explorers(s_x,s_y)\n",
    "        traj = explorers.trace_trajectories(n_traj = n_traj, traj_type= tt, n_steps = n_steps, speed = speed, crw_exponents = exponents)\n",
    "    \n",
    "    if traj_type == \"Levy Flight\":\n",
    "        tt = \"LF\"\n",
    "        prefix = \"Levy_alpha_\"\n",
    "        levy_flight = LFlyTrajectory (s_x,s_y)\n",
    "        traj = levy_flight.levy_walk(alpha = levy_alpha, beta = levy_beta, loc = levy_loc , speed = speed, samples = n_steps)\n",
    "    \n",
    "        \n",
    "    global g_dash_data\n",
    "    g_dash_data = traj\n",
    "    \n",
    "    fig =  plot_trajectories(traj, n_traj, traj_type, prefix)\n",
    "    \n",
    "    global g_a \n",
    "    g_a = 9\n",
    "\n",
    "    #return fig"
   ]
  },
  {
   "cell_type": "code",
   "execution_count": 51,
   "id": "c238053a",
   "metadata": {},
   "outputs": [
    {
     "data": {},
     "metadata": {},
     "output_type": "display_data"
    },
    {
     "data": {
      "application/vnd.holoviews_exec.v0+json": "",
      "text/html": [
       "<div id='1160'>\n",
       "  <div class=\"bk-root\" id=\"8f9bbe23-2446-4502-aa60-cb337d601774\" data-root-id=\"1160\"></div>\n",
       "</div>\n",
       "<script type=\"application/javascript\">(function(root) {\n",
       "  function embed_document(root) {\n",
       "    var docs_json = {\"95cfe7b9-635e-45b3-b33b-fed3c9701e1f\":{\"defs\":[{\"extends\":null,\"module\":null,\"name\":\"ReactiveHTML1\",\"overrides\":[],\"properties\":[]},{\"extends\":null,\"module\":null,\"name\":\"FlexBox1\",\"overrides\":[],\"properties\":[{\"default\":\"flex-start\",\"kind\":null,\"name\":\"align_content\"},{\"default\":\"flex-start\",\"kind\":null,\"name\":\"align_items\"},{\"default\":\"row\",\"kind\":null,\"name\":\"flex_direction\"},{\"default\":\"wrap\",\"kind\":null,\"name\":\"flex_wrap\"},{\"default\":\"flex-start\",\"kind\":null,\"name\":\"justify_content\"}]},{\"extends\":null,\"module\":null,\"name\":\"GridStack1\",\"overrides\":[],\"properties\":[{\"default\":\"warn\",\"kind\":null,\"name\":\"mode\"},{\"default\":null,\"kind\":null,\"name\":\"ncols\"},{\"default\":null,\"kind\":null,\"name\":\"nrows\"},{\"default\":true,\"kind\":null,\"name\":\"allow_resize\"},{\"default\":true,\"kind\":null,\"name\":\"allow_drag\"},{\"default\":[],\"kind\":null,\"name\":\"state\"}]},{\"extends\":null,\"module\":null,\"name\":\"click1\",\"overrides\":[],\"properties\":[{\"default\":\"\",\"kind\":null,\"name\":\"terminal_output\"},{\"default\":\"\",\"kind\":null,\"name\":\"debug_name\"},{\"default\":0,\"kind\":null,\"name\":\"clears\"}]},{\"extends\":null,\"module\":null,\"name\":\"NotificationAreaBase1\",\"overrides\":[],\"properties\":[{\"default\":\"bottom-right\",\"kind\":null,\"name\":\"position\"},{\"default\":0,\"kind\":null,\"name\":\"_clear\"}]},{\"extends\":null,\"module\":null,\"name\":\"NotificationArea1\",\"overrides\":[],\"properties\":[{\"default\":[],\"kind\":null,\"name\":\"notifications\"},{\"default\":\"bottom-right\",\"kind\":null,\"name\":\"position\"},{\"default\":0,\"kind\":null,\"name\":\"_clear\"},{\"default\":[{\"background\":\"#ffc107\",\"icon\":{\"className\":\"fas fa-exclamation-triangle\",\"color\":\"white\",\"tagName\":\"i\"},\"type\":\"warning\"},{\"background\":\"#007bff\",\"icon\":{\"className\":\"fas fa-info-circle\",\"color\":\"white\",\"tagName\":\"i\"},\"type\":\"info\"}],\"kind\":null,\"name\":\"types\"}]},{\"extends\":null,\"module\":null,\"name\":\"Notification\",\"overrides\":[],\"properties\":[{\"default\":null,\"kind\":null,\"name\":\"background\"},{\"default\":3000,\"kind\":null,\"name\":\"duration\"},{\"default\":null,\"kind\":null,\"name\":\"icon\"},{\"default\":\"\",\"kind\":null,\"name\":\"message\"},{\"default\":null,\"kind\":null,\"name\":\"notification_type\"},{\"default\":false,\"kind\":null,\"name\":\"_destroyed\"}]},{\"extends\":null,\"module\":null,\"name\":\"TemplateActions1\",\"overrides\":[],\"properties\":[{\"default\":0,\"kind\":null,\"name\":\"open_modal\"},{\"default\":0,\"kind\":null,\"name\":\"close_modal\"}]},{\"extends\":null,\"module\":null,\"name\":\"MaterialTemplateActions1\",\"overrides\":[],\"properties\":[{\"default\":0,\"kind\":null,\"name\":\"open_modal\"},{\"default\":0,\"kind\":null,\"name\":\"close_modal\"}]}],\"roots\":{\"references\":[{\"attributes\":{\"margin\":[5,5,5,5],\"name\":\"Str00200\",\"text\":\"&lt;pre&gt; &lt;/pre&gt;\"},\"id\":\"1162\",\"type\":\"panel.models.markup.HTML\"},{\"attributes\":{\"client_comm_id\":\"a82a0373616b4f4ea86d8887618c8236\",\"comm_id\":\"9b56643ce98646669bf866e618e24ae7\",\"plot_id\":\"1160\"},\"id\":\"1163\",\"type\":\"panel.models.comm_manager.CommManager\"},{\"attributes\":{\"children\":[{\"id\":\"1161\"}],\"margin\":[0,0,0,0],\"name\":\"Row00203\"},\"id\":\"1160\",\"type\":\"Row\"},{\"attributes\":{\"children\":[{\"id\":\"1162\"}],\"margin\":[0,0,0,0],\"name\":\"Row00202\"},\"id\":\"1161\",\"type\":\"Row\"}],\"root_ids\":[\"1160\",\"1163\"]},\"title\":\"Bokeh Application\",\"version\":\"2.4.3\"}};\n",
       "    var render_items = [{\"docid\":\"95cfe7b9-635e-45b3-b33b-fed3c9701e1f\",\"root_ids\":[\"1160\"],\"roots\":{\"1160\":\"8f9bbe23-2446-4502-aa60-cb337d601774\"}}];\n",
       "    root.Bokeh.embed.embed_items_notebook(docs_json, render_items);\n",
       "  }\n",
       "  if (root.Bokeh !== undefined && root.Bokeh.Panel !== undefined && ( root['Plotly'] !== undefined)) {\n",
       "    embed_document(root);\n",
       "  } else {\n",
       "    var attempts = 0;\n",
       "    var timer = setInterval(function(root) {\n",
       "      if (root.Bokeh !== undefined && root.Bokeh.Panel !== undefined && (root['Plotly'] !== undefined)) {\n",
       "        clearInterval(timer);\n",
       "        embed_document(root);\n",
       "      } else if (document.readyState == \"complete\") {\n",
       "        attempts++;\n",
       "        if (attempts > 200) {\n",
       "          clearInterval(timer);\n",
       "          console.log(\"Bokeh: ERROR: Unable to run BokehJS code because BokehJS library is missing\");\n",
       "        }\n",
       "      }\n",
       "    }, 25, root)\n",
       "  }\n",
       "})(window);</script>"
      ],
      "text/plain": [
       "Row\n",
       "    [0] ParamFunction(function)"
      ]
     },
     "execution_count": 51,
     "metadata": {
      "application/vnd.holoviews_exec.v0+json": {
       "id": "1160"
      }
     },
     "output_type": "execute_result"
    },
    {
     "name": "stdout",
     "output_type": "stream",
     "text": [
      "time: 47 ms (started: 2022-09-24 03:59:11 -05:00)\n"
     ]
    }
   ],
   "source": [
    " pn.Row(set_traj_data)"
   ]
  },
  {
   "cell_type": "code",
   "execution_count": 52,
   "id": "0ecdbbec",
   "metadata": {},
   "outputs": [
    {
     "data": {
      "text/plain": [
       "9"
      ]
     },
     "execution_count": 52,
     "metadata": {},
     "output_type": "execute_result"
    },
    {
     "name": "stdout",
     "output_type": "stream",
     "text": [
      "time: 15 ms (started: 2022-09-24 03:59:12 -05:00)\n"
     ]
    }
   ],
   "source": [
    "g_a"
   ]
  },
  {
   "cell_type": "code",
   "execution_count": 53,
   "id": "e35e83ac",
   "metadata": {},
   "outputs": [
    {
     "data": {
      "text/html": [
       "<div>\n",
       "<style scoped>\n",
       "    .dataframe tbody tr th:only-of-type {\n",
       "        vertical-align: middle;\n",
       "    }\n",
       "\n",
       "    .dataframe tbody tr th {\n",
       "        vertical-align: top;\n",
       "    }\n",
       "\n",
       "    .dataframe thead th {\n",
       "        text-align: right;\n",
       "    }\n",
       "</style>\n",
       "<table border=\"1\" class=\"dataframe\">\n",
       "  <thead>\n",
       "    <tr style=\"text-align: right;\">\n",
       "      <th></th>\n",
       "      <th>x</th>\n",
       "      <th>y</th>\n",
       "      <th>traj</th>\n",
       "    </tr>\n",
       "  </thead>\n",
       "  <tbody>\n",
       "    <tr>\n",
       "      <th>0</th>\n",
       "      <td>0.000000</td>\n",
       "      <td>0.000000</td>\n",
       "      <td>0.0</td>\n",
       "    </tr>\n",
       "    <tr>\n",
       "      <th>1</th>\n",
       "      <td>-2.986372</td>\n",
       "      <td>5.203997</td>\n",
       "      <td>0.0</td>\n",
       "    </tr>\n",
       "    <tr>\n",
       "      <th>2</th>\n",
       "      <td>-4.854713</td>\n",
       "      <td>10.905690</td>\n",
       "      <td>0.0</td>\n",
       "    </tr>\n",
       "    <tr>\n",
       "      <th>3</th>\n",
       "      <td>-9.223935</td>\n",
       "      <td>6.793524</td>\n",
       "      <td>0.0</td>\n",
       "    </tr>\n",
       "    <tr>\n",
       "      <th>4</th>\n",
       "      <td>-7.004767</td>\n",
       "      <td>12.368046</td>\n",
       "      <td>0.0</td>\n",
       "    </tr>\n",
       "    <tr>\n",
       "      <th>...</th>\n",
       "      <td>...</td>\n",
       "      <td>...</td>\n",
       "      <td>...</td>\n",
       "    </tr>\n",
       "    <tr>\n",
       "      <th>1995</th>\n",
       "      <td>105.052415</td>\n",
       "      <td>-68.903387</td>\n",
       "      <td>1.0</td>\n",
       "    </tr>\n",
       "    <tr>\n",
       "      <th>1996</th>\n",
       "      <td>108.653005</td>\n",
       "      <td>-64.103829</td>\n",
       "      <td>1.0</td>\n",
       "    </tr>\n",
       "    <tr>\n",
       "      <th>1997</th>\n",
       "      <td>105.405666</td>\n",
       "      <td>-59.058555</td>\n",
       "      <td>1.0</td>\n",
       "    </tr>\n",
       "    <tr>\n",
       "      <th>1998</th>\n",
       "      <td>106.277224</td>\n",
       "      <td>-64.994916</td>\n",
       "      <td>1.0</td>\n",
       "    </tr>\n",
       "    <tr>\n",
       "      <th>1999</th>\n",
       "      <td>104.624215</td>\n",
       "      <td>-59.227112</td>\n",
       "      <td>1.0</td>\n",
       "    </tr>\n",
       "  </tbody>\n",
       "</table>\n",
       "<p>2000 rows × 3 columns</p>\n",
       "</div>"
      ],
      "text/plain": [
       "               x          y  traj\n",
       "0       0.000000   0.000000   0.0\n",
       "1      -2.986372   5.203997   0.0\n",
       "2      -4.854713  10.905690   0.0\n",
       "3      -9.223935   6.793524   0.0\n",
       "4      -7.004767  12.368046   0.0\n",
       "...          ...        ...   ...\n",
       "1995  105.052415 -68.903387   1.0\n",
       "1996  108.653005 -64.103829   1.0\n",
       "1997  105.405666 -59.058555   1.0\n",
       "1998  106.277224 -64.994916   1.0\n",
       "1999  104.624215 -59.227112   1.0\n",
       "\n",
       "[2000 rows x 3 columns]"
      ]
     },
     "execution_count": 53,
     "metadata": {},
     "output_type": "execute_result"
    },
    {
     "name": "stdout",
     "output_type": "stream",
     "text": [
      "time: 16 ms (started: 2022-09-24 03:59:13 -05:00)\n"
     ]
    }
   ],
   "source": [
    "g_dash_data "
   ]
  },
  {
   "cell_type": "code",
   "execution_count": 61,
   "id": "b16a19ca",
   "metadata": {},
   "outputs": [
    {
     "name": "stdout",
     "output_type": "stream",
     "text": [
      "time: 0 ns (started: 2022-09-24 04:00:19 -05:00)\n"
     ]
    }
   ],
   "source": [
    "@pn.depends(traj_type, n_traj, s_x, s_y, speed, n_steps, bm_type, apply_crwe_to_all, crw_e_1, crw_e_2, crw_e_3, levy_alpha, levy_beta, levy_loc)\n",
    "def show_traj_plot(traj_type, n_traj, s_x, s_y, speed, n_steps,  bm_type, apply_crwe_to_all, crw_e_1, crw_e_2, crw_e_3, levy_alpha, levy_beta, levy_loc):\n",
    "    \n",
    "    # define trajectory type\n",
    "    prefix = \"trayectory_\"\n",
    "                \n",
    "    if traj_type == \"Correlated Random Walk\":\n",
    "        prefix = \"cuachy_\"\n",
    "    \n",
    "    if traj_type == \"Levy Flight\":\n",
    "        prefix = \"Levy_alpha_\"\n",
    "    \n",
    "    fig =  plot_trajectories(g_dash_data , n_traj, traj_type, prefix)\n",
    "    \n",
    "    return fig"
   ]
  },
  {
   "cell_type": "code",
   "execution_count": 62,
   "id": "5ff4626f",
   "metadata": {
    "scrolled": false
   },
   "outputs": [
    {
     "data": {},
     "metadata": {},
     "output_type": "display_data"
    },
    {
     "data": {
      "application/vnd.holoviews_exec.v0+json": "",
      "text/html": [
       "<div id='1216'>\n",
       "  <div class=\"bk-root\" id=\"783d5084-1dcd-43ac-984a-fcfbb4c1553f\" data-root-id=\"1216\"></div>\n",
       "</div>\n",
       "<script type=\"application/javascript\">(function(root) {\n",
       "  function embed_document(root) {\n",
       "    var docs_json = {\"89d39dd6-0fcc-43e4-8142-8e7016ea440d\":{\"defs\":[{\"extends\":null,\"module\":null,\"name\":\"ReactiveHTML1\",\"overrides\":[],\"properties\":[]},{\"extends\":null,\"module\":null,\"name\":\"FlexBox1\",\"overrides\":[],\"properties\":[{\"default\":\"flex-start\",\"kind\":null,\"name\":\"align_content\"},{\"default\":\"flex-start\",\"kind\":null,\"name\":\"align_items\"},{\"default\":\"row\",\"kind\":null,\"name\":\"flex_direction\"},{\"default\":\"wrap\",\"kind\":null,\"name\":\"flex_wrap\"},{\"default\":\"flex-start\",\"kind\":null,\"name\":\"justify_content\"}]},{\"extends\":null,\"module\":null,\"name\":\"GridStack1\",\"overrides\":[],\"properties\":[{\"default\":\"warn\",\"kind\":null,\"name\":\"mode\"},{\"default\":null,\"kind\":null,\"name\":\"ncols\"},{\"default\":null,\"kind\":null,\"name\":\"nrows\"},{\"default\":true,\"kind\":null,\"name\":\"allow_resize\"},{\"default\":true,\"kind\":null,\"name\":\"allow_drag\"},{\"default\":[],\"kind\":null,\"name\":\"state\"}]},{\"extends\":null,\"module\":null,\"name\":\"click1\",\"overrides\":[],\"properties\":[{\"default\":\"\",\"kind\":null,\"name\":\"terminal_output\"},{\"default\":\"\",\"kind\":null,\"name\":\"debug_name\"},{\"default\":0,\"kind\":null,\"name\":\"clears\"}]},{\"extends\":null,\"module\":null,\"name\":\"NotificationAreaBase1\",\"overrides\":[],\"properties\":[{\"default\":\"bottom-right\",\"kind\":null,\"name\":\"position\"},{\"default\":0,\"kind\":null,\"name\":\"_clear\"}]},{\"extends\":null,\"module\":null,\"name\":\"NotificationArea1\",\"overrides\":[],\"properties\":[{\"default\":[],\"kind\":null,\"name\":\"notifications\"},{\"default\":\"bottom-right\",\"kind\":null,\"name\":\"position\"},{\"default\":0,\"kind\":null,\"name\":\"_clear\"},{\"default\":[{\"background\":\"#ffc107\",\"icon\":{\"className\":\"fas fa-exclamation-triangle\",\"color\":\"white\",\"tagName\":\"i\"},\"type\":\"warning\"},{\"background\":\"#007bff\",\"icon\":{\"className\":\"fas fa-info-circle\",\"color\":\"white\",\"tagName\":\"i\"},\"type\":\"info\"}],\"kind\":null,\"name\":\"types\"}]},{\"extends\":null,\"module\":null,\"name\":\"Notification\",\"overrides\":[],\"properties\":[{\"default\":null,\"kind\":null,\"name\":\"background\"},{\"default\":3000,\"kind\":null,\"name\":\"duration\"},{\"default\":null,\"kind\":null,\"name\":\"icon\"},{\"default\":\"\",\"kind\":null,\"name\":\"message\"},{\"default\":null,\"kind\":null,\"name\":\"notification_type\"},{\"default\":false,\"kind\":null,\"name\":\"_destroyed\"}]},{\"extends\":null,\"module\":null,\"name\":\"TemplateActions1\",\"overrides\":[],\"properties\":[{\"default\":0,\"kind\":null,\"name\":\"open_modal\"},{\"default\":0,\"kind\":null,\"name\":\"close_modal\"}]},{\"extends\":null,\"module\":null,\"name\":\"MaterialTemplateActions1\",\"overrides\":[],\"properties\":[{\"default\":0,\"kind\":null,\"name\":\"open_modal\"},{\"default\":0,\"kind\":null,\"name\":\"close_modal\"}]}],\"roots\":{\"references\":[{\"attributes\":{\"margin\":[5,5,5,5],\"name\":\"Str00292\",\"text\":\"&lt;pre&gt; &lt;/pre&gt;\"},\"id\":\"1237\",\"type\":\"panel.models.markup.HTML\"},{\"attributes\":{\"css_classes\":[\"max_38_vwh\"],\"end\":3,\"margin\":[5,10,5,10],\"start\":1,\"title\":\"Numer of trajectories\",\"value\":2},\"id\":\"1222\",\"type\":\"Slider\"},{\"attributes\":{\"high\":100,\"low\":-100,\"margin\":[5,10,5,10],\"min_width\":100,\"mode\":\"int\",\"placeholder\":\"0\",\"title\":\"Y Starting position\",\"value\":0,\"value_throttled\":0,\"width\":100},\"id\":\"1229\",\"type\":\"Spinner\"},{\"attributes\":{},\"id\":\"1243\",\"type\":\"UnionRenderers\"},{\"attributes\":{\"children\":[{\"id\":\"1237\"}],\"margin\":[0,0,0,0],\"name\":\"Row00294\"},\"id\":\"1236\",\"type\":\"Row\"},{\"attributes\":{\"children\":[{\"id\":\"1217\"},{\"id\":\"1235\"}],\"margin\":[0,0,0,0],\"name\":\"Row00305\"},\"id\":\"1216\",\"type\":\"Row\"},{\"attributes\":{\"high\":10,\"low\":1,\"margin\":[5,10,5,10],\"min_width\":100,\"mode\":\"int\",\"placeholder\":\"0\",\"title\":\"Speed\",\"value\":6,\"value_throttled\":6,\"width\":100},\"id\":\"1231\",\"type\":\"Spinner\"},{\"attributes\":{},\"id\":\"1244\",\"type\":\"Selection\"},{\"attributes\":{\"active\":0,\"labels\":[\"BM 2D\",\"North-South-East-Weast Restriction\"],\"margin\":[5,10,5,10]},\"id\":\"1234\",\"type\":\"RadioButtonGroup\"},{\"attributes\":{\"children\":[{\"id\":\"1220\"}],\"margin\":[0,0,0,0],\"name\":\"Row00281\"},\"id\":\"1219\",\"type\":\"Row\"},{\"attributes\":{\"children\":[{\"id\":\"1231\"},{\"id\":\"1232\"}],\"margin\":[0,0,0,0],\"name\":\"Row00109\"},\"id\":\"1230\",\"type\":\"Row\"},{\"attributes\":{\"active\":0,\"button_type\":\"primary\",\"labels\":[\"Brownian motion\",\"Correlated Random Walk\",\"Levy Flight\"],\"margin\":[15,0,0,5]},\"id\":\"1218\",\"type\":\"RadioButtonGroup\"},{\"attributes\":{},\"id\":\"1245\",\"type\":\"UnionRenderers\"},{\"attributes\":{\"background\":\"WhiteSmoke\",\"children\":[{\"id\":\"1218\"},{\"id\":\"1219\"}],\"margin\":[0,0,0,0],\"name\":\"Column00289\"},\"id\":\"1217\",\"type\":\"Column\"},{\"attributes\":{\"end\":100000,\"margin\":[5,10,5,10],\"start\":1000,\"step\":1000,\"title\":\"Numer of steps\",\"value\":1000},\"id\":\"1232\",\"type\":\"Slider\"},{\"attributes\":{\"css_classes\":[\"markdown\"],\"margin\":[5,5,5,5],\"name\":\"Markdown00115\",\"text\":\"&lt;h6&gt;Max 3 trayectories&lt;/h6&gt;\"},\"id\":\"1223\",\"type\":\"panel.models.markup.HTML\"},{\"attributes\":{},\"id\":\"1246\",\"type\":\"Selection\"},{\"attributes\":{\"css_classes\":[\"markdown\"],\"margin\":[5,5,5,5],\"name\":\"Markdown00285\",\"text\":\"&lt;h4&gt;Brownian Motion Type&lt;/h4&gt;\"},\"id\":\"1233\",\"type\":\"panel.models.markup.HTML\"},{\"attributes\":{\"children\":[{\"id\":\"1221\"},{\"id\":\"1224\"},{\"id\":\"1233\"},{\"id\":\"1234\"}],\"margin\":[0,0,0,0],\"name\":\"Column00287\"},\"id\":\"1220\",\"type\":\"Column\"},{\"attributes\":{\"css_classes\":[\"markdown\"],\"margin\":[5,5,5,5],\"name\":\"Markdown00302\",\"text\":\"&lt;h1&gt;Metrcis&lt;/h1&gt;\"},\"id\":\"1242\",\"type\":\"panel.models.markup.HTML\"},{\"attributes\":{\"children\":[{\"id\":\"1222\"},{\"id\":\"1223\"}],\"margin\":[0,0,0,0],\"name\":\"Column00117\"},\"id\":\"1221\",\"type\":\"Column\"},{\"attributes\":{\"data\":[{\"line\":{\"width\":2},\"marker\":{\"size\":2},\"mode\":\"lines\",\"name\":\"trayectory_: 0\",\"showlegend\":true,\"type\":\"scatter3d\"},{\"line\":{\"width\":2},\"marker\":{\"size\":2},\"mode\":\"lines\",\"name\":\"trayectory_: 1\",\"showlegend\":true,\"type\":\"scatter3d\"}],\"data_sources\":[{\"id\":\"1239\"},{\"id\":\"1240\"}],\"layout\":{\"height\":800,\"scene\":{\"camera\":{\"eye\":{\"x\":0,\"y\":0,\"z\":2.5}},\"xaxis\":{\"title\":{\"text\":\"x\"}},\"yaxis\":{\"title\":{\"text\":\"y\"}},\"zaxis\":{\"nticks\":20,\"title\":{\"text\":\"time\"}}},\"template\":{\"data\":{\"bar\":[{\"error_x\":{\"color\":\"#2a3f5f\"},\"error_y\":{\"color\":\"#2a3f5f\"},\"marker\":{\"line\":{\"color\":\"#E5ECF6\",\"width\":0.5},\"pattern\":{\"fillmode\":\"overlay\",\"size\":10,\"solidity\":0.2}},\"type\":\"bar\"}],\"barpolar\":[{\"marker\":{\"line\":{\"color\":\"#E5ECF6\",\"width\":0.5},\"pattern\":{\"fillmode\":\"overlay\",\"size\":10,\"solidity\":0.2}},\"type\":\"barpolar\"}],\"carpet\":[{\"aaxis\":{\"endlinecolor\":\"#2a3f5f\",\"gridcolor\":\"white\",\"linecolor\":\"white\",\"minorgridcolor\":\"white\",\"startlinecolor\":\"#2a3f5f\"},\"baxis\":{\"endlinecolor\":\"#2a3f5f\",\"gridcolor\":\"white\",\"linecolor\":\"white\",\"minorgridcolor\":\"white\",\"startlinecolor\":\"#2a3f5f\"},\"type\":\"carpet\"}],\"choropleth\":[{\"colorbar\":{\"outlinewidth\":0,\"ticks\":\"\"},\"type\":\"choropleth\"}],\"contour\":[{\"colorbar\":{\"outlinewidth\":0,\"ticks\":\"\"},\"colorscale\":[[0.0,\"#0d0887\"],[0.1111111111111111,\"#46039f\"],[0.2222222222222222,\"#7201a8\"],[0.3333333333333333,\"#9c179e\"],[0.4444444444444444,\"#bd3786\"],[0.5555555555555556,\"#d8576b\"],[0.6666666666666666,\"#ed7953\"],[0.7777777777777778,\"#fb9f3a\"],[0.8888888888888888,\"#fdca26\"],[1.0,\"#f0f921\"]],\"type\":\"contour\"}],\"contourcarpet\":[{\"colorbar\":{\"outlinewidth\":0,\"ticks\":\"\"},\"type\":\"contourcarpet\"}],\"heatmap\":[{\"colorbar\":{\"outlinewidth\":0,\"ticks\":\"\"},\"colorscale\":[[0.0,\"#0d0887\"],[0.1111111111111111,\"#46039f\"],[0.2222222222222222,\"#7201a8\"],[0.3333333333333333,\"#9c179e\"],[0.4444444444444444,\"#bd3786\"],[0.5555555555555556,\"#d8576b\"],[0.6666666666666666,\"#ed7953\"],[0.7777777777777778,\"#fb9f3a\"],[0.8888888888888888,\"#fdca26\"],[1.0,\"#f0f921\"]],\"type\":\"heatmap\"}],\"heatmapgl\":[{\"colorbar\":{\"outlinewidth\":0,\"ticks\":\"\"},\"colorscale\":[[0.0,\"#0d0887\"],[0.1111111111111111,\"#46039f\"],[0.2222222222222222,\"#7201a8\"],[0.3333333333333333,\"#9c179e\"],[0.4444444444444444,\"#bd3786\"],[0.5555555555555556,\"#d8576b\"],[0.6666666666666666,\"#ed7953\"],[0.7777777777777778,\"#fb9f3a\"],[0.8888888888888888,\"#fdca26\"],[1.0,\"#f0f921\"]],\"type\":\"heatmapgl\"}],\"histogram\":[{\"marker\":{\"pattern\":{\"fillmode\":\"overlay\",\"size\":10,\"solidity\":0.2}},\"type\":\"histogram\"}],\"histogram2d\":[{\"colorbar\":{\"outlinewidth\":0,\"ticks\":\"\"},\"colorscale\":[[0.0,\"#0d0887\"],[0.1111111111111111,\"#46039f\"],[0.2222222222222222,\"#7201a8\"],[0.3333333333333333,\"#9c179e\"],[0.4444444444444444,\"#bd3786\"],[0.5555555555555556,\"#d8576b\"],[0.6666666666666666,\"#ed7953\"],[0.7777777777777778,\"#fb9f3a\"],[0.8888888888888888,\"#fdca26\"],[1.0,\"#f0f921\"]],\"type\":\"histogram2d\"}],\"histogram2dcontour\":[{\"colorbar\":{\"outlinewidth\":0,\"ticks\":\"\"},\"colorscale\":[[0.0,\"#0d0887\"],[0.1111111111111111,\"#46039f\"],[0.2222222222222222,\"#7201a8\"],[0.3333333333333333,\"#9c179e\"],[0.4444444444444444,\"#bd3786\"],[0.5555555555555556,\"#d8576b\"],[0.6666666666666666,\"#ed7953\"],[0.7777777777777778,\"#fb9f3a\"],[0.8888888888888888,\"#fdca26\"],[1.0,\"#f0f921\"]],\"type\":\"histogram2dcontour\"}],\"mesh3d\":[{\"colorbar\":{\"outlinewidth\":0,\"ticks\":\"\"},\"type\":\"mesh3d\"}],\"parcoords\":[{\"line\":{\"colorbar\":{\"outlinewidth\":0,\"ticks\":\"\"}},\"type\":\"parcoords\"}],\"pie\":[{\"automargin\":true,\"type\":\"pie\"}],\"scatter\":[{\"fillpattern\":{\"fillmode\":\"overlay\",\"size\":10,\"solidity\":0.2},\"type\":\"scatter\"}],\"scatter3d\":[{\"line\":{\"colorbar\":{\"outlinewidth\":0,\"ticks\":\"\"}},\"marker\":{\"colorbar\":{\"outlinewidth\":0,\"ticks\":\"\"}},\"type\":\"scatter3d\"}],\"scattercarpet\":[{\"marker\":{\"colorbar\":{\"outlinewidth\":0,\"ticks\":\"\"}},\"type\":\"scattercarpet\"}],\"scattergeo\":[{\"marker\":{\"colorbar\":{\"outlinewidth\":0,\"ticks\":\"\"}},\"type\":\"scattergeo\"}],\"scattergl\":[{\"marker\":{\"colorbar\":{\"outlinewidth\":0,\"ticks\":\"\"}},\"type\":\"scattergl\"}],\"scattermapbox\":[{\"marker\":{\"colorbar\":{\"outlinewidth\":0,\"ticks\":\"\"}},\"type\":\"scattermapbox\"}],\"scatterpolar\":[{\"marker\":{\"colorbar\":{\"outlinewidth\":0,\"ticks\":\"\"}},\"type\":\"scatterpolar\"}],\"scatterpolargl\":[{\"marker\":{\"colorbar\":{\"outlinewidth\":0,\"ticks\":\"\"}},\"type\":\"scatterpolargl\"}],\"scatterternary\":[{\"marker\":{\"colorbar\":{\"outlinewidth\":0,\"ticks\":\"\"}},\"type\":\"scatterternary\"}],\"surface\":[{\"colorbar\":{\"outlinewidth\":0,\"ticks\":\"\"},\"colorscale\":[[0.0,\"#0d0887\"],[0.1111111111111111,\"#46039f\"],[0.2222222222222222,\"#7201a8\"],[0.3333333333333333,\"#9c179e\"],[0.4444444444444444,\"#bd3786\"],[0.5555555555555556,\"#d8576b\"],[0.6666666666666666,\"#ed7953\"],[0.7777777777777778,\"#fb9f3a\"],[0.8888888888888888,\"#fdca26\"],[1.0,\"#f0f921\"]],\"type\":\"surface\"}],\"table\":[{\"cells\":{\"fill\":{\"color\":\"#EBF0F8\"},\"line\":{\"color\":\"white\"}},\"header\":{\"fill\":{\"color\":\"#C8D4E3\"},\"line\":{\"color\":\"white\"}},\"type\":\"table\"}]},\"layout\":{\"annotationdefaults\":{\"arrowcolor\":\"#2a3f5f\",\"arrowhead\":0,\"arrowwidth\":1},\"autotypenumbers\":\"strict\",\"coloraxis\":{\"colorbar\":{\"outlinewidth\":0,\"ticks\":\"\"}},\"colorscale\":{\"diverging\":[[0,\"#8e0152\"],[0.1,\"#c51b7d\"],[0.2,\"#de77ae\"],[0.3,\"#f1b6da\"],[0.4,\"#fde0ef\"],[0.5,\"#f7f7f7\"],[0.6,\"#e6f5d0\"],[0.7,\"#b8e186\"],[0.8,\"#7fbc41\"],[0.9,\"#4d9221\"],[1,\"#276419\"]],\"sequential\":[[0.0,\"#0d0887\"],[0.1111111111111111,\"#46039f\"],[0.2222222222222222,\"#7201a8\"],[0.3333333333333333,\"#9c179e\"],[0.4444444444444444,\"#bd3786\"],[0.5555555555555556,\"#d8576b\"],[0.6666666666666666,\"#ed7953\"],[0.7777777777777778,\"#fb9f3a\"],[0.8888888888888888,\"#fdca26\"],[1.0,\"#f0f921\"]],\"sequentialminus\":[[0.0,\"#0d0887\"],[0.1111111111111111,\"#46039f\"],[0.2222222222222222,\"#7201a8\"],[0.3333333333333333,\"#9c179e\"],[0.4444444444444444,\"#bd3786\"],[0.5555555555555556,\"#d8576b\"],[0.6666666666666666,\"#ed7953\"],[0.7777777777777778,\"#fb9f3a\"],[0.8888888888888888,\"#fdca26\"],[1.0,\"#f0f921\"]]},\"colorway\":[\"#636efa\",\"#EF553B\",\"#00cc96\",\"#ab63fa\",\"#FFA15A\",\"#19d3f3\",\"#FF6692\",\"#B6E880\",\"#FF97FF\",\"#FECB52\"],\"font\":{\"color\":\"#2a3f5f\"},\"geo\":{\"bgcolor\":\"white\",\"lakecolor\":\"white\",\"landcolor\":\"#E5ECF6\",\"showlakes\":true,\"showland\":true,\"subunitcolor\":\"white\"},\"hoverlabel\":{\"align\":\"left\"},\"hovermode\":\"closest\",\"mapbox\":{\"style\":\"light\"},\"paper_bgcolor\":\"white\",\"plot_bgcolor\":\"#E5ECF6\",\"polar\":{\"angularaxis\":{\"gridcolor\":\"white\",\"linecolor\":\"white\",\"ticks\":\"\"},\"bgcolor\":\"#E5ECF6\",\"radialaxis\":{\"gridcolor\":\"white\",\"linecolor\":\"white\",\"ticks\":\"\"}},\"scene\":{\"xaxis\":{\"backgroundcolor\":\"#E5ECF6\",\"gridcolor\":\"white\",\"gridwidth\":2,\"linecolor\":\"white\",\"showbackground\":true,\"ticks\":\"\",\"zerolinecolor\":\"white\"},\"yaxis\":{\"backgroundcolor\":\"#E5ECF6\",\"gridcolor\":\"white\",\"gridwidth\":2,\"linecolor\":\"white\",\"showbackground\":true,\"ticks\":\"\",\"zerolinecolor\":\"white\"},\"zaxis\":{\"backgroundcolor\":\"#E5ECF6\",\"gridcolor\":\"white\",\"gridwidth\":2,\"linecolor\":\"white\",\"showbackground\":true,\"ticks\":\"\",\"zerolinecolor\":\"white\"}},\"shapedefaults\":{\"line\":{\"color\":\"#2a3f5f\"}},\"ternary\":{\"aaxis\":{\"gridcolor\":\"white\",\"linecolor\":\"white\",\"ticks\":\"\"},\"baxis\":{\"gridcolor\":\"white\",\"linecolor\":\"white\",\"ticks\":\"\"},\"bgcolor\":\"#E5ECF6\",\"caxis\":{\"gridcolor\":\"white\",\"linecolor\":\"white\",\"ticks\":\"\"}},\"title\":{\"x\":0.05},\"xaxis\":{\"automargin\":true,\"gridcolor\":\"white\",\"linecolor\":\"white\",\"ticks\":\"\",\"title\":{\"standoff\":15},\"zerolinecolor\":\"white\",\"zerolinewidth\":2},\"yaxis\":{\"automargin\":true,\"gridcolor\":\"white\",\"linecolor\":\"white\",\"ticks\":\"\",\"title\":{\"standoff\":15},\"zerolinecolor\":\"white\",\"zerolinewidth\":2}}},\"title\":{\"text\":\"Brownian motion\"},\"width\":800},\"margin\":[5,5,5,5],\"name\":\"ParamFunction00295\",\"viewport_update_throttle\":200},\"id\":\"1241\",\"type\":\"panel.models.plotly.PlotlyPlot\"},{\"attributes\":{\"children\":[{\"id\":\"1228\"},{\"id\":\"1229\"}],\"margin\":[0,0,0,0],\"name\":\"Row00108\"},\"id\":\"1227\",\"type\":\"Row\"},{\"attributes\":{\"children\":[{\"id\":\"1236\"},{\"id\":\"1238\"},{\"id\":\"1242\"}],\"margin\":[0,0,0,0],\"name\":\"Row00304\"},\"id\":\"1235\",\"type\":\"Row\"},{\"attributes\":{\"data\":{\"x\":[{\"__ndarray__\":\"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\",\"dtype\":\"float64\",\"order\":\"little\",\"shape\":[1000]}],\"y\":[{\"__ndarray__\":\"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\",\"dtype\":\"float64\",\"order\":\"little\",\"shape\":[1000]}],\"z\":[[0,1,2,3,4,5,6,7,8,9,10,11,12,13,14,15,16,17,18,19,20,21,22,23,24,25,26,27,28,29,30,31,32,33,34,35,36,37,38,39,40,41,42,43,44,45,46,47,48,49,50,51,52,53,54,55,56,57,58,59,60,61,62,63,64,65,66,67,68,69,70,71,72,73,74,75,76,77,78,79,80,81,82,83,84,85,86,87,88,89,90,91,92,93,94,95,96,97,98,99,100,101,102,103,104,105,106,107,108,109,110,111,112,113,114,115,116,117,118,119,120,121,122,123,124,125,126,127,128,129,130,131,132,133,134,135,136,137,138,139,140,141,142,143,144,145,146,147,148,149,150,151,152,153,154,155,156,157,158,159,160,161,162,163,164,165,166,167,168,169,170,171,172,173,174,175,176,177,178,179,180,181,182,183,184,185,186,187,188,189,190,191,192,193,194,195,196,197,198,199,200,201,202,203,204,205,206,207,208,209,210,211,212,213,214,215,216,217,218,219,220,221,222,223,224,225,226,227,228,229,230,231,232,233,234,235,236,237,238,239,240,241,242,243,244,245,246,247,248,249,250,251,252,253,254,255,256,257,258,259,260,261,262,263,264,265,266,267,268,269,270,271,272,273,274,275,276,277,278,279,280,281,282,283,284,285,286,287,288,289,290,291,292,293,294,295,296,297,298,299,300,301,302,303,304,305,306,307,308,309,310,311,312,313,314,315,316,317,318,319,320,321,322,323,324,325,326,327,328,329,330,331,332,333,334,335,336,337,338,339,340,341,342,343,344,345,346,347,348,349,350,351,352,353,354,355,356,357,358,359,360,361,362,363,364,365,366,367,368,369,370,371,372,373,374,375,376,377,378,379,380,381,382,383,384,385,386,387,388,389,390,391,392,393,394,395,396,397,398,399,400,401,402,403,404,405,406,407,408,409,410,411,412,413,414,415,416,417,418,419,420,421,422,423,424,425,426,427,428,429,430,431,432,433,434,435,436,437,438,439,440,441,442,443,444,445,446,447,448,449,450,451,452,453,454,455,456,457,458,459,460,461,462,463,464,465,466,467,468,469,470,471,472,473,474,475,476,477,478,479,480,481,482,483,484,485,486,487,488,489,490,491,492,493,494,495,496,497,498,499,500,501,502,503,504,505,506,507,508,509,510,511,512,513,514,515,516,517,518,519,520,521,522,523,524,525,526,527,528,529,530,531,532,533,534,535,536,537,538,539,540,541,542,543,544,545,546,547,548,549,550,551,552,553,554,555,556,557,558,559,560,561,562,563,564,565,566,567,568,569,570,571,572,573,574,575,576,577,578,579,580,581,582,583,584,585,586,587,588,589,590,591,592,593,594,595,596,597,598,599,600,601,602,603,604,605,606,607,608,609,610,611,612,613,614,615,616,617,618,619,620,621,622,623,624,625,626,627,628,629,630,631,632,633,634,635,636,637,638,639,640,641,642,643,644,645,646,647,648,649,650,651,652,653,654,655,656,657,658,659,660,661,662,663,664,665,666,667,668,669,670,671,672,673,674,675,676,677,678,679,680,681,682,683,684,685,686,687,688,689,690,691,692,693,694,695,696,697,698,699,700,701,702,703,704,705,706,707,708,709,710,711,712,713,714,715,716,717,718,719,720,721,722,723,724,725,726,727,728,729,730,731,732,733,734,735,736,737,738,739,740,741,742,743,744,745,746,747,748,749,750,751,752,753,754,755,756,757,758,759,760,761,762,763,764,765,766,767,768,769,770,771,772,773,774,775,776,777,778,779,780,781,782,783,784,785,786,787,788,789,790,791,792,793,794,795,796,797,798,799,800,801,802,803,804,805,806,807,808,809,810,811,812,813,814,815,816,817,818,819,820,821,822,823,824,825,826,827,828,829,830,831,832,833,834,835,836,837,838,839,840,841,842,843,844,845,846,847,848,849,850,851,852,853,854,855,856,857,858,859,860,861,862,863,864,865,866,867,868,869,870,871,872,873,874,875,876,877,878,879,880,881,882,883,884,885,886,887,888,889,890,891,892,893,894,895,896,897,898,899,900,901,902,903,904,905,906,907,908,909,910,911,912,913,914,915,916,917,918,919,920,921,922,923,924,925,926,927,928,929,930,931,932,933,934,935,936,937,938,939,940,941,942,943,944,945,946,947,948,949,950,951,952,953,954,955,956,957,958,959,960,961,962,963,964,965,966,967,968,969,970,971,972,973,974,975,976,977,978,979,980,981,982,983,984,985,986,987,988,989,990,991,992,993,994,995,996,997,998,999,1000,1001,1002,1003,1004,1005,1006,1007,1008,1009,1010,1011,1012,1013,1014,1015,1016,1017,1018,1019,1020,1021,1022,1023,1024,1025,1026,1027,1028,1029,1030,1031,1032,1033,1034,1035,1036,1037,1038,1039,1040,1041,1042,1043,1044,1045,1046,1047,1048,1049,1050,1051,1052,1053,1054,1055,1056,1057,1058,1059,1060,1061,1062,1063,1064,1065,1066,1067,1068,1069,1070,1071,1072,1073,1074,1075,1076,1077,1078,1079,1080,1081,1082,1083,1084,1085,1086,1087,1088,1089,1090,1091,1092,1093,1094,1095,1096,1097,1098,1099,1100,1101,1102,1103,1104,1105,1106,1107,1108,1109,1110,1111,1112,1113,1114,1115,1116,1117,1118,1119,1120,1121,1122,1123,1124,1125,1126,1127,1128,1129,1130,1131,1132,1133,1134,1135,1136,1137,1138,1139,1140,1141,1142,1143,1144,1145,1146,1147,1148,1149,1150,1151,1152,1153,1154,1155,1156,1157,1158,1159,1160,1161,1162,1163,1164,1165,1166,1167,1168,1169,1170,1171,1172,1173,1174,1175,1176,1177,1178,1179,1180,1181,1182,1183,1184,1185,1186,1187,1188,1189,1190,1191,1192,1193,1194,1195,1196,1197,1198,1199,1200,1201,1202,1203,1204,1205,1206,1207,1208,1209,1210,1211,1212,1213,1214,1215,1216,1217,1218,1219,1220,1221,1222,1223,1224,1225,1226,1227,1228,1229,1230,1231,1232,1233,1234,1235,1236,1237,1238,1239,1240,1241,1242,1243,1244,1245,1246,1247,1248,1249,1250,1251,1252,1253,1254,1255,1256,1257,1258,1259,1260,1261,1262,1263,1264,1265,1266,1267,1268,1269,1270,1271,1272,1273,1274,1275,1276,1277,1278,1279,1280,1281,1282,1283,1284,1285,1286,1287,1288,1289,1290,1291,1292,1293,1294,1295,1296,1297,1298,1299,1300,1301,1302,1303,1304,1305,1306,1307,1308,1309,1310,1311,1312,1313,1314,1315,1316,1317,1318,1319,1320,1321,1322,1323,1324,1325,1326,1327,1328,1329,1330,1331,1332,1333,1334,1335,1336,1337,1338,1339,1340,1341,1342,1343,1344,1345,1346,1347,1348,1349,1350,1351,1352,1353,1354,1355,1356,1357,1358,1359,1360,1361,1362,1363,1364,1365,1366,1367,1368,1369,1370,1371,1372,1373,1374,1375,1376,1377,1378,1379,1380,1381,1382,1383,1384,1385,1386,1387,1388,1389,1390,1391,1392,1393,1394,1395,1396,1397,1398,1399,1400,1401,1402,1403,1404,1405,1406,1407,1408,1409,1410,1411,1412,1413,1414,1415,1416,1417,1418,1419,1420,1421,1422,1423,1424,1425,1426,1427,1428,1429,1430,1431,1432,1433,1434,1435,1436,1437,1438,1439,1440,1441,1442,1443,1444,1445,1446,1447,1448,1449,1450,1451,1452,1453,1454,1455,1456,1457,1458,1459,1460,1461,1462,1463,1464,1465,1466,1467,1468,1469,1470,1471,1472,1473,1474,1475,1476,1477,1478,1479,1480,1481,1482,1483,1484,1485,1486,1487,1488,1489,1490,1491,1492,1493,1494,1495,1496,1497,1498,1499,1500,1501,1502,1503,1504,1505,1506,1507,1508,1509,1510,1511,1512,1513,1514,1515,1516,1517,1518,1519,1520,1521,1522,1523,1524,1525,1526,1527,1528,1529,1530,1531,1532,1533,1534,1535,1536,1537,1538,1539,1540,1541,1542,1543,1544,1545,1546,1547,1548,1549,1550,1551,1552,1553,1554,1555,1556,1557,1558,1559,1560,1561,1562,1563,1564,1565,1566,1567,1568,1569,1570,1571,1572,1573,1574,1575,1576,1577,1578,1579,1580,1581,1582,1583,1584,1585,1586,1587,1588,1589,1590,1591,1592,1593,1594,1595,1596,1597,1598,1599,1600,1601,1602,1603,1604,1605,1606,1607,1608,1609,1610,1611,1612,1613,1614,1615,1616,1617,1618,1619,1620,1621,1622,1623,1624,1625,1626,1627,1628,1629,1630,1631,1632,1633,1634,1635,1636,1637,1638,1639,1640,1641,1642,1643,1644,1645,1646,1647,1648,1649,1650,1651,1652,1653,1654,1655,1656,1657,1658,1659,1660,1661,1662,1663,1664,1665,1666,1667,1668,1669,1670,1671,1672,1673,1674,1675,1676,1677,1678,1679,1680,1681,1682,1683,1684,1685,1686,1687,1688,1689,1690,1691,1692,1693,1694,1695,1696,1697,1698,1699,1700,1701,1702,1703,1704,1705,1706,1707,1708,1709,1710,1711,1712,1713,1714,1715,1716,1717,1718,1719,1720,1721,1722,1723,1724,1725,1726,1727,1728,1729,1730,1731,1732,1733,1734,1735,1736,1737,1738,1739,1740,1741,1742,1743,1744,1745,1746,1747,1748,1749,1750,1751,1752,1753,1754,1755,1756,1757,1758,1759,1760,1761,1762,1763,1764,1765,1766,1767,1768,1769,1770,1771,1772,1773,1774,1775,1776,1777,1778,1779,1780,1781,1782,1783,1784,1785,1786,1787,1788,1789,1790,1791,1792,1793,1794,1795,1796,1797,1798,1799,1800,1801,1802,1803,1804,1805,1806,1807,1808,1809,1810,1811,1812,1813,1814,1815,1816,1817,1818,1819,1820,1821,1822,1823,1824,1825,1826,1827,1828,1829,1830,1831,1832,1833,1834,1835,1836,1837,1838,1839,1840,1841,1842,1843,1844,1845,1846,1847,1848,1849,1850,1851,1852,1853,1854,1855,1856,1857,1858,1859,1860,1861,1862,1863,1864,1865,1866,1867,1868,1869,1870,1871,1872,1873,1874,1875,1876,1877,1878,1879,1880,1881,1882,1883,1884,1885,1886,1887,1888,1889,1890,1891,1892,1893,1894,1895,1896,1897,1898,1899,1900,1901,1902,1903,1904,1905,1906,1907,1908,1909,1910,1911,1912,1913,1914,1915,1916,1917,1918,1919,1920,1921,1922,1923,1924,1925,1926,1927,1928,1929,1930,1931,1932,1933,1934,1935,1936,1937,1938,1939,1940,1941,1942,1943,1944,1945,1946,1947,1948,1949,1950,1951,1952,1953,1954,1955,1956,1957,1958,1959,1960,1961,1962,1963,1964,1965,1966,1967,1968,1969,1970,1971,1972,1973,1974,1975,1976,1977,1978,1979,1980,1981,1982,1983,1984,1985,1986,1987,1988,1989,1990,1991,1992,1993,1994,1995,1996,1997,1998,1999]]},\"selected\":{\"id\":\"1246\"},\"selection_policy\":{\"id\":\"1245\"}},\"id\":\"1240\",\"type\":\"ColumnDataSource\"},{\"attributes\":{\"css_classes\":[\"markdown\"],\"margin\":[5,5,5,5],\"name\":\"Markdown00110\",\"text\":\"&lt;h4&gt;General parameters&lt;/h4&gt;\"},\"id\":\"1225\",\"type\":\"panel.models.markup.HTML\"},{\"attributes\":{\"client_comm_id\":\"f00d89b1a5f8400f9ec1d9dffcb07eb1\",\"comm_id\":\"5b7bda26718842f3b011cea29e8922ba\",\"plot_id\":\"1216\"},\"id\":\"1255\",\"type\":\"panel.models.comm_manager.CommManager\"},{\"attributes\":{\"children\":[{\"id\":\"1225\"},{\"id\":\"1226\"},{\"id\":\"1227\"},{\"id\":\"1230\"}],\"margin\":[0,0,0,0],\"name\":\"Column00114\"},\"id\":\"1224\",\"type\":\"Column\"},{\"attributes\":{\"css_classes\":[\"markdown\"],\"margin\":[5,5,5,5],\"name\":\"Markdown00112\",\"text\":\"&lt;h6&gt;all trajectories will be set with same general satrting parameters&lt;/h6&gt;\"},\"id\":\"1226\",\"type\":\"panel.models.markup.HTML\"},{\"attributes\":{\"children\":[{\"id\":\"1241\"}],\"margin\":[0,0,0,0],\"name\":\"Row00299\"},\"id\":\"1238\",\"type\":\"Row\"},{\"attributes\":{\"high\":100,\"low\":-100,\"margin\":[5,10,5,10],\"min_width\":100,\"mode\":\"int\",\"placeholder\":\"0\",\"title\":\"X Starting position\",\"value\":0,\"value_throttled\":0,\"width\":100},\"id\":\"1228\",\"type\":\"Spinner\"},{\"attributes\":{\"data\":{\"x\":[{\"__ndarray__\":\"AAAAAAAAAAAqwH68q7USQOoqOWSwgSFATPh6MsQKBkCkshxpVFXrP7rt9vqyrBJAKSIHhpzxI0CswXRq6usvQOLmb4AFODFA59NIgtrDNkCQ0lLhCVQ4QG3v+LdGzDZAHF2jOj37MEBXlX+IZ0IrQA6jyYMajDNAje30f4Q3LECcbwD8hwc0QBZcs5chiDlAnhW3GLfDNEChO/qt3VU6QP4AEJxk3DRAbjLasE+bLkBYFAW6jQYjQA745HbFvgxATEOlhuBc+D9Qr/VKBlUPwOwV2QJFLxLAOn8NPN1xEMBSZrmgZlYjwBq8yOiOPRLAr0ZNBA2KFcCE0Zz66ZEkwHCQwaiKlRHAgCcM4OYn4z+6tpvNtLz1P+x58sBfXxxAnKnitDQwBUBkl2IMu4MdQD6wYvGMridAyGAlvaslGkDQRNvWYz3hP0rVkHaz0hXAYBfIGFkV1T+AQAQnxJsUQPW7qwps6CBARAEq5eQXLEBS1E8wt14gQNSMzMjTfw5A2M+kk/S++b+g8+yLKtXYv26Uz8eKchZA19Qr5H/SJUAItoofPV4eQGh8kNyLnP8/r2s2aXIrH0D2siQj+F0OQDx0EvBXIiFAKsDZ2nK7LEC84qX+M1QxQO8DwB4VMyxAQDEM2tB4IEAPMt4rIEYpQNZZqtbzZDJAenZFo1xJOEAh3MYN9zk9QKTYMCEbRTdAqeNpV21FMUDSFcc5yOc2QGP8NVjnODdAxNeWIUegOkDUdvpL4bU7QDjWE5YQsTZAVHZf/sziMUDJ1cIpvTcyQF/Hw3dcEjJA+JjFSw71N0CwKnYNJiUyQCzWGPC3SS9A54L2uwTOMEDkEH8rk7cuQFFR3alRCyhAqvFdxxjeMUAvp6z9x/QvQF1LrybSpiRAI+Qab/jOL0B54JctXeY1QKTq+SliZDtA8NmP7kr7NkDCBVTJ/sE5QLdTjFf/cj5AtxImVK+POkD8xKInwE43QLk1XKD9EjhArOSEBEOEPUAOcm6ZsRs6QJmKDXsngzZAFvT6v8JEM0BJdmrcly8xQBrtPG7A7TZA4y5ULzBzM0AonK/F0Qo3QER2UMmtBz1AG93Ys/F/QUAcIJ6bK11EQAxDxX8f6kJAsV9Mwaq3QEAbPpmr44o7QGLHxOqHmTZAL5xIT+3yOUCUMIqkw801QPVY4/uyyS9Arq4a0wFeMUAGfQx8V+ImQK8ie7fzZh1AC6xQBEE/KEAXCqaXmb8hQI4A+oslJS1Ajt6uQOjiK0CUEp28ikIgQLoiypkZnBtA+Yixu4WhCkCU31f6Tkbgv9QQK2phyRNAzXjXTuyaAkCWofFbOYkMQAZ/y+g0Ig1Ado1VGoj2IUB24zOtZw0tQCBM2b4xMzRAvKqfsjncOUCYIxEr2J8/QDJoblu9tzlAZPPTqB7JM0DWLnmP5k0tQDyTnBpIbjJAMoR1vrJsOECNg709MN44QNzw9ryOJjNAB1dHFN1kMECnx6txGhorQI4MpvK0gSVA/p6fiI39IEBk8dYvfEoiQMjGz5GRJRZANnhOAk5uG0C5sH1iB0skQAdAC3eUQC5AHvm1s87GLEDqjwFJgtYsQJbcR0AoDTBAC+PhjudnMEBk40n7lfsoQIwqxyCXWCdAsaRhf6xqLEDO+t4yb5cwQFKykccw0ChAepND0HGSMUDeDbnN1qsnQLCCWNzcji5AhjkCkKzAMEBsJchhY60vQDScL/1rOCVA2+LGOHqZKkC+dSQIo4wyQFCtTR5luDdAEbuc11XWOUCYQWjpYrc2QHnV/I8UwzBAYprsatuLNkCFZfPogYwwQHYwvSxo9zVAj9HEqYo5MECRlJQb13gyQAEWZLd50jNAoofPdyMhOEAvQ6mMnIc0QKUyKtDh5DBAKd9m5ojqM0A6mi9zapw1QBqmdXNsKjBA7Kysn91XJECAFHT0WTgnQEJPja6//xZAcKyoiMEt0T8Ea2X5Acj2vyTXXdULpAZA1kP+LppyHkCgl/+sMMYIQMTux1VDpP8/s+3tdEclGECuWApGkIQjQAsUYY6K3itAmIQgAC4eM0AvRp78FvYwQBFNi4I2TDVAPKtfF1OaN0AXt7n08cUyQCyIBgmIZDFAzLB1sAkBMUAllSpRuA8oQCaHhvVtBzJAce1csr9NNUA4O6Ry4dQwQCLkMLZfmCdA2OnBQg0cMUAUrYSHE1I1QB7alOByEzBAZbJluYNhMEAqmB2s1Vs0QKfnbSJUWzpAgnCXkeUoQEDbFET6xhlAQIoFUFyDPz1AjNF1BKqrQEC3MTrbEapAQL89Hmra3UJA6fkgwc4WQUDYbW+VXkY8QIKyb/DosDZAiNoZno/CMECIT2dCFV8mQLzLRmtRgjBAjmvN12upK0AtcbsaAPQnQDj104EMYhlArLxBbPHjB0BAISQxTl8DwKonrsYbDxHASEEKNK4P7j/P7BPlNwwWQDIusOGCXRlA5qXkiaSVIkBCWjhkHEYQQCCvqYBMK9C/MapSEomCBkCOEzCsSdHwv/JSDOof8BvAGqzbgEzTKcCshDTN30UgwEY/ib+eNSrAXR57YCh6L8CYsMcoUyQrwODUgwQUETDA2pSA6G5rMcDsNyy76bIpwLW3+voo0jLAlJpKPLbnNsAz8IR6lFE3wHbVYg/YtzbAQACI1IrpOsB2Rznp5Ww1wHChwwM+GjvAPYqtr0dBQMBeywjsuA5BwK/9UdXD9UHALx7+kLHyQsCyYj0REAlFwJVVZigJrkLAI8ErBodfP8Cx9lgpz2E5wNT8Sd0cOj/Abxo+g0q9O8CaDeZGWx8/wCcFJRBhHznAqvAGhhkiM8COsePQfQs3wIqiTfR3yjnAENKZzStcNsDudRNnySo8wDQ8PgfYLjfANgUN7HkrPMCYsg0YmFo2wEmMQuBLjDvAgKg2uh8sOcDoVA+RFeM1wEjtTFmVnzHATlyi7B0LNMDRxVNszcowwJL8KmS2WDLA2EQxVfVMOMDlIoMLcE86wLzk48TWmz/AutJ22a2PQsAUPhhmQBdEwC3djgHN8EHA7FlhYVc3QMAYQL6eOzdDwBxvKNEpgEDAapguo9cvQ8BO/gYdB+9CwJAW7mFKNUHAaEO8OADkQsAdWZvdiDRBwPJgVwPwxD7AsilZy9/1O8BcYdkCL3BAwEU2HE9g0TzA8j6P7TnSNsDZ4IWU2mw8wDCPFBYMlkDAWJ+ALdudQsCW6wuM1j1AwP33VsUtljzAuip22FrhP8A5R4vFc8dCwD5pdiTNeEPA71YOxdh/QMDa3SpZ2DpAwBqwhFcniUDAQFzih7bjPsA3o4rO1KBAwOI61Wh15DzA8UHjTO78OsBMQU7RLSI8wA4xhWlhxkDAM93StrEOQsBq6/NiwgVFwA5PFU4mT0LAoosmuzc7RcAEi0rfPEVCwABf435LUkDAG4Q/30F1QcDz3/DA3K4+wPQaf3K6OEHAp2Vfs2AFQsC8s6HvmRQ+wHJ6Vi9yezjAtKw2ZB9YO8AiBKTbAUpAwDyWyJTZfz3AdBDIHzJVQcAMY4abMfo8wFhRTPG4QDfAIT2gK27uNsBIv2EKOV48wPjUob7ECUDAfjIpoTbJQsC4OQkcvZI/wMlMlhKnekHAWNsuerO0Q8CSHsdapLxBwLaBl2Plh0PADf4N5cpqRMCSpcp3YSVCwBhvXnezvEPA3woK+kuhRsDONI4Muj1EwPTYCKj+REHA7j6OX8j5QsC0DAcq99BBwEa6N7V0XD7Ab8dtGg4pOsAcmz2cGXA/wMY3YRuQnEDAGAj4NdVMQ8AKeeQ+nbFAwICZUiJ5XT/Aik5ZutdBQMCujtYskjxDwDcMGpVvdkLAGd6qMXKGQsCGPBB4tjpEwMSciDmB1UbAmM++QpHmRsDHI9ozgTxEwLuzWK47+0bAdzSrHvjORsD0VpxH+s5DwCa7UjeW00DAAT+Vjqk9QcCMULXTlM09wLOtRRUV4UHAVtqqtVjKPcDMIQKPFx1BwMuOBiqctz3AbBFzp4F4QcD/Dwz4IVtCwMFkNEjyLj/AjEk2fPouOcDdssHGq2M0wK/NToPH6y3AimksUG7bJcA/fqtE2VAUwGbvmZQgCQfA1AZXzjrE8z/GADJmiUrxPy1i80YJkg3A+HLMZ6y2FsDLw7Z0l/cPwJgMgrpg5tE/8NS+ksKp8L+ODL9BH1jivyjv5LtQIRVAQDpyVTTN17+fXDUsgxkVwJB3s1Jp59E/TTzT5IdkCcBC42sOlycawLC7DVV88OW/wCSC/cYim7//0uI6IbHzP7amhia7hhLAb8z+oyaUGMDgEtmjrHckwLgbgDs8KzDALoLR3i2jNcBHOAmV5yE6wE21VNlSljzATk+wHSFrOsAkbZ41Acs/wCbn74OqJTrAF8zbEstFNcCea1L8F7MuwN8uG77jki/AgPQW5MZjJcD6TWEr5WwtwFvSx9zLOi3A4dRVCz0xLsDEfrBlIiIowIDlZ8cRbB3A/A1qTmO1KsAWSVFgEhQywAAHA8ViVSzA0tK/e/RqMsAcY0Et6w44wBLKNCmt6T3A4iE6nf/xQcByV9UbjiFEwDMBEdqDekbAqS2nGl3BRcDRpMlkn8hHwB5MbhV99UnAF5zyTs3hS8AHWb52fP5JwNfgbhuaP0jASqHeZz7bScBh2N8GSBlHwEAGoTAM0UnA2MtJuGJfR8AvE3zvkmpEwGkwuQZwtETAlFPT8JboQ8BS/PfcEsdGwEPUs6lebEXApxvS2ukVRcC/PONwc4dCwIER/LadA0TADOnn1Z8SQcA0BtMnjEU9wDzbAo0qzzrAJQb8+cvgOcC5Tfm3rGk0wHJj3I5PnTHA1SEm/XC0KMDqnuh7wJIjwKSoXVoYTw7AbuNslGzcEMCpQqkEfmQhwBK99awa3yjAeO0rDB3XGcA2s/6bdg0jwArOCCxtOQzAXJILLVLCAUAwx0WCf/YeQDTvzYvPNStANO9flESBMkAYRS/oUCMtQJfF5YJiGDFAAyO5+0XCLUCdpIrKS6InQKubirwj/h5AmjPtAIk+KkD8QXKC6DktQDj7pv6RLSJAlZFUbs/GI0DDp7bUhCAvQG6PrVb7cjFA4kpDFdpjNEBPD8uZq2E6QBg+HKyVTD9AYlV4NSG5QEAk73nn2rk8QKDDy3YrozpApXQwAdDqPkBkvZorj0s/QOuDOnUAkEJAy7x6gAHGQECjOp58Y5Q7QEchX6zMuj1A7IPiL2nXQUBt3v0kepBEQCgR5rBZo0FAnqvUHYGSREBRyirn/VdHQNd0Ru9aF0pAivTNMz2RTEBwYB/z5+lLQIRNBCAysElAzNBLey24RkCWWviBkyJHQMNuajRKYkVA/wvmrL6MR0AlDW6wEPBHQHTQ8nma8URAvgNXOPsoRkBkG6InqSJJQKDZTPFTPklAhOs1LaJWR0ACEdtM9qxEQMBSBz5thUNApLflU0F/RkBWGpFWkjpFQFa2yhDneUNAFKDeqM/7QEC2SbPs9Sc8QGgs13isljZAsiCSqCiVOUCOdptB1ao+QL5sYxm6ckFAigEBCLfAQEBXrayp3IBCQC4zAd/OW0FAck0E72ItQUCVYJsHJG88QFrxEwfaWzlAwS5tY5RfM0CcxB9KvmIxQIB0CG6/ITRAKissnSDIM0DZMMgs9M8rQFKvw7Fcoh9A6h4PPHsbKEA8UnaLqZciQJTOSvLE8CxALlHxa4AaJkAKx7t6xgUhQDpY9cydHwRA8rgJJWewA8CavskIpMYNwJAwyjSlGP0/qFbB7aczAsDox9NfLXDlv9ohX5B1hBTAUFaQ8crb6z/UWF9Wn18bQJzoV2/ioPQ/PxODv1waHUAm7wd3otMBQLLRycSEiwjAHDPVx62jBUDY/j7yT+H1v9bl4F9FwBzA5EUTTLA9AsCR5gDb/OkRwKBfis7JqNw/ryBEpKY6CEBWQ6ZJeNz3v7bZ9YyXBxfAACYgL8K3mL9+gtjIw70QwEkEFQQBthzAv9hILzLUJcDYKe+QcaAwwALd9GKimzbArm/FgHjHO8Chhfkr+Mg3wE4vYbmHwj3AHB1hcnDDOcA1dCQmq5g/wFubLxuGDjvAL5To+0phQMCSWxZRj+RCwPEQnZxxTUPAtUNZyBODQMAoo93yozpBwCE6C7mSHj/Aj4CTlPdwPMCBWS4qi31AwHWgC6gbLT3AF24ChiFwQMBSENaXvCc8wG3aznvoRDrA5dQhR06EPMAULvjeQhE5wIaoSgb+yDfA8tSMhR2dPcDKOPoYK5pAwE/ibO3GNjzA8GbQTpXJPcDHmBOrWeE7wNaQT/9TqTvAZ/4UW66SQMD4/BTMhdc+wEbN8Dsla0LAFETn4S7sQ8CKVYG6OQVDwIRaG0GtTEHAouXqR3/OQsBE0tTYPaU/wBnFDKajozvAZwSjaI14PcDFvO7AkphBwBb81LXqiUTAHDD4uHzVRsDhzPgOsEFGwCYPeaubhUfAN3zVSxJeRcB1+lFHandCwGqbU+G68kLAfty8BmOOQMDwqRSOHVFAwLj+iKgNmD3A/wwHEiWZOMACL8mHDpQ+wMDR3sslvEDAOkX/wMF/O8DNWBJXb40/wGDoKUmRxkLA7FtxXmKWQsBpRTfyvOFBwOEyBkv7SUTA2LRGi+jGQsATo4q9iz1CwMTh7Egu1UTAF/fYOWlXQsACb50BciNCwItPi0pD+j7ApoRjRuOQOcCLyBUHa3o2wAixKZP4KTLARW6CRncmOMCQ068n94I5wH5HElv26DfAyjG8H8a7OMBeUU1gLeM4wAYPmzuCQj3AQf6me7k4QcA/rjEbgalAwG7wJXPAlULAcCiAg7BCRcD2E0sAHAJDwLaNotoHkEHApkl3nNlPQ8CSe/KadYJDwNLgjoS9YEbAhZEiLrcmRsAArUgIE+tGwPnOBvv76EfAkhVi9ljTR8DbAsMjS1VKwBPQW0cV40fAzFkCN6F1ScAqtReLuz1JwHbdBXbOw0vAVPmC+R3gSMBAgZazsadGwPxr1jzOGEjA/gRb+KEFS8AEQiXsO1NNwBeK49zu0ErAh0TEYOUoS8DIN2vr1sNMwHQTtCId2E7Avl7V7h4CTMDCsVumqgNJwPKmDXYS/kbAFT5+4UlRRcCk1Lbs4nVCwBA/oi2rW0DAF8ZJ2eWdQsDve81r4W9FwNq1GQUenELA9poca6JYQsBMrO3Kv5JDwEkv6vuhFELAuCmr+W8xPsDarjAuBdJBwFKhvG07zkTA18gVIVhCQsBaGVYoWTZAwMfF5yz9QTvA7Ivy3L4aPsAaGsbcRiA4wL41Sdw3UTfAS3rG4YbLNsCqqwxt2sExwA/CNy/s7jLAtZFXe3/WM8BCw6eBMSAzwG+caASdbTjAd1FBp58UM8D/ViVRH8I2wFl1BffM0zLAf+8V/+U/M8BOdRGm6DQxwGXojWqTEzPAgGqea5bRMMBhtisR8CExwHhpWltdlyzA4JJhN3uaJsAKfLvbJPYvwPb5wX+DZSnAzbNyzMmILsAj1vWJHUsxwH1v+r6iQTfAgl5Ox4VCMcB5Vg+ARhUxwPCj8EKEBizAEKBlFzBWKMBnU9aBigUywCBreTLzkizAFJoMgkB7M8AFFGWBFhw3wCJ9k7I8Gj3A4aH4o7K8QMDy5Gy2Y0I+wC9od5KnXDjAKtfu7+rEPcDRVpwJ7y08wHxbJAt9vUDANJkucZmHPsBqRowQ0CY8wD/iTqEULjbAeona/GXBO8CpYgDRBsI1wF8hJ+VA3DDAsd3TWi3cNsDIN9scTls0wNjUh5hKjDDAWmbezdY1JsCIL8qRBDobwASfXLR//iXAlsvL/QK8L8B89cYNufAjwHKuBEizoBPA2bTB89+3EMAuU/h1W+UNwCb4CJGnEiHAZI+Oh+Z6H8A4M9sFYpYRwMwEYp/MSRnAavI20DhNKMCqCu6PRIAwwL4KZPOncDbA1MPl9oZpPMBEenffVfpAwKh7pkGD+DvAHboBc8mbNsBWiKunIsMywDw0Br1lXTbAdTcN70f/M8DGTJSs/rYwwGb6ucKRYi7AUgauxS7aM8B+xBH7/B85wFAgXoN2xjPAmrFfA1qOK8B9BucPfywtwEJBcgbuOzTAhPEoLUsLNMAbOR9fvMwxwAzwo7f5cCrA8CgzSa4rJ8DVUlzalskmwM7RSZbNCyrAK3MLLCwMHcDubWdi9C0RwPBVOGrejuI/bqVLnbE/GUDI+Im5uAf5P1BAFMB3mOC/+PlaeW++FUDw4h0uY84mQMZ6++ExHixA0JI0L7MdIkDUcKRyN20pQKbaXJkceStAgXk4/shYKUAAMx6k7C8sQOl13Ot5mSBAP4X2d6EjJUBhB4RkrHMwQOisUwCOpipAIv3DyEyoKUCUuuW+8kYwQMZb71UyjTJAbkETDjbrMUCtE69PJywxQCMHGwWEXCZAO9//DGnLFEAUNV39LSgiQGuULpb0BihAIqKRQ+t/IECYgNhFEs4YQFxI/tfBcBNAQC+6u0EG9j+Vi/ZX/5MQwPoG/GBiWyPA3iD6kVlJHsC+uAfBSCIrwJx4da1gACLAbC1D8ruuIcCwVrZQhMYGwLr8gfsYKwdAnIBDuJMZCEDI4rxAi0cHwBpb5MNwbhjAliqC/vZDJsDlgQSIstgwwNbdV/YxbSnAGgS1ZdH2HMDqPo/RRuQlwLY5x2ZHyRPAhOvhC3x2GsCkUW+y03EHwG924eApOSHA79KNmPdXK8APwOlMoxszwNE4X8BepzbARlzDqP6cPMCWluPwrthAwGdwKrqeaELA1OxbnDCrQsCZbTllK28/wPG4ZQEtZ0HAkPcAx53zPMB03fVSHPw2wB5gGljU/jfAJBZDeUPpPcDgdZ4K0D45wJrx6OwoJz/AopGBzul2QMDyLGhCrQBDwIWjbzZ5AkDAuAAE1yDdQsB8S6j83ThFwOqEMcHiJEfAFoDEQEHVRsCZh7URB6xJwBwO7j7Ix0vApyGRzSlsTMAfLGm85cNMwDK3fCd+507AaFX05bzyUMD4NdqyZS5QwEVHjsuD5VDAxopdWfUVUsA3lNzNkeFQwNNS8G7TYFLAAO/8V4oxUcBh8IP64z5QwFVPh+qQD1HAyq7JDb2mUcCFMrepVZdSwHAPxqMZB1LAOiHWXD08U8D6VP4LoPFRwLGgZQG9/VLAB+sS+ue0UcCQ3kXC0udSwLC36RfsAVTANzmSmDOBVcDWauc11ohUwMk9ysjlPVXALqZGZmb3U8D9HrYWHZJUwOJZpPtielXAAQs+87P8U8CJnimccB5VwOHsFosYjVbAq+57CFZuVcBNneVfkhlWwJaL7K6Cj1bAvtmmNH8PWMC9naqChwdZwJi/+0D5wVjAORa0VgwmWMBLK2D+QIdYwJM7pYcwSFjA8KK4noFTWMBC8f+daJpZwKUw/Bu5p1nAC+vjkGklW8Dn5Fsu7qhZwLy48wbGfFrAKrxix438W8AyCZT/YnhdwESqrb7j9l7A3/5KISulXcALNGtZ12VdwC/GbA2JOF7AZsKdoxkxX8AMjKQFsHZewIkOy8IYSV/AQb8X1b0GX8ABFdLwbRNewD/m0cBzhF3AWoB9VDRwXsCnqD2guZJdwLr1pf7As17AmQaWEyGQXcCoJh10CQtfwN343p5tPWDAhov1FfmeX8D9cAyTPrVewIRflvtzDF7AcdcJ6nqZXMCu5Gw/9zlcwI2pTTMPPF3A6UwLXb6oXsCSx9AQ0RNgwLe7ROpNx2DA0WOP8RyDYcDoCYnoHpRhwFc1KCpoaWHAgGHYMluYYcCtb6bAvCxhwLCOnnvGuGHAOyVOBua3YcDu1TZ6Tx1hwMMb7/S/x2HAUv1iPRN8YsClGR+67Q5jwKIuKI4Tg2PA4idyWdjmYsA+nDDZXGNjwNnZlXuBsGLANzf90bNtY8B2RKXQYcViwBKfg12faGLACAqch7m4YcDqqgQowfpgwN0WenOKcGHApu/OBpGxYMA1ZD6cK+NfwG/CgkWJY17AaL+G/eDDX8DCLLOZ1b5ewOGrOMogO17AC4ltU0xlXcC2XLggr9tewGcFcfqmKWDAkRB7gMKuYMAYj2kD8WNhwPR0D39hDWLANN9kDNlNYcDNGI31NAViwJguQzXqcmHATh3ww8ccYcCaTFdWy3FgwD754DLIMWHA1lIOV1EEYcDmhhAo+29gwDj5y9IaWWDAinRWqhAZYcCGvRmOyIFhwIQmDc4u1GDARft5ipAmYcBzC561Bf5gwOBP9QXbH2HA53Qe1GUEYcAUqj9o5UtgwMeYJfa24mDAY9CyFg60YMDbBnU/HA1gwPNVuFJLuGDAMNfo1mIEYMAepw3keIdgwJYc4KKFVWDAQqC2+1NTX8AnuVqdA0FewL1U3NqzA13AvLVkH5CDXsAmX71DHG1ewMh3d9x4uF/AOcMRxT8RYMAcX+jXxNpewNJqx0LwCWDAKkzh2oinXsB2HfIWowlgwHwAqLagil/Aa9TOxcDiXsBG/CkoMnZdwIFRiFa/uF7AIRBVtFQcYMA8HXa1btNgwCJ82gJAkmHAWS9lsCO1YcCyX7v2ZqJhwN8+bP7EumHAMpgmzu+zYcAR+eeFQlphwOjacX+ZqWDAqLkISxDUX8CO1W2oPZlewApZVwLw81/AsUqG43zRXsDO/CtKDidgwOWVd292Ml/Aow9u3KO/XcA=\",\"dtype\":\"float64\",\"order\":\"little\",\"shape\":[1000]}],\"y\":[{\"__ndarray__\":\"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\",\"dtype\":\"float64\",\"order\":\"little\",\"shape\":[1000]}],\"z\":[[0,1,2,3,4,5,6,7,8,9,10,11,12,13,14,15,16,17,18,19,20,21,22,23,24,25,26,27,28,29,30,31,32,33,34,35,36,37,38,39,40,41,42,43,44,45,46,47,48,49,50,51,52,53,54,55,56,57,58,59,60,61,62,63,64,65,66,67,68,69,70,71,72,73,74,75,76,77,78,79,80,81,82,83,84,85,86,87,88,89,90,91,92,93,94,95,96,97,98,99,100,101,102,103,104,105,106,107,108,109,110,111,112,113,114,115,116,117,118,119,120,121,122,123,124,125,126,127,128,129,130,131,132,133,134,135,136,137,138,139,140,141,142,143,144,145,146,147,148,149,150,151,152,153,154,155,156,157,158,159,160,161,162,163,164,165,166,167,168,169,170,171,172,173,174,175,176,177,178,179,180,181,182,183,184,185,186,187,188,189,190,191,192,193,194,195,196,197,198,199,200,201,202,203,204,205,206,207,208,209,210,211,212,213,214,215,216,217,218,219,220,221,222,223,224,225,226,227,228,229,230,231,232,233,234,235,236,237,238,239,240,241,242,243,244,245,246,247,248,249,250,251,252,253,254,255,256,257,258,259,260,261,262,263,264,265,266,267,268,269,270,271,272,273,274,275,276,277,278,279,280,281,282,283,284,285,286,287,288,289,290,291,292,293,294,295,296,297,298,299,300,301,302,303,304,305,306,307,308,309,310,311,312,313,314,315,316,317,318,319,320,321,322,323,324,325,326,327,328,329,330,331,332,333,334,335,336,337,338,339,340,341,342,343,344,345,346,347,348,349,350,351,352,353,354,355,356,357,358,359,360,361,362,363,364,365,366,367,368,369,370,371,372,373,374,375,376,377,378,379,380,381,382,383,384,385,386,387,388,389,390,391,392,393,394,395,396,397,398,399,400,401,402,403,404,405,406,407,408,409,410,411,412,413,414,415,416,417,418,419,420,421,422,423,424,425,426,427,428,429,430,431,432,433,434,435,436,437,438,439,440,441,442,443,444,445,446,447,448,449,450,451,452,453,454,455,456,457,458,459,460,461,462,463,464,465,466,467,468,469,470,471,472,473,474,475,476,477,478,479,480,481,482,483,484,485,486,487,488,489,490,491,492,493,494,495,496,497,498,499,500,501,502,503,504,505,506,507,508,509,510,511,512,513,514,515,516,517,518,519,520,521,522,523,524,525,526,527,528,529,530,531,532,533,534,535,536,537,538,539,540,541,542,543,544,545,546,547,548,549,550,551,552,553,554,555,556,557,558,559,560,561,562,563,564,565,566,567,568,569,570,571,572,573,574,575,576,577,578,579,580,581,582,583,584,585,586,587,588,589,590,591,592,593,594,595,596,597,598,599,600,601,602,603,604,605,606,607,608,609,610,611,612,613,614,615,616,617,618,619,620,621,622,623,624,625,626,627,628,629,630,631,632,633,634,635,636,637,638,639,640,641,642,643,644,645,646,647,648,649,650,651,652,653,654,655,656,657,658,659,660,661,662,663,664,665,666,667,668,669,670,671,672,673,674,675,676,677,678,679,680,681,682,683,684,685,686,687,688,689,690,691,692,693,694,695,696,697,698,699,700,701,702,703,704,705,706,707,708,709,710,711,712,713,714,715,716,717,718,719,720,721,722,723,724,725,726,727,728,729,730,731,732,733,734,735,736,737,738,739,740,741,742,743,744,745,746,747,748,749,750,751,752,753,754,755,756,757,758,759,760,761,762,763,764,765,766,767,768,769,770,771,772,773,774,775,776,777,778,779,780,781,782,783,784,785,786,787,788,789,790,791,792,793,794,795,796,797,798,799,800,801,802,803,804,805,806,807,808,809,810,811,812,813,814,815,816,817,818,819,820,821,822,823,824,825,826,827,828,829,830,831,832,833,834,835,836,837,838,839,840,841,842,843,844,845,846,847,848,849,850,851,852,853,854,855,856,857,858,859,860,861,862,863,864,865,866,867,868,869,870,871,872,873,874,875,876,877,878,879,880,881,882,883,884,885,886,887,888,889,890,891,892,893,894,895,896,897,898,899,900,901,902,903,904,905,906,907,908,909,910,911,912,913,914,915,916,917,918,919,920,921,922,923,924,925,926,927,928,929,930,931,932,933,934,935,936,937,938,939,940,941,942,943,944,945,946,947,948,949,950,951,952,953,954,955,956,957,958,959,960,961,962,963,964,965,966,967,968,969,970,971,972,973,974,975,976,977,978,979,980,981,982,983,984,985,986,987,988,989,990,991,992,993,994,995,996,997,998,999,1000,1001,1002,1003,1004,1005,1006,1007,1008,1009,1010,1011,1012,1013,1014,1015,1016,1017,1018,1019,1020,1021,1022,1023,1024,1025,1026,1027,1028,1029,1030,1031,1032,1033,1034,1035,1036,1037,1038,1039,1040,1041,1042,1043,1044,1045,1046,1047,1048,1049,1050,1051,1052,1053,1054,1055,1056,1057,1058,1059,1060,1061,1062,1063,1064,1065,1066,1067,1068,1069,1070,1071,1072,1073,1074,1075,1076,1077,1078,1079,1080,1081,1082,1083,1084,1085,1086,1087,1088,1089,1090,1091,1092,1093,1094,1095,1096,1097,1098,1099,1100,1101,1102,1103,1104,1105,1106,1107,1108,1109,1110,1111,1112,1113,1114,1115,1116,1117,1118,1119,1120,1121,1122,1123,1124,1125,1126,1127,1128,1129,1130,1131,1132,1133,1134,1135,1136,1137,1138,1139,1140,1141,1142,1143,1144,1145,1146,1147,1148,1149,1150,1151,1152,1153,1154,1155,1156,1157,1158,1159,1160,1161,1162,1163,1164,1165,1166,1167,1168,1169,1170,1171,1172,1173,1174,1175,1176,1177,1178,1179,1180,1181,1182,1183,1184,1185,1186,1187,1188,1189,1190,1191,1192,1193,1194,1195,1196,1197,1198,1199,1200,1201,1202,1203,1204,1205,1206,1207,1208,1209,1210,1211,1212,1213,1214,1215,1216,1217,1218,1219,1220,1221,1222,1223,1224,1225,1226,1227,1228,1229,1230,1231,1232,1233,1234,1235,1236,1237,1238,1239,1240,1241,1242,1243,1244,1245,1246,1247,1248,1249,1250,1251,1252,1253,1254,1255,1256,1257,1258,1259,1260,1261,1262,1263,1264,1265,1266,1267,1268,1269,1270,1271,1272,1273,1274,1275,1276,1277,1278,1279,1280,1281,1282,1283,1284,1285,1286,1287,1288,1289,1290,1291,1292,1293,1294,1295,1296,1297,1298,1299,1300,1301,1302,1303,1304,1305,1306,1307,1308,1309,1310,1311,1312,1313,1314,1315,1316,1317,1318,1319,1320,1321,1322,1323,1324,1325,1326,1327,1328,1329,1330,1331,1332,1333,1334,1335,1336,1337,1338,1339,1340,1341,1342,1343,1344,1345,1346,1347,1348,1349,1350,1351,1352,1353,1354,1355,1356,1357,1358,1359,1360,1361,1362,1363,1364,1365,1366,1367,1368,1369,1370,1371,1372,1373,1374,1375,1376,1377,1378,1379,1380,1381,1382,1383,1384,1385,1386,1387,1388,1389,1390,1391,1392,1393,1394,1395,1396,1397,1398,1399,1400,1401,1402,1403,1404,1405,1406,1407,1408,1409,1410,1411,1412,1413,1414,1415,1416,1417,1418,1419,1420,1421,1422,1423,1424,1425,1426,1427,1428,1429,1430,1431,1432,1433,1434,1435,1436,1437,1438,1439,1440,1441,1442,1443,1444,1445,1446,1447,1448,1449,1450,1451,1452,1453,1454,1455,1456,1457,1458,1459,1460,1461,1462,1463,1464,1465,1466,1467,1468,1469,1470,1471,1472,1473,1474,1475,1476,1477,1478,1479,1480,1481,1482,1483,1484,1485,1486,1487,1488,1489,1490,1491,1492,1493,1494,1495,1496,1497,1498,1499,1500,1501,1502,1503,1504,1505,1506,1507,1508,1509,1510,1511,1512,1513,1514,1515,1516,1517,1518,1519,1520,1521,1522,1523,1524,1525,1526,1527,1528,1529,1530,1531,1532,1533,1534,1535,1536,1537,1538,1539,1540,1541,1542,1543,1544,1545,1546,1547,1548,1549,1550,1551,1552,1553,1554,1555,1556,1557,1558,1559,1560,1561,1562,1563,1564,1565,1566,1567,1568,1569,1570,1571,1572,1573,1574,1575,1576,1577,1578,1579,1580,1581,1582,1583,1584,1585,1586,1587,1588,1589,1590,1591,1592,1593,1594,1595,1596,1597,1598,1599,1600,1601,1602,1603,1604,1605,1606,1607,1608,1609,1610,1611,1612,1613,1614,1615,1616,1617,1618,1619,1620,1621,1622,1623,1624,1625,1626,1627,1628,1629,1630,1631,1632,1633,1634,1635,1636,1637,1638,1639,1640,1641,1642,1643,1644,1645,1646,1647,1648,1649,1650,1651,1652,1653,1654,1655,1656,1657,1658,1659,1660,1661,1662,1663,1664,1665,1666,1667,1668,1669,1670,1671,1672,1673,1674,1675,1676,1677,1678,1679,1680,1681,1682,1683,1684,1685,1686,1687,1688,1689,1690,1691,1692,1693,1694,1695,1696,1697,1698,1699,1700,1701,1702,1703,1704,1705,1706,1707,1708,1709,1710,1711,1712,1713,1714,1715,1716,1717,1718,1719,1720,1721,1722,1723,1724,1725,1726,1727,1728,1729,1730,1731,1732,1733,1734,1735,1736,1737,1738,1739,1740,1741,1742,1743,1744,1745,1746,1747,1748,1749,1750,1751,1752,1753,1754,1755,1756,1757,1758,1759,1760,1761,1762,1763,1764,1765,1766,1767,1768,1769,1770,1771,1772,1773,1774,1775,1776,1777,1778,1779,1780,1781,1782,1783,1784,1785,1786,1787,1788,1789,1790,1791,1792,1793,1794,1795,1796,1797,1798,1799,1800,1801,1802,1803,1804,1805,1806,1807,1808,1809,1810,1811,1812,1813,1814,1815,1816,1817,1818,1819,1820,1821,1822,1823,1824,1825,1826,1827,1828,1829,1830,1831,1832,1833,1834,1835,1836,1837,1838,1839,1840,1841,1842,1843,1844,1845,1846,1847,1848,1849,1850,1851,1852,1853,1854,1855,1856,1857,1858,1859,1860,1861,1862,1863,1864,1865,1866,1867,1868,1869,1870,1871,1872,1873,1874,1875,1876,1877,1878,1879,1880,1881,1882,1883,1884,1885,1886,1887,1888,1889,1890,1891,1892,1893,1894,1895,1896,1897,1898,1899,1900,1901,1902,1903,1904,1905,1906,1907,1908,1909,1910,1911,1912,1913,1914,1915,1916,1917,1918,1919,1920,1921,1922,1923,1924,1925,1926,1927,1928,1929,1930,1931,1932,1933,1934,1935,1936,1937,1938,1939,1940,1941,1942,1943,1944,1945,1946,1947,1948,1949,1950,1951,1952,1953,1954,1955,1956,1957,1958,1959,1960,1961,1962,1963,1964,1965,1966,1967,1968,1969,1970,1971,1972,1973,1974,1975,1976,1977,1978,1979,1980,1981,1982,1983,1984,1985,1986,1987,1988,1989,1990,1991,1992,1993,1994,1995,1996,1997,1998,1999]]},\"selected\":{\"id\":\"1244\"},\"selection_policy\":{\"id\":\"1243\"}},\"id\":\"1239\",\"type\":\"ColumnDataSource\"}],\"root_ids\":[\"1216\",\"1255\"]},\"title\":\"Bokeh Application\",\"version\":\"2.4.3\"}};\n",
       "    var render_items = [{\"docid\":\"89d39dd6-0fcc-43e4-8142-8e7016ea440d\",\"root_ids\":[\"1216\"],\"roots\":{\"1216\":\"783d5084-1dcd-43ac-984a-fcfbb4c1553f\"}}];\n",
       "    root.Bokeh.embed.embed_items_notebook(docs_json, render_items);\n",
       "  }\n",
       "  if (root.Bokeh !== undefined && root.Bokeh.Panel !== undefined && ( root['Plotly'] !== undefined)) {\n",
       "    embed_document(root);\n",
       "  } else {\n",
       "    var attempts = 0;\n",
       "    var timer = setInterval(function(root) {\n",
       "      if (root.Bokeh !== undefined && root.Bokeh.Panel !== undefined && (root['Plotly'] !== undefined)) {\n",
       "        clearInterval(timer);\n",
       "        embed_document(root);\n",
       "      } else if (document.readyState == \"complete\") {\n",
       "        attempts++;\n",
       "        if (attempts > 200) {\n",
       "          clearInterval(timer);\n",
       "          console.log(\"Bokeh: ERROR: Unable to run BokehJS code because BokehJS library is missing\");\n",
       "        }\n",
       "      }\n",
       "    }, 25, root)\n",
       "  }\n",
       "})(window);</script>"
      ],
      "text/plain": [
       "Row\n",
       "    [0] Column(background='WhiteSmoke')\n",
       "        [0] RadioButtonGroup(button_type='primary', margin=(15, 0, 0, 5), name='Trajectory type', options=['Brownian motion', ...], value='Brownian motion')\n",
       "        [1] ParamFunction(function)\n",
       "    [1] Row\n",
       "        [0] ParamFunction(function)\n",
       "        [1] ParamFunction(function)\n",
       "        [2] Markdown(str)"
      ]
     },
     "execution_count": 62,
     "metadata": {
      "application/vnd.holoviews_exec.v0+json": {
       "id": "1216"
      }
     },
     "output_type": "execute_result"
    },
    {
     "name": "stdout",
     "output_type": "stream",
     "text": [
      "time: 110 ms (started: 2022-09-24 04:00:22 -05:00)\n"
     ]
    }
   ],
   "source": [
    "pn.Row(pn.Column(traj_type,display_controls, background = \"WhiteSmoke\"),  pn.Row(set_traj_data, show_traj_plot , \"# Metrcis\"))"
   ]
  },
  {
   "cell_type": "code",
   "execution_count": null,
   "id": "af7ea58c",
   "metadata": {},
   "outputs": [],
   "source": []
  },
  {
   "cell_type": "code",
   "execution_count": null,
   "id": "542b0e9e",
   "metadata": {},
   "outputs": [],
   "source": []
  }
 ],
 "metadata": {
  "kernelspec": {
   "display_name": "tti_venv",
   "language": "python",
   "name": "tti_venv"
  },
  "language_info": {
   "codemirror_mode": {
    "name": "ipython",
    "version": 3
   },
   "file_extension": ".py",
   "mimetype": "text/x-python",
   "name": "python",
   "nbconvert_exporter": "python",
   "pygments_lexer": "ipython3",
   "version": "3.10.6"
  }
 },
 "nbformat": 4,
 "nbformat_minor": 5
}
